{
 "cells": [
  {
   "cell_type": "code",
   "execution_count": 98,
   "metadata": {},
   "outputs": [],
   "source": [
    "import math\n",
    "import numpy as np\n",
    "import matplotlib.pyplot as plt\n",
    "%matplotlib inline"
   ]
  },
  {
   "cell_type": "code",
   "execution_count": 186,
   "metadata": {},
   "outputs": [],
   "source": [
    "class Value:\n",
    "    def __init__(self, data, _children=(), _op='', label=''):\n",
    "        self.data = data\n",
    "        self.grad = 0\n",
    "        self._backward = lambda: None\n",
    "        self._prev = set(_children)\n",
    "        self._op = _op\n",
    "        self.label = label\n",
    "\n",
    "    def __repr__(self):\n",
    "        return f\"Value(data={self.data})\"\n",
    "\n",
    "    def __add__(self, other):\n",
    "        other = other if isinstance(other, Value) else Value(other)\n",
    "        out = Value(self.data + other.data, (self, other), '+')\n",
    "        def _backward():\n",
    "            self.grad += 1.0 * out.grad\n",
    "            other.grad += 1.0 * out.grad\n",
    "        out._backward = _backward\n",
    "        return out\n",
    "\n",
    "    def __mul__(self, other):\n",
    "        other = other if isinstance(other, Value) else Value(other)\n",
    "        out = Value(self.data * other.data, (self, other), '*')\n",
    "\n",
    "        def _backward():\n",
    "            self.grad += other.data * out.grad\n",
    "            other.grad += self.data * out.grad\n",
    "        out._backward = _backward\n",
    "\n",
    "        return out\n",
    "\n",
    "    def __rmul__(self, other):\n",
    "        return self * other\n",
    "\n",
    "    def __radd__(self, other):\n",
    "        return self + other\n",
    "\n",
    "    def __neg__(self):\n",
    "        return self * -1\n",
    "\n",
    "    def __truediv__(self, other):\n",
    "        return self * other**-1\n",
    "\n",
    "    def __pow__(self, other):\n",
    "        assert isinstance(other, (int, float)), \"only supporting int/float powers for now\"\n",
    "        out = Value(self.data**other, (self, ), f'**{other}')\n",
    "\n",
    "        def _backward():\n",
    "            self.grad += other * (self.data ** (other-1) ) * out.grad\n",
    "        out._backward = _backward\n",
    "\n",
    "        return out\n",
    "\n",
    "    def __sub__(self, other):\n",
    "        return self + (-other)\n",
    "\n",
    "    def tanh(self):\n",
    "        n = self.data\n",
    "        t = (math.exp(2*n) - 1) / (math.exp(2*n) + 1)\n",
    "        out = Value(t, (self, ), 'tanh')\n",
    "\n",
    "        def _backward():\n",
    "            self.grad += (1-t**2) * out.grad\n",
    "            \n",
    "        out._backward = _backward\n",
    "        return out\n",
    "\n",
    "    def exp(self):\n",
    "        x = self.data\n",
    "        out = Value(math.exp(x), (self, ), 'exp')\n",
    "\n",
    "        def _backward():\n",
    "            self.grad += out.data * out.grad\n",
    "        out._backward = _backward\n",
    "\n",
    "        return out\n",
    "\n",
    "    def backward(self):\n",
    "        topo = []\n",
    "        visited = set()\n",
    "        def build_topo(v):\n",
    "            if v not in visited:\n",
    "                visited.add(v)\n",
    "                for child in v._prev:\n",
    "                    build_topo(child)\n",
    "                topo.append(v)\n",
    "        build_topo(self)\n",
    "\n",
    "        self.grad = 1.0\n",
    "        for node in reversed(topo):\n",
    "            node._backward()"
   ]
  },
  {
   "cell_type": "code",
   "execution_count": 187,
   "metadata": {},
   "outputs": [
    {
     "data": {
      "text/plain": [
       "Value(data=0.6666666666666666)"
      ]
     },
     "execution_count": 187,
     "metadata": {},
     "output_type": "execute_result"
    }
   ],
   "source": [
    "a = Value(2.0)\n",
    "b = Value(4.0)\n",
    "a.exp()\n",
    "a / 3"
   ]
  },
  {
   "cell_type": "code",
   "execution_count": 188,
   "metadata": {},
   "outputs": [],
   "source": [
    "from graphviz import Digraph\n",
    "\n",
    "def trace(root):\n",
    "    # builds a set of all nodes and edges in a graph\n",
    "    nodes, edges = set(), set()\n",
    "    def build(v):\n",
    "        if v not in nodes:\n",
    "            nodes.add(v)\n",
    "            for child in v._prev:\n",
    "                edges.add((child, v))\n",
    "                build(child)\n",
    "    build(root)\n",
    "    return nodes, edges\n",
    "\n",
    "def draw_dot(root):\n",
    "    dot = Digraph(format='svg', graph_attr={'rankdir': 'LR'}) # LR = left to right\n",
    "\n",
    "    nodes, edges = trace(root)\n",
    "    for n in nodes:\n",
    "        uid = str(id(n))\n",
    "        # for any value in the graph, create a rectangular ('record') node for it\n",
    "        dot.node(name=uid, label = \"{ %s | data % .4f | grad %.4f}\" % (n.label, n.data, n.grad, ), shape='record')\n",
    "        if n._op:\n",
    "            # if this value is a result of some operation, create an op node for it\n",
    "            dot.node(name=uid + n._op, label=n._op)\n",
    "            # and connect this node to it\n",
    "            dot.edge(uid + n._op, uid)\n",
    "    \n",
    "    for n1, n2 in edges:\n",
    "        # connect n1 to the op node of n2\n",
    "        dot.edge(str(id(n1)), str(id(n2)) + n2._op)\n",
    "\n",
    "    return dot"
   ]
  },
  {
   "cell_type": "code",
   "execution_count": 189,
   "metadata": {},
   "outputs": [],
   "source": [
    "x1 = Value(2.0, label='x1')\n",
    "x2 = Value(0.0, label='x2')\n",
    "w1 = Value(-3.0, label='w1')\n",
    "w2 = Value(1.0, label='w2')\n",
    "b = Value(6.88123415, label='b')\n",
    "x1w1 = x1*w1; x1w1.label = 'x1*w1'\n",
    "x2w2 = x2*w2; x2w2.label = 'x2*w2'\n",
    "x1w1x2w2 = x1w1 + x2w2; x1w1x2w2.label = 'x1*w1 + x2*w2'\n",
    "n = x1w1x2w2 + b; n.label = 'n'\n",
    "o = n.tanh(); o.label = 'o'"
   ]
  },
  {
   "cell_type": "code",
   "execution_count": 190,
   "metadata": {},
   "outputs": [
    {
     "data": {
      "image/svg+xml": "<?xml version=\"1.0\" encoding=\"UTF-8\" standalone=\"no\"?>\n<!DOCTYPE svg PUBLIC \"-//W3C//DTD SVG 1.1//EN\"\n \"http://www.w3.org/Graphics/SVG/1.1/DTD/svg11.dtd\">\n<!-- Generated by graphviz version 7.1.0 (20230121.1956)\n -->\n<!-- Pages: 1 -->\n<svg width=\"1586pt\" height=\"210pt\"\n viewBox=\"0.00 0.00 1586.00 210.00\" xmlns=\"http://www.w3.org/2000/svg\" xmlns:xlink=\"http://www.w3.org/1999/xlink\">\n<g id=\"graph0\" class=\"graph\" transform=\"scale(1 1) rotate(0) translate(4 206)\">\n<polygon fill=\"white\" stroke=\"none\" points=\"-4,4 -4,-206 1582,-206 1582,4 -4,4\"/>\n<!-- 1907609342016 -->\n<g id=\"node1\" class=\"node\">\n<title>1907609342016</title>\n<polygon fill=\"none\" stroke=\"black\" points=\"719.5,-137.5 719.5,-173.5 907.5,-173.5 907.5,-137.5 719.5,-137.5\"/>\n<text text-anchor=\"middle\" x=\"731.5\" y=\"-151.8\" font-family=\"Times New Roman,serif\" font-size=\"14.00\">b</text>\n<polyline fill=\"none\" stroke=\"black\" points=\"743.5,-137.5 743.5,-173.5\"/>\n<text text-anchor=\"middle\" x=\"784\" y=\"-151.8\" font-family=\"Times New Roman,serif\" font-size=\"14.00\">data 6.8812</text>\n<polyline fill=\"none\" stroke=\"black\" points=\"824.5,-137.5 824.5,-173.5\"/>\n<text text-anchor=\"middle\" x=\"866\" y=\"-151.8\" font-family=\"Times New Roman,serif\" font-size=\"14.00\">grad 0.5001</text>\n</g>\n<!-- 1907609343456+ -->\n<g id=\"node15\" class=\"node\">\n<title>1907609343456+</title>\n<ellipse fill=\"none\" stroke=\"black\" cx=\"1014\" cy=\"-127.5\" rx=\"27\" ry=\"18\"/>\n<text text-anchor=\"middle\" x=\"1014\" y=\"-123.8\" font-family=\"Times New Roman,serif\" font-size=\"14.00\">+</text>\n</g>\n<!-- 1907609342016&#45;&gt;1907609343456+ -->\n<g id=\"edge8\" class=\"edge\">\n<title>1907609342016&#45;&gt;1907609343456+</title>\n<path fill=\"none\" stroke=\"black\" d=\"M907.36,-142.4C931.59,-138.98 956.33,-135.49 975.77,-132.75\"/>\n<polygon fill=\"black\" stroke=\"black\" points=\"976.23,-136.22 985.64,-131.36 975.25,-129.29 976.23,-136.22\"/>\n</g>\n<!-- 1907609345088 -->\n<g id=\"node2\" class=\"node\">\n<title>1907609345088</title>\n<polygon fill=\"none\" stroke=\"black\" points=\"4,-165.5 4,-201.5 198,-201.5 198,-165.5 4,-165.5\"/>\n<text text-anchor=\"middle\" x=\"19\" y=\"-179.8\" font-family=\"Times New Roman,serif\" font-size=\"14.00\">x2</text>\n<polyline fill=\"none\" stroke=\"black\" points=\"34,-165.5 34,-201.5\"/>\n<text text-anchor=\"middle\" x=\"74.5\" y=\"-179.8\" font-family=\"Times New Roman,serif\" font-size=\"14.00\">data 0.0000</text>\n<polyline fill=\"none\" stroke=\"black\" points=\"115,-165.5 115,-201.5\"/>\n<text text-anchor=\"middle\" x=\"156.5\" y=\"-179.8\" font-family=\"Times New Roman,serif\" font-size=\"14.00\">grad 0.5001</text>\n</g>\n<!-- 1907609342112* -->\n<g id=\"node5\" class=\"node\">\n<title>1907609342112*</title>\n<ellipse fill=\"none\" stroke=\"black\" cx=\"265\" cy=\"-128.5\" rx=\"27\" ry=\"18\"/>\n<text text-anchor=\"middle\" x=\"265\" y=\"-124.8\" font-family=\"Times New Roman,serif\" font-size=\"14.00\">*</text>\n</g>\n<!-- 1907609345088&#45;&gt;1907609342112* -->\n<g id=\"edge7\" class=\"edge\">\n<title>1907609345088&#45;&gt;1907609342112*</title>\n<path fill=\"none\" stroke=\"black\" d=\"M173.99,-165.56C183.48,-162.75 193.03,-159.71 202,-156.5 212.1,-152.88 222.83,-148.31 232.49,-143.91\"/>\n<polygon fill=\"black\" stroke=\"black\" points=\"233.88,-147.12 241.46,-139.72 230.92,-140.78 233.88,-147.12\"/>\n</g>\n<!-- 1907609342064 -->\n<g id=\"node3\" class=\"node\">\n<title>1907609342064</title>\n<polygon fill=\"none\" stroke=\"black\" points=\"0,-55.5 0,-91.5 202,-91.5 202,-55.5 0,-55.5\"/>\n<text text-anchor=\"middle\" x=\"16.5\" y=\"-69.8\" font-family=\"Times New Roman,serif\" font-size=\"14.00\">w1</text>\n<polyline fill=\"none\" stroke=\"black\" points=\"33,-55.5 33,-91.5\"/>\n<text text-anchor=\"middle\" x=\"76\" y=\"-69.8\" font-family=\"Times New Roman,serif\" font-size=\"14.00\">data &#45;3.0000</text>\n<polyline fill=\"none\" stroke=\"black\" points=\"119,-55.5 119,-91.5\"/>\n<text text-anchor=\"middle\" x=\"160.5\" y=\"-69.8\" font-family=\"Times New Roman,serif\" font-size=\"14.00\">grad 1.0002</text>\n</g>\n<!-- 1907609344272* -->\n<g id=\"node11\" class=\"node\">\n<title>1907609344272*</title>\n<ellipse fill=\"none\" stroke=\"black\" cx=\"265\" cy=\"-73.5\" rx=\"27\" ry=\"18\"/>\n<text text-anchor=\"middle\" x=\"265\" y=\"-69.8\" font-family=\"Times New Roman,serif\" font-size=\"14.00\">*</text>\n</g>\n<!-- 1907609342064&#45;&gt;1907609344272* -->\n<g id=\"edge10\" class=\"edge\">\n<title>1907609342064&#45;&gt;1907609344272*</title>\n<path fill=\"none\" stroke=\"black\" d=\"M201.83,-73.5C210.46,-73.5 218.79,-73.5 226.4,-73.5\"/>\n<polygon fill=\"black\" stroke=\"black\" points=\"226.18,-77 236.18,-73.5 226.18,-70 226.18,-77\"/>\n</g>\n<!-- 1907609342112 -->\n<g id=\"node4\" class=\"node\">\n<title>1907609342112</title>\n<polygon fill=\"none\" stroke=\"black\" points=\"330.5,-110.5 330.5,-146.5 547.5,-146.5 547.5,-110.5 330.5,-110.5\"/>\n<text text-anchor=\"middle\" x=\"357\" y=\"-124.8\" font-family=\"Times New Roman,serif\" font-size=\"14.00\">x2*w2</text>\n<polyline fill=\"none\" stroke=\"black\" points=\"383.5,-110.5 383.5,-146.5\"/>\n<text text-anchor=\"middle\" x=\"424\" y=\"-124.8\" font-family=\"Times New Roman,serif\" font-size=\"14.00\">data 0.0000</text>\n<polyline fill=\"none\" stroke=\"black\" points=\"464.5,-110.5 464.5,-146.5\"/>\n<text text-anchor=\"middle\" x=\"506\" y=\"-124.8\" font-family=\"Times New Roman,serif\" font-size=\"14.00\">grad 0.5001</text>\n</g>\n<!-- 1907609345760+ -->\n<g id=\"node7\" class=\"node\">\n<title>1907609345760+</title>\n<ellipse fill=\"none\" stroke=\"black\" cx=\"613\" cy=\"-100.5\" rx=\"27\" ry=\"18\"/>\n<text text-anchor=\"middle\" x=\"613\" y=\"-96.8\" font-family=\"Times New Roman,serif\" font-size=\"14.00\">+</text>\n</g>\n<!-- 1907609342112&#45;&gt;1907609345760+ -->\n<g id=\"edge13\" class=\"edge\">\n<title>1907609342112&#45;&gt;1907609345760+</title>\n<path fill=\"none\" stroke=\"black\" d=\"M547.46,-111.01C557.25,-109.41 566.64,-107.88 575.08,-106.51\"/>\n<polygon fill=\"black\" stroke=\"black\" points=\"575.52,-109.98 584.83,-104.92 574.4,-103.08 575.52,-109.98\"/>\n</g>\n<!-- 1907609342112*&#45;&gt;1907609342112 -->\n<g id=\"edge1\" class=\"edge\">\n<title>1907609342112*&#45;&gt;1907609342112</title>\n<path fill=\"none\" stroke=\"black\" d=\"M292.5,-128.5C300.37,-128.5 309.55,-128.5 319.4,-128.5\"/>\n<polygon fill=\"black\" stroke=\"black\" points=\"319.25,-132 329.25,-128.5 319.25,-125 319.25,-132\"/>\n</g>\n<!-- 1907609345760 -->\n<g id=\"node6\" class=\"node\">\n<title>1907609345760</title>\n<polygon fill=\"none\" stroke=\"black\" points=\"676,-82.5 676,-118.5 951,-118.5 951,-82.5 676,-82.5\"/>\n<text text-anchor=\"middle\" x=\"729\" y=\"-96.8\" font-family=\"Times New Roman,serif\" font-size=\"14.00\">x1*w1 + x2*w2</text>\n<polyline fill=\"none\" stroke=\"black\" points=\"782,-82.5 782,-118.5\"/>\n<text text-anchor=\"middle\" x=\"825\" y=\"-96.8\" font-family=\"Times New Roman,serif\" font-size=\"14.00\">data &#45;6.0000</text>\n<polyline fill=\"none\" stroke=\"black\" points=\"868,-82.5 868,-118.5\"/>\n<text text-anchor=\"middle\" x=\"909.5\" y=\"-96.8\" font-family=\"Times New Roman,serif\" font-size=\"14.00\">grad 0.5001</text>\n</g>\n<!-- 1907609345760&#45;&gt;1907609343456+ -->\n<g id=\"edge14\" class=\"edge\">\n<title>1907609345760&#45;&gt;1907609343456+</title>\n<path fill=\"none\" stroke=\"black\" d=\"M946.63,-118.47C957.13,-119.9 967.07,-121.25 975.91,-122.46\"/>\n<polygon fill=\"black\" stroke=\"black\" points=\"975.36,-125.91 985.74,-123.79 976.3,-118.98 975.36,-125.91\"/>\n</g>\n<!-- 1907609345760+&#45;&gt;1907609345760 -->\n<g id=\"edge2\" class=\"edge\">\n<title>1907609345760+&#45;&gt;1907609345760</title>\n<path fill=\"none\" stroke=\"black\" d=\"M640.36,-100.5C647.56,-100.5 655.89,-100.5 664.94,-100.5\"/>\n<polygon fill=\"black\" stroke=\"black\" points=\"664.78,-104 674.78,-100.5 664.78,-97 664.78,-104\"/>\n</g>\n<!-- 1907609344224 -->\n<g id=\"node8\" class=\"node\">\n<title>1907609344224</title>\n<polygon fill=\"none\" stroke=\"black\" points=\"1390,-109.5 1390,-145.5 1578,-145.5 1578,-109.5 1390,-109.5\"/>\n<text text-anchor=\"middle\" x=\"1402\" y=\"-123.8\" font-family=\"Times New Roman,serif\" font-size=\"14.00\">o</text>\n<polyline fill=\"none\" stroke=\"black\" points=\"1414,-109.5 1414,-145.5\"/>\n<text text-anchor=\"middle\" x=\"1454.5\" y=\"-123.8\" font-family=\"Times New Roman,serif\" font-size=\"14.00\">data 0.7070</text>\n<polyline fill=\"none\" stroke=\"black\" points=\"1495,-109.5 1495,-145.5\"/>\n<text text-anchor=\"middle\" x=\"1536.5\" y=\"-123.8\" font-family=\"Times New Roman,serif\" font-size=\"14.00\">grad 1.0000</text>\n</g>\n<!-- 1907609344224tanh -->\n<g id=\"node9\" class=\"node\">\n<title>1907609344224tanh</title>\n<ellipse fill=\"none\" stroke=\"black\" cx=\"1327\" cy=\"-127.5\" rx=\"27\" ry=\"18\"/>\n<text text-anchor=\"middle\" x=\"1327\" y=\"-123.8\" font-family=\"Times New Roman,serif\" font-size=\"14.00\">tanh</text>\n</g>\n<!-- 1907609344224tanh&#45;&gt;1907609344224 -->\n<g id=\"edge3\" class=\"edge\">\n<title>1907609344224tanh&#45;&gt;1907609344224</title>\n<path fill=\"none\" stroke=\"black\" d=\"M1354.29,-127.5C1361.52,-127.5 1369.82,-127.5 1378.66,-127.5\"/>\n<polygon fill=\"black\" stroke=\"black\" points=\"1378.57,-131 1388.57,-127.5 1378.57,-124 1378.57,-131\"/>\n</g>\n<!-- 1907609344272 -->\n<g id=\"node10\" class=\"node\">\n<title>1907609344272</title>\n<polygon fill=\"none\" stroke=\"black\" points=\"328,-55.5 328,-91.5 550,-91.5 550,-55.5 328,-55.5\"/>\n<text text-anchor=\"middle\" x=\"354.5\" y=\"-69.8\" font-family=\"Times New Roman,serif\" font-size=\"14.00\">x1*w1</text>\n<polyline fill=\"none\" stroke=\"black\" points=\"381,-55.5 381,-91.5\"/>\n<text text-anchor=\"middle\" x=\"424\" y=\"-69.8\" font-family=\"Times New Roman,serif\" font-size=\"14.00\">data &#45;6.0000</text>\n<polyline fill=\"none\" stroke=\"black\" points=\"467,-55.5 467,-91.5\"/>\n<text text-anchor=\"middle\" x=\"508.5\" y=\"-69.8\" font-family=\"Times New Roman,serif\" font-size=\"14.00\">grad 0.5001</text>\n</g>\n<!-- 1907609344272&#45;&gt;1907609345760+ -->\n<g id=\"edge6\" class=\"edge\">\n<title>1907609344272&#45;&gt;1907609345760+</title>\n<path fill=\"none\" stroke=\"black\" d=\"M549.9,-90.75C558.72,-92.14 567.17,-93.46 574.84,-94.67\"/>\n<polygon fill=\"black\" stroke=\"black\" points=\"574.29,-98.12 584.71,-96.22 575.37,-91.21 574.29,-98.12\"/>\n</g>\n<!-- 1907609344272*&#45;&gt;1907609344272 -->\n<g id=\"edge4\" class=\"edge\">\n<title>1907609344272*&#45;&gt;1907609344272</title>\n<path fill=\"none\" stroke=\"black\" d=\"M292.5,-73.5C299.65,-73.5 307.89,-73.5 316.72,-73.5\"/>\n<polygon fill=\"black\" stroke=\"black\" points=\"316.69,-77 326.68,-73.5 316.68,-70 316.69,-77\"/>\n</g>\n<!-- 1907609345856 -->\n<g id=\"node12\" class=\"node\">\n<title>1907609345856</title>\n<polygon fill=\"none\" stroke=\"black\" points=\"2.5,-110.5 2.5,-146.5 199.5,-146.5 199.5,-110.5 2.5,-110.5\"/>\n<text text-anchor=\"middle\" x=\"19\" y=\"-124.8\" font-family=\"Times New Roman,serif\" font-size=\"14.00\">w2</text>\n<polyline fill=\"none\" stroke=\"black\" points=\"35.5,-110.5 35.5,-146.5\"/>\n<text text-anchor=\"middle\" x=\"76\" y=\"-124.8\" font-family=\"Times New Roman,serif\" font-size=\"14.00\">data 1.0000</text>\n<polyline fill=\"none\" stroke=\"black\" points=\"116.5,-110.5 116.5,-146.5\"/>\n<text text-anchor=\"middle\" x=\"158\" y=\"-124.8\" font-family=\"Times New Roman,serif\" font-size=\"14.00\">grad 0.0000</text>\n</g>\n<!-- 1907609345856&#45;&gt;1907609342112* -->\n<g id=\"edge11\" class=\"edge\">\n<title>1907609345856&#45;&gt;1907609342112*</title>\n<path fill=\"none\" stroke=\"black\" d=\"M199.04,-128.5C208.66,-128.5 217.96,-128.5 226.38,-128.5\"/>\n<polygon fill=\"black\" stroke=\"black\" points=\"226.12,-132 236.12,-128.5 226.12,-125 226.12,-132\"/>\n</g>\n<!-- 1907609345904 -->\n<g id=\"node13\" class=\"node\">\n<title>1907609345904</title>\n<polygon fill=\"none\" stroke=\"black\" points=\"2,-0.5 2,-36.5 200,-36.5 200,-0.5 2,-0.5\"/>\n<text text-anchor=\"middle\" x=\"17\" y=\"-14.8\" font-family=\"Times New Roman,serif\" font-size=\"14.00\">x1</text>\n<polyline fill=\"none\" stroke=\"black\" points=\"32,-0.5 32,-36.5\"/>\n<text text-anchor=\"middle\" x=\"72.5\" y=\"-14.8\" font-family=\"Times New Roman,serif\" font-size=\"14.00\">data 2.0000</text>\n<polyline fill=\"none\" stroke=\"black\" points=\"113,-0.5 113,-36.5\"/>\n<text text-anchor=\"middle\" x=\"156.5\" y=\"-14.8\" font-family=\"Times New Roman,serif\" font-size=\"14.00\">grad &#45;1.5003</text>\n</g>\n<!-- 1907609345904&#45;&gt;1907609344272* -->\n<g id=\"edge12\" class=\"edge\">\n<title>1907609345904&#45;&gt;1907609344272*</title>\n<path fill=\"none\" stroke=\"black\" d=\"M170.98,-36.47C181.45,-39.58 192.06,-42.96 202,-46.5 211.97,-50.05 222.6,-54.44 232.19,-58.65\"/>\n<polygon fill=\"black\" stroke=\"black\" points=\"230.55,-61.75 241.11,-62.64 233.41,-55.36 230.55,-61.75\"/>\n</g>\n<!-- 1907609343456 -->\n<g id=\"node14\" class=\"node\">\n<title>1907609343456</title>\n<polygon fill=\"none\" stroke=\"black\" points=\"1077,-109.5 1077,-145.5 1264,-145.5 1264,-109.5 1077,-109.5\"/>\n<text text-anchor=\"middle\" x=\"1088.5\" y=\"-123.8\" font-family=\"Times New Roman,serif\" font-size=\"14.00\">n</text>\n<polyline fill=\"none\" stroke=\"black\" points=\"1100,-109.5 1100,-145.5\"/>\n<text text-anchor=\"middle\" x=\"1140.5\" y=\"-123.8\" font-family=\"Times New Roman,serif\" font-size=\"14.00\">data 0.8812</text>\n<polyline fill=\"none\" stroke=\"black\" points=\"1181,-109.5 1181,-145.5\"/>\n<text text-anchor=\"middle\" x=\"1222.5\" y=\"-123.8\" font-family=\"Times New Roman,serif\" font-size=\"14.00\">grad 0.5001</text>\n</g>\n<!-- 1907609343456&#45;&gt;1907609344224tanh -->\n<g id=\"edge9\" class=\"edge\">\n<title>1907609343456&#45;&gt;1907609344224tanh</title>\n<path fill=\"none\" stroke=\"black\" d=\"M1263.6,-127.5C1272.26,-127.5 1280.65,-127.5 1288.33,-127.5\"/>\n<polygon fill=\"black\" stroke=\"black\" points=\"1288.23,-131 1298.23,-127.5 1288.23,-124 1288.23,-131\"/>\n</g>\n<!-- 1907609343456+&#45;&gt;1907609343456 -->\n<g id=\"edge5\" class=\"edge\">\n<title>1907609343456+&#45;&gt;1907609343456</title>\n<path fill=\"none\" stroke=\"black\" d=\"M1041.21,-127.5C1048.47,-127.5 1056.83,-127.5 1065.71,-127.5\"/>\n<polygon fill=\"black\" stroke=\"black\" points=\"1065.7,-131 1075.7,-127.5 1065.7,-124 1065.7,-131\"/>\n</g>\n</g>\n</svg>\n",
      "text/plain": [
       "<graphviz.graphs.Digraph at 0x1bc26430220>"
      ]
     },
     "execution_count": 190,
     "metadata": {},
     "output_type": "execute_result"
    }
   ],
   "source": [
    "o.backward()\n",
    "draw_dot(o)"
   ]
  },
  {
   "cell_type": "code",
   "execution_count": 191,
   "metadata": {},
   "outputs": [
    {
     "data": {
      "image/svg+xml": "<?xml version=\"1.0\" encoding=\"UTF-8\" standalone=\"no\"?>\n<!DOCTYPE svg PUBLIC \"-//W3C//DTD SVG 1.1//EN\"\n \"http://www.w3.org/Graphics/SVG/1.1/DTD/svg11.dtd\">\n<!-- Generated by graphviz version 7.1.0 (20230121.1956)\n -->\n<!-- Pages: 1 -->\n<svg width=\"2965pt\" height=\"239pt\"\n viewBox=\"0.00 0.00 2965.00 239.00\" xmlns=\"http://www.w3.org/2000/svg\" xmlns:xlink=\"http://www.w3.org/1999/xlink\">\n<g id=\"graph0\" class=\"graph\" transform=\"scale(1 1) rotate(0) translate(4 235)\">\n<polygon fill=\"white\" stroke=\"none\" points=\"-4,4 -4,-235 2961,-235 2961,4 -4,4\"/>\n<!-- 1907608241152 -->\n<g id=\"node1\" class=\"node\">\n<title>1907608241152</title>\n<polygon fill=\"none\" stroke=\"black\" points=\"0,-194.5 0,-230.5 202,-230.5 202,-194.5 0,-194.5\"/>\n<text text-anchor=\"middle\" x=\"16.5\" y=\"-208.8\" font-family=\"Times New Roman,serif\" font-size=\"14.00\">w1</text>\n<polyline fill=\"none\" stroke=\"black\" points=\"33,-194.5 33,-230.5\"/>\n<text text-anchor=\"middle\" x=\"76\" y=\"-208.8\" font-family=\"Times New Roman,serif\" font-size=\"14.00\">data &#45;3.0000</text>\n<polyline fill=\"none\" stroke=\"black\" points=\"119,-194.5 119,-230.5\"/>\n<text text-anchor=\"middle\" x=\"160.5\" y=\"-208.8\" font-family=\"Times New Roman,serif\" font-size=\"14.00\">grad 1.0002</text>\n</g>\n<!-- 1907608241680* -->\n<g id=\"node3\" class=\"node\">\n<title>1907608241680*</title>\n<ellipse fill=\"none\" stroke=\"black\" cx=\"265\" cy=\"-157.5\" rx=\"27\" ry=\"18\"/>\n<text text-anchor=\"middle\" x=\"265\" y=\"-153.8\" font-family=\"Times New Roman,serif\" font-size=\"14.00\">*</text>\n</g>\n<!-- 1907608241152&#45;&gt;1907608241680* -->\n<g id=\"edge11\" class=\"edge\">\n<title>1907608241152&#45;&gt;1907608241680*</title>\n<path fill=\"none\" stroke=\"black\" d=\"M173.99,-194.56C183.48,-191.75 193.03,-188.71 202,-185.5 212.1,-181.88 222.83,-177.31 232.49,-172.91\"/>\n<polygon fill=\"black\" stroke=\"black\" points=\"233.88,-176.12 241.46,-168.72 230.92,-169.78 233.88,-176.12\"/>\n</g>\n<!-- 1907608241680 -->\n<g id=\"node2\" class=\"node\">\n<title>1907608241680</title>\n<polygon fill=\"none\" stroke=\"black\" points=\"328,-139.5 328,-175.5 550,-175.5 550,-139.5 328,-139.5\"/>\n<text text-anchor=\"middle\" x=\"354.5\" y=\"-153.8\" font-family=\"Times New Roman,serif\" font-size=\"14.00\">x1*w1</text>\n<polyline fill=\"none\" stroke=\"black\" points=\"381,-139.5 381,-175.5\"/>\n<text text-anchor=\"middle\" x=\"424\" y=\"-153.8\" font-family=\"Times New Roman,serif\" font-size=\"14.00\">data &#45;6.0000</text>\n<polyline fill=\"none\" stroke=\"black\" points=\"467,-139.5 467,-175.5\"/>\n<text text-anchor=\"middle\" x=\"508.5\" y=\"-153.8\" font-family=\"Times New Roman,serif\" font-size=\"14.00\">grad 0.5001</text>\n</g>\n<!-- 1907608242832+ -->\n<g id=\"node7\" class=\"node\">\n<title>1907608242832+</title>\n<ellipse fill=\"none\" stroke=\"black\" cx=\"613\" cy=\"-129.5\" rx=\"27\" ry=\"18\"/>\n<text text-anchor=\"middle\" x=\"613\" y=\"-125.8\" font-family=\"Times New Roman,serif\" font-size=\"14.00\">+</text>\n</g>\n<!-- 1907608241680&#45;&gt;1907608242832+ -->\n<g id=\"edge22\" class=\"edge\">\n<title>1907608241680&#45;&gt;1907608242832+</title>\n<path fill=\"none\" stroke=\"black\" d=\"M549.9,-139.61C558.91,-138.14 567.54,-136.74 575.34,-135.47\"/>\n<polygon fill=\"black\" stroke=\"black\" points=\"575.7,-138.95 585.01,-133.89 574.58,-132.05 575.7,-138.95\"/>\n</g>\n<!-- 1907608241680*&#45;&gt;1907608241680 -->\n<g id=\"edge1\" class=\"edge\">\n<title>1907608241680*&#45;&gt;1907608241680</title>\n<path fill=\"none\" stroke=\"black\" d=\"M292.5,-157.5C299.65,-157.5 307.89,-157.5 316.72,-157.5\"/>\n<polygon fill=\"black\" stroke=\"black\" points=\"316.69,-161 326.68,-157.5 316.68,-154 316.69,-161\"/>\n</g>\n<!-- 1907609320464 -->\n<g id=\"node4\" class=\"node\">\n<title>1907609320464</title>\n<polygon fill=\"none\" stroke=\"black\" points=\"1700.5,-0.5 1700.5,-36.5 1888.5,-36.5 1888.5,-0.5 1700.5,-0.5\"/>\n<text text-anchor=\"middle\" x=\"1710.5\" y=\"-14.8\" font-family=\"Times New Roman,serif\" font-size=\"14.00\"> </text>\n<polyline fill=\"none\" stroke=\"black\" points=\"1720.5,-0.5 1720.5,-36.5\"/>\n<text text-anchor=\"middle\" x=\"1761\" y=\"-14.8\" font-family=\"Times New Roman,serif\" font-size=\"14.00\">data 1.0000</text>\n<polyline fill=\"none\" stroke=\"black\" points=\"1801.5,-0.5 1801.5,-36.5\"/>\n<text text-anchor=\"middle\" x=\"1845\" y=\"-14.8\" font-family=\"Times New Roman,serif\" font-size=\"14.00\">grad &#45;0.1036</text>\n</g>\n<!-- 1907609320224+ -->\n<g id=\"node13\" class=\"node\">\n<title>1907609320224+</title>\n<ellipse fill=\"none\" stroke=\"black\" cx=\"1952\" cy=\"-45.5\" rx=\"27\" ry=\"18\"/>\n<text text-anchor=\"middle\" x=\"1952\" y=\"-41.8\" font-family=\"Times New Roman,serif\" font-size=\"14.00\">+</text>\n</g>\n<!-- 1907609320464&#45;&gt;1907609320224+ -->\n<g id=\"edge25\" class=\"edge\">\n<title>1907609320464&#45;&gt;1907609320224+</title>\n<path fill=\"none\" stroke=\"black\" d=\"M1888.2,-34.6C1897.38,-36.19 1906.27,-37.73 1914.33,-39.13\"/>\n<polygon fill=\"black\" stroke=\"black\" points=\"1913.54,-42.55 1923.99,-40.81 1914.74,-35.65 1913.54,-42.55\"/>\n</g>\n<!-- 1907608241248 -->\n<g id=\"node5\" class=\"node\">\n<title>1907608241248</title>\n<polygon fill=\"none\" stroke=\"black\" points=\"719.5,-56.5 719.5,-92.5 907.5,-92.5 907.5,-56.5 719.5,-56.5\"/>\n<text text-anchor=\"middle\" x=\"731.5\" y=\"-70.8\" font-family=\"Times New Roman,serif\" font-size=\"14.00\">b</text>\n<polyline fill=\"none\" stroke=\"black\" points=\"743.5,-56.5 743.5,-92.5\"/>\n<text text-anchor=\"middle\" x=\"784\" y=\"-70.8\" font-family=\"Times New Roman,serif\" font-size=\"14.00\">data 6.8812</text>\n<polyline fill=\"none\" stroke=\"black\" points=\"824.5,-56.5 824.5,-92.5\"/>\n<text text-anchor=\"middle\" x=\"866\" y=\"-70.8\" font-family=\"Times New Roman,serif\" font-size=\"14.00\">grad 0.5001</text>\n</g>\n<!-- 1907609319648+ -->\n<g id=\"node11\" class=\"node\">\n<title>1907609319648+</title>\n<ellipse fill=\"none\" stroke=\"black\" cx=\"1014\" cy=\"-101.5\" rx=\"27\" ry=\"18\"/>\n<text text-anchor=\"middle\" x=\"1014\" y=\"-97.8\" font-family=\"Times New Roman,serif\" font-size=\"14.00\">+</text>\n</g>\n<!-- 1907608241248&#45;&gt;1907609319648+ -->\n<g id=\"edge17\" class=\"edge\">\n<title>1907608241248&#45;&gt;1907609319648+</title>\n<path fill=\"none\" stroke=\"black\" d=\"M907.36,-87.13C931.59,-90.43 956.33,-93.79 975.77,-96.44\"/>\n<polygon fill=\"black\" stroke=\"black\" points=\"975.26,-99.9 985.64,-97.78 976.21,-92.96 975.26,-99.9\"/>\n</g>\n<!-- 1907608242832 -->\n<g id=\"node6\" class=\"node\">\n<title>1907608242832</title>\n<polygon fill=\"none\" stroke=\"black\" points=\"676,-111.5 676,-147.5 951,-147.5 951,-111.5 676,-111.5\"/>\n<text text-anchor=\"middle\" x=\"729\" y=\"-125.8\" font-family=\"Times New Roman,serif\" font-size=\"14.00\">x1*w1 + x2*w2</text>\n<polyline fill=\"none\" stroke=\"black\" points=\"782,-111.5 782,-147.5\"/>\n<text text-anchor=\"middle\" x=\"825\" y=\"-125.8\" font-family=\"Times New Roman,serif\" font-size=\"14.00\">data &#45;6.0000</text>\n<polyline fill=\"none\" stroke=\"black\" points=\"868,-111.5 868,-147.5\"/>\n<text text-anchor=\"middle\" x=\"909.5\" y=\"-125.8\" font-family=\"Times New Roman,serif\" font-size=\"14.00\">grad 0.5001</text>\n</g>\n<!-- 1907608242832&#45;&gt;1907609319648+ -->\n<g id=\"edge28\" class=\"edge\">\n<title>1907608242832&#45;&gt;1907609319648+</title>\n<path fill=\"none\" stroke=\"black\" d=\"M941.9,-111.53C954.16,-109.8 965.8,-108.16 975.98,-106.72\"/>\n<polygon fill=\"black\" stroke=\"black\" points=\"976.29,-110.21 985.7,-105.35 975.31,-103.28 976.29,-110.21\"/>\n</g>\n<!-- 1907608242832+&#45;&gt;1907608242832 -->\n<g id=\"edge2\" class=\"edge\">\n<title>1907608242832+&#45;&gt;1907608242832</title>\n<path fill=\"none\" stroke=\"black\" d=\"M640.36,-129.5C647.56,-129.5 655.89,-129.5 664.94,-129.5\"/>\n<polygon fill=\"black\" stroke=\"black\" points=\"664.78,-133 674.78,-129.5 664.78,-126 664.78,-133\"/>\n</g>\n<!-- 1907609317584 -->\n<g id=\"node8\" class=\"node\">\n<title>1907609317584</title>\n<polygon fill=\"none\" stroke=\"black\" points=\"2239,-82.5 2239,-118.5 2423,-118.5 2423,-82.5 2239,-82.5\"/>\n<text text-anchor=\"middle\" x=\"2249\" y=\"-96.8\" font-family=\"Times New Roman,serif\" font-size=\"14.00\"> </text>\n<polyline fill=\"none\" stroke=\"black\" points=\"2259,-82.5 2259,-118.5\"/>\n<text text-anchor=\"middle\" x=\"2299.5\" y=\"-96.8\" font-family=\"Times New Roman,serif\" font-size=\"14.00\">data 4.8268</text>\n<polyline fill=\"none\" stroke=\"black\" points=\"2340,-82.5 2340,-118.5\"/>\n<text text-anchor=\"middle\" x=\"2381.5\" y=\"-96.8\" font-family=\"Times New Roman,serif\" font-size=\"14.00\">grad 0.1465</text>\n</g>\n<!-- 1907609320320* -->\n<g id=\"node19\" class=\"node\">\n<title>1907609320320*</title>\n<ellipse fill=\"none\" stroke=\"black\" cx=\"2706\" cy=\"-72.5\" rx=\"27\" ry=\"18\"/>\n<text text-anchor=\"middle\" x=\"2706\" y=\"-68.8\" font-family=\"Times New Roman,serif\" font-size=\"14.00\">*</text>\n</g>\n<!-- 1907609317584&#45;&gt;1907609320320* -->\n<g id=\"edge14\" class=\"edge\">\n<title>1907609317584&#45;&gt;1907609320320*</title>\n<path fill=\"none\" stroke=\"black\" d=\"M2422.85,-93.94C2484.87,-89.42 2568.91,-83.23 2643,-77.5 2650.88,-76.89 2659.33,-76.22 2667.38,-75.57\"/>\n<polygon fill=\"black\" stroke=\"black\" points=\"2667.56,-79.07 2677.25,-74.78 2667,-72.09 2667.56,-79.07\"/>\n</g>\n<!-- 1907609317584+ -->\n<g id=\"node9\" class=\"node\">\n<title>1907609317584+</title>\n<ellipse fill=\"none\" stroke=\"black\" cx=\"1952\" cy=\"-100.5\" rx=\"27\" ry=\"18\"/>\n<text text-anchor=\"middle\" x=\"1952\" y=\"-96.8\" font-family=\"Times New Roman,serif\" font-size=\"14.00\">+</text>\n</g>\n<!-- 1907609317584+&#45;&gt;1907609317584 -->\n<g id=\"edge3\" class=\"edge\">\n<title>1907609317584+&#45;&gt;1907609317584</title>\n<path fill=\"none\" stroke=\"black\" d=\"M1979.21,-100.5C2029.82,-100.5 2143.42,-100.5 2227.71,-100.5\"/>\n<polygon fill=\"black\" stroke=\"black\" points=\"2227.63,-104 2237.63,-100.5 2227.63,-97 2227.63,-104\"/>\n</g>\n<!-- 1907609319648 -->\n<g id=\"node10\" class=\"node\">\n<title>1907609319648</title>\n<polygon fill=\"none\" stroke=\"black\" points=\"1077,-83.5 1077,-119.5 1264,-119.5 1264,-83.5 1077,-83.5\"/>\n<text text-anchor=\"middle\" x=\"1088.5\" y=\"-97.8\" font-family=\"Times New Roman,serif\" font-size=\"14.00\">n</text>\n<polyline fill=\"none\" stroke=\"black\" points=\"1100,-83.5 1100,-119.5\"/>\n<text text-anchor=\"middle\" x=\"1140.5\" y=\"-97.8\" font-family=\"Times New Roman,serif\" font-size=\"14.00\">data 0.8812</text>\n<polyline fill=\"none\" stroke=\"black\" points=\"1181,-83.5 1181,-119.5\"/>\n<text text-anchor=\"middle\" x=\"1222.5\" y=\"-97.8\" font-family=\"Times New Roman,serif\" font-size=\"14.00\">grad 0.5001</text>\n</g>\n<!-- 1907609319840* -->\n<g id=\"node23\" class=\"node\">\n<title>1907609319840*</title>\n<ellipse fill=\"none\" stroke=\"black\" cx=\"1327\" cy=\"-73.5\" rx=\"27\" ry=\"18\"/>\n<text text-anchor=\"middle\" x=\"1327\" y=\"-69.8\" font-family=\"Times New Roman,serif\" font-size=\"14.00\">*</text>\n</g>\n<!-- 1907609319648&#45;&gt;1907609319840* -->\n<g id=\"edge15\" class=\"edge\">\n<title>1907609319648&#45;&gt;1907609319840*</title>\n<path fill=\"none\" stroke=\"black\" d=\"M1263.6,-84.81C1272.72,-83.16 1281.55,-81.56 1289.56,-80.1\"/>\n<polygon fill=\"black\" stroke=\"black\" points=\"1289.94,-83.59 1299.16,-78.36 1288.7,-76.7 1289.94,-83.59\"/>\n</g>\n<!-- 1907609319648+&#45;&gt;1907609319648 -->\n<g id=\"edge4\" class=\"edge\">\n<title>1907609319648+&#45;&gt;1907609319648</title>\n<path fill=\"none\" stroke=\"black\" d=\"M1041.21,-101.5C1048.47,-101.5 1056.83,-101.5 1065.71,-101.5\"/>\n<polygon fill=\"black\" stroke=\"black\" points=\"1065.7,-105 1075.7,-101.5 1065.7,-98 1065.7,-105\"/>\n</g>\n<!-- 1907609320224 -->\n<g id=\"node12\" class=\"node\">\n<title>1907609320224</title>\n<polygon fill=\"none\" stroke=\"black\" points=\"2015,-27.5 2015,-63.5 2203,-63.5 2203,-27.5 2015,-27.5\"/>\n<text text-anchor=\"middle\" x=\"2025\" y=\"-41.8\" font-family=\"Times New Roman,serif\" font-size=\"14.00\"> </text>\n<polyline fill=\"none\" stroke=\"black\" points=\"2035,-27.5 2035,-63.5\"/>\n<text text-anchor=\"middle\" x=\"2075.5\" y=\"-41.8\" font-family=\"Times New Roman,serif\" font-size=\"14.00\">data 6.8268</text>\n<polyline fill=\"none\" stroke=\"black\" points=\"2116,-27.5 2116,-63.5\"/>\n<text text-anchor=\"middle\" x=\"2159.5\" y=\"-41.8\" font-family=\"Times New Roman,serif\" font-size=\"14.00\">grad &#45;0.1036</text>\n</g>\n<!-- 1907609321424**&#45;1 -->\n<g id=\"node28\" class=\"node\">\n<title>1907609321424**&#45;1</title>\n<ellipse fill=\"none\" stroke=\"black\" cx=\"2331\" cy=\"-45.5\" rx=\"27\" ry=\"18\"/>\n<text text-anchor=\"middle\" x=\"2331\" y=\"-41.8\" font-family=\"Times New Roman,serif\" font-size=\"14.00\">**&#45;1</text>\n</g>\n<!-- 1907609320224&#45;&gt;1907609321424**&#45;1 -->\n<g id=\"edge23\" class=\"edge\">\n<title>1907609320224&#45;&gt;1907609321424**&#45;1</title>\n<path fill=\"none\" stroke=\"black\" d=\"M2202.98,-45.5C2234.42,-45.5 2267.77,-45.5 2292.4,-45.5\"/>\n<polygon fill=\"black\" stroke=\"black\" points=\"2292.23,-49 2302.23,-45.5 2292.23,-42 2292.23,-49\"/>\n</g>\n<!-- 1907609320224+&#45;&gt;1907609320224 -->\n<g id=\"edge5\" class=\"edge\">\n<title>1907609320224+&#45;&gt;1907609320224</title>\n<path fill=\"none\" stroke=\"black\" d=\"M1979.29,-45.5C1986.52,-45.5 1994.82,-45.5 2003.66,-45.5\"/>\n<polygon fill=\"black\" stroke=\"black\" points=\"2003.57,-49 2013.57,-45.5 2003.57,-42 2003.57,-49\"/>\n</g>\n<!-- 1907608243504 -->\n<g id=\"node14\" class=\"node\">\n<title>1907608243504</title>\n<polygon fill=\"none\" stroke=\"black\" points=\"2.5,-84.5 2.5,-120.5 199.5,-120.5 199.5,-84.5 2.5,-84.5\"/>\n<text text-anchor=\"middle\" x=\"19\" y=\"-98.8\" font-family=\"Times New Roman,serif\" font-size=\"14.00\">w2</text>\n<polyline fill=\"none\" stroke=\"black\" points=\"35.5,-84.5 35.5,-120.5\"/>\n<text text-anchor=\"middle\" x=\"76\" y=\"-98.8\" font-family=\"Times New Roman,serif\" font-size=\"14.00\">data 1.0000</text>\n<polyline fill=\"none\" stroke=\"black\" points=\"116.5,-84.5 116.5,-120.5\"/>\n<text text-anchor=\"middle\" x=\"158\" y=\"-98.8\" font-family=\"Times New Roman,serif\" font-size=\"14.00\">grad 0.0000</text>\n</g>\n<!-- 1907608241536* -->\n<g id=\"node25\" class=\"node\">\n<title>1907608241536*</title>\n<ellipse fill=\"none\" stroke=\"black\" cx=\"265\" cy=\"-102.5\" rx=\"27\" ry=\"18\"/>\n<text text-anchor=\"middle\" x=\"265\" y=\"-98.8\" font-family=\"Times New Roman,serif\" font-size=\"14.00\">*</text>\n</g>\n<!-- 1907608243504&#45;&gt;1907608241536* -->\n<g id=\"edge19\" class=\"edge\">\n<title>1907608243504&#45;&gt;1907608241536*</title>\n<path fill=\"none\" stroke=\"black\" d=\"M199.04,-102.5C208.66,-102.5 217.96,-102.5 226.38,-102.5\"/>\n<polygon fill=\"black\" stroke=\"black\" points=\"226.12,-106 236.12,-102.5 226.12,-99 226.12,-106\"/>\n</g>\n<!-- 1907609319744 -->\n<g id=\"node15\" class=\"node\">\n<title>1907609319744</title>\n<polygon fill=\"none\" stroke=\"black\" points=\"1078.5,-28.5 1078.5,-64.5 1262.5,-64.5 1262.5,-28.5 1078.5,-28.5\"/>\n<text text-anchor=\"middle\" x=\"1088.5\" y=\"-42.8\" font-family=\"Times New Roman,serif\" font-size=\"14.00\"> </text>\n<polyline fill=\"none\" stroke=\"black\" points=\"1098.5,-28.5 1098.5,-64.5\"/>\n<text text-anchor=\"middle\" x=\"1139\" y=\"-42.8\" font-family=\"Times New Roman,serif\" font-size=\"14.00\">data 2.0000</text>\n<polyline fill=\"none\" stroke=\"black\" points=\"1179.5,-28.5 1179.5,-64.5\"/>\n<text text-anchor=\"middle\" x=\"1221\" y=\"-42.8\" font-family=\"Times New Roman,serif\" font-size=\"14.00\">grad 0.2204</text>\n</g>\n<!-- 1907609319744&#45;&gt;1907609319840* -->\n<g id=\"edge24\" class=\"edge\">\n<title>1907609319744&#45;&gt;1907609319840*</title>\n<path fill=\"none\" stroke=\"black\" d=\"M1262.27,-62.36C1271.73,-64.02 1280.92,-65.62 1289.23,-67.07\"/>\n<polygon fill=\"black\" stroke=\"black\" points=\"1288.4,-70.48 1298.85,-68.76 1289.6,-63.59 1288.4,-70.48\"/>\n</g>\n<!-- 1907608241104 -->\n<g id=\"node16\" class=\"node\">\n<title>1907608241104</title>\n<polygon fill=\"none\" stroke=\"black\" points=\"2,-139.5 2,-175.5 200,-175.5 200,-139.5 2,-139.5\"/>\n<text text-anchor=\"middle\" x=\"17\" y=\"-153.8\" font-family=\"Times New Roman,serif\" font-size=\"14.00\">x1</text>\n<polyline fill=\"none\" stroke=\"black\" points=\"32,-139.5 32,-175.5\"/>\n<text text-anchor=\"middle\" x=\"72.5\" y=\"-153.8\" font-family=\"Times New Roman,serif\" font-size=\"14.00\">data 2.0000</text>\n<polyline fill=\"none\" stroke=\"black\" points=\"113,-139.5 113,-175.5\"/>\n<text text-anchor=\"middle\" x=\"156.5\" y=\"-153.8\" font-family=\"Times New Roman,serif\" font-size=\"14.00\">grad &#45;1.5003</text>\n</g>\n<!-- 1907608241104&#45;&gt;1907608241680* -->\n<g id=\"edge20\" class=\"edge\">\n<title>1907608241104&#45;&gt;1907608241680*</title>\n<path fill=\"none\" stroke=\"black\" d=\"M199.97,-157.5C209.29,-157.5 218.28,-157.5 226.45,-157.5\"/>\n<polygon fill=\"black\" stroke=\"black\" points=\"226.23,-161 236.23,-157.5 226.23,-154 226.23,-161\"/>\n</g>\n<!-- 1907609319264 -->\n<g id=\"node17\" class=\"node\">\n<title>1907609319264</title>\n<polygon fill=\"none\" stroke=\"black\" points=\"1700,-110.5 1700,-146.5 1889,-146.5 1889,-110.5 1700,-110.5\"/>\n<text text-anchor=\"middle\" x=\"1710\" y=\"-124.8\" font-family=\"Times New Roman,serif\" font-size=\"14.00\"> </text>\n<polyline fill=\"none\" stroke=\"black\" points=\"1720,-110.5 1720,-146.5\"/>\n<text text-anchor=\"middle\" x=\"1763\" y=\"-124.8\" font-family=\"Times New Roman,serif\" font-size=\"14.00\">data &#45;1.0000</text>\n<polyline fill=\"none\" stroke=\"black\" points=\"1806,-110.5 1806,-146.5\"/>\n<text text-anchor=\"middle\" x=\"1847.5\" y=\"-124.8\" font-family=\"Times New Roman,serif\" font-size=\"14.00\">grad 0.1465</text>\n</g>\n<!-- 1907609319264&#45;&gt;1907609317584+ -->\n<g id=\"edge18\" class=\"edge\">\n<title>1907609319264&#45;&gt;1907609317584+</title>\n<path fill=\"none\" stroke=\"black\" d=\"M1888.65,-111.73C1897.58,-110.12 1906.23,-108.56 1914.11,-107.14\"/>\n<polygon fill=\"black\" stroke=\"black\" points=\"1914.68,-110.6 1923.9,-105.38 1913.44,-103.71 1914.68,-110.6\"/>\n</g>\n<!-- 1907609320320 -->\n<g id=\"node18\" class=\"node\">\n<title>1907609320320</title>\n<polygon fill=\"none\" stroke=\"black\" points=\"2769,-54.5 2769,-90.5 2957,-90.5 2957,-54.5 2769,-54.5\"/>\n<text text-anchor=\"middle\" x=\"2781\" y=\"-68.8\" font-family=\"Times New Roman,serif\" font-size=\"14.00\">o</text>\n<polyline fill=\"none\" stroke=\"black\" points=\"2793,-54.5 2793,-90.5\"/>\n<text text-anchor=\"middle\" x=\"2833.5\" y=\"-68.8\" font-family=\"Times New Roman,serif\" font-size=\"14.00\">data 0.7070</text>\n<polyline fill=\"none\" stroke=\"black\" points=\"2874,-54.5 2874,-90.5\"/>\n<text text-anchor=\"middle\" x=\"2915.5\" y=\"-68.8\" font-family=\"Times New Roman,serif\" font-size=\"14.00\">grad 1.0000</text>\n</g>\n<!-- 1907609320320*&#45;&gt;1907609320320 -->\n<g id=\"edge6\" class=\"edge\">\n<title>1907609320320*&#45;&gt;1907609320320</title>\n<path fill=\"none\" stroke=\"black\" d=\"M2733.29,-72.5C2740.52,-72.5 2748.82,-72.5 2757.66,-72.5\"/>\n<polygon fill=\"black\" stroke=\"black\" points=\"2757.57,-76 2767.57,-72.5 2757.57,-69 2757.57,-76\"/>\n</g>\n<!-- 1907609319312 -->\n<g id=\"node20\" class=\"node\">\n<title>1907609319312</title>\n<polygon fill=\"none\" stroke=\"black\" points=\"1702.5,-55.5 1702.5,-91.5 1886.5,-91.5 1886.5,-55.5 1702.5,-55.5\"/>\n<text text-anchor=\"middle\" x=\"1712.5\" y=\"-69.8\" font-family=\"Times New Roman,serif\" font-size=\"14.00\"> </text>\n<polyline fill=\"none\" stroke=\"black\" points=\"1722.5,-55.5 1722.5,-91.5\"/>\n<text text-anchor=\"middle\" x=\"1763\" y=\"-69.8\" font-family=\"Times New Roman,serif\" font-size=\"14.00\">data 5.8268</text>\n<polyline fill=\"none\" stroke=\"black\" points=\"1803.5,-55.5 1803.5,-91.5\"/>\n<text text-anchor=\"middle\" x=\"1845\" y=\"-69.8\" font-family=\"Times New Roman,serif\" font-size=\"14.00\">grad 0.0429</text>\n</g>\n<!-- 1907609319312&#45;&gt;1907609317584+ -->\n<g id=\"edge13\" class=\"edge\">\n<title>1907609319312&#45;&gt;1907609317584+</title>\n<path fill=\"none\" stroke=\"black\" d=\"M1886.4,-89.28C1896.27,-91 1905.85,-92.66 1914.48,-94.16\"/>\n<polygon fill=\"black\" stroke=\"black\" points=\"1913.65,-97.57 1924.1,-95.83 1914.84,-90.67 1913.65,-97.57\"/>\n</g>\n<!-- 1907609319312&#45;&gt;1907609320224+ -->\n<g id=\"edge27\" class=\"edge\">\n<title>1907609319312&#45;&gt;1907609320224+</title>\n<path fill=\"none\" stroke=\"black\" d=\"M1886.4,-57.13C1896.27,-55.35 1905.85,-53.63 1914.48,-52.08\"/>\n<polygon fill=\"black\" stroke=\"black\" points=\"1914.88,-55.56 1924.1,-50.34 1913.64,-48.67 1914.88,-55.56\"/>\n</g>\n<!-- 1907609319312exp -->\n<g id=\"node21\" class=\"node\">\n<title>1907609319312exp</title>\n<ellipse fill=\"none\" stroke=\"black\" cx=\"1637\" cy=\"-73.5\" rx=\"27\" ry=\"18\"/>\n<text text-anchor=\"middle\" x=\"1637\" y=\"-69.8\" font-family=\"Times New Roman,serif\" font-size=\"14.00\">exp</text>\n</g>\n<!-- 1907609319312exp&#45;&gt;1907609319312 -->\n<g id=\"edge7\" class=\"edge\">\n<title>1907609319312exp&#45;&gt;1907609319312</title>\n<path fill=\"none\" stroke=\"black\" d=\"M1664.38,-73.5C1672.31,-73.5 1681.53,-73.5 1691.33,-73.5\"/>\n<polygon fill=\"black\" stroke=\"black\" points=\"1691.09,-77 1701.09,-73.5 1691.09,-70 1691.09,-77\"/>\n</g>\n<!-- 1907609319840 -->\n<g id=\"node22\" class=\"node\">\n<title>1907609319840</title>\n<polygon fill=\"none\" stroke=\"black\" points=\"1390,-55.5 1390,-91.5 1574,-91.5 1574,-55.5 1390,-55.5\"/>\n<text text-anchor=\"middle\" x=\"1400\" y=\"-69.8\" font-family=\"Times New Roman,serif\" font-size=\"14.00\"> </text>\n<polyline fill=\"none\" stroke=\"black\" points=\"1410,-55.5 1410,-91.5\"/>\n<text text-anchor=\"middle\" x=\"1450.5\" y=\"-69.8\" font-family=\"Times New Roman,serif\" font-size=\"14.00\">data 1.7625</text>\n<polyline fill=\"none\" stroke=\"black\" points=\"1491,-55.5 1491,-91.5\"/>\n<text text-anchor=\"middle\" x=\"1532.5\" y=\"-69.8\" font-family=\"Times New Roman,serif\" font-size=\"14.00\">grad 0.2500</text>\n</g>\n<!-- 1907609319840&#45;&gt;1907609319312exp -->\n<g id=\"edge21\" class=\"edge\">\n<title>1907609319840&#45;&gt;1907609319312exp</title>\n<path fill=\"none\" stroke=\"black\" d=\"M1573.77,-73.5C1582.38,-73.5 1590.75,-73.5 1598.4,-73.5\"/>\n<polygon fill=\"black\" stroke=\"black\" points=\"1598.27,-77 1608.27,-73.5 1598.27,-70 1598.27,-77\"/>\n</g>\n<!-- 1907609319840*&#45;&gt;1907609319840 -->\n<g id=\"edge8\" class=\"edge\">\n<title>1907609319840*&#45;&gt;1907609319840</title>\n<path fill=\"none\" stroke=\"black\" d=\"M1354.3,-73.5C1361.57,-73.5 1369.92,-73.5 1378.8,-73.5\"/>\n<polygon fill=\"black\" stroke=\"black\" points=\"1378.76,-77 1388.76,-73.5 1378.76,-70 1378.76,-77\"/>\n</g>\n<!-- 1907608241536 -->\n<g id=\"node24\" class=\"node\">\n<title>1907608241536</title>\n<polygon fill=\"none\" stroke=\"black\" points=\"330.5,-84.5 330.5,-120.5 547.5,-120.5 547.5,-84.5 330.5,-84.5\"/>\n<text text-anchor=\"middle\" x=\"357\" y=\"-98.8\" font-family=\"Times New Roman,serif\" font-size=\"14.00\">x2*w2</text>\n<polyline fill=\"none\" stroke=\"black\" points=\"383.5,-84.5 383.5,-120.5\"/>\n<text text-anchor=\"middle\" x=\"424\" y=\"-98.8\" font-family=\"Times New Roman,serif\" font-size=\"14.00\">data 0.0000</text>\n<polyline fill=\"none\" stroke=\"black\" points=\"464.5,-84.5 464.5,-120.5\"/>\n<text text-anchor=\"middle\" x=\"506\" y=\"-98.8\" font-family=\"Times New Roman,serif\" font-size=\"14.00\">grad 0.5001</text>\n</g>\n<!-- 1907608241536&#45;&gt;1907608242832+ -->\n<g id=\"edge26\" class=\"edge\">\n<title>1907608241536&#45;&gt;1907608242832+</title>\n<path fill=\"none\" stroke=\"black\" d=\"M547.46,-119.37C557.25,-120.91 566.64,-122.38 575.08,-123.7\"/>\n<polygon fill=\"black\" stroke=\"black\" points=\"574.41,-127.14 584.83,-125.23 575.49,-120.23 574.41,-127.14\"/>\n</g>\n<!-- 1907608241536*&#45;&gt;1907608241536 -->\n<g id=\"edge9\" class=\"edge\">\n<title>1907608241536*&#45;&gt;1907608241536</title>\n<path fill=\"none\" stroke=\"black\" d=\"M292.5,-102.5C300.37,-102.5 309.55,-102.5 319.4,-102.5\"/>\n<polygon fill=\"black\" stroke=\"black\" points=\"319.25,-106 329.25,-102.5 319.25,-99 319.25,-106\"/>\n</g>\n<!-- 1907608242112 -->\n<g id=\"node26\" class=\"node\">\n<title>1907608242112</title>\n<polygon fill=\"none\" stroke=\"black\" points=\"4,-29.5 4,-65.5 198,-65.5 198,-29.5 4,-29.5\"/>\n<text text-anchor=\"middle\" x=\"19\" y=\"-43.8\" font-family=\"Times New Roman,serif\" font-size=\"14.00\">x2</text>\n<polyline fill=\"none\" stroke=\"black\" points=\"34,-29.5 34,-65.5\"/>\n<text text-anchor=\"middle\" x=\"74.5\" y=\"-43.8\" font-family=\"Times New Roman,serif\" font-size=\"14.00\">data 0.0000</text>\n<polyline fill=\"none\" stroke=\"black\" points=\"115,-29.5 115,-65.5\"/>\n<text text-anchor=\"middle\" x=\"156.5\" y=\"-43.8\" font-family=\"Times New Roman,serif\" font-size=\"14.00\">grad 0.5001</text>\n</g>\n<!-- 1907608242112&#45;&gt;1907608241536* -->\n<g id=\"edge16\" class=\"edge\">\n<title>1907608242112&#45;&gt;1907608241536*</title>\n<path fill=\"none\" stroke=\"black\" d=\"M170.98,-65.47C181.45,-68.58 192.06,-71.96 202,-75.5 211.97,-79.05 222.6,-83.44 232.19,-87.65\"/>\n<polygon fill=\"black\" stroke=\"black\" points=\"230.55,-90.75 241.11,-91.64 233.41,-84.36 230.55,-90.75\"/>\n</g>\n<!-- 1907609321424 -->\n<g id=\"node27\" class=\"node\">\n<title>1907609321424</title>\n<polygon fill=\"none\" stroke=\"black\" points=\"2459,-31.5 2459,-67.5 2643,-67.5 2643,-31.5 2459,-31.5\"/>\n<text text-anchor=\"middle\" x=\"2469\" y=\"-45.8\" font-family=\"Times New Roman,serif\" font-size=\"14.00\"> </text>\n<polyline fill=\"none\" stroke=\"black\" points=\"2479,-31.5 2479,-67.5\"/>\n<text text-anchor=\"middle\" x=\"2519.5\" y=\"-45.8\" font-family=\"Times New Roman,serif\" font-size=\"14.00\">data 0.1465</text>\n<polyline fill=\"none\" stroke=\"black\" points=\"2560,-31.5 2560,-67.5\"/>\n<text text-anchor=\"middle\" x=\"2601.5\" y=\"-45.8\" font-family=\"Times New Roman,serif\" font-size=\"14.00\">grad 4.8268</text>\n</g>\n<!-- 1907609321424&#45;&gt;1907609320320* -->\n<g id=\"edge12\" class=\"edge\">\n<title>1907609321424&#45;&gt;1907609320320*</title>\n<path fill=\"none\" stroke=\"black\" d=\"M2642.77,-63.15C2651.66,-64.48 2660.28,-65.78 2668.13,-66.96\"/>\n<polygon fill=\"black\" stroke=\"black\" points=\"2667.49,-70.4 2677.89,-68.43 2668.53,-63.48 2667.49,-70.4\"/>\n</g>\n<!-- 1907609321424**&#45;1&#45;&gt;1907609321424 -->\n<g id=\"edge10\" class=\"edge\">\n<title>1907609321424**&#45;1&#45;&gt;1907609321424</title>\n<path fill=\"none\" stroke=\"black\" d=\"M2358.3,-45.98C2380.88,-46.4 2414.96,-47.02 2448.16,-47.63\"/>\n<polygon fill=\"black\" stroke=\"black\" points=\"2447.79,-51.12 2457.85,-47.81 2447.91,-44.13 2447.79,-51.12\"/>\n</g>\n</g>\n</svg>\n",
      "text/plain": [
       "<graphviz.graphs.Digraph at 0x1bc26603910>"
      ]
     },
     "execution_count": 191,
     "metadata": {},
     "output_type": "execute_result"
    }
   ],
   "source": [
    "x1 = Value(2.0, label='x1')\n",
    "x2 = Value(0.0, label='x2')\n",
    "w1 = Value(-3.0, label='w1')\n",
    "w2 = Value(1.0, label='w2')\n",
    "b = Value(6.88123415, label='b')\n",
    "x1w1 = x1*w1; x1w1.label = 'x1*w1'\n",
    "x2w2 = x2*w2; x2w2.label = 'x2*w2'\n",
    "x1w1x2w2 = x1w1 + x2w2; x1w1x2w2.label = 'x1*w1 + x2*w2'\n",
    "n = x1w1x2w2 + b; n.label = 'n'\n",
    "\n",
    "e = (2*n).exp()\n",
    "o = (e-1) / (e+1); o.label = 'o'\n",
    "\n",
    "o.backward()\n",
    "draw_dot(o)"
   ]
  },
  {
   "cell_type": "code",
   "execution_count": 192,
   "metadata": {},
   "outputs": [
    {
     "name": "stdout",
     "output_type": "stream",
     "text": [
      "0.7071050214706146\n",
      "---\n",
      "x1 -1.500007465833125\n",
      "w1 1.0000049772220834\n",
      "x2 0.5000024886110417\n",
      "w2 0.0\n"
     ]
    }
   ],
   "source": [
    "import torch\n",
    "\n",
    "x1 = torch.Tensor([2.0]).double()       ; x1.requires_grad = True\n",
    "w1 = torch.Tensor([-3.0]).double()       ; w1.requires_grad = True\n",
    "x2 = torch.Tensor([0.0]).double()       ; x2.requires_grad = True\n",
    "w2 = torch.Tensor([1.0]).double()       ; w2.requires_grad = True\n",
    "b = torch.Tensor([6.88137]).double()    ; b.requires_grad = True\n",
    "n = x1*w1 + x2*w2 + b\n",
    "o = torch.tanh(n)\n",
    "\n",
    "print(o.data.item())\n",
    "o.backward()\n",
    "\n",
    "print('---')\n",
    "print('x1', x1.grad.item())\n",
    "print('w1', w1.grad.item())\n",
    "print('x2', x2.grad.item())\n",
    "print('w2', w2.grad.item())"
   ]
  },
  {
   "cell_type": "code",
   "execution_count": 194,
   "metadata": {},
   "outputs": [
    {
     "data": {
      "text/plain": [
       "Value(data=-0.7771587583287993)"
      ]
     },
     "execution_count": 194,
     "metadata": {},
     "output_type": "execute_result"
    }
   ],
   "source": [
    "import random\n",
    "\n",
    "class Neuron:\n",
    "    def __init__(self, nin):\n",
    "        self.w = [Value(random.uniform(-1, 1)) for _ in range(nin)]\n",
    "        self.b = Value(random.uniform(-1, 1))\n",
    "\n",
    "    def __call__(self, x):\n",
    "        act = sum(wi*xi for wi, xi in zip(self.w, x)) + self.b  \n",
    "        out = act.tanh()\n",
    "        return out\n",
    "\n",
    "x = [2.0, 3.0]\n",
    "n = Neuron(2)\n",
    "n(x)"
   ]
  },
  {
   "cell_type": "code",
   "execution_count": null,
   "metadata": {},
   "outputs": [],
   "source": []
  }
 ],
 "metadata": {
  "kernelspec": {
   "display_name": "sar",
   "language": "python",
   "name": "python3"
  },
  "language_info": {
   "codemirror_mode": {
    "name": "ipython",
    "version": 3
   },
   "file_extension": ".py",
   "mimetype": "text/x-python",
   "name": "python",
   "nbconvert_exporter": "python",
   "pygments_lexer": "ipython3",
   "version": "3.9.16"
  },
  "orig_nbformat": 4,
  "vscode": {
   "interpreter": {
    "hash": "8fd57e68d6fd50125dd5344fac10f327eaba2a8067f33f512e5b6e6f294862ac"
   }
  }
 },
 "nbformat": 4,
 "nbformat_minor": 2
}
