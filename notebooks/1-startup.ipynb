{
 "cells": [
  {
   "cell_type": "code",
   "execution_count": 1,
   "metadata": {},
   "outputs": [],
   "source": [
    "import torch, torch.nn as nn\n",
    "import snntorch as snn\n",
    "from snntorch import surrogate\n",
    "\n",
    "num_steps = 25 # number of time steps\n",
    "batch_size = 1\n",
    "beta = 0.5  # neuron decay rate\n",
    "spike_grad = surrogate.fast_sigmoid()\n",
    "\n",
    "net = nn.Sequential(\n",
    "      nn.Conv2d(1, 8, 5),\n",
    "      nn.MaxPool2d(2),\n",
    "      snn.Leaky(beta=beta, init_hidden=True, spike_grad=spike_grad),\n",
    "      nn.Conv2d(8, 16, 5),\n",
    "      nn.MaxPool2d(2),\n",
    "      snn.Leaky(beta=beta, init_hidden=True, spike_grad=spike_grad),\n",
    "      nn.Flatten(),\n",
    "      nn.Linear(16 * 4 * 4, 10),\n",
    "      snn.Leaky(beta=beta, init_hidden=True, spike_grad=spike_grad, output=True)\n",
    "      )\n",
    "\n",
    "# random input data\n",
    "data_in = torch.rand(num_steps, batch_size, 1, 28, 28)\n",
    "\n",
    "spike_recording = []\n",
    "\n",
    "for step in range(num_steps):\n",
    "    spike, state = net(data_in[step])\n",
    "    spike_recording.append(spike)"
   ]
  },
  {
   "cell_type": "code",
   "execution_count": 2,
   "metadata": {},
   "outputs": [
    {
     "data": {
      "text/plain": [
       "Sequential(\n",
       "  (0): Conv2d(1, 8, kernel_size=(5, 5), stride=(1, 1))\n",
       "  (1): MaxPool2d(kernel_size=2, stride=2, padding=0, dilation=1, ceil_mode=False)\n",
       "  (2): Leaky()\n",
       "  (3): Conv2d(8, 16, kernel_size=(5, 5), stride=(1, 1))\n",
       "  (4): MaxPool2d(kernel_size=2, stride=2, padding=0, dilation=1, ceil_mode=False)\n",
       "  (5): Leaky()\n",
       "  (6): Flatten(start_dim=1, end_dim=-1)\n",
       "  (7): Linear(in_features=256, out_features=10, bias=True)\n",
       "  (8): Leaky()\n",
       ")"
      ]
     },
     "execution_count": 2,
     "metadata": {},
     "output_type": "execute_result"
    }
   ],
   "source": [
    "net"
   ]
  }
 ],
 "metadata": {
  "kernelspec": {
   "display_name": "sar",
   "language": "python",
   "name": "python3"
  },
  "language_info": {
   "codemirror_mode": {
    "name": "ipython",
    "version": 3
   },
   "file_extension": ".py",
   "mimetype": "text/x-python",
   "name": "python",
   "nbconvert_exporter": "python",
   "pygments_lexer": "ipython3",
   "version": "3.9.16"
  },
  "orig_nbformat": 4,
  "vscode": {
   "interpreter": {
    "hash": "27de8e0f662d9c88b623b964dec131d3e6528792c9f6ac8dca39b54b5546b1d9"
   }
  }
 },
 "nbformat": 4,
 "nbformat_minor": 2
}
