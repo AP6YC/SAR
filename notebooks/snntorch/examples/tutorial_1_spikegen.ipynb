{
 "cells": [
  {
   "cell_type": "markdown",
   "metadata": {
    "id": "RBNKFLJIobYt"
   },
   "source": [
    "[<img src='https://github.com/jeshraghian/snntorch/blob/master/docs/_static/img/snntorch_alpha_w.png?raw=true' width=\"400\">](https://github.com/jeshraghian/snntorch/)\n",
    "\n",
    "# Tutorial 1 - Spike Encoding\n",
    "## By Jason K. Eshraghian (www.ncg.ucsc.edu)\n",
    "\n",
    "\n",
    "<a href=\"https://colab.research.google.com/github/jeshraghian/snntorch/blob/master/examples/tutorial_1_spikegen.ipynb\">\n",
    "  <img src=\"https://colab.research.google.com/assets/colab-badge.svg\" alt=\"Open In Colab\"/>\n",
    "</a>\n",
    "\n",
    "[<img src='https://github.com/jeshraghian/snntorch/blob/master/docs/_static/img/GitHub-Mark-Light-120px-plus.png?raw=true' width=\"28\">](https://github.com/jeshraghian/snntorch/) [<img src='https://github.com/jeshraghian/snntorch/blob/master/docs/_static/img/GitHub_Logo_White.png?raw=true' width=\"80\">](https://github.com/jeshraghian/snntorch/)\n"
   ]
  },
  {
   "cell_type": "markdown",
   "metadata": {
    "id": "4blpfg4y44uO"
   },
   "source": [
    "The snnTorch tutorial series is based on the following paper. If you find these resources or code useful in your work, please consider citing the following source:\n",
    "\n",
    "> <cite> [Jason K. Eshraghian, Max Ward, Emre Neftci, Xinxin Wang, Gregor Lenz, Girish Dwivedi, Mohammed Bennamoun, Doo Seok Jeong, and Wei D. Lu. \"Training Spiking Neural Networks Using Lessons From Deep Learning\". arXiv preprint arXiv:2109.12894, September 2021.](https://arxiv.org/abs/2109.12894) </cite>"
   ]
  },
  {
   "cell_type": "markdown",
   "metadata": {
    "id": "lnF_PEo5obYv",
    "pycharm": {
     "name": "#%% md\n"
    }
   },
   "source": [
    "In this tutorial, you will learn how to use snnTorch to:\n",
    "* convert datasets into spiking datasets, \n",
    "* how to visualise them, \n",
    "* and how to generate random spike trains."
   ]
  },
  {
   "cell_type": "markdown",
   "metadata": {
    "id": "d7qhH_lt8_mn"
   },
   "source": [
    "# Introduction\n",
    "Light is what we see when the retina converts photons into spikes. Odors are what we smell when volatilised molecules are converted into spikes. Touch is what we feel when nerve endings turn tactile pressure into spikes. The brain trades in the global currency of the *spike*. \n",
    "\n",
    "If our end goal is to build a spiking neural network (SNN), it makes sense to use spikes at the input too. Although it is quite common to use non-spiking inputs (as will be seen in Tutorial 3), part of the appeal of encoding data come from the *three S's*: spikes, sparsity, and static suppression.\n",
    "\n",
    "\n",
    "\n",
    "1.   **Spikes**: (a-b) Biological neurons process and communicate via spikes, which are electrical impulses of approximately 100 mV in amplitude. (c) Many computational models of neurons simplify this voltage burst to a discrete, single-bit event: a '1' or a '0'. This is far simpler to represent in hardware than a high precision value.\n",
    "\n",
    "2.   **Sparsity**: (c) Neurons spend most of their time at rest, silencing most activations to *zero* at any given time. Not only are sparse vectors/tensors (with loads of zeros) cheap to store, but say we need to multiply sparse activations with synaptic weights. If most values are multiplied by '0', then we don't need to read many of the network parameters from memory. This means neuromorphic hardware can be extremely efficient. \n",
    "\n",
    "3.   **Static-Suppression (a.k.a, event-driven processing**: (d-e) The sensory periphery only processes information when there is new information to process. Each pixel in (e) responds to *changes* in illuminance, so most of the image is blocked out. Conventional signal processing requires all channels/pixels to adhere to a global sampling/shutter rate, which slows down how frequently sensing can take place. Event-driven processing now only contributes to sparsity and power-efficiency by blocking unchanging input, but it often allows for much faster processing speeds.\n",
    "\n",
    "\n",
    "<center>\n",
    "<img src='https://github.com/jeshraghian/snntorch/blob/master/docs/_static/img/examples/tutorial1/3s.png?raw=true' width=\"600\">\n",
    "</center>"
   ]
  },
  {
   "cell_type": "markdown",
   "metadata": {
    "id": "lGNOnFM4DzHY"
   },
   "source": [
    "In this tutorial, we will assume we have some non-spiking input data (i.e., the MNIST dataset) and that we want to encode it into spikes using a few different techniques. So let's get started! "
   ]
  },
  {
   "cell_type": "markdown",
   "metadata": {
    "id": "GAbXmmVN50Pl"
   },
   "source": [
    "Install the latest PyPi distribution of snnTorch:"
   ]
  },
  {
   "cell_type": "code",
   "execution_count": 1,
   "metadata": {
    "id": "jxLoYgkhobYw",
    "pycharm": {
     "name": "#%%\n"
    }
   },
   "outputs": [
    {
     "name": "stdout",
     "output_type": "stream",
     "text": [
      "Requirement already satisfied: snntorch in c:\\users\\sasha\\anaconda3\\envs\\sar\\lib\\site-packages (0.6.0)\n",
      "Requirement already satisfied: pandas in c:\\users\\sasha\\anaconda3\\envs\\sar\\lib\\site-packages (from snntorch) (1.5.3)\n",
      "Requirement already satisfied: torch>=1.1.0 in c:\\users\\sasha\\anaconda3\\envs\\sar\\lib\\site-packages (from snntorch) (1.13.1)\n",
      "Requirement already satisfied: matplotlib in c:\\users\\sasha\\anaconda3\\envs\\sar\\lib\\site-packages (from snntorch) (3.7.0)\n",
      "Requirement already satisfied: numpy>=1.17 in c:\\users\\sasha\\anaconda3\\envs\\sar\\lib\\site-packages (from snntorch) (1.23.5)\n",
      "Requirement already satisfied: typing_extensions in c:\\users\\sasha\\anaconda3\\envs\\sar\\lib\\site-packages (from torch>=1.1.0->snntorch) (4.4.0)\n",
      "Requirement already satisfied: kiwisolver>=1.0.1 in c:\\users\\sasha\\anaconda3\\envs\\sar\\lib\\site-packages (from matplotlib->snntorch) (1.4.4)\n",
      "Requirement already satisfied: packaging>=20.0 in c:\\users\\sasha\\anaconda3\\envs\\sar\\lib\\site-packages (from matplotlib->snntorch) (23.0)\n",
      "Requirement already satisfied: pillow>=6.2.0 in c:\\users\\sasha\\anaconda3\\envs\\sar\\lib\\site-packages (from matplotlib->snntorch) (9.3.0)\n",
      "Requirement already satisfied: cycler>=0.10 in c:\\users\\sasha\\anaconda3\\envs\\sar\\lib\\site-packages (from matplotlib->snntorch) (0.11.0)\n",
      "Requirement already satisfied: pyparsing>=2.3.1 in c:\\users\\sasha\\anaconda3\\envs\\sar\\lib\\site-packages (from matplotlib->snntorch) (3.0.9)\n",
      "Requirement already satisfied: contourpy>=1.0.1 in c:\\users\\sasha\\anaconda3\\envs\\sar\\lib\\site-packages (from matplotlib->snntorch) (1.0.7)\n",
      "Requirement already satisfied: importlib-resources>=3.2.0 in c:\\users\\sasha\\anaconda3\\envs\\sar\\lib\\site-packages (from matplotlib->snntorch) (5.12.0)\n",
      "Requirement already satisfied: python-dateutil>=2.7 in c:\\users\\sasha\\anaconda3\\envs\\sar\\lib\\site-packages (from matplotlib->snntorch) (2.8.2)\n",
      "Requirement already satisfied: fonttools>=4.22.0 in c:\\users\\sasha\\anaconda3\\envs\\sar\\lib\\site-packages (from matplotlib->snntorch) (4.38.0)\n",
      "Requirement already satisfied: pytz>=2020.1 in c:\\users\\sasha\\anaconda3\\envs\\sar\\lib\\site-packages (from pandas->snntorch) (2022.7.1)\n",
      "Requirement already satisfied: zipp>=3.1.0 in c:\\users\\sasha\\anaconda3\\envs\\sar\\lib\\site-packages (from importlib-resources>=3.2.0->matplotlib->snntorch) (3.14.0)\n",
      "Requirement already satisfied: six>=1.5 in c:\\users\\sasha\\anaconda3\\envs\\sar\\lib\\site-packages (from python-dateutil>=2.7->matplotlib->snntorch) (1.16.0)\n"
     ]
    }
   ],
   "source": [
    "!pip install snntorch"
   ]
  },
  {
   "cell_type": "markdown",
   "metadata": {
    "id": "k6E7VH5kbTmA"
   },
   "source": [
    "## 1. Setting up the MNIST Dataset"
   ]
  },
  {
   "cell_type": "markdown",
   "metadata": {
    "id": "Suffg8_ZobYw",
    "pycharm": {
     "name": "#%% md\n"
    }
   },
   "source": [
    "### 1.1. Import packages and setup environment"
   ]
  },
  {
   "cell_type": "code",
   "execution_count": 2,
   "metadata": {
    "id": "cR9okh0jobYx",
    "pycharm": {
     "name": "#%%\n"
    }
   },
   "outputs": [],
   "source": [
    "import snntorch as snn\n",
    "import torch"
   ]
  },
  {
   "cell_type": "code",
   "execution_count": 3,
   "metadata": {
    "id": "e4LPD0WCobYx",
    "pycharm": {
     "name": "#%%\n"
    }
   },
   "outputs": [],
   "source": [
    "# Training Parameters\n",
    "batch_size=128\n",
    "data_path='/data/mnist'\n",
    "num_classes = 10  # MNIST has 10 output classes\n",
    "\n",
    "# Torch Variables\n",
    "dtype = torch.float"
   ]
  },
  {
   "cell_type": "markdown",
   "metadata": {
    "id": "x5X2a5a9obYy"
   },
   "source": [
    "### 1.2 Download Dataset"
   ]
  },
  {
   "cell_type": "code",
   "execution_count": 4,
   "metadata": {
    "id": "OlbY8Rm9obYy",
    "pycharm": {
     "name": "#%%\n"
    }
   },
   "outputs": [],
   "source": [
    "from torchvision import datasets, transforms\n",
    "\n",
    "# Define a transform\n",
    "transform = transforms.Compose([\n",
    "            transforms.Resize((28,28)),\n",
    "            transforms.Grayscale(),\n",
    "            transforms.ToTensor(),\n",
    "            transforms.Normalize((0,), (1,))])\n",
    "\n",
    "mnist_train = datasets.MNIST(data_path, train=True, download=True, transform=transform)"
   ]
  },
  {
   "cell_type": "markdown",
   "metadata": {
    "id": "6ZyzEp9YHgPb"
   },
   "source": [
    "If the above code block throws an error, e.g. the MNIST servers are down, then uncomment the following code instead."
   ]
  },
  {
   "cell_type": "code",
   "execution_count": 5,
   "metadata": {
    "id": "ZpGLLVqeHgwy"
   },
   "outputs": [],
   "source": [
    "# # temporary dataloader if MNIST service is unavailable\n",
    "# !wget www.di.ens.fr/~lelarge/MNIST.tar.gz\n",
    "# !tar -zxvf MNIST.tar.gz\n",
    "\n",
    "# mnist_train = datasets.MNIST(root = './', train=True, download=True, transform=transform)"
   ]
  },
  {
   "cell_type": "markdown",
   "metadata": {
    "id": "T5wXl2bVobYz",
    "pycharm": {
     "name": "#%% md\n"
    }
   },
   "source": [
    "Until we actually start training a network, we won't need large datasets.\n",
    "`snntorch.utils` contains a few useful functions for modifying datasets. Apply `data_subset` to reduce the dataset by the factor defined in `subset`. *E.g., for `subset=10`, a training set of 60,000 will be reduced to 6,000.*\n"
   ]
  },
  {
   "cell_type": "code",
   "execution_count": 6,
   "metadata": {
    "id": "5FPsPU46obYz",
    "pycharm": {
     "name": "#%%\n"
    }
   },
   "outputs": [
    {
     "name": "stdout",
     "output_type": "stream",
     "text": [
      "The size of mnist_train is 6000\n"
     ]
    }
   ],
   "source": [
    "from snntorch import utils\n",
    "\n",
    "subset = 10\n",
    "mnist_train = utils.data_subset(mnist_train, subset)\n",
    "print(f\"The size of mnist_train is {len(mnist_train)}\")"
   ]
  },
  {
   "cell_type": "markdown",
   "metadata": {
    "id": "9CedMagsobY0",
    "pycharm": {
     "name": "#%% md\n"
    }
   },
   "source": [
    "### 1.3 Create DataLoaders\n",
    "The Dataset objects created above load data into memory, and the DataLoader will serve it up in batches. DataLoaders in PyTorch are a handy interface for passing data into a network. They return an iterator divided up into mini-batches of size ``batch_size``."
   ]
  },
  {
   "cell_type": "code",
   "execution_count": 7,
   "metadata": {
    "id": "TrJLlWj2obY0",
    "pycharm": {
     "name": "#%%\n"
    }
   },
   "outputs": [],
   "source": [
    "from torch.utils.data import DataLoader\n",
    "\n",
    "train_loader = DataLoader(mnist_train, batch_size=batch_size, shuffle=True)"
   ]
  },
  {
   "cell_type": "markdown",
   "metadata": {
    "id": "mwSdczxKobY0",
    "pycharm": {
     "name": "#%% md\n"
    }
   },
   "source": [
    "## 2. Spike Encoding\n",
    "\n",
    "Spiking Neural Networks (SNNs) are made to exploit time-varying data. And yet, MNIST is not a time-varying dataset.\n",
    "There are two options for using MNIST with an SNN:\n",
    "\n",
    "1. Repeatedly pass the same training sample $\\mathbf{X}\\in\\mathbb{R}^{m\\times n}$ to the network at each time step. This is like converting MNIST into a static, unchanging video. Each element of $\\mathbf{X}$ can take a high precision value normalized between 0 and 1: $X_{ij}\\in [0, 1]$. \n",
    "\n",
    "<center>\n",
    "<img src='https://github.com/jeshraghian/snntorch/blob/master/docs/_static/img/examples/tutorial1/1_2_1_static.png?raw=true' width=\"700\">\n",
    "</center>\n",
    "\n",
    "2. Convert the input into a spike train of sequence length `num_steps`, where each feature/pixel takes on a discrete value $X_{i,j} \\in \\{0, 1\\}$.\n",
    "In this case, MNIST is converted into a time-varying sequence of spikes that features a relation to the original image.\n",
    "\n",
    "<center>\n",
    "<img src='https://github.com/jeshraghian/snntorch/blob/master/docs/_static/img/examples/tutorial1/1_2_2_spikeinput.png?raw=true' width=\"700\">\n",
    "</center>\n",
    "\n",
    "The first method is quite straightforward, and does not fully exploit the temporal dynamics of SNNs. So let’s consider data-to-spike conversion (encoding) from (2) in more detail.\n",
    "\n",
    "The module `snntorch.spikegen` (i.e., spike generation) contains a series of functions that simplify the conversion of data into spikes. There are currently three options available for spike encoding in `snntorch`:\n",
    "\n",
    "1. Rate coding: [`spikegen.rate`](https://snntorch.readthedocs.io/en/latest/snntorch.spikegen.html#snntorch.spikegen.rate)\n",
    "2. Latency coding: [`spikegen.latency`](https://snntorch.readthedocs.io/en/latest/snntorch.spikegen.html#snntorch.spikegen.latency)\n",
    "3. Delta modulation: [`spikegen.delta`](https://snntorch.readthedocs.io/en/latest/snntorch.spikegen.html#snntorch.spikegen.delta)\n",
    "\n",
    "How do these differ?\n",
    "\n",
    "\n",
    "1.   *Rate coding* uses input features to determine spiking **frequency**\n",
    "2.   *Latency coding* uses input features to determine spike **timing**\n",
    "3.   *Delta modulation* uses the temporal **change** of input features to generate spikes\n"
   ]
  },
  {
   "cell_type": "markdown",
   "metadata": {
    "id": "3D5HSoY4bQDm"
   },
   "source": [
    "### 2.1 Rate coding of MNIST\n",
    "\n",
    "One example of converting input data into a rate code is as follows. \n",
    "Each normalised input feature $X_{ij}$ is used as the probability an event (spike) occurs at any given time step, returning a rate-coded value $R_{ij}$. This can be treated as a Bernoulli trial: $R_{ij}\\sim B(n,p)$, where the number of trials is $n=1$, and the probability of success (spiking) is $p=X_{ij}$. Explicitly, the probability a spike occurs is:\n",
    "\n",
    "$${\\rm P}(R_{ij}=1) = X_{ij} = 1 - {\\rm P}(R_{ij} = 0)$$\n",
    "\n",
    "Create a vector filled with the value '0.5' and encode it using the above technique:"
   ]
  },
  {
   "cell_type": "code",
   "execution_count": 8,
   "metadata": {
    "id": "DxorUvomL1ei"
   },
   "outputs": [
    {
     "name": "stdout",
     "output_type": "stream",
     "text": [
      "Converted vector: tensor([1., 0., 1., 1., 0., 1., 1., 1., 0., 0.])\n",
      "The output is spiking 60.00% of the time.\n"
     ]
    }
   ],
   "source": [
    "# Temporal Dynamics\n",
    "num_steps = 10\n",
    "\n",
    "# create vector filled with 0.5\n",
    "raw_vector = torch.ones(num_steps)*0.5\n",
    "\n",
    "# pass each sample through a Bernoulli trial\n",
    "rate_coded_vector = torch.bernoulli(raw_vector)\n",
    "print(f\"Converted vector: {rate_coded_vector}\")\n",
    "\n",
    "print(f\"The output is spiking {rate_coded_vector.sum()*100/len(rate_coded_vector):.2f}% of the time.\")"
   ]
  },
  {
   "cell_type": "markdown",
   "metadata": {
    "id": "l0E8Z8mSNflV"
   },
   "source": [
    "Now try again, but increasing the length of `raw_vector`:"
   ]
  },
  {
   "cell_type": "code",
   "execution_count": 9,
   "metadata": {
    "id": "Y6uUgpktNjBg"
   },
   "outputs": [
    {
     "name": "stdout",
     "output_type": "stream",
     "text": [
      "The output is spiking 49.00% of the time.\n"
     ]
    }
   ],
   "source": [
    "num_steps = 100\n",
    "\n",
    "# create vector filled with 0.5\n",
    "raw_vector = torch.ones(num_steps)*0.5\n",
    "\n",
    "# pass each sample through a Bernoulli trial\n",
    "rate_coded_vector = torch.bernoulli(raw_vector)\n",
    "print(f\"The output is spiking {rate_coded_vector.sum()*100/len(rate_coded_vector):.2f}% of the time.\")"
   ]
  },
  {
   "cell_type": "markdown",
   "metadata": {
    "id": "zoLxfVoINzdH"
   },
   "source": [
    "As `num_steps`$\\rightarrow\\infty$, the proportion of spikes approaches the original raw value."
   ]
  },
  {
   "cell_type": "markdown",
   "metadata": {
    "id": "eYKsWmoGLz6S"
   },
   "source": [
    "For an MNIST image, this probability of spiking corresponds to the pixel value. A white pixel corresponds to a 100% probability of spiking, and a black pixel will never generate a spike. Take a look at the 'Rate Coding' column below for further intuition.\n",
    "\n",
    "\n",
    "<center>\n",
    "<img src='https://github.com/jeshraghian/snntorch/blob/master/docs/_static/img/examples/tutorial1/1_2_3_spikeconv.png?raw=true' width=\"1000\">\n",
    "</center>"
   ]
  },
  {
   "cell_type": "markdown",
   "metadata": {
    "id": "k8_Lzm6FOcm0"
   },
   "source": [
    "In a similar way, `spikegen.rate` can be used to generate a rate-coded sample of data. As each sample of MNIST is just an image, we can use `num_steps` to repeat it across time. "
   ]
  },
  {
   "cell_type": "code",
   "execution_count": 10,
   "metadata": {
    "id": "nz70JGXqobY1",
    "pycharm": {
     "name": "#%%\n"
    }
   },
   "outputs": [],
   "source": [
    "from snntorch import spikegen\n",
    "\n",
    "# Iterate through minibatches\n",
    "data = iter(train_loader)\n",
    "data_it, targets_it = next(data)\n",
    "\n",
    "# Spiking Data\n",
    "spike_data = spikegen.rate(data_it, num_steps=num_steps)"
   ]
  },
  {
   "cell_type": "markdown",
   "metadata": {
    "id": "q0hATEwKobY1",
    "pycharm": {
     "name": "#%% md\n"
    }
   },
   "source": [
    "If the input falls outside of $[0,1]$, this no longer represents a probability. Such cases are automatically clipped to ensure the feature represents a probability.\n",
    "\n",
    "The structure of the input data is ``[num_steps x batch_size x input dimensions]``:"
   ]
  },
  {
   "cell_type": "code",
   "execution_count": 11,
   "metadata": {
    "id": "ebdP5kFKobY2",
    "pycharm": {
     "name": "#%%\n"
    }
   },
   "outputs": [
    {
     "name": "stdout",
     "output_type": "stream",
     "text": [
      "torch.Size([100, 128, 1, 28, 28])\n"
     ]
    }
   ],
   "source": [
    "print(spike_data.size())"
   ]
  },
  {
   "cell_type": "markdown",
   "metadata": {
    "id": "Cnas5Q89l_10"
   },
   "source": [
    "### 2.2 Visualization"
   ]
  },
  {
   "cell_type": "markdown",
   "metadata": {
    "id": "oVFuIXxMobY2",
    "pycharm": {
     "name": "#%% md\n"
    }
   },
   "source": [
    "#### 2.2.1 Animation\n",
    "snnTorch contains a module [`snntorch.spikeplot`](https://snntorch.readthedocs.io/en/latest/snntorch.spikeplot.html) that simplifies the process of visualizing, plotting, and animating spiking neurons.\n"
   ]
  },
  {
   "cell_type": "code",
   "execution_count": 12,
   "metadata": {
    "id": "4TYFlc4_ZK-u"
   },
   "outputs": [],
   "source": [
    "import matplotlib.pyplot as plt\n",
    "import snntorch.spikeplot as splt\n",
    "from IPython.display import HTML"
   ]
  },
  {
   "cell_type": "markdown",
   "metadata": {
    "id": "fwWROIkdobY3",
    "pycharm": {
     "name": "#%% md\n"
    }
   },
   "source": [
    "To plot one sample of data, index into a single sample from the batch (B) dimension of `spike_data`, ``[T x B x 1 x 28 x 28]``:"
   ]
  },
  {
   "cell_type": "code",
   "execution_count": 13,
   "metadata": {
    "id": "ZZxTqqOlobY3",
    "pycharm": {
     "name": "#%%\n"
    }
   },
   "outputs": [
    {
     "name": "stdout",
     "output_type": "stream",
     "text": [
      "torch.Size([100, 28, 28])\n"
     ]
    }
   ],
   "source": [
    "spike_data_sample = spike_data[:, 0, 0]\n",
    "print(spike_data_sample.size())"
   ]
  },
  {
   "cell_type": "markdown",
   "metadata": {
    "id": "lJJyPUiuQ61x"
   },
   "source": [
    "`spikeplot.animator` makes it super simple to animate 2-D data.<br>\n",
    "Note: if you are running the notebook locally you may need to install ffmpeg: e.g., `pip install ffmpeg` or if in a Conda environment, `conda install -c conda-forge ffmpeg`.<br>\n",
    "If ffmpeg is not found, please uncomment the line below and modify the path to your ffmpeg.exe."
   ]
  },
  {
   "cell_type": "code",
   "execution_count": 14,
   "metadata": {
    "id": "4QVyvj9PobY3",
    "pycharm": {
     "name": "#%%\n"
    }
   },
   "outputs": [
    {
     "data": {
      "text/html": [
       "<video width=\"640\" height=\"480\" controls autoplay loop>\n",
       "  <source type=\"video/mp4\" src=\"data:video/mp4;base64,AAAAHGZ0eXBNNFYgAAACAGlzb21pc28yYXZjMQAAAAhmcmVlAACFGG1kYXQAAAKvBgX//6vcRem9\n",
       "5tlIt5Ys2CDZI+7veDI2NCAtIGNvcmUgMTU4IHIyOTg0IDM3NTlmY2IgLSBILjI2NC9NUEVHLTQg\n",
       "QVZDIGNvZGVjIC0gQ29weWxlZnQgMjAwMy0yMDE5IC0gaHR0cDovL3d3dy52aWRlb2xhbi5vcmcv\n",
       "eDI2NC5odG1sIC0gb3B0aW9uczogY2FiYWM9MSByZWY9MyBkZWJsb2NrPTE6MDowIGFuYWx5c2U9\n",
       "MHgzOjB4MTEzIG1lPWhleCBzdWJtZT03IHBzeT0xIHBzeV9yZD0xLjAwOjAuMDAgbWl4ZWRfcmVm\n",
       "PTEgbWVfcmFuZ2U9MTYgY2hyb21hX21lPTEgdHJlbGxpcz0xIDh4OGRjdD0xIGNxbT0wIGRlYWR6\n",
       "b25lPTIxLDExIGZhc3RfcHNraXA9MSBjaHJvbWFfcXBfb2Zmc2V0PS0yIHRocmVhZHM9MTUgbG9v\n",
       "a2FoZWFkX3RocmVhZHM9MiBzbGljZWRfdGhyZWFkcz0wIG5yPTAgZGVjaW1hdGU9MSBpbnRlcmxh\n",
       "Y2VkPTAgYmx1cmF5X2NvbXBhdD0wIGNvbnN0cmFpbmVkX2ludHJhPTAgYmZyYW1lcz0zIGJfcHly\n",
       "YW1pZD0yIGJfYWRhcHQ9MSBiX2JpYXM9MCBkaXJlY3Q9MSB3ZWlnaHRiPTEgb3Blbl9nb3A9MCB3\n",
       "ZWlnaHRwPTIga2V5aW50PTI1MCBrZXlpbnRfbWluPTI1IHNjZW5lY3V0PTQwIGludHJhX3JlZnJl\n",
       "c2g9MCByY19sb29rYWhlYWQ9NDAgcmM9Y3JmIG1idHJlZT0xIGNyZj0yMy4wIHFjb21wPTAuNjAg\n",
       "cXBtaW49MCBxcG1heD02OSBxcHN0ZXA9NCBpcF9yYXRpbz0xLjQwIGFxPTE6MS4wMACAAAALhmWI\n",
       "hAA3//728P4FNjuY0JcRzeidMx+/Fbi6NDe9zgAAAwAAAwAAAwG5pYX/dnfziCAAAAMAdsAVr+/g\n",
       "hHykB3/JgjRY8AzRUd7vzLlY0XhabljQ+Z7euVXbjp0ArnAiuj/HrkIXPkHgTEnk619p0BUUR+M4\n",
       "1Ga7mRTyQ9gOiXTktIcvV7mXX0mZn1G+HOAA2E4WbFy2Qo8yTijj6CvuH/jllC38CfI80AWPG8HK\n",
       "TRJSCv0eGUE4grfVH/ztY48xpagSFD3zX9UKftkhkYHTjV1YdYFb7JX/At8HVF7xlt5GuvfBDr3K\n",
       "fZ66JCE59ZdKRCe9IpZ7gGJkPji7Y/sjlZttlnUYqQ229d2opLLtmrf9nCgem8+SOG++i0XPpv/A\n",
       "2Yh5MqD5Gzh6SyZEIRjLcdznZcSE5vfrnbm7a35xJdKv46mZBedSy9IpeBY/nnvZgpY40/OPrKbX\n",
       "2iAuWWTSQ4lg474S6h5WEQHy31pDr1H3JxtaHJoB5sycC/JtODREpvyckPGRwKzYduq8nGPAx0ri\n",
       "Xd9vSieHHd51++gktxx9k9QzCzXWWjx+Ay5/rVdFFm7jCf3kpI2KYvisYeXgkTuIe1riMze+m/F8\n",
       "mJllXRDBOQNpgByEPGAMokVDQYYv4x6+Y+1gqNNQeEmbtnQnXAjTc/bOnXPFwymLrRTR3vaccaBV\n",
       "z9ehQmegwhvr2GIW9eV5oY1dh6D8vibkRKhGXnQTSD8Qi7zGzMPrdbIkcRrJhkSTq4E9DSBA/ARs\n",
       "1YjqE1/H4OAsqGh/YRygRgTpudjtpvAeC0X3Nqh32Hzq5wr6OlEMKj4nr4mioSU5UZApWBLo1u/t\n",
       "RBZXKMpvteVSh01/3xSG59vz23TlQzBYok9jDKawsT0mAhZghSLU2oMQQD0TVOXT8xopXnbyFqog\n",
       "RPOn2EQ+8lyo/Vorhor7+hAett+wpiN/USYkvFcSJEaK2OakMAF1SSDccpXDhEL3pocpV5zOFco7\n",
       "4eOVyfPgAQRyFsyi6/52Bz7enNfGSQY+HJHeYmYqET+14yb/5xa/fKrERpxxq40+grN4IEKO8Xts\n",
       "pG4AeZAWJS9JX3NnzqC+Eha+6TiXLmckHIJFXGWrTS5hfrHVoZslCQXuwNK8FETcU/sXAh6FV6bl\n",
       "arbSTGC6kXtiKczujFLMx95GJGLo6DWNh8cg7dRgZLU5ogMifOBYcnd1/L2Tz4yuVvQluazqjFs1\n",
       "ZUZajXPfdJVrxaAoYa37lJKvO1vU8ULRaeqpoVOSnztmUHQi9WMufzieOakQxAFZd1lDZkmC2Dto\n",
       "l8Z/HY9jLwr+oMjHAyc5iOnE/RPMaN6t887Kpgx/dFMbTC3q3RmcaVjW5RRRPc0l90SCFiul1JSj\n",
       "fshAawhAhw1rExpDAHSYEtp7i31HPoJrafyvN0b/+L/222IFAkK9WUGZ7knMLc0GHQKmrUlOa56t\n",
       "F7JDEyxfjdREbcS+lDLHHFro70IZfl5xxvMDRGU4+PsPoMnN58gmrgMg9w5GhnAtjl8ftOK2h4gh\n",
       "Jh98n+ur3sb0zVD2nnI7NaIEC/7GBq6Wi89jSXYjb76JQttSuoy7sysCkQ0AN18IZe9ta6DQKFFi\n",
       "rzq7AJbWiGe77Wih5l/KggKdB6PTho0jAtg76ul7r/U4Gx2AQ0KRwy/hycHM9Hbi4cKVZTGz1tk8\n",
       "Sx+fZcYmnqAQe5lf3ZnOmFzKI6Nr1edv8xbzKRvhs70c4vr2gi7aEk1pp4LugYwnO0IIDl0d/UE4\n",
       "ki5K4FCZDysSLAEO/ovoWXWJdCtEy7BsmJCHOkcGsDoW3e45uJ4OaOChC/S1WSV7fy9Y0KIULTTc\n",
       "FlzA1dbMvTmbLPvZOkn36TOqTOfelQ5xKCd+NPV0sIPDcN3qNnr9+XQ6uolRvPjiwcPm6324B303\n",
       "3srBuntklveEsWuu8N8id5zHHBDFW4JUgXv4qTl6dTfrwLYwl4eweR15rmeXMP2iVwuZEugeL93v\n",
       "91dLwpB1GJgEbwE1hBUiIVzB+6lJKfpGCZBc34fjktXEufpmHl6HlkGlb3Zp58nTOIih2jUI66N4\n",
       "YxwqR3B9Wpj0tf/9T/UcmldE48ws43A4pZex8lZPk11IqF2Tx5QBW06kjeIJu7tCVmBfNs8Dj4SL\n",
       "FcblB3X/CEFXx7I6VAYWv420ueOjayS64LBjfN2eYBGHUFHvhu7bCQ5/ws3v26eiDzUj+yerfwl+\n",
       "clADcBn5lWgfhNGGgoNbrGHJeySewyQaSNVKOkfWfpm5J3ukWdv3k84D4LdNXiaXeeab30iFAjm2\n",
       "cMz3sGMvKYLWSQigavLCqUk7r4krWcdMS71soWaFNEM58wYI0MDvUZoClpVQ+BrpTX5VAOy6Lhl9\n",
       "PvuvLQ2ysDFDLvYtMGpoeV9pEYknZeNGgbQxMwBGiAw71xLb7w4+hwn4Oq6yRQUAl4Ukolo+lIjR\n",
       "Gr+ezZpOeXQg+N7L0l87pAV0cVcHbt+rNFfwuMF5GoPThDWOjhG79BOI+9qeT+xQMoKM5FPMuxfv\n",
       "DebtQxxinlF+e/pQB4cTpDdSKhykE3RWre47Fa8JeHiJFgiHUpsmGMBLpky/m6MeXrU0IywJE0Bk\n",
       "WR6FeZm9CQpXzJ3hiOQ6bHWjMrnxxKkcc9v9a+8lMZi7ikPhQNLmfpyGHeFqiKp1x2mMFX1I/BlC\n",
       "Gzxy4GDkbWVuCwQacEBJ09iWF2uzBWKYgTfOWb+s2PL/IjBG2opzfn70yX4r2VAgim9RC9iKVZf9\n",
       "nEZm92voKoxUUZtzwV56X3zzmwMfBtydoozS6P9nlwaG+ul6KWnJmz9usW4nUKutX8ITMNHwKTR5\n",
       "Jy3OYw9Nn7VfMQFFz5j5PSIIsCjmvT4mrEiZ2Oj8aEMA0rkPqADWC7frYmqXl5qnXIpgOgVAchta\n",
       "Tgm46amEfKIqQDvuBH5C9TZRJgP9kqqKws6eZOsqPQfyh+0q1EWGREn+7I0fVEPnVt7oTTV1HGeU\n",
       "3P5byQbGm5ewNup8fUlcSRL6caHpuL7uybZgS9/MtzYnWGiVZlVr/NCuQNETfdQEcZgp0f2htJ9M\n",
       "36aalUVmaEpcHQknTU+HVxlsTY2b3glPoqesljpuJGt1/03blnCVHGg0mO/qeZ3eqHlm6iaWG2eH\n",
       "zJgS0hJhyyEoKpndF0jJOX6il47WM8mxdPz842toPT8GmtDD17Z3Ph2AoYo+PwNk9gCt7JaWrn7x\n",
       "vMqVsla3G8Oo570yuX0ZcC8omzsWMZPiPor6O0WgbGYWCbZyQVr8OPo0cJLvmuqhfnke4261uQYh\n",
       "XOXW2jQGwdhIffl9fiZ8eY01eqETpg/R69LQsbeWYy4YVdrOjEaXodfVoAiPS307PhjLCrNqSvAi\n",
       "w2c0HrXOByLoyCQAlkGG9SPlxCevaXK0TQ+f4aIAbTRKo1n3B/xhcoxEo2cktWiDvwbcynEdp4QF\n",
       "pcXOV/GIzEoLAXWqOkVY3SJ3ixvKD5XsdSbVdX3N5rDm8kr3ki/6qmruUDmPj44qHyhaGHPvk+4H\n",
       "PbJ2gmjfSXV57cR4d5qmY8W2pscC+tm1dP2M57X5IMYBio6yHXUDMfieqCYm0dNY7liqxIoNhEvm\n",
       "HusaG1+jY693S4/EB/8BCtqWv0K/S7bKN1GCpwLq/UmznA0XmsFSzPQEaqM4AxLn1Y0EihlWFvA6\n",
       "ChNvCi//EcwPsy2UiaL0WwgR5Ey+kxQ7GBnd1HexCWrC9ErShnFWZK+s7JkjTNHqFgkxkuSlJHaf\n",
       "UiET/++zGI8Hs3Zu6VWbVbqTMRta/wfaaicrv9T5ket0nDWmLBED9KNlAEAChJmJB3zplzKD0Xfz\n",
       "YKd/Pb6kDQ9KdoQaYvKLPNkxT1e0E23Dp7tU7cwTmsob/Uyq+hkV91NXRPmbgz7r+R/MFo4vgbhg\n",
       "CerMuHAnjjrMqpFRBUOMhz0iSigREnQShemJ8lAAAAMAXhTpsAAABs0AAALfQZokbEL//oywAAFC\n",
       "3x55EVYcAFpkB+23GooXbb2VxBP702XdOUAy/6qKOKZLStH51p3bi0O+SXMeZqnP9xpWAuKDWPU1\n",
       "Ae+BfdFHw0THjt3fje3752YhIQPeRA7Gmx9w70du5Z5aoeCjcXlsX5qFL9xAxY+Q/wigd3RTHgHz\n",
       "gr/VxIc9heH9LXwIzTeX4mAIAAt0O9rE03f/3P3HrgMn9drmag19bFEIuz91S6ievNRD4xV4g3UY\n",
       "0oiz2rSamDOaxblqe8YJZQtD/KxUT6oP8SqvRM+heWpjBb5F2kzQnjOUfPi/1lGfKB1mBHeQ6ZBv\n",
       "XMr6iCS/hw9CA5+3CtIts0RdX9fpz7aYuModyby1fJM4DjeR/7JbdiQvoINqo5rnSwduRkvaLMIy\n",
       "D2DIMvG5mVMkBDUcTWTIit4P8Ybz+o/pYywtbZwTVKwChkjgcNZrpYSiwHwTeLFVV4FWXzodau7f\n",
       "K3QZuC6fE6WXrmlJ5CMDo5WQLbA5bv9hThuLf5yRHkMtlkUQEru/Tfv9OAYU+BnkcK1uUD+fsAvm\n",
       "0t+d4kV9fFEV45sB6yqUfvBVJEqmkYYPVJVMHV4QZ3B/g/QZmVQ2DtdsitlKsyl6vfLPQqax2Ed3\n",
       "6Bj/jwYZGaSiB1qxtmX4xmJkhGHy7tvmq+G57pDtyJfnv4rUx+QgtL/5q1tyrghK5HP1gtHSlzbn\n",
       "msxEYdzod87kqulp4QHRpPTJeSi66Q2NiAc+DDTkdSbKgLHI/xiK1+oGpTxq4NYKKCXredUeZjtm\n",
       "uvA9Vsp76YArO+Se+Ov1X14Ybh8TePUnT8k/xwSW4uHX0BC9fYQFkDQtuUrk32lnZ4sczFO8gfud\n",
       "vT7B8xoxMy6nQsW3X6Oh1EAL0fmysXLV4dGGvfjvKGicFfqC4AC1aPPewhwi4nMWUiRzdP5X0UjW\n",
       "77vfQXeXphAjbHIqv9rJlimmiCu3lzewWJ5tg6LF7bFpr0LpmeAcAAABoEGeQniF/wAAMi103tMy\n",
       "e1i8bZnkGg90AISxUcBW5krLKnfuLdz6B+weecsXoVdRzlOeCB/pSy1tu8B1qUnRyvivm39KAyG+\n",
       "Y0SuiwTdxaMDcS0kYL//6wBBGJP6nKiuPWJjqay3WKdAI3BOEDtQqwQY7FkL5hykXlV3CEmGnVcr\n",
       "BbXUYlKbP4pi+f0HREziC194be3s8YwqaZZoIpMo5f35z7g905ZYc/Xs6Q1ef04wjtFM0uEf3cAD\n",
       "4L/MVXWb4UH/I5uIZCkV3/9qTTz/fg22Otx65QKozkRg0NhBjXrlkTMJXbDt1uBcAiQ3d+ncDa0S\n",
       "gmiW4/6kSpVzFORamc8s2MFkAfbjZw5wU2vhM5wjZHOcYRx66L8WEiJBaMyeK04BcPOZippvtTyM\n",
       "JSoXAawY1toJrJLmTyL+mLe/aeuzyflo6i+seA5vMKr/6tCXFNs0pX7v4z3zEV3gUAOW6ZjVi/Nv\n",
       "GL7Psf/k2ST9fEwldlLVHVKyv/k8O8t+apEFaNhbr/zjl1lU7rGSEc/HMiqsxp6RKTMMaYEmbPJo\n",
       "gDBhAAAA7QGeYXRCvwAAQ3wISYRdWA7ehkZNnWY0ZdMOVmuUTYvOI++UAByFpugbO/qfjUkLBaOr\n",
       "LVwg8ZCZoFGpHrvpUu4m7vVFp687C0VSLNE8+cn+ygWwU352oaonHbw0O/v1lVryCHzIkaDPR5+v\n",
       "C9rNNT1MpLO2hXtqt+Cnd5/ZX2xZ5+jjKFL4mdKKFHzFhIkMClZe1DAgRp2pxnHLUIl6cU0jo4nu\n",
       "EGCN7eLrTwYtAeYfYd/inKgHLiU4yHcZ/1Xv5gnrmxNuQLhNMHgm/Fn1+lYNBlcxST50ep/P2/hg\n",
       "vsKS8OAc4yTuUjWsLOUI2AAAAPsBnmNqQr8AAENkJyP0drHxRai19V1hYSh9kabw5gd+nv7d8xn2\n",
       "V1wX/5yx9YmqAC6HY4/C5vH9uhnEeInJwpSxPHNdsGeItQWLj0SQSik4p2OphbeMdu5Kz5MH2l5T\n",
       "UiplIPFBdZ1pW7xQirjR9Zi3FmpLnxhXBu/K5V6lkeo5jukX+WQfwFZtf8gNlYjitXZIuGR1+DqW\n",
       "KDuNU0eRdXG2NwAt2+GEkq5Ylx1FU0B/3ZdWyObNiGTfo1ESDJu7hG+K5gkwF73iBwtKh66CkgMk\n",
       "5xUhTJaehWim3pNH8CryNAuDc5X/O1ZnAlfUJbP42t7uqZ77tsqgDCeCywAAAhNBmmhJqEFomUwI\n",
       "b//+p4QAQ72NBpZ04DSW60bErjLY7uXFxgZquPkEh6yXT3vrcgeFWoLgBGZfsl4DiXD7CFCH1HiF\n",
       "KSc5JMJVmv4sBkQo66gH32+jK2jCG+O56Tgpj3/yCDQotWzk5yh+GAAAOT+1AkfNdm7hnGvKOR/A\n",
       "Ppqv1X/dpG+iB0tKJ49o+khgNc4O+BWwgXtTk0e6iam3bi2BH+QWsWrIrWvRqo4o2oS791+/hiKZ\n",
       "JtonIErEVzKbbZNa6IrAbTcTnB7iCN1CxNP6Hg/fOYZah7H8GpnLRz7hsp+cAALvyg6qBdBG9JaW\n",
       "QKqQSao3tDcWfArlNrZ233StCoY6FwqOoZMVxNs1kcb9xkW98SZgzqUkwYaYx272CACGshgOD5iu\n",
       "DYeClBtb75cw81OD3kkQTZrJAE5+ovp4B33cgwdgLIF5q5tG0qCRVhP6c3tDWLblGmdnpzMOk0Lb\n",
       "7WZV6o3S9aK//J0EzicmHXLk0qwxi/pZpWlZbT9KJByMHUT/In1JRgNmEXrWEwHPK2LV0POQm4Fz\n",
       "gNofXDXDF+nzDUwX90/LywkAfjt+dveJyYVgjFvnGe+/yDW7R4DhoyiVAukXnlC9WAh0T5tU63v/\n",
       "gEaAl/fGOs19bww6uz+DLnvkcePUoY43kZ6yxISwytvu9AHhROFq4uKosNbUNWtmsHzY5MKj9Ba5\n",
       "IdLk8uq2Af8AAAESQZ6GRREsL/8AAG6SQlDcAM9iLzhY+aPxJeCN+giFdz3CdE+sqnGTAPvUwQFo\n",
       "KfvaPNqu8+ZL9LbNYLavbdclW3JtOK90BKmElmQxOnGxTWRXsFMYPzNpmzcKgbNNEsiiGI3AKknl\n",
       "UvlMauwp2Dudv4HiBDPddaxjjwaclWkH3PkdKVZXZd3rxoHBICZwp2/oUFDWFb4H0pMX7ypChYft\n",
       "p36p3iDkaJtWA0WG2a2WIF4etIUPVHQENzua15P/FUOfavMc9zCtt6Wao6WCYcH4tGEJDRqCRlhI\n",
       "pTZPyRQX5VaNKM/A7GW1toup8M4oFU5ahsnPHVA0KJj3Y7xdm8++QQIQZzIkI7CpNS57hsSNXa6g\n",
       "/wAAAMYBnqV0Qr8AAJb4mpqU/7nLNAByTBvZL3AQYL14Zei9TyCf78P0BBe/F0lAC32pEEGeEwXS\n",
       "hqSL7yuOAOXQ5u+We17EPlIdiPvbbRvN7XOTXeJaICxTzSqp3oF474ZafYtCbgMyKJJ8zcRmo5bG\n",
       "aBM5XFudBkPU8NaAb5VjuGrrPW3tGkeNRipZXLVcM+BxLV5/qNV7fRu0J5/jMJy0dvsollQzxFP1\n",
       "BgGH03tCUuC0q6w1o9fjCqngwVBNVu7ZNzt1QCP7LiEAAAEGAZ6nakK/AACW7AArI1xXGxoALy2G\n",
       "zXpWeZNpEfwdFgnm4trjFcxByszBi1Vf9zIB4a5qoKWYf8o4pP+Rn/x6tmUf+XXAgR/MI4DrgnAQ\n",
       "33gBK937PAdiBut1inehr4qXprLdUZJ6c5OlWpHIijKLzPStH+UDTO+V90v011wjaPpF6upxMXcn\n",
       "QKHyRFMLrmCrrtOS8bSTMoe/v6PNcT5+TKuW/hRR/HFYjjE+aCUHPHWb4J+Q4CYVKdhBsTVgNjae\n",
       "oodOVjZNt+Sac/CV2rXIMvY2u3KGfmfFlirG94BeRfgqyfup2Hc6h2YU8IdLEovGxk14ykyki6IB\n",
       "i+Ey/jVYJSSyKVUm4AAAAbRBmqxJqEFsmUwIX//+jLAAAtv2bY/qLAAh/WteegcWPHwQq2/9XPkd\n",
       "f3U7NVX3O+l5/5aehGfPs3JKWonAZ8F4sI4Qx+lBvT4ySm0XBTZxrsyNHjVgc8taQbTft01vFvzp\n",
       "E1xxXiw2AhGqCF+M6+CFp+qZAffucwjocrfgjps1gjkYeepI3m0ClUul2ipeygay7N5IS6QXr3MI\n",
       "hP2oeq5atuo6z4ZvVuk4dWgai0GSYEn69IDJTwth9K5pk23SnwR1VMHG1wbH7fbMDAr3kH61BXve\n",
       "P5a3WQmAEUsI+EDg3wuYkWDsKhr+QlRyD8FbpJ2UXWjqnj8QwCSsucrAKsfa9jZ/kczgPkpCI35f\n",
       "8uUpuLORvjx/GiPhdWTF3r/4SCL+lcVCXR41vlHNTnMKS4qCKF2LxRAeSs/tIOxBmQ1qjWKeWknw\n",
       "UrUyCs9+7XQ3rDg69rqVw2te+0yW2z1pCU0+Cz4IaqKD+E2aqMl2gl637nb+shDD8BM2cVK/AvxS\n",
       "qHJHD7kTWNueg24EktE3UhprZAvD+RFJRQV0AtZuSG5RkPl5tVVNmHc8KENyxtrOZosQQCBgAAAA\n",
       "6EGeykUVLCv/AACW7ACYvm2HDH1Xy6ZHnF4ALzrcNSlTL13lIOPrRTdWkHNmKZKpgQPkgnFgYSVH\n",
       "si2NxYMqFUoMFOH5fgcEHxkNq9H80OccUO6fz8xr9QUab1eSMou9mGEExacPxYJ4SdZHP+DzMcS7\n",
       "dhz+SiqKxsdpaZnglLnOvOqzjCs/llVREzDanqF5hJxJfPeUROlqcXmGHwPHhznXBIvFVeFC8q2u\n",
       "Jn89sZ/ioIkG9tjA8QjDER+l2a5GHJIk94yCUcbLotsRQ9rUFvUIM1e9AdUbWiFstlT26IVKanOU\n",
       "X5dYD/EAAAEsAZ7pdEK/AACW2egjk5j9kaAQV2q8DXQQ+K+22x231PvumHIf35OgYBQsfgYxwUN5\n",
       "1xWRP29qBTUmxRPQ49PEgx36u5FsEj7ztHAtObCCj1LHD0hLloqlBgpw+9y4X/t4ERQ/Xv/xVagZ\n",
       "p9+YyIXssTPyeLLnCwseB2AdU+uxpEyF2L5b+HMHl4iayFkIscXnUydRn793v3PqUUfK88vzQg+F\n",
       "tkuULyAkFttNxUCpjO9hB/+DSA6fz38YM+HGwhxinF6/dO+f8EwF7tIpCpOcwKE8iSX9/GTSeLN7\n",
       "/rcAnavBkPxPZhFLbV2L/kyukVQ3qvt/NB+PSEuJIFo7lq7JBq1oyPwyl22TB9eyiK1s7w3GbkGR\n",
       "Ceux8DxN0DYf04HBhRPwvyGL4qv6vBiwAAABLAGe62pCvwAAlskBHJhKVzmpCADfzi3WcMUvVA49\n",
       "jRnE4IZSn3enzKtLcTVlABvFpugbO/qY5T+iCZAGp3pcNS7VnXO1xdeDMxDLQZRFH/UkobmpBz88\n",
       "4KpDXFxhEb1G0zXcVWYy/rrgmB7GK4PxDFBdfTl3TeFNkJM52gDvWLksn6/l3TZhGboqS1BXuCxS\n",
       "mOY1f39OdueTLYuq28U09OQg0Vnlo6uC+kQOE1k/Os7NrYw3M6zkOXCCmodnUDFmNokOzCQgnR46\n",
       "neSZzUWCI3Rpk+NDxb5NLPpNZpeUnTfO/04DAu28/lns/+CQ40dT6pu8w1kqBfjSc/jvcxzQSRp/\n",
       "J3S1minnZbPTV94hff+rDMzkH262GwEjkaMjN6T5GrfNJuVkDxbvqIaFlAAAATxBmvBJqEFsmUwI\n",
       "d//+qZYAAF3Cdb9QDgKYa10My3IAC1XpjAShDJwo0zmIeFNW9H0LVV+58jMK+RwZVPW4pWWH1DVS\n",
       "sR385U5CVcqpIAh91lA6g7jwBed+l/hRqyhVDhSiF7Pa+a+ZKzXVWPUR1ohhCTAyeHA3UBf/qrhb\n",
       "aqzIEcG3qlB5wc8IeaF2w+3vfSqNQ8soQXOOxSehOydbMG/5xM+q5b1JF9HfK91zPqxNcGpyOwV7\n",
       "pQ4NkLZ+/zcYzYVa6U/qdsSvRFYrN5FswYJXRAxmFpde6H82eChZmu5ID/FIePqBSYv6Nb7GEZc3\n",
       "z92pBa/2xagF9iC3ZohlsQkpt3Aup43gE8JRhd9OtQOwFQ12RecXsG92mb269LYZMntsUqQCn3xV\n",
       "Oq6jy0g2/ANRQybIfyww902au42BAAAA+EGfDkUVLC//AABulObSawXeJbCrGkuWivU3EGi08R0d\n",
       "10zryfgcISvQNCtUoCOIFYrrZud8lGTGRxDlCYLgo25us4+PXnNJ93vIVABom6dt2kGtCTFE4zaz\n",
       "9WGK+HffvX4142mlDGb/s2c+fhqLQcD8en5WtmafS3oTsIZwIEVTVF7diO9dayoR+2IDZanZxVP6\n",
       "kCarY+NAZGjjaIKrziYlz9ggeoJzUSbDeVERMVnS37MQGBQ9xVT0Bj66SDAZi79bThODuqsJHGys\n",
       "fW+GmzSKn/Jsz0riBr/biJfAoRUxOMUDWFzIbDhg9DWblYF9tzuJtl+fGB8xAAAA+QGfLXRCvwAA\n",
       "NilRgA5PQXQ5nY653AIGO8jPa1vZCVacvWUV9MjuywxV6tks2rjEcjMw7WvkVrruwuFYXEPOXY/C\n",
       "UKxSJw/+0IiDIutGPS8Xtumu1wgG7sbqNMCxBA22LQRZh+n4JEjaEk5W2y3nz3X5rzt2Bz1js876\n",
       "UQ/5lWHuCasNQY4Go6Ub+NuEmL/4tmUvEk5+1PZuisrpoiGX4oHF5GGZr6XxZ1ef8Eg9kXuv/qdD\n",
       "MFbnHieTOX1nWjWz107xem+yUbiabvoCuoWES2rXmrbDbbhZEpudaDtH9v52zo+kfadEXJHS5pyI\n",
       "kYutejc0oBsaXLxdwQAAATsBny9qQr8AAJbsAIzJ6HBUNsD2zWOOW9EkLOXRYmW9B6iBardAAmdq\n",
       "+pOcIeiJvNcLaX+4a03JyjDP7JQZpUHAbrdhxUddCR0/OYZqcD3Xa8QiD60O1WsxgAlEPInG0EjB\n",
       "CY+B3txVRbkfGswWhmWvVLzLoVYJObDiKPur5is5bYsOnnP5dgf6+/uxdl+hJpoxby2OmYKw5KIo\n",
       "mPm4KmTfEbgtDTXk9YD3wSitpryO/RISMKDCQTDtay/JAupikR/2EH3hrJ0d7gzLPMhfgJ8t4zzc\n",
       "FVeUe8tjip2fklDEoMq9I0ltJ13iDoB294c93JEUXAPwaW3WhEYKHW5C4l04HgkAPi8eXxXQdCWn\n",
       "8XzUKwhG+5iOxVTxzbsKgfSO0o9Aj4r/c5q/g3Q1a1upQ53NMS2zPe+KguagAZ8AAAIuQZs0SahB\n",
       "bJlMCHf//qmWAAAqYI0vja4V6gAd0v/8P28ofjD1TM52ALvsHWr+YVgf+QwR0Ldhje2N1ezDEIZR\n",
       "K8Ht//XhBJqCYQAIiN1oLoVyzxGr7IUnX5xVtRtK/JKI3YzSCviZhTiFaz4vKi0CkX6t3C9KxajA\n",
       "bf2Il2xyL8MNPhl7QqN+y+yWZo2E1qFQYRZM8ouNC9oJDaDGS7tzp6kw99CcQCu4yt7GrZOEL9Ab\n",
       "6EI4l3t0gUU+qnKElr9sU6J+E4NkzZLXfqzkyZD+BTyAuww2aVNepThtwkPlMmSbs9bIrIgQnpGM\n",
       "xF1lyUKqpR3SrppaRYfAazMKgcUPAv+PArteEbSw0TvaU+9iE0tS/gVrHGNW2yiFKkSDZY37wmkw\n",
       "XX+Fst39uyDFbdku6bmkndX7sC7FAsvH4j291U5snkvHgequewkVjUGFh7RR5NRSGAfmbKxtXz+Q\n",
       "bhtY5BkcBsy7zZsxegR9HpVj4YvBMUr1C6C5KWML8UQbhxdy9iMk6A/b5+rh3rxmgLXEM2Mfnm5V\n",
       "hIx3o7mqYQYxjDLQarO8P/hg4sHp7rhj25OGInya7uMkWeCFvYZpIopoS+MG464z467jdB8zU09H\n",
       "pLzhh6Sppbnt08WvGNWwcD7rbE+6zorN+Z3Om1S/C0Nw+aGqEyd9Dl/1dSbAu/JnC3ONbJElVUZL\n",
       "4JI9om+xeqchtrfwrNHWdoshT+J9jVNLDuJ2LoccOkreQ8lHLBHwAAAAw0GfUkUVLC//AABuojB6\n",
       "6kN3YpseDPztYUwgkyYhEusYGlP7OAEHUixnfL0xhNcE3xDxSvQNY0JHrKbp6Sj16tX9ZuWcU1Gd\n",
       "YIJEDY4503+Cx01WW8A03M7B1B70T3sq70FijADKX8SzkqIuxCxCMsp2+jxp5hfbbG7DrRD3rKig\n",
       "CCJGKok0Rn9TdifiOTIyD4MY6n7oz/lzxsrALUMu+/SKzrTJlZCsrh6qGnZV0YHQT6iVrMH0Ru/z\n",
       "FCRAiYeVjpZiZwAAAOoBn3F0Qr8AAJb4mpqU/7nLNAByTBvZL3A25f32ho3DQ8nOqd1cezndT7OA\n",
       "alh/Tw8p3/IXiZKJ3+lo2rIJooY8TrmaJtjOEwxMTzC7aqKw6gk8c71uvVVorhprDxCIxFrZk/TM\n",
       "hgQvArri3ekrnxpVCEKbvQ2dt4AS88l+qaaIXt691NZYMItS4uwCHAERHS+pAlXkesEZkReBML6B\n",
       "5eDaEGBavx7Hlt2s8tAHif6HFzyUoMQnAzQ9Ne+L5cAbmcPoAQkKwwiYIaqfneBPQDbStmJeezCR\n",
       "+Yuf5RESbGE081+fZXw4PAIA1IAAAADuAZ9zakK/AACW7AGY/wnCTK9oTTfU66mJqRkv059lz1wg\n",
       "3U1OAEOWaBPXxHucpuPq3tDfWyvuk3wbEdVFtUITtHIdWJZdWZcr/QbrXdPU9iQlOcH/4POMXMGq\n",
       "AB+BjsuV2WATzBSH6YMfl7+QJa5dOJtXgj+BdAlio93nkqejgN2JaM+Z4qarbIEYrY1WU7Izt9Q0\n",
       "LmrRPPvYEGK1pbcTn0aem7y6VlBAJcVQKiXvXTolky/liojuL68gZ3WUlsvzQTfGhXNGRBc7Lpv+\n",
       "GJpzXJ7F9icxokZ2YaDcBjSDFrr+kSF0Haw1EzonhFANSAAAAaNBm3hJqEFsmUwIb//+p4QAAFQB\n",
       "RDOGRlEON3BtyQA1iblZSvWXj4r1zb5XG38QVzrtWjdKZwWNNpi1/ydVkos3i4wy25v+lfEQ9YDw\n",
       "SvZI5Ti7njLkuqt8XFDDrKrv8cztHlFHcKZCcD2odpqrzyzyu4P9lNPJjm+URTDDurdmXQ/tpHZ+\n",
       "LVf4HI9yJSBhUjML30DQkw6+ECdN5+0gDoPSl3U8GKPldFvedVAQSsUzB5QOSiLxNuJG3/eeGZle\n",
       "0kfOeXq0ZuARk6Md5rg1iJH47uGI4zBXLaQWYQZDP3eRvw+q/k0hn+PBDH2wdx31Du2dhjbwyb3u\n",
       "3QzuOv2Ggqwa14y7QTnFnnbp6QFnR34AHC1xUg0ribbOQt4E5zp8yXK4cnxG6C3qUq9tMplYvK/2\n",
       "JhsCKlhW7gq8tFGNnnoQwTCxcRV+uoajyK5wpSxmbd8uFzDTcnYAj5VyV0ytv3eSblDbvDeb5sdG\n",
       "5xxkt7z9wCoucjuoZ6+4HARMxppSu2ynE5NdH8wtpbzkKlCyfptU0toujMHgLLbceilaqeYrB9wB\n",
       "WwAAAahBn5ZFFSwr/wAAQ2NvHmADaSw4OEkkeI5Qhoyt50b7NQ/tF7u6Y3yZcKN5MtALD/9FMQhU\n",
       "8GH0rDv9DgNl77dP91wLQDqBq6v6faEe/MBzjtxMM94NHpi3tLIEYkvJTGHLbqH/FWq1j00ePJdg\n",
       "wDhYQE3Ly+zt2gf8gn8/vKBheq4KjikRzzWXwjyg8wPw0mRTa2UmpT3Lh0mhoVSUOdCXEnYNQX5H\n",
       "bQHPpxlgjvO4rUF9PpzQOQg+mK4WTSJhWoK9ZhQ+a4Q0Y1wBkKrO3AvEZMX1VYaMwbm+Z5Roles/\n",
       "dE9Wmc8HusV+EImeUD3dIMAHuRqX9X+XAt+loq2PLIEU2/d0pKkXVC8cr8YNfDqTIMEE9Au9E6pK\n",
       "eCuFDvtxlbU7bFZF3Hmmw0HFKv//wiOQGJfXCpZ79EnvZWDIFDzVHmJ5Yfll5ipSYtvHGqB0+u0u\n",
       "90K+HS1CQcngZdCabL42ig/q5aa7lJf5L6QQcWJjhzIp4Y5qnFCd2qE/5whBueSBD18HJjuT7NdM\n",
       "ZYjoTfJsStyx1dSd9h6NulRGx39V+bejAm8CZcGDAAABIgGftXRCvwAAQ3v17ELHC3Q5b1NbUFzu\n",
       "6cisZHf9RYFdHACDX9GSPWHAnBzZGZvw0LkKMx5EJZIU1DJfwvfov1w8kdYwDLWrJHZqmwnlriXs\n",
       "/6jhpP+7q8B5QLomrz3VQ+Rq4JKCvU0Ma/B1NhB5R/sxrYw87s/nBdnOd6j9eu+7t80o/dKTwqhx\n",
       "+tYekhXajTnREZevSCH+T5zuJzFDzaOLRIbQGutU4nr6+LUYrySvCIbP41tdn575SsXWZd+KmwYX\n",
       "5YP5j649sn3z7RmRNmHyHJ+OOt1i7jpoVenL4aMp3+pxBCa2B2ql/8iwo63+7wjkUXLkLyLBSOqE\n",
       "ny1FMn8Z/KvNWl9+j5Lwk/Qu5Ygs+ULcg2RQBLPcAI57KT94wK2BAAABaAGft2pCvwAAQWQn3deH\n",
       "KTATXVZEinQ4trAAaf99jgLqvYYOSpvIhBW11c2jDHLPqro5j72VtniRUONTdAV/PSG5lJ7ia6Eh\n",
       "Q8JNyioNq7vDkxynp2Ty9yq03PybaaOhEseJXFWjFri3nw+Lqqi2fDjR/FVyWPw8wqqZmpul355z\n",
       "xOzYWCnNWFINO4vdftort40lIz5fhV2jES27nHDNCL6dqYbdwQxxaM9M0z+MkOOQeSmt5k4A4+RX\n",
       "sm/TvklgcpoTV+04mUu/P1m+GUA6PAutXJwhMbtTf1N8YYlwhDr2+lO4Rj1TrkY1i8VkLyTUb6Uc\n",
       "dIi+Q5haTy5nLmkjTWLp/xvFwxNw/xghRjJpFoImX9WSwV4rn4rk/gZJ/64sBVNfdUlvInR8g62P\n",
       "qoxiIGC+yIxAXQuV8NOASFL2sp36e7Npzg0X1Bzmth6r/SCb36wn+6YorUr5aBhzJgjBqLziiBtl\n",
       "vdc44QAAASFBm7xJqEFsmUwIZ//+nhAAACwvNazYpK3Vah4cLHeZXJsDuHdJOpGG4RTwHxPn8ix3\n",
       "9JAObu5O5Zo34zD9jk0BPZMv00S7uih03i4ZULAEVH0GRlwXli1mZwo1lggQS1j0ToMRxDA3Mbxt\n",
       "9k/aUDD6L85zGUeEPtsxNDnwjAejsg3tq/GcmgBLz+mKsnDgMiEkigtFd8Zs2HkAqNa9uGLUZS21\n",
       "39bhN6Al0xrjc9pCdi0gF7ryxWxrbPwGbCeLmUn4+L27q3jWy4z1TZnawYCpi7m/sVw9CqbR3f2P\n",
       "+MI3e4oS68Wr6TixIo/YOlvNtXciDDMHa55ziiF3T99OOAu5VM2g8tAioPXk6Zh/MC6k2SsA1SnL\n",
       "b5qWHamVfhm3eBswAAAAn0Gf2kUVLC//AAAvziuWkUE7NPDuez01iVOpMShdfbZBKwvB+hOt6yDM\n",
       "iasZvyzTnHnvA/CJ0NXdU6lTuZT6Y6dKxdsO1pKckmtiLAVsHHABeXJjHl8CQ8xSvhdurDsySEYr\n",
       "KOSrkqtkWAWf9jw2+OWACdT4IzfUE1+pDRAhM6OCowcsFUY29iAMGG8Dp2jEsQBll0HH6tU6Ej64\n",
       "l+AyoQAAAM8Bn/l0Qr8AAJaz5M8gAV9TceGE8x+OTSdv4zr6CpoFYn7sqrg6icxxjJiURErwmUYK\n",
       "lNueFo1oE3FvNw8GbQqQIXE+SbTTIdwmmbCYGeCR1qcVH+WY9vSU73xqAoq9R0U6UxDy3V4BsgY4\n",
       "IJtjKIMkapKqgywvyQI4U5OEfWl5G+gA/4FvOivUAFXsbtIXh4wfNcGYIwTDDaO4lHGqW7/Q7TFf\n",
       "x5VMLAoHbv5FCmmMNxf9zeDpW9SLG7YN8JVl1pFJ+C6rckilaBMn8MZAGBAAAAESAZ/7akK/AABA\n",
       "lfp5M8QjABeVlyg2jaSgCNLhH70I5C0CRSPVuumM/WvV1J2rQrCV8drs0ovmaI9a7G1j7J3gYODi\n",
       "iu0qSv2vzyVRzKEOyYIsVRBQDIBvvEkuOrrMym8RMdmcPALVVmAK5K+DpUKvKn8yTqY4nXLCZ4zm\n",
       "gXvJx4pL1p7gikFxMJiU1vmBBCnksXBFuBgFp/oCu2Xm2kZqdEYF3KjOT6MD9yN+nseHBfX3QwA1\n",
       "1Z90AjcJsKdzruOJKNnVrp+O4OId6gv9oqfCoSX5aQVvX+uAvGpQXdoSsljlY86D0t3pnFGQk3ZS\n",
       "+BdNJB1gkGZesZFcNr3476ncdDCTHFSH0f4hrNMKK4wMxIBOwQAAAbFBm/5JqEFsmUwUTC///oyw\n",
       "AALfvjythQ88ANdADi2Z7BJTcvUTnR/upO++p7aTVdCQp3Y0NXH77MmGSw3Dq//O3JiSHGBn1S7F\n",
       "wGaTn8K4EL89BChA/N6GLBvMj0QqEtN/sPBQdNbovk1NlQ2oUMwTWJv56Sb998jwqJ3rtCfxq+Qa\n",
       "jicp1QkJAWTYeEuXi4Sd2d5P1wsDeSslbX5tTfNHd4RTOCqWMwfbcHBp/o4Pv/Vs1T4IeT7RffVN\n",
       "r/6kRibbVQrRtd3EMPl7TJtAYr6xD3e4U1Heh1Z91+VSQ4yt2D3FeJwdoWw7zFFzGwzVGhZYTI3U\n",
       "0sbPJGdw9f3HYB/RfEQgURkL1CyU4eUe7yFOratyQKloOOBBFDyr9io6sIXKV30N2TdqKgJSz6QX\n",
       "FZc81zk0IsDE6G5O3jBpfF03rT3Lc08ANKcjHai6ykRh1ybt+sOdT9Sg+LVazJDbz/EGTEnTtN1G\n",
       "ryZgQHLLdYsPIva97ORKNge+SGjQDjHysibQzUEgiXAuhF0b6AXJI+GNOGAiBQGkB4KcCxVZRqeu\n",
       "ytKMujIeTte+Rzc6nmgfILKBAAABKgGeHWpCvwAAluwBiTmT46NHEmQ0hJsoauMhi50BsAYv42fw\n",
       "vPvsAGq2jsOwa4pzcY/YwPBwZcdfGNIBHfu8J4677pAi8Paf8EjkV5IRdgS2pFGqWUL/0GEMrZKu\n",
       "fWYbY6tGrMHg7nM8rlM8TRtIU/u3D9DyuVpmyv5l5ShIF5dXLlNDZNq272enfbaAHeV6GtK/EcnU\n",
       "Fa1RGIfFNsQEdToRZ04/+xELQBUqTJe/3mwOjntAqxgbdybHOfgavxZ86TRDlRPMjh95WnUjoVGE\n",
       "FtwTfdOIpx44PR6JSjrtBHIaP+lwaTNGnatbAnRdtKv9FxC3/UGBcUos+9fsg4gnGqWsxcJtYg5J\n",
       "Lf9GwAzpiyPwkfp1hQgFaaK2DvRnXIOfEkZ9KK39AbjYbcAAAAINQZoCSeEKUmUwIX/+jLAAAt2s\n",
       "D3V7BTMfZrhlv5P3qMT3n/dx/iy+swBCPKEyemNnECPTt5LoW6wav489c9n0gaSMQr3/ueD6YmIB\n",
       "zeTniA8Ie96UP6ZtyfLS07qCiIbFgnmJyNH1pYCph9sy0kN+Lmqnq+kWBYjdP/OC/D5L0IiTyH7H\n",
       "oRw6Hw3pTkEm2AsWpnzHToxLl/bZM4ClsSmrw9tpOIBF4yuoNwdPdzObGtQBncT9QWuOhXv8F2G0\n",
       "t6L/d6WV0jeCQVXWF9KF9CcLIeceiO5uj0bC6DwtPY1MOWlfkvFoVJ9Nv69W+3WSy2Ny2et5CWjD\n",
       "jPdewx30AkQkLvWRUpU0FP0BI2TzrcZpmti+iqv00oiU3/cUProF5D9fLemjL17y4k7V1b0Hr+cM\n",
       "ysat4B7tlJLIx80R0JYIwsRJKZjOTK2Z6KmtABpXjQhhDII1q1HKzM3kD9WW0rNAAfTYwcELUaJy\n",
       "qBGIysE61XQI2ENDwtdI4XTxROzT6pgMpWiCHnWeGpy8/zMTgzmU/WVA4ePU2CZIZ0o3msJQG0iy\n",
       "sRuErjwsOrpvezpszziwwujHUytQvde7oNog4Qs2gN0mTFe+PbY2vYoGzOvchmNUGN8mqMDMPuy8\n",
       "NSVxwBGnyP4SYtTsfAlX21E6Y5+iojynBxKDYHdxEX75GnAG/1yVDJWgB8Sd57zhYhJwAAABQ0Ge\n",
       "IEU0TC//AABug046+Y4zslM2esb1yR/iOxDTmOl9M5QAli4FzwEjT/riNL7Di8/rbsAjhWjULCTQ\n",
       "uR1SecY52yRcW+CggnMo+tLJuz56G9LGBmlkPLaRFyXBzTFdTlpaXaKN3BV7ho18yHopvdgGYA3i\n",
       "kKg/AnDc2e/HF3NhdJ1T/HfqeOwjBE+rjvgIePK5deh/kO7AuWfcJrJYaD6LJDWTidylbJB4XgRT\n",
       "lFG+tkr00kFCbqbxtv6ri9lnS2f3VlTqGSC+9DxQm9tI+CYPnNv/GPntso+hRfVrS79cwByIGlPU\n",
       "qH+ubUdXW/nHYMrtdQvDjw9kKi66ISJkGiS+VNqYksUqsSW+A/M1BhBrgAFTrkMB/Q8GqwMng74m\n",
       "ng2GxuwXhh8goChO4c23wzZNi9Q1xmGuTAbT6VU+4lvR0oLdAAAAywGeX3RCvwAAlvicWZb4VxBS\n",
       "v91b0l2h0WYpbYxnOuQAaf9+otw/AvdxJqitQeQiaHFvb31tefqyvdisJE6kcxKmHo7Eas3NgbVy\n",
       "+7JaPmrUWLebAZB1JHcBY5hy2D+WgCghOW+gzuLCRLjXBKvy+/omBUgbSS1/gxwoPdllTV4R73v+\n",
       "aDQOV0xHjt4CwCLjdbUdQm6oHTG/abxs9+urAbaSaPII29ud5ZfHCfzkhmUWpmHqbmFFjJMS26Ef\n",
       "HsGXDQrxihEehycdWIi4AAABIgGeQWpCvwAAQ2QnJcAmKQq/CtJaW7ceJKA3rRrmWnqLsFKNaBQr\n",
       "xVIXh7faK5F+AEImUOPC8c/xOx3IKGb7guKwADKqzrVe4ttwxHLvQMucQIFNvM6X8m1DssBMSgM0\n",
       "UoPBG21zGi9I4wE/FPJTvmH1ZrbJIPqwm0tzAUpL6TiA+PgIU9mqmNqVLuJF38WY2fAza6I93oaS\n",
       "RUiUj/VpBpAkVN83pesunCW+kYpcBx2C0W1kwk9gNZAEkzb/ileH3svpfQzyvYVVpPgv/JnViWgi\n",
       "9XJ2a/o6J4JIyMZo9Qw58eT7VsBuyAv59J1dLQ0N6rsf3UC74y3O2OPS3dmcDdttbM15lF5R+/oI\n",
       "Dr0fAOY234VhFKDSjA39G5D4vFkEbAVtAAABkUGaRkmoQWiZTAhf//6MsAAC3BpjaT/tNcQdaC0x\n",
       "HrnQDV6gZkCY0E3GBZ3iBZx9lpecYGaAB+iWg3B+4h33Wx8dQlJwBg5x7EwoTJZCPbQvE/eem6rV\n",
       "6mH7B6TZShQlCM5Dlb8hywcQzNkTdm8gB2EXkMhDw93ecpcw47PKzgrgzQfmbCzcq1yaLjnP0rxd\n",
       "SF8VPiWuLWzu2KqmHneKjKuhvpk9w9yVf06UCvJWifqDGfVZ5ci1f2w2deDiU5mrJOVKiercuB0v\n",
       "Wk7XzP2FyJpoHYYehaOrIXEIvNxiDX+hctv9yZlfExqSAEPeTB7fG5xBoQVYfknDEvdLXdIMTImu\n",
       "T5JFmkIW2qoXdXav+Pz5o1T0VXlTKZ3lUejQMCnHCEGNYvEH7d/KzqnkCVoMEygTzDrW6OBjW/2C\n",
       "jzj1lKcu4HmWCtGLj9kNm1LXZ9hmzMfHOeREM5hc8bi6mrJm9d8RdkL2uCIPm/UmGiRc4ev/+Xz7\n",
       "6uKLdulw74m4LEbd04dPQ/ZEVgk8Gq1snX41RfGAAAAA40GeZEURLC//AABulOcqavz85wPFhWBU\n",
       "oJBuki1KoGkKNvtYz28gDXa1Dp3SAfi1vOOFkxQYWAB7Qh02ViOAdJ6/xjCh99Qjhfr4JzbtTXmF\n",
       "CZWXX4CgOBwd3UU4z7OzQY3SjOJFOV7hvSLLp6VNms7SmeNjaHwBTCHV5KKe1DgUKNyl88fZDxrX\n",
       "K3UPno4R6FAfJbO9vqCmb6EUxV5E9H+rVB58ANr2tDSO0KnM8kiMEPimZhL7CBP8yFHjay5mA67b\n",
       "G9o+gxHP3mnmJxwUQFMGBzYWoQi3fM3qlWGGn/uo4MqBAAAAugGeg3RCvwAAQ2zmLqIAEkXRQ8aT\n",
       "cTIaoM2u+wtypwXumN/UYAOrrvonEzYLHXN3yz2u7g1a8ER5+EDOHWY7MPrzh4hzZ9yqT0oemrtG\n",
       "SK3AF9KRw0V9Ix96oN8paS+OZCWYlzza+zrGnLZZYq7E7IR0p8EEk3A9dKN4yqmzAkovoYxXahnX\n",
       "t1DSPtVPtRzjG7qBeqoVf//v584xgTzJMNwnJ8tkKHPt6LYmSslD59Kk0UcZ7tP+jqDfgQAAALoB\n",
       "noVqQr8AAJbJAzQoLg0zKEfspPoqI3H0hrKxr7u1GsgOh9csksZMpSxU0u4sO6D+tyA16b32gAA5\n",
       "TWNPycEVHXPO8IZOhzJ8ubuSs+Qr4THQZMyK3Md4oYGDEvgfAliei4bHo/EL76zOzYDDGx+xH0mX\n",
       "vBTvQmb9hY4YrIeRFqCz/2fKe35/Oh+/glSUpyGVj1X0plApQYO4+jL+94qKNUA/fvPtWhl/KUhj\n",
       "vlPh+VNiebrsiN5AakEAAAFoQZqJSahBbJlMCG///qeEAAC6AoXMSpKW8eg06y9blw+COM5NTtED\n",
       "vyHeq4RHYP+FZpAmpe3sJYzjm3yS/GHmI9kcAffb3lZv7VN4TLccwVleFOo2CCNUe9H9rvsATOKP\n",
       "Eer7sN8uh/bSQXFw//gcEnIkfbQ16l5ZvNNJO7mRRGfzy6IVI4yazpKK9Fj5XRb3nVQsDGgMQO0v\n",
       "wBBx8h+Ef2csP37CTKNiYwIYa/aj2EvTmw5OCSQigQLnm/n7NS1LJNaUvawIQnaG7JH2VrE4Lg+j\n",
       "8TwfgiA+s4h/hy9lB/O2By9F/ZIlFluCWNnPAAxbDb/xjstg+YCqdaZ349CZOeBGtyCwB2UBciRc\n",
       "DsusWXu2YX6+FnZ0TiP+l7BCi2wg/wKFZN6xhGL9AO9uVnIGiDhPQkqZqRjrQKHC+ZPKypOumDe3\n",
       "I6wAz4ZQRqpC3pdaPJ0HUQxLn4UvD5OfbBAELAbBnq2QYAi5AAAAy0Gep0UVLCv/AACWyQMck/Qd\n",
       "TbXsMGFr4ANh0F0KssX2w/BRa2Suj/6+nIEjm3kI9E+J4CsI5YAQv7qFm40nwlz2WtPN/bOclf6x\n",
       "eebbFl8AIQuXsxYIfGOfifvrxExck0tLniW6ABf394ATJYPW4s3c+I2OAjguno3/j95JJLmGhIKi\n",
       "FCby3M2oKAsq7i7hG5SVgo2nvFnSVQQAwvUG1JopxSouQYfKatP3etFBFScJioEYhrzW92/DvFQl\n",
       "lehN1KMEGuDlpNDRoCtgAAAA8AGeyGpCvwAAP4A7IEoOej0jEXP0B5ds5wAcy9BBZrq5TPWWF1Yk\n",
       "sZN3FxhZnvW6GU+HSRgxKqHIXDta+Tci1lU9K7gHi4n6tURNpMHGYasCmZFIiicXN63ZJFeIHkkU\n",
       "EH+OeD6RLz8LwvCjqNiciHU5VaTDH57YmQy6fN1oJB+L6Nbnm+TdKt/Rv4Y74BeiXjZekRyIMdZT\n",
       "f7q8u/5aQ0sTc+CUU6vwbPF+cztM/bbG5rkn2eLn4Mdn+U8A+1Ai+I1ji1897VkUJ+4d0zu+i4j1\n",
       "0SLzk2rP1umvgtNGYv45DzQaqp1uUB34W8hBR+AKmAAAAVFBms1JqEFsmUwIb//+p4QAAEFzftk5\n",
       "6CPnpbtbPp337FY/CaW0JFCaw/h+TxCY97meXrraFJSF8NASQhB6M/JoCCHAfNHhb0zjUMGLJv8P\n",
       "mcrXrn7Xb6vZ50yF6rz/IsJcFCWL4D8G/4jzhrpP4GPc6f/MQfX3wd0niYLBxpP18p6WCGx0HTgv\n",
       "5bGSSVyJ2u3p70s/J4DyOjt3UBmDzOaMezofzSWAe9M2ei2cjcw3arZb96debCkLVSyRpK5HNJoT\n",
       "mW2w5DOw70tCggTaqDD6bvSxV4pNhjOQrEjVrzMgB94sXtDp0y3MKQbII10wAaFMYaPkjGpNdIt+\n",
       "A+uLnxTP5Vje1fEqMumFyCZ3Cnrk76cd2ldRYEg4+dLPVioAk/rAKrbJowvEJK10Bb+vV6T7IStM\n",
       "Q/JsO5UdrVTDY5Jf6oBScxf1NaDGSsfaU7QMiRDxAAAA8kGe60UVLC//AAAxDiuWgpORME2SbgBm\n",
       "8Qv6UfVaSiCTR/Aj+tMWdKjfkRzkKTrDlaSufJBXoYtKwC46v0f3c4c5wt1PgMoKUIK7aFtwmFDQ\n",
       "Hu6wMT9ahjGw/0cbcikWsuDnzS9CPuwHPYVxaNoa0a6L/6XoVkWRoNajHeRFgEHvlU0uRFFbpCxA\n",
       "yZ7UUUdZ5RlLoeDY6Y/Qbz+XqxXyGDT2+g5B49s9tT2t7TQ3PEfkHKyoNadwXI53eM4Ko/QihbXi\n",
       "pLeNQIbKkJ8pVSumOlSkbBtjOXEMpUwnn8h2LG7G6ciit/HuM02/N9z3HbKEtITcAAAA3wGfCnRC\n",
       "vwAAQ1ASHJ8XmZCpp+ay2/pM5KSMIJC2nsMN56DmYa/4MlAxT9zl2SJ9ULQDpuNvHkUncelF0D0A\n",
       "DmFZ5wo5ttVacEGvawrAtopgVSo1xKX8eJfAUi56ftInH3zRvEqorcadfrBAH+21+s6p5Rmapeaf\n",
       "zYkhf33kJ7Jbt3YXGnZj0ySwQm7P0CStxl1dk+CjtADghgHQSQ66hX7HG33fX3g5tG3alAKAnh3Z\n",
       "YUpwVp+g5E/ZxBLCryExBxEEEFyQpCxwtjCfBvOKwJEvGO/rJ9hPuEs2QA+qQP8AAAF3AZ8MakK/\n",
       "AACW5nxqYAFfU3FqCUI0Ro5P/jOvoQJTV50HscJd0BTB6Gp8FQPfZ+Hozp7MbP4XHwiErMWM/Mfl\n",
       "v5a0ww6jdLSrC0EK5Efln14cFN8jYYxvabxpSfaRtZW37L/P6q1NIu+10YseLmt92kO18vAP5lF3\n",
       "/nujDcEjuIF0KwNkzeazvU1fgUz1ddbzkWBA2XCNbwJvliwXnJwKyMVcV4R8qzFb3gLAopGTsy31\n",
       "nWCKYobpI6iadQ8UW6m08fNaliycJxnDiobGtLDSpgT3sxVom03BPWLxbGzl1neo6sFP/quSv//h\n",
       "pzsPUTQP02DonjiMmp/4u2Y4VKPONtVOZ5sr0r5cHQ8ld98Ytg3pyVT39Xr4GYe2O1oiSodRGNAL\n",
       "hF+I5q3IMaaNAD3hIbwd/KDLnCmPYHHK8tLfgKY6PVbj5nQSQQyABbL0m/+WBEnPKRqX1CF0jcws\n",
       "+2ZW0fkcsnFZ17zuna6OqSwJ3m+3pDwdMibhAAABuUGbEUmoQWyZTAhn//6eEAAAdn1gyUjG+Iez\n",
       "8/xZafABSutWVA5Weny8lzShke7WvG5AA3q37vCfV8usM0xebUdgJug/gDRgJfpIbFdNzmok/Rt1\n",
       "zd5UtobCwA5Bd5Wp5sGoeuIegg50cZTfTucH1sTVSRfu4xJZyYjMaWKcO9248yKZ8bUp/+dgSdoK\n",
       "+LtP4FthpAuq4ONFKwDIw/nMBJY+YUrm1PtH7g5vgCD40Hf54VZlExdF1xsWKeqDt6QO+5IlXskV\n",
       "+/TRrJ2qGBKBg2Vfx1VSLqms8kucqOFsbJlvEtbIOEBDubVqbIgMQin0dqPY13LIRaVGNVBAZTNV\n",
       "fx8+I6Jq99VdQK2jco6c8x6ymIaFpxHeWpFvBDMHP5qG6Xk+C9HM0W7NvP5REV+p47bFx+dH2BXM\n",
       "2LDZ1jpLa6j7EK+WARQxa4kjMQvjUgI8pm00fl8lgUkAoZA/1jecBKf+qhed8tszQupanZN2sIuI\n",
       "fQh9VuyA3cnQfoXnhurRFGfngUNzN2Wano4fXJFASdtOfzp2Fhp028YIqCZMlUo2csKgjxylJcHR\n",
       "iEquQjMiJr0Rppb5r4gOOQAAAWNBny9FFSwv/wAAbYpfK2FDzwAluIidC7eNEDWzJdCI0++p7aTy\n",
       "Y2ltN+4ierKf//x6GQbn31gi3FWCJNve0k2hcuaboLX5dn3XDzF9F26x+9vpUpSfvzs7NpAwmNWh\n",
       "2bjo0nnKBl3k88mvkOwffm0Yz2cMGybSbGDfTLxKBhwWqFz/TZnn7dRJFpVBSyhoPYV65MFKaXgD\n",
       "s22sRWz8LOV1DxGnNV7Qdc24nRQwreczT5jw6mSULCHK/q4Z6d/4EdbtUI7u8ofEhtvriaBqvzuw\n",
       "jVGBPCYWxR//h9EEGNn+zW3hGTeDNu+/BZo2XMVwM99WJFi6ZXLvtKAUy6KvedNDfSvDu3GFosIn\n",
       "sZuLdzoF4/ldF8egaong3dRouYS+5HiLud9twVOoK+LqN0owSCYUEsZKs3eu/xbltdf206yaerbi\n",
       "HhWlt5ZngrMqVuOXB0vqiX15SvUwDsdO8kHaa6UdW4pvAAAAwgGfTnRCvwAAlviZ8eLV6I9pq1Nj\n",
       "yfqGiAGgUcKPwQer4ANP/Tw8jG/kAYj1Yh9XT90BdMdIfQfR/3LoS6omgOtalEHh7wH5Bq6YExDK\n",
       "51oUWsnO0+C5aprD0xHptdt9yPeWxDXva0EkMHW4nZc4c0p1LF7QG8IvJ9F7oxTfuXxbrXI62I1K\n",
       "1CXdvO0GaCf+MIzSKLrnIlrtEKLmTjUXxRxwjW+LhKyuA/ZHSOrwVIs5xOX00N9dHpj7msuM/IXj\n",
       "P7QQAAABWgGfUGpCvwAAlskAXak7Nc/8AF5WXKDZ7JJhUN5H6bFuEbaTvPvy2e4hA1wENwIVbBTk\n",
       "dyjbQAhNbR3DRb5zXgo7MTfSo25S6FigyWgsdV9dCFoxkFmQ89JuR7mYVqacx/aREIX1X7Zvl/W9\n",
       "bTV59amu7PF2aXKW+37KvMZOBfw2fnypBHkxrPI478wqAjZkZF7YvlUxMbpHd7WsWXP/d3JjyxTP\n",
       "nev4sP0isogaz1gfDeIXPuAPe/evfzCOtxlTNnQxCZcz/FQv4mpB08SrN9oyfycBxEQnu7n2FFIg\n",
       "6azZXLH0n112XpOjIvxolVgqWjrwYYwpZxKGYaxsoKed8Rg4iio6OMV/+cgyRKvOT43SXTdGrzU3\n",
       "QWco7GrCGQhJ5QoYVtOC9pdal0IE5YRaOUfsdm1KQT2+CGS97gGXL50P4n8lrO0F0klNhpsgnXLU\n",
       "TTwm5bNnQ6xNkLgAAAFsQZtTSahBbJlMFEwr//44QAAEtP0dMeALtuWlDMMc8zaI206qEcHcZDkf\n",
       "PmsLay0raeAWR3uLE7LnZc+9A5WceedJaFDtYdRP6DOvdiKFA70H1+LsN8igC55jQfrzZA4YIAeB\n",
       "w7StEfFtvPCeUZ11m44n10+b5PP1x8LpM2mKUgJLkYBrRHbLG62+4w1ayvwXzus3af3KsyIklQTB\n",
       "Vr4/ztr6mW9tqL1NHK4w1Wh/QnT9F6EwyPoHjF04LMgcv0s5WDLXJTDxM+OnBxT5Dr4StcVZhqZQ\n",
       "edymSDZ5ZCTeRORwsAlmeMVaN7fEu+GdQt/BNNBG9CEjwBILGG7EzYfg8iK4ktZDGZCeW+8gpckh\n",
       "nVngcCrzRyIkEEmUh3QeNvhg09mCuUUNNIKJ6iuCHnsc+SPwB0MFMuV+PuGtSadz3XWDxNom1327\n",
       "yYLvd5yNLGhuMu1p71qZLa+dYIxL5DTm/+tclwmaxl5rLXYWcQAAARMBn3JqQr8AAECV9cq81Ceu\n",
       "7diuA0zw2NJY35ZNiQhD6qx+CZxfACDYA8zIxv5AGI9WIfV0/dAXTFsuwfR/3LoS6omgOtalEHh7\n",
       "wH5Bq6YExDK5pFyRP253ndDZ6Xq/hvmBIAfR2/PwnRJ5maRUEQIHHPNiHfBHe+srgLwW20Y/E5Pb\n",
       "2U2adcSQXaendnbfa1yJZyHw8LWOrN/1pPtaDr9iBiQuxIARPb8gs47e2l9P697qaN+iRZONv6Lu\n",
       "pEcWFxXwmY45L2f0sXf92BtS526mUrDJ4eEZMoT1G6F08BQCkgWsdeBWl1zyOv7QuVPuUFfR5Lw4\n",
       "N+spAWqlEnPE98/gI28dWFEY1+8IVTnfrUzZXFuOOAAAAXZBm3VJ4QpSZTBSw7/+qZYAACghOp2g\n",
       "5MAyRFsc77UeD7fuc3ABSkAAAWP4yBCXWfKS3rxShRn+vDqyP/EgpHSKZ81fCZ62Hwyn4FUvaBWd\n",
       "O+cuAtyrzd6giLU0D5mdp69EwQd5/G8Tc8PgABraE4wkIOhYIFBAN3QJRgkzQ/tgHT7XqREvLqz4\n",
       "QWWbFYQrc4UbPIx9MyISCJRhgP4vjEFCGvaL0K0Ljurr0RwMNw1Jt+3Qu9QvEUo+BtvMyqcSE84j\n",
       "bVlMKAk+ffa6fNBMF+Hoec/cq3+rPYsrjCAWjgDcD2ZyHXpoGXJwE+/rPAbW+P2/7EQiOI/CW5u/\n",
       "tqZzG62tHbOaNJmQ/+/oJBi70Cz1HzNMr+Sc11waQQjm7JoO+DAFeU/cSK5bm4zOcRCB5Bl2S344\n",
       "S2lLR3q9xlj7EO+4M4ikCYRKyZX9EthqKac6E4qbobDz7Q0iE/nh7x4Nbg7XKpgSf6CN9MhxQEMe\n",
       "YBZHlDF97iD8gAAAAPIBn5RqQr8AAECV9qn86VoylltmU6RxoqZCh0rH+2SipSmTzYeu1AT8htTk\n",
       "7h2F3CHNFwdvb225nMwAuo6r6gg1Z85P9lAtj3nlqXLBSREy6DrCwUtWLBofMiRoM9Hn68L2tBqV\n",
       "FZTRm6egNzRgsf2YMxZsNUZgXT9iYnr+zbiIkw8+NcNZdls+yrjMolcCu7JK7fbINdAXAzwmBHqb\n",
       "vIKrpUgfaV0GoUokR8A8bnNbefzsui5urENU7fmpaKVtutJ1oiicSwsPV4jZkgsDDG+dNpPO8XuB\n",
       "qdvRQa81DK0Qq6MD5YzWrInX6gzT4KZUABNmqQAAAKxBm5lJ4Q6JlMCG//6nhAAAQVbTJRY9i1em\n",
       "jnWt4jOCzQmCCxwnYsw+rFRQtLFokYaQ8JK0zefse1e8wBrmvL+HjprunLwuFct5yVVOpEGwjcq/\n",
       "zts3wPoX7tfFqaP5QBQVr9iYgNqbW4k6MayX6H/C+IH2T2jEUYXtrEgzSqlMC/aKo7Pa1WuKE6gJ\n",
       "Z28rjtslc8nsHvLTJcLHFqkvKYHhVIE4g1GtiIfdzSlbAAAAskGft0UVPCv/AAA2DoZeMviLTfJ5\n",
       "9i2ZPFs9iagmlPA9NxcCCoWj7P+Vy5cu9++dW4Iwg21P9YZiryCxRgyZ8qUfkGStOCFdoAGql8Be\n",
       "oWZQ3xagNDDXvvsT5iIPFPLgNTip+gJOEAnKkUwxM1TQTCBkDGrEYTXWTfvSKaFqbqfYXwei+FWA\n",
       "DHJDDlKNo7ExMz4FTObx7f1SwSePKXFgqyT5E9THew4Rlg1DBckaD9FNQW0AAAE/AZ/WdEK/AABA\n",
       "lfap8jv5CybbrJe59Vg3gzajF+oM4xqJcTeUjjwSeCo7yKRswRzI6qEeRqooAO/FAkrlyQFh8AxH\n",
       "FdBTspxAALcJO1Qm5nrDUcsubMpxS0/8n7rB6aG1pFh6y5bvsG/mZG8dzLVETYVTDgfLAJ5SSfsV\n",
       "dxuDrazpPHHl6uD03F3Rrcay2iOC9hy7blHx5lRl+H5eysPPIIQMNIKtVqVVV8m0fwX6tyW820q9\n",
       "sezt8dBVJlC9EJWFY22VnLt0PSn5o7+YBxQ/cN92scSBjMb/4QZj9tEu17rAonodqx65iabjTZTZ\n",
       "W/ZHqQnoKwFOiYqcxiLPKoVH7k6xaJv1wCZDgdptyzrc4YHorhlp67HNIahRljtHs8PwU2TRg0Ms\n",
       "dPOGLIg0LMYNj+JEqsPEnr5zmLc9LqwuIQAAARcBn9hqQr8AAECV9qnwCfIWUjHIivZIDBN0v7y/\n",
       "UnS307gN1MrVSfuEgg0QAAg2APMyMb+WfnbuOF7V/zUL1aHUbigHoRiWgj5AmKf2kjyqB7RkpGCz\n",
       "PjW6vM+3NC5hJOyzSs455PWNMLdxZVKBtMvcocBpX96hRHhWcWyOoz2Kx5Knr13lwMvULWlRe1Kg\n",
       "mJ2cm9agUxMVtRIHsleq6oS0IqahXyMuOngaNBxCq3tLsEnZY4CeyYYAQJ7Cmo9eG7OrwJSk4O8g\n",
       "f8FAyRT9RgY8/KUXXSJAsXPU/pbuxN0ZYxhVZudp1iXGih8IFdnLOz2H57hhRHlncTKikwH0FZcy\n",
       "FVHzMMOI9Mel7f9RV+I6lKTsRPdAbcAAAAF8QZvdSahBaJlMCG///qeEAAC67+96YVwXADXpZsDA\n",
       "P+rf+nJ1Vz9kXU4cJg+t8frn4UqlfEri5j85OFNSWrfgUcc2YKsuVVMHoAinVgNSPMof9XYFvZ9f\n",
       "BY+7wfUhV9AmOukfvoAv78Pm6NUT5381Nawa3sd7Sr37ZW7nkcD9OvFVXjb5cLUdGfUfRpBQB4xB\n",
       "m1UkexsEJ5KPVuBDDYqsdVRJY6XocvRX/GA7CNAzn5FNcHYl55XyJSQMsaICE+0K1DY10kzh6Scl\n",
       "DNHCtRBGo0uZGS0YNM9RyH7g0GzKLX83nwQxBQFPrZ2RpXZN/cNlUW/PG+wi8FOcs/7esf3b68ar\n",
       "5YK5GAnL6P5BAFpWhYBTn3lA0eEBAuNJAu1aQP50sH2COZ7MUqjRffU/Yra/hOgiIDehjy13nb+i\n",
       "B+BKjg08GFcNaN7pR4w10QCePWdBpkfOT3i6KnLWWbT1+7O74mCljOCX8L8SMjdCYHLsccG0afSd\n",
       "Inya3K5eB80AAAD5QZ/7RREsL/8AAG6U5s9IViVJoCq6T7uOHMcYaam1qWweZmqvtOFXmmYuqJE4\n",
       "2BRrUyr7fSZvbf5R30eWAcqk/A+QPHqfU9weM7kRD4DOQm8UZot3jr3bU2JVLrZGEvUypQwS3vyG\n",
       "jpVELAJ67GdteRE6S4Q9UpkdRRtlLcX47FetKM8coQfnJNfjq0F7vCeoQKGOGIGsS6uxopLYYsk2\n",
       "Am9wcgrtWifuaXtiHNW5npNuf4MmrT1J1QcypWFjNzjPhPtoq0ZbitgqJeiqHas5YEgODgx9e2I1\n",
       "o7mf6jRJaLNToTChGtAvb2yicTx5ptIiUllkIqmiHhlQAAAAwwGeGnRCvwAAQXvXfvHBM5zEAC4H\n",
       "wr0ApZgCHw2hLp8R9RTZX9GSPWWCJQP3wBnKlxRXxceqKug7xLdoyIfeasPNAOAijV/wmlATAtoz\n",
       "z/zHEgskH9vguxFy6Daz0N9Q2EOtoe5Oq6Cgip4g4CXoDF+qPVmFgMtyt1rOckmZ5+L887vx8Xf1\n",
       "xK/SL0n5M4z1ulGuuqrXZ2fLFr+Vsyg/6Im/c2OPWwcdAYwFC6+Anx1+wXeNJp//KgUoBbiGZNUU\n",
       "me4ekQAAAX4BnhxqQr8AAJbsAKKUq52u8bxnZbdJiPYT7mV3e/wo6aprwznefMJA+kzESLGUG9Sw\n",
       "bjvjiME83ygdMxeAC+Qym8BLkxB/+DzjFzB5Wzy5c1JK0EF57i/R/7oSzXX5rn6fS3e9VN5X4HOz\n",
       "q6LKa6RcZuVtNkOMnOuStbrH2ru1VcU15UxFnqoc15eujDWnN0+kTtuz5MsS5fCBQcbVmeiweD4q\n",
       "Cy2BXJJw3LNhOkkmjB6FljishYMZjcSc31ayMP8i3ieDQbJ9qxOvwOgG/X4D0CNyHd6XppD273fn\n",
       "It/0EUt53uw2E8ufFS69EUkOUBMo4/BgRbB1HPCjlrmgBsg8AcOAbFgZr7chVoOp3R/CbsJCRM5d\n",
       "lXKu3rRvimpi2YYFlL2pGB0noQ7zbthyI9wXoNvFgtf8D+dloiBEjDAKRoqaW8ChIrBAHr8i3tPM\n",
       "Z590CzZnCzM+pj0iORvs+t6UodRgfcUM42utnBLyt86aaKftgYZd5DlO/XX1WA+ZAAAB20GaAUmo\n",
       "QWyZTAhf//6MsAABSfQdMMjMZITtjDufy9vNR8OCZtTMAD8x7NlNeQpX9dr8g6oy8ZOITEpV0wGc\n",
       "5RrbaXvy46ipnxmFj9ih7mQBhs6pZbZtVA9+6dB2vCkdVsq+tUKfQuWhfkOp4TnvPmrZUeXqXvne\n",
       "HaS7zgeLzTTV5QNpqEPE1ycc/2zZqpZogZd6tTiXPtB/qGSn6H8RqecXdEO6nwWE1tr5z19LJDlb\n",
       "LxFIzpHKKoxKVWqFUyBrns+xj75bjK0aUXY4kOwrZwl55NKiz+g6gSPV77v3Jfw5OPa0F1nuaMTg\n",
       "nQYF6Od/EOh+M+JJB3QGhm+4c2LHfDlkJl9/u0+mZW7j29kkdYtmRmZhDzbjMOfla6hQ8emJ1mxd\n",
       "FR2ahwfusvKEWXfm2zaHg0hanzXc/1UtLm0YL4xvrP5fKGLiwW4UvX8vFG3YsI39DAhHEfNo6fh0\n",
       "xFlKGqd8/hKx4gLqii1xF+KL474XrlxhxJxo4KFAMjFDmQv6NlA9T0ivSIgEKYd15zl1hRRfRYCb\n",
       "m5I3tdDhB1UAc6HjUa3GVbdmJ+ZAFsiZhAwKF49ol4uiW4vVDKtO2NOTGs6pK4Amu4ioz7AnmihY\n",
       "eJZI54lPqT/4N2qEBWwAAADqQZ4/RRUsL/8AAG6iMHrjHHFYDJO0xlwub96Tm9iPHEjV52gfRYvn\n",
       "XV9CV3HMAExtFbo9jnzYJGt7xV2+Xurlq5leY7giii+OIFhML3zeE/A3qY2udAcLU0CexgIO52xO\n",
       "LsC2uhogCHkQpKrIqxjOxZRf/+Hb1ZFQk13T4CNZyQJkoBYBeg/g6rQ/mkygsDbisXlOjo4WOuuP\n",
       "H67XAU2Q+f+iA61fS8ODGfaP9BC9wxrcWahYUh39ADaKlGfJZy+arceBZpzNss/SQA/7U2pOy/nw\n",
       "yi/wnp3vjSnBXaR6VMLfeYXXSmHIiIeAAAAAsQGeXnRCvwAAlroflCEOjGJPNEcNeMYHjjiyXmCN\n",
       "+swRlfMF05asP3hd5ZxvFGRmNqEsNykJbDh+ccBcM6IbhYQAbNhD9TQ2tR3JWYsaE0NoTnLydJ37\n",
       "vtdn+jefGtJv5rOvkzxu5mRQYFrRwqRqNb8LEgFLKVe7pT8iBPBG/lmP3D+YOIIy7/f7+62GfhIQ\n",
       "orQ76HZdiEVzhBSISsTW9EjnHQzRofG0fTAlvp5nFLYGBQAAAR4BnkBqQr8AAJbJAzRd6N+k0Pe/\n",
       "+Z2pVTPVNriyI0lYCguPAbDUSlaakpha4aibd0qcTBcpQWdABHMMd+C/EOVXcJHgZv0T1WtVPDEJ\n",
       "/psADs/JTxEpaJgxtfj543a8lhXRNcYvKmVRXTJy+tTX2VD4yA6EftPYaFCvik585LDDveUR1u1A\n",
       "VyCy4NWM81QHk9Vfuy+2/lHqMQizQSeaXuaeROX3C3BXwGeh+56bT9N9/YMTnHLdfmXO3cFX8CKv\n",
       "m+rwy4bNqu0bMNsPG50IF7p2KEr1uPYaHXv0rGJ7ELlbAQrcQJb2njImNI5WaH6j8MKHXu2+Ehsq\n",
       "b3bVUh1RHqzFuG69iQhXXcXu7BkAPI0kffh7CuulUuKn2jaskFHzAAABbkGaRUmoQWyZTAhf//6M\n",
       "sAAC2/Ztx3+iCQAsVsY/SBAxZ3qQQ57c2o3cItDzxxst5X3CN8Y599x7rkEvyFMx6icfMvyWHg+P\n",
       "8Snzv/T9rMMc68E4QxoGPsFqntsUq0ttY7UJoPYNbvI7t250BmNk8/+Wq1hoUABuIwLfRp7raHgh\n",
       "FlTKruPDHAvMMsDuQ7b/atUOfWNHRdiQlOcT/8HnHlj7MSIccaxzuJ2rLrE9b97yvrwrs0VlpWGS\n",
       "0zolcg92KhoU0yMGC/k9cKuK/8S12Bw2Dv9Y6k+JEM3pvBbbeMZCCGEG8gwPWvpPHitMoMuHpUig\n",
       "WNCqlBK7ybV0Zis7+nrQbaPFDv/+dnv7X8sQEkvcxkj0jdxR+REJRbkBdqt2wuFDoC/oaJlgo+y3\n",
       "gI+Gpy0ah9pBUiRHlrvzCawLsoblFELIFn/VZM9hscUR8WMomanOKklGzRxXuIUj1vJFd8IG58u+\n",
       "PdXZXeNhL7fpcQAAAMtBnmNFFSwv/wAAboNOToQtAExCikpZnk/XPOzmOPOHsaHbhlpzL9XYWX/O\n",
       "VhHQ6y8w2bFzLOWw6Zsk99hb/j7Afzk2tiAcw7trEYxj2H240ySRGidkxCZb0oI4OZrPLC01mYaI\n",
       "4RYIkO0WZlNMLzPg+WgTe+I/0315XTBTNzT7D2Oz9vJdl8FFG5y0+T8rEla/aJBtpW4y4JHUVdEh\n",
       "ypDPBkswRojpnf/okxxnp4pt74CQHRTu1M+Epw6H6iE+c2GJIs9j8+D5kdIBHwAAAQUBnoJ0Qr8A\n",
       "AJb4nHHiPoaBLH+UeGFdErr5leVe0JjABymsAIX9xHKtHAw3YF/uC5/jpe3mek4fBJliJsYR+2d/\n",
       "5+sjoBOUWY8TqtTrb6g0c5fsiPgjKmdVpTGvkEZ2vWeqLjI0Y69XlU2jwuNpR8Dy2KlsxFz1xJEU\n",
       "ES7cVaJSYlSBXGCBxR8HyLLo2qRDuphRa2nJHZMgTrV1wkO1eF3IwWCuNJ55xgsWdQDun0cP4ymZ\n",
       "jadLJ2NcgMKNmOMfxG2WFIvW3oxQDNcoSLtNKUkPSKiaIsQh2QeW/WQkE9DNyDq8Izvi5gtXkjm5\n",
       "5XE7JtIhNzOu5KNRLKFgQ0helkVXfaeqF3EAAADqAZ6EakK/AABBgyn4VuC4uddRaayTscSN4XEA\n",
       "HHB6fFF8mE90FFem4wRvzmUjWTEDIAhf3Ecq0cDECupXLdB5aXYFfScPgd0wlZn1b2nf+frI6AKE\n",
       "QnIIlWpL+Mlr3PZZBo3dw9l5DnrnlqYMKGtlU2G+qVrbqzcFo4LHJ7E8SXbQmFMqNZ6n+yAV5OdB\n",
       "Lq6eqtomERjNtERAeoQcdpUJbyXYuZI/Y9vFImN6xQJOMRcpB9nTEb0cAmJm7r8VH1dKcQFNpVtA\n",
       "4x4F8fYGcOvW0ORRcbPkTaG8y9ECfrQMehXS4LkUCvadkoGzAAABwUGaiUmoQWyZTAhf//6MsAAB\n",
       "Sg0w1U5xI9x1snzz9JLcf4pezAAfCKMer1vr5eHz6SeUJRb67epy/5/Yy1/6ED4+bjg8Qyyr6czD\n",
       "UGUoiOoOqNqBsRJG1r5dYaRJioriuO5pyh8af4nS+oXLJUjMRk+T4WQ3ONPnaY/yPtoBzfcTtTaW\n",
       "CcZNC5cowQS+LKY/UqJ9H2oM5UiC1XKG9TC2Ic1c20HxPZ2tyFpcn/twDg+1HU939YWhOR5s0o3N\n",
       "wH/G1RSqKliwYFG29nwTtaRVy+i3JLMefNMptfEkLHDBN+ZxLIJ3jfqRp/kEw1xQo1fedswLuPsF\n",
       "Z5nACikm0hvqnw5/CHK0cuPwBVIYIg982Yie2U/j9hKRESi0Peme36nzjcA0HuSa/Zy5BBlvYw2z\n",
       "Bdt91dyotZMR+9X1V6OJR5fT7ojU/o3u9qHdjVYFsuhcgXRqkku/X6EzbgkQDYVEyZRyTTcLCYCd\n",
       "csOyKyYY5QWxZaseGtf+iqLH2d2SVMJ8zxL4DozPOg3GS8Z8Uq/bMNerB9khNFG1BWeAKWlYyDgO\n",
       "roneYUXf93gtpwJQJOl1gbpd3PHz4/4pw+wb/n5BSoGBAAAAyUGep0UVLC//AAAySnvYD14vKMDL\n",
       "vs8uM13+CDyVJqL4aToQ4YoSMHPaMbi8BPupABMbRfpSPid8g3Z8SDWoqX6qAwoiTUXCdzughAH+\n",
       "KgvC1yZ/WSfvGiUendoHP7Gn/5aUtSCs+c175cYRkqrg/H53amK4vKFTyw5lM2QQKjKlO3jfYPRw\n",
       "irgLBgWX98QROSNHtNn/Hq5qT2RV4mLe+xQUUIU4JqR7rByUVcgqH13FjbWFbw2+A5nTmZ8GXPdW\n",
       "g5w121hZdxBDwQAAASsBnsZ0Qr8AAJbXyXhcAI199dqCUZPZ09Izr6EAfokLFE6aH2XWsXQ5nZLz\n",
       "As66Li2C+fQZ08/MHJ9kXnnipMR+SsKuvpGkhPnQdT31/uQuKWLwz3orOEHn8nben+Kb/A8onGq1\n",
       "sKwsnB5DUVNNvD+kq/Qju2gIef3UC1iOj7Q5DYecUt/bgXoqQs2mx8SIR6ScuC6KX/tzZOLxcwGh\n",
       "nDUdxVhKh7/loYei49Q808hiQtZrBAQgwKt2Mp//w5m4uiGa0xxh8oXaJ/HLM5kNfj1Dj84moOoz\n",
       "CDNB16/1g2WkrplftN6y2aRjAT0MPMcMGKO6NTQ0OaLVRLk9D8g0Z0ZdTIkoVcxYpbupB+H02moq\n",
       "v8vGfwGNVEykWUH+mPYkWWGxaedRdCFW8Vsb8AAAARMBnshqQr8AAEN2FSh8v3tUM07rUuAgAdXo\n",
       "Loczsl5gWddFxQv38SCgHSdcAAZHJtBbG3VB4bsYsIOBcwZD7+wu3StwgGNK94BnXusOOfPNrp2M\n",
       "vafwNkJVjenBDLQElklK29r+GrntKFXD4LAWxLCnzykgmy7hFglbRn3ILcp4sX7htR8i9JxscNur\n",
       "2ZDENaNME2h3NK13jD6TX4PZE6DKeCdQiWOFSOWI3K5BRoNclpcSSFHRHTwOWcxq3W/wj7IU4u5n\n",
       "XiP9k7RQvgBNA9qek23UHsHtr0431lu7+Lq4NxBWUYsaMK5qVBuJD78G8iAGbRqDPjRiy2H1rNSD\n",
       "Y2/r11oVFVvckXzh6b31WAiRzNmj2gAAAQxBms1JqEFsmUwIb//+p4QAALnimlSAAeJIl99wtGoA\n",
       "Iec+2RKxuzP3PGw+6d+pcUh8/rzETrAqQOSQ6AILKr5IKlymNcnLboTVqr38L2JtKc9CRqXREZ3M\n",
       "lSKrgRNVamESrohD6Qrepc9DRh5k9fZY6G8OburBR9wEluySD0cYq+N+0eDDw3s+0XZSJIpH+/pQ\n",
       "1wI5uKR5vFWjaNujkkcyPkvUYBAz2+PO8u7Q3xj7uz9gXnxZgxU7/xJKoXykIOyApQwVS5E+Dh+U\n",
       "oDFiqaPz0SdrKDReojiP2Ze/LlEd9PTyCUocC8Gcx/DD+Yh7+A3VcxWoa37ORD7mN6LPi9LZF0Uo\n",
       "/RvF2HJI5gtpAAAA70Ge60UVLCv/AACWyQMcvc6pGtYgAHIWm99WIpEeyLlqtUb0Ju6m0V2+OHIX\n",
       "UCeJY7G1MhVYYpY+clQD46fpFKb+gpClerbgErNNiQhoYrH3Q1qzTV3dHtETLOGP4P9gtf/r8agr\n",
       "gPTmC0gdQA0GxS2X3ODyDmFjrRpWcKbMpAu06gssu4rBae/X/hz9rpNu43JVWdRNycDlIIhLXj8C\n",
       "bfbgC6R1LWZOukT1iiu97s2f+Mvci9r/46yL1G6MwFlmHtb76ri0aWuIQgy3InLNCDr7xQolSNsX\n",
       "LyAspVW3lIr+LtJ/M3O+dUaHGlzXuQr4AAABGgGfCnRCvwAAlvicWgLXNsBmJMMxO0V+3bzyCEKR\n",
       "gAvkMpvAS5MSAPBBJJICytJ19NE+JkrYcVWZ9/ALqqLvi6rPadFEQD9vtL8wBbqtz+qPWNXk84zA\n",
       "ATob95FtHsVMxhXQYNnGLwUKichc3wIxtOug9TnBbsSi2ho2b7jSLA+S6sY6gqG53oXw2T8YCCK6\n",
       "61fqLC2ft8KwRLKp8g/dIsff48J2OabrKtx1/9SZaIZWYKQoQQV7kHrEyYBTAXmXTUX2Bd+kGGAd\n",
       "HbeCNsjYlJVY+zs2duyCXfing1ETYpBT4dEzq1dai+RzAm2dE1jgtB/ROh94BTencSOM7p1HAPPw\n",
       "97XKH3VDMD+lVOhOKkKHBxYg2MYBvKC2gAAAAQ8BnwxqQr8AAJcGZ9sygQdHVlEs2VD0p3oT44ho\n",
       "ItaaecRAtyysD8+fQtOJlHQrKUE5XUdF9AA/5A70zdBqrOszCuhESEDFiw9z/ewLZH+SLelUdjOZ\n",
       "SRvc3bblMvQm0Vx7SBIObHchmtoAetvzDc0a7Jd9ORHy2YrLtqLEtqK3mkTspQFGWvAsSHT4RBPr\n",
       "0hy3Vzd5hidkUYJXKBJJudgbEqHXk41SlhfVe8Upsb3fSEzhl4wWmusYniXqk+uC4BZsRSm4F5MK\n",
       "VM9CC7VdQwHNL6aSsfVwTEAOfBQF8BME0IQ9S85s82KQm1kIE8hq/neqYwI2V22jyRp90uh081R5\n",
       "IEyeUn6Y7NDDSy+RADuhAAAB8EGbEUmoQWyZTAhf//6MsAAC3BpjaXIqNO9QAXgf//HsZMPweocV\n",
       "mWMGqLzaHdj98gP22o1FB+FFXnJgDzJH7oBbkByKh1hU/wviky9bbrjgJ1G2MwfBONtmz3/f8VQO\n",
       "4XnkISEOS6GnQB98GU+eExpeYshEjwCmOZiSr9FVc9G8EsXdCW/lC7Cg1I+PCPYyZfLn4/ePyhXb\n",
       "RA2uaJwHlrG8/yfdWDpVZuWHmlhusx3dpwokFzgikRT+5cRGdRnOsZlFNsVq1i8PWsa637IjQBe2\n",
       "MQkLi4AESPFqYo/yzfzcMbwhouT+rJdu6+ty08JHW25UP/ldKqitqyaM1RYg8ZS5mLBzdGoCSYLt\n",
       "EYosfektxLkCKw2sTvLr8Bg01wxhFYjuAUWG90domPg/naAMNUM4OETDWyV6zyeRlPDmmj72foJh\n",
       "TKsa7TBJ/2vfiHYYVuglZjI65fwW89QOzaYkTgNS9qCy+lQs3j3zn5g5G/L714ap9p1IMXh90AwJ\n",
       "soWtnFrjrv8s+acleuvMgS5tccXRewsRLaTArdSe7Au2AYBh0hH6VLsIUVztxUCWK1tzDyc3xXDT\n",
       "YhNW93G3hg0vakk2scm2U0bgc9eZH7Yd1AbWNEnQzp5M/lhnybz+XaLJ4Q6skagBIG+AThl/2w3a\n",
       "hD0AAAFyQZ8vRRUsL/8AAG6U5ypsl5OBiMkEf2i+fWZknq8VFWyltehrnP6+9kEVTAM37iPRLjFf\n",
       "XXB40fQV/jjVv3zTxdj2gF2fxMOLEwI83bceMYxxMBzL214+5c2fhWt8bvF9ZRRWVkJeuk48KJnq\n",
       "heUL5uNW2lESYrli/JbEk/bP/4KnGvAY6XZE6kbvGjhMul16evn2wH89f9MDezVWWh/WibPFI+bG\n",
       "0VKTJPXWdAu4CspAMEbdChhUHU77AitCW+FHhE5F5K0oiMMZh/Pbk1hg6mvLbWCfIcyYDF9Tbbbe\n",
       "eqsOSfOtd1jMh/WDnOJNftEUrF/gAd5rx2/jrf3Yacyl2TX0jI8No1WCmnOugGWM9cpLKeXM5HxA\n",
       "8H/gzx0Fbs+JHwqU7iatvIqW6AEwB0JunmTFddQnE+ypZuf/JidXWtrs00RQSywxPsD3WcTYt+xN\n",
       "UBUlPZc4WT4spbom1eVaQT7yKZt2yP7UghCfNqEQVMBlwQAAAKsBn050Qr8AAJbZ6CPOP8u72xHy\n",
       "tMKtCgtN6iFmca0iIRtS6re578Lj1cAEI0JWYwa4pzcDsC/l5blQf9X3ATrX3glbnHN758BePDqg\n",
       "mX3rxBMJCmFoGUhyRzT0G8dZKNGcIT+ORF2QSxS9E6WP7R4akE95tFvhGlJvZL+evHgzYu3SNF+B\n",
       "YIFDp7K3G/BORimvtuQEoRsYO6cxk+I357xnMWGYwrjGvYSGg/wAAADSAZ9QakK/AACWyQM0Fq1q\n",
       "HKYrIK3ubQ7wbvPmHppOmA23+BgsDsbMqRdYBBNxOpkUWGcGK/LGxcXkZHToRWUyfjB2hTABel2w\n",
       "CAlxQR1x76JleyGmn7MAf5S94dqGKsQ4I582lkpwH7BkOTW/48P02YAEQNSq4rVhVeNWbvwdLiWZ\n",
       "XpS4Gai/LJnJj4VffAaqw76b6A4q+KKRObkvkX6rO21sc7khOWKf6HQsUNZoAyzLKUfL6obTkmKm\n",
       "45Z/FjKhnYKizdLe0oX/isufg7VMgBxwAAABL0GbVUmoQWyZTAhn//6eEAABRvT1KF+x4OHr/raY\n",
       "ea5qzMtlcQWfCvLv0QoEuObNzb/TKOsRe9Ff+D0KeeauIRBdBgni7VK8DxMiYWmVTH+017Hxc+F4\n",
       "YUglSOFKyQySWLh8t7HTiSAoZ3scFw3eqzP0W+uxOyXfcPfrqEtkrbvbfUhbUimTa4jO7ukixTgw\n",
       "OWxgg6tKhf2jFOjeUm3ZRvV8ycYtyJ2v9/FUudhkgZrmUpLS+5jCRLPPGNdtwofa3HZdrL8Ti7CF\n",
       "QyyNdoki9TTRu8NT8qQweoyXlEhI2RE3smqNY3e91mwbiG+O5HHx2s9OcucY/XBEYqThnyBNiufg\n",
       "1vHNkNIJB0VpLVXR9Zt97Gz8l0Rj+arArCG2t7jm4f7B6kuugXjpnoabPgBJwQAAALlBn3NFFSwv\n",
       "/wAAbqIweuPXwJsbBTa9FQuz4RvS+pz180xu2BX3JhMsADTAhwgm1MWxzGnGp2RgSV88+dGKtAVh\n",
       "fZ0OGydMAx+hIHIwIZHc6egqbX93mO5J2dovLON2SezhyggPMzaSkwbUfxIUax+7x6wsO4SrENUa\n",
       "CgunLdZfAjcf5KMWNb3UY7lixau4sG+0cPHq2an6d/EFsRzQ6YNPmsol9r1tTb1+wMH5SQG+wf1s\n",
       "/LHqPDICtgAAAMABn5J0Qr8AAJb4mycxdi7xVQVqh0Ol3GX9I8NkPKcctWbeRtDnkYZafvIhAsjI\n",
       "qHTBhqjzx/+QJv+X4AQ8PqnczlrPT4L96RbLTckT0bjmI1L8jmzhb+wJNG5TZFtN6Jcqy6cee8Yh\n",
       "EhLlDKeN+Lus4TU7EOgTlPjHlhwBTESdnF0WDx5yvxfIV457zr5IbStzL7MN4NIqkGSxaWl7bVh4\n",
       "6p10bYp7DH/WriHMGL1c8wnBsBoYttyhIX9OelcQO6AAAAEXAZ+UakK/AACWyQMcvc6HLfaYwgtt\n",
       "Z1d8WWsaTamP9cmpcHueAmY+5W5SX2hIMAFtjOlEv2Y01aQc+dQM/UGQahfeP2/v6/pJ/FSJ7C4J\n",
       "rZTdcpa/lz6g9GMLC5daOXwiJP2NR/AGufB40Q3iyLAiySqJBahZsPzMfYMjM067JHUwObTQVY1w\n",
       "A4d7fk84j1hkKYUliww0rTCFVrP/8NdOqaWZVg3S1ZTv3zSaj55oGsc87oAFLRGsUG7D0udrGtYL\n",
       "LZf7k1S1QYdgb25JsLp1ODzx2ZNP2Fv8avKxh7NkolVrSDi34gbnx6EOCN9cc2BDuGLsiLaOLWM+\n",
       "o3k2ZU2SybZSPr0a5Ih3ZY1hcIH22ywGWUcrn/vRAAABM0Gbl0moQWyZTBRML//+jLAAATn5qqWo\n",
       "hINs9b1lpIoB/WR+kS6dR8Dy7vLQ30V/7wIt6c+FAKgo16iUQKVS0g0Jca7l39fvYQmYVMQwv0uC\n",
       "uj6FuzLX30BRI52zgj5PH62mcCjyh7Oq7/9K0rE7y3BXWKYP/QOb2gOk7dwfZZAkcicK1UfbdE2d\n",
       "FsivR9vx5zxx6x1+zVBTdnMUXMSCKRiZhd0nSCzV1SCyl/dOiN2/RVMpyQKC1gW+TMemjXqnVEYJ\n",
       "LTPoXnJFdG3qJu2jWe5Bpebjkubbh7sAHzxPtR9m4OlVcet7adLMguUbEFZhEoDJS+OXXgM1xEnZ\n",
       "HDye67xaLEu4hvNjH+0tFpk3kzE1O7EXcg12p8LnDfsHO9h4k7HPo/pj5G8LoePGJgdo/eblArYA\n",
       "AAGQAZ+2akK/AACXBmfgihvfq5TJ1Joe9oALkMIAsP1+LN4uLsgFCnr6YLG03PTeAlyV247XQkse\n",
       "n4dZBfRZPl+SAx5fmtacHkQZFi4vdg+0NEYHnvWwGyLY2mDbVlm+VjPLVX2s0mTDUWOMCWOpYfqI\n",
       "v4bkccP6Vv0aihLH06UuZxjDeIeVnJDdguzsI+/nDBdzOn0D/Gpi5pm4AhMbu3S+VksBfbW6CkI5\n",
       "ljz4yJrvyJSgmzOxeGpiTdr+5oBwZeozo1AMYtaqnN99gWjpnCGGM5PHYtfWYyPNVLYteab/aBjI\n",
       "iIr7OoXaiEchjkc4LrYXDJJkd/CI514J+778vtX02SQUYhOmwVohTIQnw8v2BY2WNLrH6Y+niDEq\n",
       "Q5uVjARgHqsr79x4szcv7T5LQ6pmNLwi96j+QPNQHWoJ42IXXUV8AaQsmmQVIBgxcS79t9KctEdg\n",
       "Im6niV0hJLfJIO9pjq9RWuLD0GdPZhm9dwEXmpFm1bI4TOkmYgxqGpmvnAqzAOX+a0/Qb6qXKTb3\n",
       "mxNSmQAAARpBm7tJ4QpSZTAhv/6nhAAAVAQrfkSHY7T2lIJnRQqdGB2tetDH0tW2e8QwqODAAyqt\n",
       "hBu8V8Xw8sAkmK5e5mhSR3c3x9OjZ4dvTeZDw7JBQtQRsp2HlJ1rohIClUSc/6Jivh3U5ZR4pMN3\n",
       "flbFEP7sHjOTwyz2sqeAN9z+kYmRQ7S3ZaO+9zSvvkXa26au+Ie+iQtcSXERJdlULt3U7faGo11R\n",
       "yr2DSdOJ4BDy0feXEpeOGki9qFaqp1pzaNnrUnko0/cM3Mw2D9MyyxS0CXFVaIjX0XbGmPniDPkm\n",
       "SEvREixbyI4OY+1tsbjigmK2mRe+0qwsUDt6igpAfCgOMKA4rWNWyYur3RXIBvt6HYlCynX258Tq\n",
       "7xjyDZkAAAEpQZ/ZRTRML/8AADJKX41jqTzmNWOMnlh4H/iy+agAmeXCZOc8pWeHz6SeUJRb67ep\n",
       "y/5/Yy1/6ED4+bjjUYTny+GPLuNgLTgAFB+tyVg2AeepYhzwjk1nNJPsxc3v+y4tuLqGyMeQEVLk\n",
       "bbHQBmTGWvkdnWYlIgPnLne006//N0IvyW3nX4DPphfUhTm1p+V2DqnIP3Wl6PTjpRDqyY7yPNt5\n",
       "GeZLc5PGK2Pc7dE6jw+KKXkEq3ld/1XKzHvRHYb3bqHXqSiq4EF46bDvuJ5caFZKUcnfMkb1jBE3\n",
       "d4TOgzGSbA3vrE3OzVooN70SwuA2QHyTp4AmmAUA9rWRL8h0DlL3uNuMtZD1Lh+nBmt9hhBr9bmz\n",
       "XLYJpSwDqQdAXIRZRoACPuMcBpBwAAABBAGf+HRCvwAAQXwZE0okLFkfrp7YhTpZoNPeXYZ6iBRn\n",
       "KABM7Csk5xgPaacwWwL/V9wfsQ9l3Q/Mjw0pRtWmq/WPV7GUJLdQ+jK6NLkdp2yJjEtf8yNQBPZk\n",
       "umdwb4r1bUrmiV6on8HvGDaUp02o3occ9oedex088TLroyag3SmM9ikz2YSi2Xakx7aRcnm1f1eO\n",
       "6dcUKA6oqjLHDWXkAGS2XUcmlUCfkISj+v8jodBGgSo4qs6+VdJe3OqHyQgLZlbNBB1r8VN/3Ba6\n",
       "hXUwmnqhKE7w0bMTnqWrsvN2jkcR0bA7pZxVrohlmfpDgJ2CCL5/VzqpC95BgJjcOluu9aSi1Bnx\n",
       "AAABZgGf+mpCvwAAQ3XjlTyKLDih8cQ1YexnBLhHvUgFz/nQ9wR4i2VkfgmlRwAgGAPMyMb+QvnN\n",
       "7turQvYrEFloqZ9H/cuhLqiaA61qUQd05tXxRkbMjqsw2g2RxX5cbc4VltvKnCDxafvvRbv5kG3l\n",
       "MPDApQl//MYiajAqSF95IX6ZNaqVghJKWRYl4SeKR1C8OfNm2owunyhyDava0t1i77aqVOxJWHc4\n",
       "EGESA7oYPoKM+3k2486HHELakmxtmWez6+4Yn+7qTmQ1GoAa4rAhTb4KB6FL03ox/xHlb/tPb1hB\n",
       "rE9C/EfTt9ZF7sE6YDkHEX0vAfMHQO+rtmTqfJqmp8PyHCzfuEYZ3l6QaiKEHfQMa92K1o4vkA+9\n",
       "bUK61FcYxc8FA0FyaLTr05cuUpbrqwMWvA+WvuMnWQ9NDgkhY2ca+vMc5cZk7MjqkjF9X5Xce91e\n",
       "CRTaSLGwk0A9TjuM1E5TiA2xgVcAAAFmQZv/SahBaJlMCGf//p4QAALZvvythUdcAIFyntI9ZC3R\n",
       "XFXdd1LWcHn7WNxOvtpv+RCf/leKZLIQZzWOv1MV2qQxWCOJP9f9u5OObBFeznXk/rXTDdM0TYEP\n",
       "X4CLu0MIA47EouPNhuIesueWs4WOOyw6RO/lv7jQbGPqKL76mM3HYfki6YuGJqR4X/e0mSoAyWbO\n",
       "fHDUlTAdejlr7ilbI3N0sUPEZsiwnJ3bKn+Di2DGQDwKAhb87I9t1KmJwDG9p3i082M1VR2YLqF9\n",
       "KIqDMM7T+Hv69b63gukf/tk/AZpFy3kuJmiAF044JALtit2+Y9doijbKnFXn5dZ+Shj7VwuzxvFR\n",
       "LymeUFAjiIOm6J4e21zzyRHJy/eYSWvfrIuNmBzRlhrEn3KnvBm9JNyYY6LXeb6EmQsKQqEKaKMs\n",
       "AnxAURiMnLm8JaQ/g6uacSzf5mNnltdpwehetzNBlLQdsQ5s2KAsoQAAAS9Bnh1FESwv/wAAbpTn\n",
       "JuC8A72ss8QsslK10LQgntyHxqLOzjbLKQt7lBS3+peYkUjDnRVC02wFe2qXSXGBP14DhQaB07fL\n",
       "1BKjSAubzZfPdkymyusNOUCH+bdSYpy6NEODdVHzEB1ooYjM0GRX1JbQJEr6S2YCFl4DX+l71I6f\n",
       "q5wkwsWV8sQWpg1t6SitHgn2e73LSfxJhKax4oCot5Ak5JYvPUyzaQtShI+ZUyRc/zN0yyU89W6z\n",
       "c+6Tc8NsNsGOam4ZVfOE8z4RikPHDU61KyyftWHIhR8UbJ1AVnl8XH7+NjbPxc0N0KWA+3jQZ9md\n",
       "SyzfHrJz+CxbXcZpcBv3eEVwMvYtpVilN9Y8wmLkv6TL8hj43LqMfyPthvP/SBUdq2zCoy/4opJm\n",
       "L3VkAh8AAAG9AZ48dEK/AABDXNiuZUcInYL/kaZf9j1mOLL6578Lj8qABCNCVmMGuKc3GP2MDwcG\n",
       "XHXxjSAR37vCeOvAlnpssBfmzLH9OIVU0Dugd8RZGT9RGIw8gWIjQKrdJSGDXfTO+cgbBacwxJl0\n",
       "M/xlxA92OrsINSgEBEN4yYsOrOKbzJQRn3a+yVpZwAKruG36P9qdSESqMFClLY54Ke8hv/SUk4qy\n",
       "dEQ1yiFz/D5iqL6dv2ShjfeHXedCV4ywEkiIia25clOsnp8NtEHr5jjcM+rLwlTt5bVz24wmkOx+\n",
       "2BeK+cTpC9e8OAlWZtyp08eDohKbEWq9xsRzkJ+aDp1PnfpYeAoEKyjkaer5L3UStAzIMfl6S+Qd\n",
       "By4bNjiPuzvJ87PgMHnE2xJfEvbQkeyJvTFhsQH5MXoPYZBapbff1gmhxIf1LPjTTWvQRhDcUiJC\n",
       "oHI8fzbg0c7g9S6dFSljJ8RDEHb8DIrD8hMCRlk2NGcxXM5jy60RfDOMv5iTpkicPfxg330M7PG8\n",
       "w4zmueQNvTbyQEWjs3ymNvDOhWi+Ut+SjTTfmnBcm6mWHV/OQXwZpm1xc6+Gioxyw1JKOhiDKgAA\n",
       "AXQBnj5qQr8AAJbsAKKgC+sA8nD/yYjvc9+hW86IwAbnPu0vmTmgC7Ko518wrEJAAg/4yJa6FDj5\n",
       "YNfvaaJ9wWWI48rtKm+jRCF7fCm9k1vI8b1oqk4W8rRFdpHZ6Tcj3MwrU05sCHlFA21lRyHGu+pB\n",
       "6x6/7eyUBWzjlLfb9lXmMm954AkYre8I88Fz20dqDaAVDHhNLt5OUg5JJZHqEN9HhPRF/ThfZ9AO\n",
       "0glB/SUb7Y9uDERaU9zSz3s46+7qZqIxB1iQdJy8vj+dhtM+CuJDbom/sPG8XAztbsV+d/kiHl0z\n",
       "5wBXE24vlvOFQDtAH3+9hJrielJO9gTyCAEf1hMb9eQyQrn2Upku76VXrv+Ru1FS9JT0mm2ztkJF\n",
       "m96u7ALDfyl7ZRPZdzrb1mAUKRcmcJcHbghhPWG33GQCWOvYKrQ7DsMuQ42F08JM+RZftLsyHAGI\n",
       "pX9IZMv2L8uO5M/39NMY3kTLuanD+O8D9pVeF15qCygAAAEAQZojSahBbJlMCFf//jhAAAsPc4Tz\n",
       "dLiTWgtgQ3QAQ5gnEgfNS4L32HuDJIb3kFSwMOwwPNXmgNJKBV1jXNILBU5y0vOJi4mlgbRmAOU2\n",
       "/NzZq4490Fo4pHcafnS+AKWRfz6bM+PQacqzYdYNBq+eeAIy87Zf6hFZw3DMrPeLRNl4XLkQow4k\n",
       "DTEaj7B3pQAtbAeZE5OC78MXPhZpl/kD+zjBrQPoEojG+8/U+uBEQFQrnwodx1lgtWXHxetP4JZu\n",
       "cVOVt7C5ItPmpV3J+bCOgD3Q8A6w2Ppm19PB6rQYLxXlwk77OSdpSfqRPHppaFpf/cXX8N6VbhV1\n",
       "rI4P6txltQAAAZVBnkFFFSwv/wAAboNOV9xd3zdPGh9w7mFW1URQ4o5rpxqkGgAudoCFBZvXRP4z\n",
       "J5hqWrOKfoBTSSudfQzNwluwtQZQhwzReG7eZBOwpQc7UgY+KMiXJdT/+DzFhOTnlzy5cgX6pyyW\n",
       "f6a7PvT55tz0wO2A0x46utv++ddGCpjT+LePRw9vfVNLSWIMFxLPrqnnMpC5WaMAoHZUNC5pkECO\n",
       "t0EkYlk96PoG+MAsDZ3za+eRRV84d69i0Xzufv8Erw/MgH7sqtD9CU55b0U28c9w8L8CqwcNHm3P\n",
       "qjOntYpKeJqAKW8vQEH18XIwneZRg5Iq8Yfy07U9FuigWI1KNrVT51nmbT8JmSNZJAPyYoLRNMu0\n",
       "QxwvHe9GjRfpeLgwl0pDYt3VLpKS+0Um0xp/BFn2Ml2yqYhUr2aN5HabtjIxIjS0GTcZdZOpdSBR\n",
       "i/LzXrGPGYApdCFrK8VIw+AkKZIWvKf2MdT6ZfPMO/KJyoP9i/Bz/bbrQ289FQuz7whKb3EB142r\n",
       "Ui88b9QPqHhGXNNq0lAAu4AAAAE2AZ5gdEK/AACWuh+JHI1NB1KHdDx/EAC4H5M5niK0Ncvwttk5\n",
       "16x/kt8D7tOuDf+vi9FTyjNaiJsiLGpkYXIiubbLv1foMQnQ7l2CxTqNOf2+5o1G0CA7wG8lPTh3\n",
       "ltt5DEghKHoSe70BLt5ffE7Jj5MhpYvCXrgbJZW7LoR2TaI04frCGtgTFXKC2Y+f5IB9Ve1/RyDv\n",
       "aTyoiQIhetHYI2KeQ9pwQ12eIUq7z7bQUVnIOI8jiwRA4wWyyYC9lNoNOozsmuo8I5OW2Yx05mTg\n",
       "WgvcP18rBQy3GmXOw8f9lQNpIyBlC5Og0lECt0XEty+DLBjo92ecH+c5WPBmoJEIIqnvQml8EqQU\n",
       "Yk+iFhLzunB8q0uFqvLKJrDI8S7Wv2R9SBq4y2E85djnarXEjHStqcx2e41GpwAAAMgBnmJqQr8A\n",
       "AENkJyWT6uFP1xm0dW3bDiIMckdRpCwuNdNQugUhFRwc1tAxkiwfABova+Gv37X4Y0V8JsIgzaRo\n",
       "wuy9nI+w/L7967XFtqMx6C7S1jzRmRvyZWWt0wwcfkwspPxpFFV8nhjJPaThjNLkiNjE4+uGEwC4\n",
       "H+SkaiKoHpXxgAUphYkb9AvKpEZQSo1AW00EEYN5iDEeiZV08pYyywOEVyn8pRHNiv9tR18LZrGA\n",
       "TZAnYfKthuiE0hjVk7q3lGHDMlAPmAAAB9Ztb292AAAAbG12aGQAAAAAAAAAAAAAAAAAAAPoAAAP\n",
       "oAABAAABAAAAAAAAAAAAAAAAAQAAAAAAAAAAAAAAAAAAAAEAAAAAAAAAAAAAAAAAAEAAAAAAAAAA\n",
       "AAAAAAAAAAAAAAAAAAAAAAAAAAAAAAACAAAHAHRyYWsAAABcdGtoZAAAAAMAAAAAAAAAAAAAAAEA\n",
       "AAAAAAAPoAAAAAAAAAAAAAAAAAAAAAAAAQAAAAAAAAAAAAAAAAAAAAEAAAAAAAAAAAAAAAAAAEAA\n",
       "AAACgAAAAeAAAAAAACRlZHRzAAAAHGVsc3QAAAAAAAAAAQAAD6AAAAQAAAEAAAAABnhtZGlhAAAA\n",
       "IG1kaGQAAAAAAAAAAAAAAAAAADIAAADIAFXEAAAAAAAtaGRscgAAAAAAAAAAdmlkZQAAAAAAAAAA\n",
       "AAAAAFZpZGVvSGFuZGxlcgAAAAYjbWluZgAAABR2bWhkAAAAAQAAAAAAAAAAAAAAJGRpbmYAAAAc\n",
       "ZHJlZgAAAAAAAAABAAAADHVybCAAAAABAAAF43N0YmwAAACzc3RzZAAAAAAAAAABAAAAo2F2YzEA\n",
       "AAAAAAAAAQAAAAAAAAAAAAAAAAAAAAACgAHgAEgAAABIAAAAAAAAAAEAAAAAAAAAAAAAAAAAAAAA\n",
       "AAAAAAAAAAAAAAAAAAAAAAAY//8AAAAxYXZjQwFkAB7/4QAYZ2QAHqzZQKA9oQAAAwABAAADADIP\n",
       "Fi2WAQAGaOvjyyLAAAAAHHV1aWRraEDyXyRPxbo5pRvPAyPzAAAAAAAAABhzdHRzAAAAAAAAAAEA\n",
       "AABkAAACAAAAABRzdHNzAAAAAAAAAAEAAAABAAADKGN0dHMAAAAAAAAAYwAAAAEAAAQAAAAAAQAA\n",
       "CgAAAAABAAAEAAAAAAEAAAAAAAAAAQAAAgAAAAABAAAKAAAAAAEAAAQAAAAAAQAAAAAAAAABAAAC\n",
       "AAAAAAEAAAoAAAAAAQAABAAAAAABAAAAAAAAAAEAAAIAAAAAAQAACgAAAAABAAAEAAAAAAEAAAAA\n",
       "AAAAAQAAAgAAAAABAAAKAAAAAAEAAAQAAAAAAQAAAAAAAAABAAACAAAAAAEAAAoAAAAAAQAABAAA\n",
       "AAABAAAAAAAAAAEAAAIAAAAAAQAACgAAAAABAAAEAAAAAAEAAAAAAAAAAQAAAgAAAAABAAAGAAAA\n",
       "AAEAAAIAAAAAAQAACgAAAAABAAAEAAAAAAEAAAAAAAAAAQAAAgAAAAABAAAKAAAAAAEAAAQAAAAA\n",
       "AQAAAAAAAAABAAACAAAAAAEAAAgAAAAAAgAAAgAAAAABAAAKAAAAAAEAAAQAAAAAAQAAAAAAAAAB\n",
       "AAACAAAAAAEAAAoAAAAAAQAABAAAAAABAAAAAAAAAAEAAAIAAAAAAQAABgAAAAABAAACAAAAAAEA\n",
       "AAYAAAAAAQAAAgAAAAABAAAKAAAAAAEAAAQAAAAAAQAAAAAAAAABAAACAAAAAAEAAAoAAAAAAQAA\n",
       "BAAAAAABAAAAAAAAAAEAAAIAAAAAAQAACgAAAAABAAAEAAAAAAEAAAAAAAAAAQAAAgAAAAABAAAK\n",
       "AAAAAAEAAAQAAAAAAQAAAAAAAAABAAACAAAAAAEAAAoAAAAAAQAABAAAAAABAAAAAAAAAAEAAAIA\n",
       "AAAAAQAACgAAAAABAAAEAAAAAAEAAAAAAAAAAQAAAgAAAAABAAAKAAAAAAEAAAQAAAAAAQAAAAAA\n",
       "AAABAAACAAAAAAEAAAoAAAAAAQAABAAAAAABAAAAAAAAAAEAAAIAAAAAAQAABgAAAAABAAACAAAA\n",
       "AAEAAAoAAAAAAQAABAAAAAABAAAAAAAAAAEAAAIAAAAAAQAACgAAAAABAAAEAAAAAAEAAAAAAAAA\n",
       "AQAAAgAAAAABAAAKAAAAAAEAAAQAAAAAAQAAAAAAAAABAAACAAAAABxzdHNjAAAAAAAAAAEAAAAB\n",
       "AAAAZAAAAAEAAAGkc3RzegAAAAAAAAAAAAAAZAAADj0AAALjAAABpAAAAPEAAAD/AAACFwAAARYA\n",
       "AADKAAABCgAAAbgAAADsAAABMAAAATAAAAFAAAAA/AAAAP0AAAE/AAACMgAAAMcAAADuAAAA8gAA\n",
       "AacAAAGsAAABJgAAAWwAAAElAAAAowAAANMAAAEWAAABtQAAAS4AAAIRAAABRwAAAM8AAAEmAAAB\n",
       "lQAAAOcAAAC+AAAAvgAAAWwAAADPAAAA9AAAAVUAAAD2AAAA4wAAAXsAAAG9AAABZwAAAMYAAAFe\n",
       "AAABcAAAARcAAAF6AAAA9gAAALAAAAC2AAABQwAAARsAAAGAAAAA/QAAAMcAAAGCAAAB3wAAAO4A\n",
       "AAC1AAABIgAAAXIAAADPAAABCQAAAO4AAAHFAAAAzQAAAS8AAAEXAAABEAAAAPMAAAEeAAABEwAA\n",
       "AfQAAAF2AAAArwAAANYAAAEzAAAAvQAAAMQAAAEbAAABNwAAAZQAAAEeAAABLQAAAQgAAAFqAAAB\n",
       "agAAATMAAAHBAAABeAAAAQQAAAGZAAABOgAAAMwAAAAUc3RjbwAAAAAAAAABAAAALAAAAGJ1ZHRh\n",
       "AAAAWm1ldGEAAAAAAAAAIWhkbHIAAAAAAAAAAG1kaXJhcHBsAAAAAAAAAAAAAAAALWlsc3QAAAAl\n",
       "qXRvbwAAAB1kYXRhAAAAAQAAAABMYXZmNTguMjkuMTAw\n",
       "\">\n",
       "  Your browser does not support the video tag.\n",
       "</video>"
      ],
      "text/plain": [
       "<IPython.core.display.HTML object>"
      ]
     },
     "execution_count": 14,
     "metadata": {},
     "output_type": "execute_result"
    },
    {
     "data": {
      "image/png": "[encoded data removed]",
      "text/plain": [
       "<Figure size 640x480 with 1 Axes>"
      ]
     },
     "metadata": {},
     "output_type": "display_data"
    }
   ],
   "source": [
    "fig, ax = plt.subplots()\n",
    "anim = splt.animator(spike_data_sample, fig, ax)\n",
    "# plt.rcParams['animation.ffmpeg_path'] = 'C:\\\\path\\\\to\\\\your\\\\ffmpeg.exe'\n",
    "\n",
    "HTML(anim.to_html5_video())"
   ]
  },
  {
   "cell_type": "code",
   "execution_count": 15,
   "metadata": {
    "id": "ko8KJBCNobY4",
    "pycharm": {
     "name": "#%%\n"
    }
   },
   "outputs": [],
   "source": [
    "# If you're feeling sentimental, you can save the animation: .gif, .mp4 etc.\n",
    "anim.save(\"spike_mnist_test.mp4\")"
   ]
  },
  {
   "cell_type": "markdown",
   "metadata": {
    "id": "gu1_f0XZobY4",
    "pycharm": {
     "name": "#%% md\n"
    }
   },
   "source": [
    "The associated target label can be indexed as follows:"
   ]
  },
  {
   "cell_type": "code",
   "execution_count": 16,
   "metadata": {
    "id": "7Yb76uofobY4",
    "pycharm": {
     "name": "#%%\n"
    }
   },
   "outputs": [
    {
     "name": "stdout",
     "output_type": "stream",
     "text": [
      "The corresponding target is: 4\n"
     ]
    }
   ],
   "source": [
    "print(f\"The corresponding target is: {targets_it[0]}\")"
   ]
  },
  {
   "cell_type": "markdown",
   "metadata": {
    "id": "YTRqW-wtobY5",
    "pycharm": {
     "name": "#%% md\n"
    }
   },
   "source": [
    "MNIST features a greyscale image, and the white text guarantees a 100% of spiking at every time step. So let's do that again but reduce the spiking frequency. This can be achieved by setting the argument `gain`. Here, we will reduce spiking frequency to 25%."
   ]
  },
  {
   "cell_type": "code",
   "execution_count": 17,
   "metadata": {
    "id": "ymxnM4CaobY5",
    "pycharm": {
     "name": "#%%\n"
    }
   },
   "outputs": [
    {
     "data": {
      "text/html": [
       "<video width=\"640\" height=\"480\" controls autoplay loop>\n",
       "  <source type=\"video/mp4\" src=\"data:video/mp4;base64,AAAAHGZ0eXBNNFYgAAACAGlzb21pc28yYXZjMQAAAAhmcmVlAAErr21kYXQAAAKvBgX//6vcRem9\n",
       "5tlIt5Ys2CDZI+7veDI2NCAtIGNvcmUgMTU4IHIyOTg0IDM3NTlmY2IgLSBILjI2NC9NUEVHLTQg\n",
       "QVZDIGNvZGVjIC0gQ29weWxlZnQgMjAwMy0yMDE5IC0gaHR0cDovL3d3dy52aWRlb2xhbi5vcmcv\n",
       "eDI2NC5odG1sIC0gb3B0aW9uczogY2FiYWM9MSByZWY9MyBkZWJsb2NrPTE6MDowIGFuYWx5c2U9\n",
       "MHgzOjB4MTEzIG1lPWhleCBzdWJtZT03IHBzeT0xIHBzeV9yZD0xLjAwOjAuMDAgbWl4ZWRfcmVm\n",
       "PTEgbWVfcmFuZ2U9MTYgY2hyb21hX21lPTEgdHJlbGxpcz0xIDh4OGRjdD0xIGNxbT0wIGRlYWR6\n",
       "b25lPTIxLDExIGZhc3RfcHNraXA9MSBjaHJvbWFfcXBfb2Zmc2V0PS0yIHRocmVhZHM9MTUgbG9v\n",
       "a2FoZWFkX3RocmVhZHM9MiBzbGljZWRfdGhyZWFkcz0wIG5yPTAgZGVjaW1hdGU9MSBpbnRlcmxh\n",
       "Y2VkPTAgYmx1cmF5X2NvbXBhdD0wIGNvbnN0cmFpbmVkX2ludHJhPTAgYmZyYW1lcz0zIGJfcHly\n",
       "YW1pZD0yIGJfYWRhcHQ9MSBiX2JpYXM9MCBkaXJlY3Q9MSB3ZWlnaHRiPTEgb3Blbl9nb3A9MCB3\n",
       "ZWlnaHRwPTIga2V5aW50PTI1MCBrZXlpbnRfbWluPTI1IHNjZW5lY3V0PTQwIGludHJhX3JlZnJl\n",
       "c2g9MCByY19sb29rYWhlYWQ9NDAgcmM9Y3JmIG1idHJlZT0xIGNyZj0yMy4wIHFjb21wPTAuNjAg\n",
       "cXBtaW49MCBxcG1heD02OSBxcHN0ZXA9NCBpcF9yYXRpbz0xLjQwIGFxPTE6MS4wMACAAAAHk2WI\n",
       "hAA3//728P4FNjuY0JcRzeidMx+/Fbi6NDe9zgAAAwAAAwAAAwG5pYX/dnfziCAAAAMAdsAVr+/g\n",
       "hHykB3/JgjRY8AzRUd7vzLlY0XhabljQ+Z7ewwyhIR1orkccHQW0L+ywiQhc+QeBMSeTrX3Eav2A\n",
       "/P3ewZruZFPJD1/ExdaDIpy5IWcGvpMzQFkyAA2E4WbFy2Qo8yTijj6Ax3+BpoJubpVSjH4B1Qm7\n",
       "gaPRBb9vQCZhfwYfV+VvZOni+6G/PukpqV19pMbceVwtZP3Uom6e5Sm8iDn1QJ2miZ9uqtfMB32J\n",
       "xjhbTd34jBIJizzHYf6lP3aRuVTdd/wQYFXrlSFzO4LRJuQNYxsJPf1/6/2MdVLmO0JiEUIdQAoQ\n",
       "JmvBx/BvJgHW8aC2au5BUkOROD/P7pwZiaW7oydt2XIIvVJ4/gDwwK8TlLmVLukkeLIyo2r7luxi\n",
       "mBC3C43JsKFLSR5lh0N6vgQPZ4MWWq4/SqgWv45ugiQmgUS/xfeBsddG8a2oXZZNUo/cgonMyQN8\n",
       "F0bfX2G2le7zpy/zjEBl+ZSmfDbeo7fXihsWhHaDCBqdXU5WOkwH5OHdSsvA7oE34QiagWEdDsg0\n",
       "u0eLe+IgxB3waeZEto0Cf7vyMw9ncwrsRyHMzLyu45bs/Ftduft/Cv9FGegNI3JXm6PoLR7iqK9r\n",
       "HzA0x+/Blp9HkVzDBRyhRLJ7OFMbZ8aHzvKA0K0EzZBmoYS06taRW9lM5LvvV0gWQpIuoq11R4ZF\n",
       "K6X9gQeZfaeh7NPlhHRCeueF8cEyl3bSgR5ctNX0/bcenZj8hfB1kPlpRajX5+dsGOWyGr6/Irhv\n",
       "L16qcRwawt64OkgxBBitYG2oBckyKaFUZ4By0iVcfotTXqSrYmlsMy4haoi8zlPhIC1RiUzUvmVl\n",
       "Y9pMTzwVNW8/L1GOncqIo7ly/Q72xYMs5Xd9ogxQwALTcqGP/veh4yhpJ15HvNWPQ0AKxqFK+ul9\n",
       "c2u22YnUYWfMIKnJZe6/AbvNbcJ4YdW8K6gnnYiFt1pldd9JJdzjX7B74eE6njSrOoAE1HnOEMtm\n",
       "ciFgbfuXszgwYNnS3e7DsgPXmsAOjGUYjLQToCnhqn4N+AFD+7N04uYhMILgsTqbjRkH9Q5+dTNt\n",
       "BJnSaB1hFRQmOgB5Y+7hvwsiHYmuDEQbBD48YMHvkPq/UOqJhU/+SlzspGbsWPN1JTwU/kwWbliu\n",
       "+2doGEDtsHDhRjXoKVmcp6hsGxS8jTNxqSv1NT9sHQi+N194jm1M/MNf+L/ivWnYVpFAF4Z26nXG\n",
       "E1KpBad+raK+4YQ3ImRvgBA41VwehDlfKHB6tibNOdyN91uN7c8kIkby9ewy+zboN0FgDgubPaip\n",
       "Ov8z0o3y77TLFoao79jpZ+VozcsOTrr0jfldX5ou0xN9PPkbXqlb+py4KRJxoHsMcb1X16gAwBS4\n",
       "2QTY9WRtcxj9WL+hQGDOLURhRZp/OLId2SkfGgcdbSg/1KLEeHTQMPQj6/hu3FgyBVsPU115IqAH\n",
       "yBGqArbXO1Ao+CG+yvud7XehDypM3yhZmgpBeKTt9mDfaBoG+cQYSFC3bJluJqndx2cSs8T2RBuX\n",
       "SKWdKTcfgXAIZbDiHAwpLo81+ycTi1bUqoLnNf5785+grLL8jbHyIXuAv0HKvoK3vZQol6Kc/mKZ\n",
       "rV3m3loKSUIh8jKK5n2ZRSLz1o7jiWdTch4ZzGkh1fAxKJukoofSmYs2Dloh6rPiwf+hzXwiFPok\n",
       "dPk/GaU7s3G+5ExvAF2qoq8a3WQoNjJKybPzffuPynoHTQwmgu6E3i7fiXsfcI2OYX+MBidGu5wN\n",
       "vAHG6ExyiIdgiCPGx1wFrQeP2oLGdDgWufnXQVlojp14lx6cR8MC6eAuAw1nh0LRdP4++ZMHCDCl\n",
       "ls6b7wwSgQ59DynJSWz1kpY7zAutLPnGc3HTvAapAmv6HoOzLN4x7K3MrMBCJuecgA3ncg1vZHSV\n",
       "JltlMDFy+TUzRiwN5NnrKNwFSSg0rwwfE8QVzJ3aKkVLcPEchqLMjYiavyhltiEAeCqu2IVfXCur\n",
       "CS7IaCCU3201Tid6lxiz40HBH790/Sl3eNSdjkjJ0r1944qOkoBJCmVt6sBtGFSWni45C8jGwfPr\n",
       "IZqRc7AXog6XzO/OaQaGm1vDSNsJGmer8fRXxWbDQAxymLaqWhu9rgoIdbWz7slDcTNpPkta6Bw+\n",
       "UfPpx55psUuHZBN1VuAJRoNX9Gd8iSXJoM00sb+KmtGDbm+MP2xemCjnzBvDvrBfTv576wrcw8RB\n",
       "foci0+EuKMkxcC7HEi9wiW0z0nFS7A9g3R2PUhA8JKL/UqCl+9vsantj+mCMmMeqx9+2aPi23wjH\n",
       "tW6L6PzDIQuF1WxyKctW53rXiyRNsD1UbbpU9NBYQWXCD0+eeQAM1iBdX/IJJwUSCreFBSmyMBzs\n",
       "qHmirDs5AdYj6tXdy1SYe1tWJDLuznMG2b5tp9oz/xHeBvTUVW29ZTCKyntA5EE4Sy+rh354hw3U\n",
       "o7H+Wd0LduEzeOcYQygBPjlLvP5PcH6rRNSZVdddKBZl5Gv87zP0vlBLc5QAAAMBbFC6wAAAGzEA\n",
       "AAaeQZokbEM//p4QAALZvv9gqZtoAAuCqe6JlOH6L+0wV/L+htuk0YjzbwukPBxSnHNyOVZIcxMM\n",
       "DwWrUC0lHxE9n8dv/7MglJAe+JWU/VonVs+V//i0D0uX2bCz8odCsTngUVu+PE4d1cOFyxjvmRMT\n",
       "5BNmQWL0cAqNH+bXy9Anqj67qf/d2ASwYF06nkzPuHGftNN2qcG2nnC5iTXt1uNTpYA0IE6NC9UJ\n",
       "6Y547/tIs2Xu5nPXbVoQ+56cFeu01FRFd0kFQP6XV6QL/71OiIEFkq4Rw5BLSIHnXi5E2dto7eSj\n",
       "YBaN3GvSFriYcX+ELcE9/r3YpDRssNa0+mUgQzYiKpZ+6kYvUEmH4A4Tg+wjyEcKbBpI9lUKlrQ7\n",
       "15SgFtcfhfPU8n712+MlQvHz0pUDRSv5SRPt/o+x9/qiqa7WLTu7R+FgeqcPNRp2F/0NVMigmRZh\n",
       "aiLMCWibhDifE4/plXYpyGRtfZzmOGM3NtDP619SfAHPjHRcwW03fcagdRaS07q1m6pn85KJBWWg\n",
       "4THeflGiRziAWSwH9Cx1e6wojuO2d1f+7WLqC8PJCsyH7pL/nHfW9LdyIMRjNt/iZfnjoR2L0vOg\n",
       "mt7dOPTvKTYYT/MD6dG2S+1346IiYXvvE/llDYwVX+PnGWmeKUm4BSwep0F9bUrMMPGskQ/NfRnE\n",
       "QPlcKmfgaGMX/+p9Phj1mNdMlSu8W7KD6oUFS0a9LAd5j6gNDIYjhrnrRLXS7WHsXy1XMW3Em3vT\n",
       "+fnuonEa4VLnU5ya/Nkxevs0o+w7G4A7DhaX0hw5fzbLbAX6lQdyRzNYHsfXce8T7KA/ouui/zEM\n",
       "fuC9bJgt03fF3sPqbhGeO+h1YsupRUzr1/Eq2pFHkESYs6BQ4xn6gAY3jfLCltQmO7Km7aSn4Bh3\n",
       "gWFJXZv1/2oaWlARt+DO9o4muV1kjB8PllY7mjAKxi4+4s5XYKynnMg4ybErC9DpOJGvCApGSMfA\n",
       "7Lowfytb2IU70J8uAOu7hG/qeaQS4rrajyy3J+mKMt8fsM8w5/2345jUn2dxEsb+5nyzGHRop601\n",
       "TNJDMwxYl7mx3NaQrvVNyrTSw9FkhJi/TLEAIxOXFycTAit2+Zwl9E+5LhvWXUaZURvw+rNbOgFK\n",
       "mZQ6qhYx6diQsR0JAXBQsCY3PdxjYsYXBPfC//oW0OL6WHMtCeAAi3K055N7TWTKJJYKLg2KfRth\n",
       "53Z/oEXifUpHwA6sltteQ7oamg2fkbfQVaa4DnQ6GLHlDQghWO6npmTL+f4NVw6uASdmBjfKwaaK\n",
       "Avk0EMVKGuo7GX8OkLUCPeit7doqTFBgkqG/wtZXeDgVyn1JBJ7x6l8J7TKX+gJfOTGPkuSTADR8\n",
       "zaMjerY9YIIualZ87Ww+bWtY+xQqk3QRB7qdKkDl5KR7BRD+5qejKLyk3vT4FGRe1ykZLuyWHjxl\n",
       "tl3prknVDo2iAQyIkt4ohCnoSFP1UXeCJluO+UUQ4AZREE8D7/7AFUhGaZHPjl/RH56nGrQj5jEX\n",
       "CqE4mNiYVn9hubvm0BJg4GBLV2EEjmAaCdFNQfirY+IW5hW6F4eoy499mVVFfRJAoM9adoorc6gt\n",
       "LxVvs8W1i5sKshxJ9HXr2sFhzFzynq7ZetK2HqmsNjE17V/9NIfUK8wn7rX/WKb1s7AZQPxemuVK\n",
       "c8r2q7pmJ9poILoESWOxnYA5jwlAxr0puHksM/EiaHulnr/nO47oTXLaeQcbgcPhu5i0zOpxVCjM\n",
       "w/d3vGNfZ7SPIHV5GZgCZ96cqNFG3bK0sJhcOpDoEBlygkEDMx6fEr+qCYJxSW0liPEciJA/DicW\n",
       "LKyjm82epAdJk7J1iOVKiKsgW2m9TPPmwOuhcFn81plXs+8FdfTjJykbffd2LX7PTP0unQqL06y+\n",
       "E7UwtMGhted3N22OTNWkglaUMD14rmir0Pwi2GLKeUPMwyXNWJqBAo4ZpaTG3WqPF2GJKFqq1Io7\n",
       "8q8RKn/lhx8nK9uj19P8RXFUQXB6zvJR+KGJbNyCyVi/DDVK78agfl1sNnfAW6fXcCnD843PTHyU\n",
       "bngYomlqF3xn2x7TDmI7OiFMcDE86W3/7MQq5E6TxNjWcTlXvevvJHtHa9yL7yxF3/pUF5vC5uGI\n",
       "LzIx7dC8Vh05QsekEgfBO6+Zo5V/g1TVPLwVfYAK0oo504dS4jqiyTu3P1QxnV+NiRDNK9hIseu9\n",
       "2CjppJIko7OPCuuNpSZEABYj+zSI//OxcDYFO0kzAVQUMbR2938D+nKasakAAAPbQZ5CeIV/AACW\n",
       "+DIxtQCqCZG7gbFXwARToL+3qNiRA/uDH3RcjFnj5BsaM2DXx3EIsxFJSgBuNTXS7tlwnGdXM1OQ\n",
       "SiSjjdp+GrDP77FnPzIDunnqdljgHNvCJKMK9fMREydFDSOGCnNwC9RWqYFYWgNorCEovckjZIOU\n",
       "SzHTs7/+9J/4VivE7nJv1BSu3aXEE1p3HZns9MCALrxlWKCNzjJb5S6vNzknhf4JmSTg56v7/aKq\n",
       "KO/tkbX//BMBa+Wg3YZYzo3oLxOTNz4kOAkNzV6VYJTDIPhppi5jsylke1PF5xHTk/1098oI/8ed\n",
       "pGB+lyoMlHT0KpmlauOx/Er9Uu0leYD9SmkbHTHlJZ4NdCs7LA9wMHgM9bcSdXOFWIcAHQADl+KF\n",
       "6WQQEqPKvQD13C9jXN/tqxtJojq8UxF8ydUD6c66IhkrXpA2ZPzIrCXjHGdrM15VkHnuIUyMmYEg\n",
       "oRi1zmMDU3tuscbIObHGIVNUcG5MrjBQilQAnePx56yCWqpLxFfzHkq4ZrvD3AHUz4ih5dtKThNj\n",
       "U7u9DFsdzqD3nYTExjrkSV81KT1UgosMuLGKQV11I41lKD55wbsq+E44yyioJ/0FXgNA0v9/ifND\n",
       "ALtl0lNqcA3iaMToQ2ntjA1UOx/pN9JWht5Tj5pOc/jXaWlfMM8o1l2Gya58RvRqrCw6zMKuMK77\n",
       "XSZs/F4mHC0kHl8WY3JMUPv1S/8+ZrJnrFC4pRhnx7fBEMc2GgMwPJIFPl9xup/O6oeGq0YPHqal\n",
       "bFCmkN2WQP3ni6HtFlNyBmJHz8Y0s6IiO/rAxxXfYZn6uwGzc3IZcz00jJlfzuYPCSraq5sLLEun\n",
       "xz7xzUHTbc6PKeqe0Kz8Swj9HaZpdGPiOtbpOiKCVFmx5cUeqzMOgIEiaU/bxp+3+27OROb8HHfY\n",
       "fiT06fT7dySKN302Jlb5dNLTeAjtIMZYAVzULDg44gVZ8bnnnj6ReYQKiWrzFrhfY4oY2ZDYO2Is\n",
       "1TdYeSAHKPySpG3FpF/EIn3yDmw5RiL8WrN9FtZDYFNP6e3UKADVDUMEKlTPTi9X7k6UwnZLBS/F\n",
       "oQMKm37e0gkhSOHIi2uUq9Bt14i/KEw5TbXQT+VhWMxue7YJFvvROYftK9DDUp/EJovcbDe3gGI2\n",
       "hqUgn8DZwSMlT7oNqYJVki5sMWE0tQrA3YwQIQL6b3DF5+zECdr9aQcS0O0GoTW0iMgXHUSzY1LP\n",
       "FBN7knl1t7PRxdNwaQYDlR8Ut6baIRtQlV2gvJDCFT+uYNc0qReSHriDGo15Csb2wNzAouRPdeZB\n",
       "bWRUFqbtKFJBAAACMAGeYXRCvwAAlrPlXYDdAAcN/s4oe4a/GiBGSIL1hgrgDD5gaOuYqp/9NpfP\n",
       "U2PKPFDw5/lx99ge68cehrfPpD4J3c47nGXiKutrPbeyPRz30/dHlu3ZEGbadlZeH3k4iBDl6yZU\n",
       "o85S43ef/4O6pmex+1wxB65i82Ra3QfSqZxgLC5JWBHYjHe+7aluundSXkefryJXEDflTk5vrN6b\n",
       "tdIA7mWBfEfu5Gwzv51uOgmYOxgX1YSCSLX2N0AhY4QPU5cGpc59aN6JjtbZwtKCFbYnfUb00cKQ\n",
       "gFIUqcpJNC897+xBVAYL0AprJxXsJd8+d/fd1oB9ZH9Fbs0kdsRH7xlPNeR2g37OBOFv2zSnwmt4\n",
       "Qzssj9pKULlYgTkuVjvEOhI04OdhYP7Ky+Zvdt4bUa0GL7dSBEUho6fD6Lasv2nI2xc9cZR4rc5m\n",
       "EAjLRRfVehKuCQLL0gi9b/Le0Ru6ZiH+gdrMj5GOX3gnhkRSI1aoPJjWLEr1QqutzLylWrjXnGmA\n",
       "dZNlYiIZCRhrohdGl+fi8tnZXmyNBIgrzruZl08QW0snrDK8wT/SGp6s3n58ml3CcPB4y2lvIW28\n",
       "WIyTEUrmk3eKyYZd8OIKOhIdZ3l3TWsxveJMeXzL6IKzchYDUS6GvOSzunCTf+4KS09FDJbWW0yn\n",
       "0VH4Al/RL9F1vk7/RimD+2I7AdL2C3Q/S+PeH++lmLbTx9ggTi/5UwOTNsL6yzLKV4qySn0g86I9\n",
       "4oCCAAACBwGeY2pCvwAAluu5gtOwCsJEeLMAHVT916O+R4iPjCEOctwbGxctREHUkgpC4V0W889N\n",
       "yekxlWm5+KCfigkvbKdwf8uQ6B0959gjDY+RjFjO0f4QKOrYtxXHoUQgerQxWkLzd/lI9TGtwD+L\n",
       "Vgl8RtNaP0k5K1dwJtjUFMyOFrqQTzf3NZkvsRibyg89eA1pT8VOtBR0ZExpKPch9P2fu1Zj4vf4\n",
       "fG7Qf1YS1fqj75XO+MtVfmJ+TVY+ipvRLvrib0F1df61PnYRCIyXMY3qFeWI4blSkBn4RK2XuD3a\n",
       "axdeoV4XXkmCBb84SOYx1/5pyP8qzuxaqqzaZKGECFLqyKD/ZA+d9q08ZzaaHReTLPwXsEPrGGh2\n",
       "xBU1wz590MA/WNTILGCix0KbHDuGJq7j3hnP5l9gapUOKFkasxyCWdM4wmQPKCNwWezDG58Tb+3v\n",
       "tmCVG0t5inJ1/B5XwEkPBk3R99BooAeMGOzUCCAEueW154QLQXsLx/EDz5J1IrSatEMHi3UJyYfp\n",
       "DtpiWG+mQ4Li1hgG5xZ09UCUK4b5h+UmDTdSzmfDbeUKRqwPX41Rh7qRyfPdw7Kdpv8IKsqAE1Fu\n",
       "4t65HKRV95Px17I44GtYQ12qCUPQI34tfGxBkXDyhCWLPr9XWEmph79k9KRPK7FcrwWwpsx9Wnlu\n",
       "XyyiC6YtvdEx9smDgQAAAp9BmmZJqEFomUwU8L/+jLAAAt/uZv/MZdwQxYc1uwtvIUYa5MqaJq3r\n",
       "mBzJh+XT9VtHDka82vtx4Oufu+WV0AjTXfoYgmQEAA5rwnl+8K/yEzdwYK//fMN/HKwY7/ygozyj\n",
       "fwXpZJvDm+XzIklp0PMwLFxsNEyfz3Z+iuNGH2W9oPxhfrbiH37Ft0aBxvoDmTTVX7DLGxwD+6bL\n",
       "1krSQmenRDZP/bWqeC4lHPlqmda885RRoT5ZTzkZhxhzDI8bhDCwuOpElQvuvoquD1HcSC+XNclI\n",
       "f9DifHRuOj5wOywGvE0+Uqg3npk27cTmtOgFLz3yKPNGYe0RmP5YHeT6kFPOEpLaOaY6DbdD/raT\n",
       "ecu7iGbVk+9IJ14nAACmjdL8LZxxLnnFtO7kp/06g1W9mrKbiHcUeKisppL2gXW4S7tUHmgJSbAN\n",
       "p6jxWKG0dOorEDX6vujK+694aytbmYmsNur4heLHANi59+++fliXgaQ9xXzuLEmjSKcj3WtLmGLS\n",
       "QLGTToRJfwTh/5kzNtB1LjXIZFDYA21eBfQmKcaDhLF0RJEwwACIFXGEC0seoI+TECwsW/8nF976\n",
       "10mfMouGA6svOie68eUaA5Cyqkb1fBiMSLCJy+Dq0qwFBsK2e2R1c8yw3ar3+0HVi38fjueCRpY4\n",
       "gkoRQR2W0VWVbQBU7PgQSIWk1byrkIDLqaenT01f7bCpjAfTEiScGvJWLRVwuSH9GzR7mpoQ8To9\n",
       "Atlpdh05qohSLxdSbjCsaYHoPK3AlJFLSpPxZbhJ8s03LjGtucbuEiy0hlq36V/mVJ9rUw1qUxVo\n",
       "II3II+tQZwuQUH59UywHb/UNao2Wy3nFC86R4XSz/Zro6GooXfxj2QymcjY72ylgQCrNOkB5PdcR\n",
       "Q+w7oQAAApgBnoVqQr8AAJlKvjRAbXwAXozp4eU5TJ+A4hF8yVYlsRhTWd3hKsTv2qDWSsSjiD/+\n",
       "RkGJydE8yBUZRxGw6sxeGIIVsN67Lb//x6F7XhpGhIt2a6WRm/KSNZA7KtxyLrboZc1S/Vut7Q8o\n",
       "1Ag9wwlakqrucMeDqZZgDuu/Em1GUsUJCKbMQIe5uuBYac24TigiFg2GLRFFgKROScApUvoZqCja\n",
       "CAE3IRQV3ncC94yjABz+qs7XtbmMFTLjwZpJYfJW/dF0zO27eJ0Oz+rhZujV7BIyedghsGgh1tKS\n",
       "kw2jz5VkNLpdnL1GlcaItQeUbnYce4cKA5XBzNwK2JAHqYp5LZTsOmjGTQ79V67e8FdHXDNostAy\n",
       "61qfKbnpW32xnYMKPTtPsX4JBBvB54xB7BBrzgb+cX7xFwKLG08j7Ue7w5IHOM+CQJkAPqqiV4dV\n",
       "qtdlGHyXhwFRZ7j4JCY6Y0iWSq7kf8jY280B1lK97AEwkkVbOZnxT4k+n0Lh+4FzRYERMtFSugMf\n",
       "8xBbwJIJcnDhCYAXRWxGJqYWx849r+TSQdp+cVxKn0WLaJb3tnKaqj1hqZm9lHD5LiToRa7UPbdK\n",
       "1JLuxhDAW9674yYAwWVMGkfGYE/tICRI1L0LUUV3azQDy9Sqc41HjSqpg0g/gT0GVU5qIXkYLpzh\n",
       "RiKJ4kbgT9eGBpnK77ygLMr90Sl0NgDZrIam9nfhcWRtLLo6jzUJghdyqctLQMUmJeJigwA21XKe\n",
       "pMZ4MCp/5hCeeeW5K1CBxOdyHxwOrNACDMTxv+sbmONaLLBot7edSxBdkM9dNxdqAOy3EzEFlxvg\n",
       "iEs93SfUm9svF88XYi76NL6ijkSO36Iy5sZjlgO931V9eQVy32mPgBiJIEnBAAAC+EGaiEnhClJl\n",
       "MFLC//6MsAAC2/ZpdP+Gd2fWJaRFj1wAcCOf9zmRV5KYF13IwAYSGSBU7r7B5bFhiftshCDH6TMi\n",
       "7FdIN5OL0b95o+nH8BMXz8aQQM2m1Qx3jD26/MntPOW3TVn8HitYeZhgudVQ35srkUxF1kwC/qZk\n",
       "zyldUccsID/EQR5rLTKSpGYrz0ZK+Dr6eB2TqNcfCMZrBXmuCRUpFNctqLAfAg/yYOXZzK69ePbF\n",
       "xuqOqog5j6hwEAJjFMAXSz+l7OE7Ws+oOTkMsofucBz0esfniZeKoOtOt5ct21EtC3nuttiG/Buk\n",
       "O6rcEk3hvFm7CDy+vAEbeRUISSCGMrD1JCEKQ+qQ/Oykt/M2yG2x6wxnHAp8AEQBk8T2YVW9Gb7b\n",
       "Qr1W8kkPH4kCUjzw/1lFpBZomyNXya9dS1O8SBS2BC7EgyMd1SIvxlacg1UMhuct6PvcXSfHO0Ur\n",
       "Gu7cONUTY1nia6BqIsf7mEmRP4WxUlrItsZfGRUw0Wa102xwG1gbx5IJopcp5A4noEPwtwE9ThX/\n",
       "QLrPzFTPrgq4lyW4b1Vfd1Num2luk19bORTSFYirQr1QuPPuzbmmKXvF/Xukx4p9ZqJbIQQCDAET\n",
       "92y4crT68G0gIJTQJage1T5ef16Nir3DWqf4APmsS2mJM2LyGZ3qSeAOwkMRay03Bk1XpXipV5W5\n",
       "d4psfq7AWAS/tZlIPDU73C2aYTCKzHerbjXBAdKGl2KWBkbxc84f3JI/FmXY298+aNjFOyfA4Jbv\n",
       "YgqzPa2JaipaxDTJUutlCw+nx/wgzI0T6ribYK5ub4wAP+2VR/1E+1McwBVILwWqz/OQRN3pwFha\n",
       "SO/s14ovf8thNqgNIE4Ty6S3Qu0gA72GOyg8nx1elUstNDOkrgnTpGIXy48awWUvH0cQW0myNFKK\n",
       "T1Q6fX28BjkQAxKsp9D/Nof8ym84NcB1mf/O/Z0vWNDiSAhe2sOYWkcnsJ1znEy6jBBRsbX7jFSC\n",
       "s5BJJKwSZx0oD5kAAAG9AZ6nakK/AACW7AEqyDH6BL8aIEbmAC9QsfMynKZP/MDR1y3VL9p2UpEO\n",
       "Na9DHM/rAC6XkcuyslycSuwvC5HsASIl0zQGbgtc7dzqfnV/ePQ+RdoyvSOrFXjNaucTagWBX7dk\n",
       "ZJIvsRMlexE0ksmIChlpCNFv3AE0rhF29N/9qd1wztTVHOj/gRJITj3sULne7fGA7iXb2lW2+bza\n",
       "kHOe+bGn8oY/yDwZ18m47C/KtlpprJn5x2qcu1oCT065HNi1w57SWjLbXpz162QbEOrA51NOKkz6\n",
       "KLz8bzIALiTQ/MUUURWUcTsU/8oYcJAB+t2WDJO9VYGq/YqUJQCx/083kVxDNqDNtfNRH48Z3ucV\n",
       "tSiOtMUfrKs1XHlE1S+lDsK55P5Fw0B8HNloFQJjX1sfqku7aByFL0aGzuXDPr7sCkJBncLsqpgL\n",
       "ys+7DyEso5vNdaz2DaOn7wJSQqW6WE/GUv0ZY7KjRjkx77uJ5N+Bd1X7ciKhVfbzz3taKeabaCiO\n",
       "fj0qaHsWo9+u4fmoSxNcRjR3gzWKFEAjHqlgX+ZiptLVJwkH2kzJbNXwmkYo/AYoCLExcMTua5i0\n",
       "G5Ub0AAABJ1BmqxJ4Q6JlMCF//6MsAAC8b4+ZiLNTgAuFIX+FdO3JcBw5kEedk50Xm9hejszLJyX\n",
       "+VeaFwLHx3aA66QfKD6KzmoFzLzFwoPJo/Ii1FmP3ffuqxu7N9kVJWZ9JypsG9U8y+ud9URciBFf\n",
       "PbMixIh/drjZSgj6zHo8CdBbw2PZEpu7Eba07PyQ7/4ZpTxqskA5aovXlJRFwYXLFHO2KQ7hHbY7\n",
       "N+jHkjfiUZuJTdLGzHZbkhB1yP6R93LuO++Zn1dwHaA9m9Gehs/S6AMbk2c6IK7/ofL4GzBJXng4\n",
       "cUfMeodr/5Uj3nFVBnGyo+za5aWeCSAgI44oVlnWrAbB1fRuHlbM2y9dw6nFSa+X8ADkkdKuftY/\n",
       "7zTy/IC/lz4Led0MfGZ6Bf1RilcAVQzsQ9Wj1Z/pisqUQhl0+VTHtiCMgvWX26+QKNm/swy6RT0A\n",
       "lYiSgGpeSn0sPaIEj2Mi1RI7QghlxznQZ0cVbdu5t61p+1vsNmHEezhL2aaE6ArUlv9DnUgY3428\n",
       "+tNDQrwNtHdOANLcCiagULvPJTlzPjlE5/EOSevxDMhlsVZklyobu5Jef/k3lN9vbNjgBusFav5K\n",
       "DvesSvIdwRM29QNYGa1g16oVpf3KpdQ2jndye3mez5HW7J4y1XbjwwaUAZK8S/UTd4vOr8Vjm0mJ\n",
       "JcZU5+AQjV6xeshICH6iyLOn0s2XhUJtVM45vToDp8r1tRmZP7Wl2qR6SqwKhdyPSQFt+Zq9ZjvZ\n",
       "Ql/tEGtjFQiaWiP4Oxvy867qsXz2WIAuIjvVPNyNsA1PlXT3V2xg1CWsyyCu4OJDYuxnax8My01u\n",
       "EAkCqqFESgGquGQF82TqzoxbxUDXJ3z5P/PXYv9EL87YxyORlEmCHe4nOpeyzsfQj+u80sCpqz9U\n",
       "TQcYfPX7WwRaiHjLMX0527NvMX8qGSUdWog+yXeVAjAuNA1ZLg4RkZuwMN6RbAVn/Fvd/yMhNEUd\n",
       "CLBu2OwtEmBdL2m8frK619LLJ/nvvPo/iIDhGnQfJvXIdAYrxjev3J5EjUl1L4zHqIs6dBwk6o9m\n",
       "3PBcQDmES3H1MaxAzZ7nYAW+Ar1nf5jEP3nCNORoSh8dKHhAGr8wXxpac7bYTENgay3JbthLIakI\n",
       "84cCtLwLOYhKG9K0pbIIcdJjhTRANF+gv/0GUmgrA7hp0NlXnKrnAjP7Fr1DQO2EgOTgs4+iByxF\n",
       "jLOeTJgNxRpTFTwVFzxpE/jUBps2p8Wq8J5JNWTWOX2+JVwGcr/F9R+F2pzCwfgnM57yRveJpKKc\n",
       "JWSIqqfy6Ms7axUi9cQ1dyg/Da3vBzPSIdu2iwDz/XwhfLsiUCFKIKD8MK2WZ0BuCQvbXhVr8XO3\n",
       "U0/zGs1iBGSMVhDqZD7MbQzUaZglPhZE7PcdLBB/qvXY9LiNGg+3XLrtd+ASZc5pwT/+IaajvS8e\n",
       "JF2xcTdHKnxt1IR7LnSyc9nj4Oe0BAJZYdxHBYVkvvhrewkM8UhVL7KIa5WGWmBmBt0N9tbaf/JF\n",
       "bVvGn9qoJvdyQGRu0r1gr+fPzbEGbb5/0h3bOV2J/xW9rOl/j9J52/qyUSy+QlcuPgAAAwxBnspF\n",
       "FTwv/wAAcVL+VS7pGy+GPgU8AID1h9oR8YzJh+wek2UTJRP1Q9A3RQ2Ydd+pHntjNcqEPdLpz9kQ\n",
       "BRQq3PVtQuu1PA9Pdf+CVxBguetc7DpbQvM/sKtBMmrdUvLBR6rbb/In/cik7dBqYIvgbByPH7NL\n",
       "hIMh42nteZs4FA9/bKbcclHpon7dN/0HXR7hWKdq1R+tLHCd9nwpln6ALlHt90Cb1SZL4OFZCdcb\n",
       "sm0KiOUBzYgywgcmXLvGU0EvRZfcppblmBzqn5bhVmob1kDxVtpZ/V+fNoo1yHuHZ3A3XIng3L6b\n",
       "zG0M1FXaXKxjbrAe+YQta/cIqXXvV9qiIxR5ZUfNlEWoobecjnJ2mGHdQnb4iMUXEuKRD9P1e5wy\n",
       "4BWQUutCiQYmGMghcLYEbnUKTxMDqkmVEcClGyF+KBRX+OPiHCo/8WUFAiHUz4vB40nP0oXD+JCs\n",
       "wv0TuL1+V+GYpIQ4GtqQq0p1NxT+qC18UTK+r+jBKxmOx686JCNI2eKWBl9Zi2jhedU1pdy64hhK\n",
       "8qYks1KPJgr7Gxl2R/B2SoD+iOTwOwm6qrw4OArRKWpIi8/dKJLmzJLKC6QkgBtZk1zqxDoQ1kIC\n",
       "nKvxBEmnRDZNFHBJJxp6KuLroAAIz32uPRRHo7onP/ItOgZFr8RmsID9RzcStNwbLFtqW/Uqxm0l\n",
       "WLZ9Y7E8eZvpd/ew78+5tHgodPUEZq1gLPT3+0aW0tIo+fl1e2/QruJ347cSSo0xpd7217VjbaF6\n",
       "rC395x3JQ+/X6MS+MdnNje3b4w/k/rVySyh+wwZxzUGpDt5cJqwXYjLRxN9wim8RYP01MwunH4Bw\n",
       "ig5J1MXv3YXUFElkRvJZ1LY+SEMTS48JkRDe4Nehdt0+tW3XUIq+yYGuRcKGBBmZo7B5QCUl+Scf\n",
       "LRAGb1EXzv/8jjXUox38EdrYpxIZw0LOtc9Mr9+TTdYnNMfGMAv2ZSj5vfc2Nw1s7J7EGhX164LG\n",
       "v8aTn31YdAzL/S2sjPTmBdOhidKl736Hw50LVcOQTMRoBQUAAAI6AZ7pdEK/AACWuh+JHQaY4fnt\n",
       "buXL67F2kafTYF37u0Flu+YAQ2Fj5mRiCImqhDmI0p44aciO1ZBwGipzzajtS2V2EFiy6taphMQr\n",
       "nhAgYoJWN3t/dyFlwXd99egHIHFEXPIO4fMyoAuAl81QEICs/7tCjnLYpkeHqc/jN8yO0gCni4J4\n",
       "AHpRIOu0x6tbcB9mZuP0/84uGFW9aqcYvqxRDtaT084CYcaswqf7SR51HK9M0whibBkB/F2OwABm\n",
       "zfzjBDYt77jyFhont/Is2EcA6PS77DiRcVntu2FAh28QW5wcXr4et1TnRI3lda4PoBZ+ALOF2xBz\n",
       "+gC8kqKGl0Eg0goaBkrRM9DieCHJsLo8hEs2Pl6EIJ77dFUBXbv3FsAe3TetRxvELZhuyaNJ+1CB\n",
       "uR5iUhO5VUsZfVLQaFYCI3DP1eYLeJsUwtYIkYXXdhJsc3PZzey7R8U5pNNLZSU+jztmwb3XWp+C\n",
       "vHffu+722PgdrIzG/mAwuoaHdXFojplbEVAdcNBHI3tdGwceXLvZRLGeiG99+cpFMoeZIhA4Guof\n",
       "pElgE62PPpPvZHM5ZYLbEsqJ1seh2wpLiQUbBusvUGt1pMMvvIMKgNkfGNSw3mVygkBFS8henfFc\n",
       "lz65htwgt5ZTwPK3xGtY5xUNlwMtFKKvVZhHbXQnp4Hph9CC4ugSK3qc6tK6f4YgXQeJfKk24vO+\n",
       "ctiZKvBwf4YpuAyxDbvWgZ1Zn6ONuRmz0CY6363CAEYGtiaeTfwQAAABngGe62pCvwAAmuu+yAQW\n",
       "n3NZM2Zoh/aUIzpaQcje6w8jLWvtP4FJTiwqbsyO5jznlM/++DDAd5sKc06NLwczyd8ewF3btCwp\n",
       "j5ViJ8Hgt3OHOvEThZrAiBuQ4C1tSUWVAMIFTCGPlgMmbppfrqxG+YNTG5J7l+au33ZJnrWDX6uE\n",
       "ZsEINVdAxUcQWF4CYl0WXmxcfCOAUof2ARin9lRrrMo8xkK98ABpRE2MvgDrsgGjM2CDWjcXd9FQ\n",
       "MO+iztLQZkYPO2hJCnagCftAaie7Fecqlx+AUTMKH9u1FbGwpbNrZuCURvhO8cVnU3enlIouy6fe\n",
       "QitHlykWo1nZpOPj0D1brEs69IH6TWL3ClFPIez2Vd5/lVNEEBpq2bIQ5CwqUEEUzavVDxJ2jAlP\n",
       "5pF1+7Zp7JdkTsYKdcpbV+60gHVT0hMISW9pHBO+4q/vTFMexKwPzeYbyFoQZKJAOoka3g5z23Hr\n",
       "/CqF3sFhRviV8HFVmgYXTnV46lQtfFQF4Aj8Bj2aaUPRo+EmW6fiG1IQNyt7MkqVFkgSg8EmM1h9\n",
       "JAAABHFBmvBJqEFomUwIb//+p4QAQ0rgHes+EGUq+0PR6jRr7EHuFjtEW4nlTgt0gwEAAVmsXVgf\n",
       "iOEHpX0JEChKf4ZKhU19fGGPfM1Ypq7DXypLxsN2iHqn7rRT4V8ajuRnKLYBfAyc6Mhkba1vKPH/\n",
       "yes0NsX/VBA5mMYaQdHHOL3SDvoV1ejW0y41COzqFTlpXU+UQLjL07eUqBeXSmixZv7CxkUg6hmO\n",
       "/3mW9Nh6htev0jibl3l3gYN/eeZkb0cw7oEVYy1BlW+RuxZO0ocOHlfGQZIW6SvSRiwXLR5zzlsK\n",
       "jUBV+aGd4yA8Mhydlr5vqMvAH1Lo39Scp/a/ftv8S+WDm6WrX505RKGr4SJUGK2GXyw3AaqoxGRX\n",
       "9AOBAU/uzYTwYu5pwuvq8BmsRiYImi4X5E7nEGaNWvDu3qf6Ljj5TnWdI2XeiKbiYF4RmQyJkZkx\n",
       "+xCY7+9wy78zXIqN7HyCNnjVZhLrLiVFnUjue/jfqUSTsK85hzXYr44k2e1OvDRnclqZNbXDjXUV\n",
       "c4R4iERoO4DGQ5QW347ihaSC6/DQUWu36SI76imFaJFr0pRm6FnJDWiP9LoOm+9UqejMkOWfi3n2\n",
       "opPOhS0fgi0Zs7U5zbCRlJhd2slY9oilet2eEKNCA6a8vz2xcS6QgmYQvJezK+kdA2kcRgBUaXK3\n",
       "vGfNsUAKqMOjNgU/LRRFvb3FzKn1s8/rNQM4LqCcvrrRC/1a/DjEtjrzlobkPadRwdjbfBq80I6N\n",
       "q1QI+XtLxQVI3fHREsjYjFELAdiF3xWzHSz6Omd/8zfGuwDSgv1J1GkSgfz1SGPbMC6V1y+yEbKl\n",
       "MQxHFfcrTffj5CC2XWqfSAfyfDj5CxvqhOODcEx9xeuhqybmoTX15HFuyfmkT555fvkxn+mjHfcq\n",
       "MCl5KUpu4IRMMyvciTLD0ameWZRMBcEDo9udpT4aOtha/XdPFm0NPfU0SN6bxt1C3I7ESkFFOzZg\n",
       "Yo6HAEOnoPae/cY3GBSg5Mo1EEC53phcc6mijcxGM/7yT5IPEtKoeGbHaW7SAKkbZj3O7hGVtlqY\n",
       "ArSEUmPCn3cDmOaK1tgcFmtEr8TYiYLGdJbCL/wKYxJ6Zm+r8mqEkryn2FZS5VZGjz1YDmXgKRY4\n",
       "6tAxc8W5NYBDZ5U7vVrBNB5NCY+AymAWxbwRvzhgKwQHZAu6mqQ9z6VqwWUJzN31IiHHvlo53jSf\n",
       "RCOs5AHcbpgNFkSysoGNtHfAZnRny2OFici99peovlfEku48I6V5PfS2amkcHTP5l0blOKHBHa0f\n",
       "de3DsrXoBQHitomxTGM8hOmsW54rt7JcpPrCMxd8WIUHP3mZxavCc7Ff3Vq5GEJFpM9FdkvMsW54\n",
       "CuEC5T4WFDfZ1srAdIk4jJAKzn/3H0GcIxnC6nuyyQZbAIPnlECnWhjtn7yZioKju+X0D7iBotZi\n",
       "iQqMP3Egtm1gPIZb1T3cnr45nd23aSfr1SRlTbkCYtxJ8C4YKW2thE9nKIFzlemBVSe58kglMDsm\n",
       "q3EAAAJZQZ8ORREsL/8AAHFS+Hy9url+/r29FdrcZnMxr3ZAld5er2mbu6rlNz0P20cJ/GTvuqxk\n",
       "CdBX1V97bLEP+YJRZs3ZbPPTBKOjTR4oUQEpmFCXX50vGnIQIUV0rFyfg4XNE6LkVyiGd+56RmIH\n",
       "YSL42vxTyyDVZaJ9d1eFpvZGaabFWkqvElv0+Tq/OFHtshx52BSn/gI7rpXJ/CHwLi5BQh7mkIRY\n",
       "5lEzV9TOhfbgbW3VG+mNIL/D0WLVbTBg7dptg7Y+WM/5LopEV9jMWIOwnrjqyhKGpUKOiaqvohBY\n",
       "xFwv2V3cNeG8yp16Q4h4CheaLwPl8uV3tzDgUHPig3nR9t4arJ2Ln8xyaHZI+4NVUWtYwm1T5uwh\n",
       "FCTuoJZdy/gvKIDXxPs2gEUmN2ILOk5SQqmyLnEI1INEvcvJtWnqBAiMvIBUbYAUs3BcPJuTFinm\n",
       "sIvwnycBz1stGvIorMJnBZDLPFQ17WZXHGWOuu2CzZmTyrFah98GE+RMu5LynESW2nA3LsvBmQoW\n",
       "Q+R1WOTSouOQfi7jxG5ZUwVAX2WW33HNNp7jWRhROTC0eNqgrAAwzHNEttnhB1ztWUCILQJa/SNy\n",
       "BV1sZ81pFi4tc1MCENgHl6iSPDYIMLlslAWZd2MMTTFeMvQqjhXkekSQpBnm5EQNA5SmLx16rERC\n",
       "4IyxRvsxAYwTAXtri1zMQoTK3gROfXmxp5REu21APnvtNQ5bRKlCXZ4CAjwDp+vvplifZqXYQZp0\n",
       "Pv0JzpMRV4TulHC0T26Frt+Rgc1ZnVk+hcWNRbLEcT3jmQ5UkQAAArABny10Qr8AAJrZwzdIw9pp\n",
       "hbSBiaP0z1CNRFMBIwjJW6YzV59AByefrawZAtTE3OSAoaR74qZ0tOA3pqZBUasSK45e9K17cp5z\n",
       "LUt4hp5LxtTamlxK0yHVemigT4ear13WuG27GLfc30v9v0TDkfvQjt02KNxgNwV3qOUPKTVFYahQ\n",
       "rLGJ20k+iX0rxykCN8XaGY1fDmwWhWWEXM8mlxMoWBPN/ypc82/z/qeuyhTprWweu2UirZnqWNPu\n",
       "Fr/33DmhMY8IFJchQoT1/jVl8EbFww0rYa3x0eUiAIbfxPBeJKsM5yJqiEW2zYOkegTyl2n9aaaS\n",
       "TyzYNodOPTSsBypMHfGZCEhAQN0ziKTIfgUg7nUT61ncx5R20Q0YnBIsCuFLZdufZuldcraK3V4Z\n",
       "PSaUuS53GxhVtkVUl1ZwK7uoiNt8pHuwGcyN8vn5M+gU/Rv80S7ZRAD2d+5AzzSEE4U1/7wiTvRf\n",
       "HbgRT+3bStt0RU1vBlKHy6U3DoY4JiQN3cBynKji4K66eAxv2n7Wx/UdFkNhI9C/w+KDBgjOJejz\n",
       "0+aBiPIekfzF06LGncz4kE0Y2s4ciJFd2MwFm/m5P5E8op6dbuzgOv2BDouk8E1GLzMWCADFtzHp\n",
       "aN796vtHjldxC0i4MXePaRZAFAbAnLFLWUNrBy657+O0dDvplokmhsqxneBm0A30HoqvIAiVJXid\n",
       "CsLNIHlm+vvPj53VkiQBEMJKrXMStxzCDN81mZfdHQnGza/qhr6PfkDRtI5hj250T/TxwfGdEfg6\n",
       "55Nj7LhUz7GXRx1DnwSyx52r3mdUDNIdLNf520PhyNH8avcO/QP4EYOdSJlmxUTvkjTPvV+b3owy\n",
       "e4vk4h3Gr+7hNEkmMq7QXvXqSEPLz4RL5y0pAXRnkeSXJLP0BfGSZaoRcPpJAAACTgGfL2pCvwAA\n",
       "mshPSXD91u/Ma5TP8aAC9PP7yuOAOXSM0Ez2u8B6nviPPI0eursO90hiGYcLL3ml42eL+kmdrlT4\n",
       "A+s4xAWPp6Em+nC4kDjivNDBKO3DPz8IyZy9QioyRuBDVSlP9pFfWkh4hQUuh1mCeT1V1F3waqpp\n",
       "5X+0CHTrcChlXSdK9SxHVpXWOzhIT/YaydkaOeKh6aLvGOn3V6N7SZUco94QmWoliB1dt+irm5sf\n",
       "Y46l1PYIiDQ94poUgJrDf+xRO38x1npcVI5wZXI+a2Ynyh2r7oYTUZwc6Xog3lcXkm6CROSyx0LY\n",
       "7+CxVoOfT5qMFZ5XupGrCYZ8Aqa1hQDQ4yXgShQJTO4D2tgf5+cuEqS8MsqCJdEcOfRZHU44QptK\n",
       "iLsW/onNZJRmDWb7qct9qU9uPxMuHF0ypaigMLNi0whcUYwdyxaopbXAwNutR5Vov7DAFHvmaiOc\n",
       "lKOcfhbyEbdaty5VJjS6Mk/ur9sGvGwBHcviL8+bxjrkobWttrkMxhQfd+pShClMDLbm7hbHPGa0\n",
       "AsWezkqTcCRgRvEJ1vhpYBa2o3wlTpHzyINB7iAu/yomcKZtqg9E1t8tN98rtorQF+G9ZKirlSpA\n",
       "O0w/+PKXv4GrOeCtHwPaE/+l281KFDxOE1lFHm+ixsS8aFzB4cC2fwGINvALeQNgnSpvCer8iRAY\n",
       "gram7Z1rqr8By/9+bPmMalR9cv6fF4JPqGnNf+TErog5MhWZbOo74EyTWTsut6Y6ZyXrSUyGnaZj\n",
       "o+u1g8oAWj9NFsSMAAADKkGbM0moQWyZTAhv//6nhAAAvtp/iNOIzKi/+OPpAjAZleaoqOPgAOdU\n",
       "fDB1FN6wVoSZYNXhFVNeBEZXn//uc1LKQthHB4yBEr5WwP/Vx6bs6xfgwRgxWOCS144sJIvgOswX\n",
       "aiPgKQF6aS9FccPLaQ9XbiTHop2MGXZdXbM5XPcAg9M1PN1jCmTGWAmXbs1uSsSZ/5Rh4lPIsdEA\n",
       "QC5TIYFIn4vFneUvvIrOMv9BqDdFmrgK3gsbAUhKsYMJzZawJnj1kcA5ogRnzPCvIDElE9HzxJbF\n",
       "+EYTjA0QEwcCaC4Z6LpSt3DCCDvN2fIFxEmtN0O+hLicYYhfUiZdzkeF/2iHrSkpXAXFEIGeDTgC\n",
       "Zon8gvnetlbWV71khOERyF/hcSXHX8vwJhC+TdVqhnZsxragdDCoWxYKwd0OmaYDTAEyi/YaSl1s\n",
       "MnV7d0aULSEuL5se2b73ffjC8E0OIkS1+/0Ew4UIVhNOhRbw//nm7QEyiJyIkuJ+CabFWd7k5wps\n",
       "YHEEkUYlpSUZTkCphvucVLc2OfgNmfzZMPdFN/kz7exi2IiKsVwS9/0uWYBYDB2LqP3KmQuERWGO\n",
       "rtuBTxWOjJWqX84uweTAL2pPbZ+pqzrgY9x+lLSzDEZi2CWOgoEQoTQ4emRqs4MPgZXLmR7g7e5+\n",
       "VJtEbm8Hg5tmJ9XBt8fbeOvc8RqY7v959PIaAowiQH28AS3wO7FWqj/nuHEIio0dfXGT0SPxAI9U\n",
       "tLP8WoVtBf0HUG+0gFHM9R3WRc1lenELMidsFGdwz1tN5ttrhaaqavhIgzURASOtQE4TPwVyWiKg\n",
       "woLHqH8smN1Pp/vn8seDrvhQEcWKGO2KKfl4dmbz4LhHDoKq6krLcO8i5NFVgr01a8JN6PtbqVs2\n",
       "ORAG2GMQZCGuRawMZWNjyydJ1macbPk0fGASSXz7nAZRwD3F/BYW/iDNMzYEEXwDe3+hkewCjN13\n",
       "VMrwaJOqGDvShP+plM1hKLmMXq7ma9AsmcsCc85DsBi5cls60+zyfRuczoWhOp5yptL13SiwOsj1\n",
       "0qIMfQQ9BkSvChX0Ad8F6opLWCscAgBDsBU+bgAAAntBn1FFFSwr/wAAmurxd1wpZ6VgAutq+wat\n",
       "Xb5fcYfOK4sKlPAFyWJ/hdIeFw/Ygf43wo3qcz+wH3jCNm9efKZzi+Fk2VKNcQ/eyq46rNm1vVTC\n",
       "X3MC5Apu8JiwNbXnn0WIE5urZP35g+XY4ya3tq+hVpdvfou50wJwVxNGUHoYHUN7MDsyFHkDtj6X\n",
       "/SbDAdup3shmClQtZ5R85KDzNavlJcSz3Kbt8AxPXASY381qOFMCuIRsp9bdsq7lf2bqnT97+hrB\n",
       "paTKpXvyFq1KJlI2v7HoPjxkF/sV/SPCgl/AQ8abWGXv9bCuaPI9bIIUUeN3icoG55i6x1t0HZ+o\n",
       "1JWLK+sNDh6zKJoUbWLZuM5dyEgwfAtiVjtg6gZUfXwhg1gxdC/nrhOvqohBm1crbuwkFbvcUo4G\n",
       "kREF6Bu3trWiHbMJSCePjCj8aqtP2I+RoQoEOaUnxrcaiEGHXtuYZK3dPSEpeMqcZ6CZNbPMmscu\n",
       "crCGEOaqJKR6bxbD6knKXwKR9RiAxmHJeukZl378qLyrUpXY+m3yMDtwDvdx3/v40F1NnQlqizq/\n",
       "/wIFZF3GJeJ5JIEICzSiKbj3vYmn5biWWQ691jngwNEoxP65r4vrtxhVtr4w/VM8j8QGNFkH7/AC\n",
       "dOQHg/XYxftgqypeYTfDNQOlcih6aNmH2umwSEVJ5mRvIG6jIOYNh8t0ChB+5i9iCW0SwvfscvWd\n",
       "crLHRah1qgN7wC4xTG0g1p5i+L9UWGAnjgSy5+vkt8qrxLIsr7sFliT1cmvsS8fg5QMSKn+q/kNE\n",
       "T1HBJsQ5TFjRna1daINQtzBI5JuCHcF1WfNYw2yTGI3ME3o9EAjHTQAAAnoBn3JqQr8AAJrrxzUK\n",
       "KKzJcf2whXVf3DIALr4HwJMTehjFbRrjHdUqB1giPPXYEIpld6r0Z5Z6lMnjHk+qKoOeLjxkfmVG\n",
       "ar5sfLqvqSsOxMvCwxZTABib/NAX3RiWad776a6O58Cesm0me70w8cj/UFLRNLCAnsGUXK46G+Vb\n",
       "TjEl2rdkElWrAUQmaMrNOohcPH+fQVlCyR1o2+EF/2ebqtizCfJPLbX+VOmbDPdbA/StnsONIcPr\n",
       "4cvWi1Sv/bSxIFU8TEq+sjLq06HvyzU5qPsPh8XXbUrXd4aCXBwaBtTbq2lxkQ90MkU+RrA9Dbh5\n",
       "3z3jQaPpwDPoo8ZWeU/mwP01xvUhrlqQsE6YxTcuQNHOS8yJEVDS83aZFV3JCBAwg0W98A3y0fHX\n",
       "kcFlONI2cqfH+Frk+Y9MdmjdtYexoXEvU6zSMxkBljqkdfiCXt8nhHxD5PuBYU2FvxlXTqI1556y\n",
       "nJQEVr0Y9h8TuauokeJtGdqok8yVNCW8iimwpdhXNJGHrhSmORI3gfYBQJzPnWfwMNyHkps8s+vL\n",
       "1I9n8AXPWGANtr445PN/AJB4DHiuKqhtrmQq15o8lkwvgK4ywlEhkqvoUwI2wGBCc1jo6VIxq5Su\n",
       "Y1bBsT8kR970ExvU8PcXyzPZixvcBfNv70I/IkHs6qV+Mjo0MXV13RcpDgAhN52CUb+YYD3Pv3/B\n",
       "K6GRIZecGrh/cZw/gvQyWgYdxlEhnBmoAH1r2tIHiZLRJBKsko0kYC2ULSkI/T8f7rqA+qfCygk5\n",
       "0Adl/lI19/+G/8c86hHchga82QmpYKaIGmmzg7i9b2Az+gQrUcYPBznMrdnVTBjJeTHwAAADHUGb\n",
       "dUmoQWyZTBRMN//+p4QAAL/6jKsInLdl20HVcs12btdZIAAcbE0HF+IVf88Q05R8zxCj3D8G23Lw\n",
       "UoNtV/Di/OuqHYSM+8lWMdXqLQN8fl4tR/QRx8LNifE6ujRQ6y94Bz3oQIYNc+V24Mk5+T+ndJo+\n",
       "M8UYdFlORBEQkix06mesLwNLGgFcMAt1sj597szCnT35tiOx3W0GXshAT3g5NZtuInellSa4dn2G\n",
       "+2zCW2CMqggCR58msTk2IAefOpYYSNLMdqQSoa9coIgP95bkYfa9tJaBR3BcC7VIEB92M5CNK1xM\n",
       "bNgbN/wHYPb7kdVF4dKGeFJzKSqdUUYvUX049qkYbxjgSW+yQAJroqgTsIOfFUMGwnPY8Ce0xF+z\n",
       "WRwwuOwOi+aYoBHtd/t+c2HnT1zE9eGZ4A08p8Y/g5Xxc9goGmruWrvwl8S7m4X2dlmKHc36ZSyi\n",
       "kQrG+0OWJoBpQiYgOCl8maxu3o4gEDIwXNJwQO8Wr/9W5CHekbqnuNd+y0WwATygTbeyQEMXLIqT\n",
       "tBwPi/1OPBOtl55dDcdS0dtyLJEm3aTPhszPJp2WGWBbjdJ5piGCvzNxAJBX3o2N/IwHbLFgyK0y\n",
       "XJYHM/1VvWfZkqjW9nU3pwxVQSSrIQ8BS6pN8eZMj7Tv/M9hxQ339Zot28ZrqbgJSc10+g1lrtCq\n",
       "nL9v3llGjVkVe7vleGBBDzGz9hqTJ0oAdVLI+01Waai9p2HF98VdXBgn/uGq6E9Xlimbu5skjyB9\n",
       "miFRem7SzI19LXxC0WVqlHupWIAiMuLZ+iVFKC+uD2IIpckdwHDxMVhJCQG/CvnFWL2jsGzfF1jy\n",
       "g1GAxUbwf8b3G95FCW7VomWoFVjlk83mytmS+1AFZ2ehIlTDgVjbXuNGcA1g6CWzd7NKnJniS7yR\n",
       "388AUlkzaPCeOky/WPkD5IqlpVlwLCXBGgnztfHpT8eYCc8Kp9W8E8VRxpRVpJOLfiblY7Ky72Sm\n",
       "iX6h/3bwwp+agxDoe2nuq/6S2XW4HUocukHcUjXadrFUC5lJSSeuQ2qyBhLdM9jxGA7yQuuQAAAC\n",
       "oQGflGpCvwAAmsgRRxHnP8r3MSUWlj4k48KFsiE7vdiYQWk9YNP79//yWAB2fkp4iUtEprVWwulJ\n",
       "xHwGOJk/gVWCVOcDF+MoBvvbdtVMN0E2v/kc/28Qu21YbzVX/yAlDTkDfpoNOF1m+caiX+eam3md\n",
       "1SkL+w2OlEPE8wZPT5Num6zIsVYRthsDUuer3QJ63Qe0VKBT8DczpiVftnzIlG8rV5zSeZJb2mRD\n",
       "DiRsYilLl1kb/OhxoWN8n75G+voRnjxBpmkTOwkTC46o1I4oU2ZqL4SiytSox02xmQjo5nO7EvEw\n",
       "33ccAJCBj98qF9GACm0t90tFfdbr6liB01SxuX/a+zUokdRlSD39g2RheT1vHec5SObCusIUHuQy\n",
       "OmTr2wmc62+tsdVFgxeU1XUbUZHgi2TuC7J+7fzuPsYyU1hjNn1yQYlf+9I4hOI9nGbR2hNbkauw\n",
       "oyq5fC9LABUZaWnEYbvZn0BnvXkmwjwNvmRms6ZrWcuxRUVaK8qpBuX96h7eTpUjm6CG9jeZDpew\n",
       "Dyeayj878tCnkf8dCVoDHI1oYF8YRSenxoKRq8xFTD04bf6TXqhU98H6XrXF061b1wFgIh7XUy/L\n",
       "p8jObb1QRxourtALRaR8TdAWRGhka36DAP69tRc4hVc7HritSQUAAeTgG7H8Idwrf/xAsIHeqobz\n",
       "hkYr6pqeXXiuDlfwe0tN/RhOs+ldFHmKvA6asoDUaAvKDTY6hWnieTOIG4xls8f0yRwhpMNABVTk\n",
       "3kEdV5QTAbaLLBRlz6kee9Hh/T2Mjz9K4hzFJN1fYllxqufzFUtgQnqQQoR4/VO3lg1Z1jtap4Zp\n",
       "VzG2Pw6X+FPqlLofZKLhpjKEXLnuiMTnHd/HCq0Xpl78L1H6tVhNzATSHgQQ6oEAAAOVQZuZSeEK\n",
       "UmUwIX/+jLAAARBGtFNoAPyKZ+ehy6lq9HGo4m2GB4mPhpQl9Bnk0Fgi8doKzjw9EybrDoX9xaQ6\n",
       "ABzZn3O9vx0Dhnu9/nisiPnFF/J1ez94DqvhJJD6HDBjCzusPkG8OySl9QTveBl9pV3u/ZDWIkx7\n",
       "YLxQnj/X9nfs5NhgOiBDF7tm78homlAmn3tKrwloIlmg0F7NhuKoiypAL9s6G6DxM7fjPZD+SFN8\n",
       "MQVHlHV7K3qBU8XRkqVWIG++nNZLcJkd2A1+klHfCEyHOyVJWnoo8Qasjckn+XteVHalsON+Bx9W\n",
       "+nZFeE9liCVRgYocYR8hLnoFumim4UkCEYaTYA7CehS/HttQLtZBuAE+fjk+uytSYg89CL8Sh1ex\n",
       "2+JG3ZTBkF48y0bnsdDerDH3I1AzSRn8/jX8uHopZqlfVdlE6mucl4ndFgBOZWCjXLdmlf1US3Gx\n",
       "9vrC4LVkqmPOOlUK2KsQ/ldYutKgcxWXcVROwiKO8I3sA6so1hFNfBp1jp/qAr2kvN8xKF2qW15W\n",
       "eOjVfJvJLY0SY4/JVSsymVRxZDwn0EWeXLeBMU/fd6BgtCC5CL+yB4XhwsNebG/aEXyt6lUt0X3/\n",
       "frafUI16qsnGFgcN/TbTizuxeeumz8tee+qt236gYaaq1yWf7LKkJsUN5SWqoreBQbsCY1IsFDFx\n",
       "5TDpPx1xZNF9Pn3dA4TpTdSWxG8brXge6dtJEZvg5r6NDwfXuPA96Ds6SrHqXZKSHVFT6Qam1lmK\n",
       "//CaOdzxyaSGIqSnbiuAt07b0rT9Y4QCI3OeNwePl+st1FvWHGWpDaak0m4yM8sLACfehyuMaPdz\n",
       "EAmCUVTh2K0Oux0ygsnvxmjt+3KBMpC+7vbdptFPVyVkh5LITmviZOhkQsYhkDAbT7v8ZbwWNDLt\n",
       "joRiXAy00sqFZ646bnSuK2yeOLZ7Kvir+Z72SQ9+Ruy7hf7BvUpgo5XWXyIepeg8B/Ck/BwKEeEa\n",
       "rwwD9Zz8KxlYlyk+j7J+u14zZuqZ0nQUwfrL/qW7EjCYRdnlG6uYTlJaXuW6VvDjYQVc6LQQMn6B\n",
       "a0o5MG13DKW9SYaMZPWRvmAy0rnDJVs+E2/lRUQOqQiJDGNr5i/ClHfm3KHAV9UKUTUQY+hjK2Xp\n",
       "+qj4Z3cpDdiDJXLCx6SUsnueKUgcenLjuLqroBeYcGCl9hcdRBHBIx3Xs1cIuVoGy00yqIMx344A\n",
       "AALlQZ+3RTRML/8AACoL0i3KsBnI/PQk/tJU/FtqUQAbIy26Bk5Pv+27ihtnvN5+V/uO5gsdtODy\n",
       "UMcG/CZPsas/yb/lQtg/U7DC66hKY3PS9eybUrUcKo7SHBuwdErPaAAx2NyFfoagFAlPcyYrtwCO\n",
       "3ScceU3udAyR5LoeZvxrficmsurUH0hDDa23+Ax3013NGi6tt/nCwhsYEWBCFu4odgBt2czWc+k2\n",
       "zP0O9EzQDoqZeL9knRny/gvlYRCunRlRZOVSftIA8Ibssm8PQ6uvkFmITvHlAhocsGwcZXNUah2t\n",
       "Ke4jkhmdSGTECg+uL1gGnujk+C++iagtqfQN7nAP485JP6EAixgqWcg5+dBZJkM6P54x2OlCKuG6\n",
       "C2tnma56ubprLIgR6RQTZPsLG+5cNxnWcg6yPzod1Fto8cXLvXbl33HVwZOcnDHvD6P1mmq4HfbX\n",
       "HqsYTDXqhBYJy61glfzGvrbUJBv4PCSadc1aidTcomqw0QLXjxaywK+64zzqms2W/LEybLAtipEh\n",
       "jkkG1nN0iuq6AxgAaijJVyd6FdKUq6O4FT6mcJ4EeEdCSSfynuo21lA/0IY5Fdr8m9DjTIe7NOaV\n",
       "IuWapw4BITYP8Kdatu5m5fuXmXxQX+m1eGipaA49BbGx9JgLPGqYHVvu2EikX4ZYJlHMDrQyjisa\n",
       "m0i1mEuL1n3MFjlGa2l9X7qYFYcYAkEFy6/CWINfzvO/WUr90b6wmJ0Dq6yPSESKle4oC4mjz5AF\n",
       "JFMQ0msZytIxWJYTcCx4+ylv9MLYibW02Is/NW09N4cj7ejI5W599713nw5Dtgp9ejWdt9oPw8Ee\n",
       "GGbRshExxf7BOpfIB4sDgSv2Rhe3xlsq+51bwP20qVNCRSpC56S+dkM1E/MEUK54IjJc6V6hA1jI\n",
       "bUpOXMXF4UEghX2doUgq28HRJZBYV5k4iaDnGvJW2IJMrQ7KkFEOvQpEQcSilszR2LWLUdrH1ybG\n",
       "IxxxAAACWAGf1nRCvwAAOJvq0FVYkwMaiKBItajGWCSkFrVQEFABySfBTFIk2ogyiKmStRaOZtAI\n",
       "iYc0d1BH2OAt9RvUDdf8Kcn6z6lyg3hKXSnlbtIc4sE4Kis4AJ5pIXhtJSp7Y+7gns5b2j+R6WxG\n",
       "uCZNDADPOqcYhSgbwY+lSrUeMpehZNxCxhWBx2Nq81W/p8/Q1jfpMmJXyXopMwL/SYD8FPxy1ghI\n",
       "lpb7hoGCYeb5oGzkC6T700WwSl8IYCMTcIxmDJ6LbxGxNTb53lslaRfVhi/8+kwXwsv9zLt6nIzP\n",
       "IpNvbJ7n7ARuS0hMQ/lK/lvbRQ3SGNu5kl6HNq3pr+roXGni5OJdv++eJs2hnV2iaXw8TZzWhYQ3\n",
       "2hcMzxk5UvA+SyBF28FWl0Ccwn5hEmkm5lv/Rxmx+0FlYES7LfhbAG23I8LOiPsIvYJNfj58UsER\n",
       "rHFxmzxkhFjksJU8d6urwiH6+H7W7fjJnnoZf1U2y9JnsE15mP7fJ8Sv0s1Cd56ICj1LB0l4z3NH\n",
       "Zh89/aELiM42JLG5+fcswha6QRj/oIkVrYy0XLugmy4R4ikDilCVzQTDrym7gc2Id++vH2x780pw\n",
       "PYKsDGCii5QCBzajQ8UEkwRVKRhJMBLAp0JHQy8C3WfKrOWRQciNTpmprbuIF6IILvv2SrHJ96Ge\n",
       "f8pB9hmRCqqKY+UA9KsWiaA8XSRQ4hFHOf4ESJrX9DFO2QCTO/L6zsTIHuS3ibJ/IW4tXkyBqfv5\n",
       "/j9gu5X6WrpDP8C/NjPHyybrcc+YOGBNzmVDbdl1q5UcIZJaCQAAAjMBn9hqQr8AADdOhmC210WO\n",
       "PPG1S5cFi+7zbwQNgA65dz8zPn7GBGfIcTPB6eew6h88OnK0jkkAaVR7yrBWZAo/ikmhkWbzoEph\n",
       "6q9JMZPh6VG/bfeffLvM3/TDN5pa5Vw76WDPGhmGmmNLDXrf8EyxF1QeZAhlpcDR+u+nvbtGy5ht\n",
       "dIUumI+mhJNdUZTeHFLQuEReffGkvIf7fcAw9QpiNQEby2irnbFImagSmvoTAQ7Q39ztw+93HOT/\n",
       "HT4Tb8nMUwnBJkoDe+iE+J8kVBSX7HnR9NvIghW8mfySQ7yZQtXe606KN5Yv0bcaRwNlrubdnhCZ\n",
       "CSnrEpWjANUz1JHaPQmvTHGxIo1sJzJAGjDasP1WboSMxOaYZaXRcrQvPngjMRRrP7wVfjW81TL4\n",
       "rYJRV2ny74BCXPOusGaq3HlDDMTD4KHtqTn3ahjUtj44dP/wGJr6PxgPoi0Mm+wIUzvEQv2lPjXh\n",
       "hmfqUP5x6kvAeicTM/9rxvVjfUYH4s1W81uYQNN4tfzQekVvs+MV92SGDZReUENb8ZtRx8EYfAVE\n",
       "VJZLtiV2eHfk6v15oKr5sfh5ZHmnmgRiGFwRisrLsGl4OoQT9KwZSMWhNU/DGsmmCDY8Fsfj2I1J\n",
       "Xz/aD/nz9KcGFLvmhbxx/pHhZfJgnEe+9n228TwUdnI2h1y46Zq3chKj600hRxjAzpX2vLzNBf7v\n",
       "u9tDMvu3KX2s8CKxG36IXul5jfIG8DH894t01uVF8jVnfgAAAstBm91JqEFomUwIZ//+nhABBSUj\n",
       "vIGRBncWimdm3FnwUb5IAcEdf+roIFclPqQ4jrCoqAIf/DBz6T2crY27NKjvV8zBYesLB5Jqah8+\n",
       "QlErj4RC43EWIZa6zNVvMRthohdimSi5dOj4JKh182Ef8CnQhe+7BYPP53g8JfHdFf3akPqIcKaN\n",
       "oTNXl404ekd2A0nQw3PmMYhc24Ori7/bmDnHXVACSP363ZgAv2iutWvlK1FGLPtOFNXyprcDEdwu\n",
       "U5fUdZyF5x19wxN1k+b0jDUGdOxUh9HsMf159fUesxO7MbCEEPjxXT0C1NxaaN26AG14WMSQp8f4\n",
       "D/crwT/mCx/0eQWec9sQZK/W00lxH/9SKDqZtszJ8ecVXsvqv8Dt7nYlRZLub7ZFeKbHrCNbi2LQ\n",
       "62UcQ94WPKbVKiNYgKgO4t7mFTAfVn5OVX7mKDaSUaA4DNfmsSJ2iYm6eFEgVhc3lFMEZdze/MaL\n",
       "8ubyXT2d93mjYMkVthSy1wiZFLNPsJkdTmXkmNnN1qzoM+r8TpXHN/P2Tssla1ncVgqSKGEbQ0RD\n",
       "tDXUolYLF/Dtv0BsVg/FJI03TO1zJIJsUb2eUcetaoYu6k9lYXRYs5+0sLjF+r+vJzNyH5hmhy4B\n",
       "ciRpNqAwIsVsUI3yxOLtSCX9Jby2qEo2Ud8yo+9zSK/RiLeEdRWRce8Ux+fkhQ7NnTwzYKkp6LTf\n",
       "NFAHSYOIOZ9RC967Ul/33RWNveQ5yroTuZnDsmG+FstlHVC9T8yyUeakSU76cjkolCCi4Fo/HAT5\n",
       "EHlihqTciz9eiu6Re1rRPWvY/i8kBiSGqmE9ccQ7ZBjAhkUPOegOVcxfEwxGvIVoryDnGOJn+V48\n",
       "Yt/iltGPRX2iA1vMApla9MxY6iwzNV9J5Y+nL8N3aLQwNoZh+rTzYIwcuWNoiyzB82h9B6Zhi5ok\n",
       "VJXdxCdI/3lNKF3BAAADI0Gf+0URLC//AABxV6nmlaunliMfCNje0UkuiwAF4mFcdqYLeMLB4yAo\n",
       "tpijPOWN+f4lDUzP0SlHZmwD47up3wVcID7hEmUPSaQL7lgGEj5n7nyvTghjC/EiHMMwvMevjUYA\n",
       "PdQWJJvzwum0jtMXHGaAhJGt+/YxwkssVhNc2o2pATXLhny5StodofO5lgwpA2wztgyAF3RaAraX\n",
       "C0bMYjtEpSHSq8FdTCDN++8vNR00WRulYnUO6ecOJVKoaRIiwJwcCB7d1WSYzZH1erqiGkVa4NEl\n",
       "Q+IKP3KB5Pa3IGP7KHKueRGNqnAj1W3psWi3tTrCLbIw+EgAaQgQOZE9NOFPwxq2k+p/eccgWIMl\n",
       "m3JqTp4MY0GyOjxhrrYXB4QM9L/jcZw0M9VQ4kgM1rMrwNa/ichmwBoWMdCjuMhIzB1ezfvV5inh\n",
       "otIUb0Gi5FUGqh9WpQ38C2RD4o56tv6cc+3FjSbD7lZut7D3UEMoMf1LrMp4RkFkoIKJEYv9nIN1\n",
       "QiOqpi5EmYs22gp5P4JfkyZP4/gg0b61ZQFpOcohH9C86J6Wd2wD9muoiVccNVivXPq0EPOi2+FA\n",
       "FjjlefOxSNcsEmIqOis7QOX8vuRJ7vKsu8XDIfTWfkWl+Po/V4BO+Bv/TRScdJWFttlNvwsEoz0w\n",
       "w3Jp15kvcwLeMNzugn/4P2frmJIV/GZapTg81QhNC2S0De0ZcRex0vc8nn37lSGRMAji4bG6GRrA\n",
       "lhvKP8sQSwaTWsJ2ih+E/cmmLqoCXs/CH82BLdqiokxxNYkSSBzPbBa1LVF1TiqK9N/Do3K7CcpH\n",
       "cG0VF4MvqoW/4LwG3mfXONVwv1NAzAXOqtkZECahI+a8aXZP4I7qBpTv4A1SFhnrF/JJhaN8n3fM\n",
       "YFbiNfmaNG6wwmKo1yv6UjMgt74nEYcVeAths7F28Q+WBzL99VnFy5rzyGenF0JBRA1hI0QaqQyE\n",
       "wzubR3ql4bXhjLxrVtT9VhijJcALX2U2jQp29V+SEem7OuFS2EYIsyeOifxfdLimKfOWJCQrqYg+\n",
       "8exHafHtuPTfe2cZ04B8GBYfhyJuAAACiwGeGnRCvwAAmvgyLqEwLA38OwNgUCADliSZmn//x6GO\n",
       "r8YapGrpqon9hgpfUx4yJin/gLcrhKa6jvA9D84Qupew8qY0EmqK0i57Y4nl/6Xgp2Nrq5SZjXph\n",
       "DtaXwSKnC9C+kHLLPxkzmaNowHGOd6ce5FUEfmg74f5ZzDbAa7aMqsKtH6mcM/7/bFerum3LaeYg\n",
       "9YO5gjC6Uj4kez3XsD3AJLwmROaOezPV/FOKMMZFGxnvE3abhf2DCH2CoZ24LmH5tIe9Mayf/3y7\n",
       "nWxtnEzmY9TzcE+NCyYc7iiR7rqJdGzp0+qFmgvOSzxzSNpdw5pL3idZjjErQ89yZCrX0rTbwHVt\n",
       "UD/ZxO3HmfM6sz5BXNt2ZZvOZ5lANqYwDYhXpWs+AWZyijewyOFDBDmPTykGB3bNOJasXre3ml3J\n",
       "+eHIgA191OpTrs2vkXerszpiwZ/9X1kg+HfkUGvp2EKDYwl3zvpspcdkC+tCR9dsdzeB1MelmM+J\n",
       "trheJjZgAU9OjpBOcVAtyfg43f0BAHJk90bOkZZsRtta6xRngG6rZaTknMQVEFpn5QSy1gIZ/pQL\n",
       "4ImKGMqh5KFguq4k0okDfXSbe761qqaN7pWnPV5NtsC/9FMlLiCBWs1rngLKV/L7Y/PdU+t/LZM4\n",
       "iM5RSRmJovsQESFMeesPCHHCteRICiop2Y3uhFX5cLR+9j2qsWAs8n1zCRi2MGAbAFvV1sPUFPZM\n",
       "cYR3/5R0y8zOU/uK3785vdEZBzTu5i3WZbyVlGahz3rSrl6L9t+g47JXZidqYriXs44lw2dsV5bi\n",
       "NiH/DbZGCLBMhSsFrfdoPITj8tnd/K9WwvHLGi3KJ6PjPG3oYdYzn89PsBflvWOh3QAAAzcBnhxq\n",
       "Qr8AAJrIEUcR5z/Ls7pEq4uFlpCZmElyqSGADmixU/t6jXRKBB8gqDg2eTHPdeCNdU9K2qJdIRrQ\n",
       "lpDvO0jWmlyMM47Un38zWx4eltaJMImwFEBG9WnVXrhq98GXE+M8jpfZFzBLfpvKkMoz39zIWaf/\n",
       "5ECnG3Olm/79dY1u4+ECQ/Xl9o5QQje0S7b9tIk1RCS26ueEwmatpUtstEbk08ZjhRTcQML2q1Zw\n",
       "DlGo7KhLCGjwAB7WoyZEYp8FTCKhF5aV62Q5/5OYlvFOZI0i75iqYWlV1DvQar46L8YEYnn5g9+T\n",
       "RWCVF3xZJHyToBPNhDR7EYO4Hc3W7ZiMnX23UvoAJJmsmO48V316/zC4fFijUvPD0MKWixSTtipc\n",
       "ppgVDaO41U1kmcUOLE3GPZ3M9GqeobxS55EtT3sjwkExN75p1BGlJ33AktDvNpg38+FlKabJRdRy\n",
       "O+SwR0ZAI031GqVcg2UHKt6XOlZ608jtmJcal3Nh3nGBIIwzkmAIh/cmd17pjkNlux2ZKfC0nhyg\n",
       "829AAeMfpbZRI8RRI1KUtTyojE50yr2+tCZQIil+GmVLqGBUM7EwpzsJBi4PcIgRZVyf/19P95Jl\n",
       "zSVxmiiBx9smX9aUSuTnHgrskhuO2nmpp+6cvnMA9sALcC+V1MQcwYyjXIl1RFyI40Ab4GoJuSvZ\n",
       "uUq0ZdCMj8FGQdFzk9Afb93Up6xmhJMOpWdj9eM/X6FRIcwm8ADsM6CIh0qefR+Bus3AvzPhm4jz\n",
       "K1i1EgrgRrMISTICBTn1cHbncv2lHxypa8Aarj5bPMuao/hGXH2AALDY5S1ZF1CuVgsDXHFkA2Zx\n",
       "lXnPUkqkVpEh98/ORH/NcLj1DMi1SEOHv2b5+/SPh/2Mum6z2dfwbrRrmq2P+vM26U5WVzTVUaDo\n",
       "495hlsgiBrD3xFcENbxNL6q40BsDg6Q1YVB7+lspOVi8NSGXcYdoMaASQ+8A7Sjb8HAeNTBNx14E\n",
       "Of71D1CsNmTzUw9p0wJNwP51/FgJN7Hr+O+yDv6sCNyOiaokrmGt95E9yQCZqRxPm+N8mB0g8w7s\n",
       "bA1ZV+TN7KSO6X3Voe8bFW4saH+BAAADuEGaAEmoQWyZTAhX//44QAABxLS6AxImgAvTz+8rjgDl\n",
       "0Obvlntd3twC8ER5+EDLS5f4nnLPFcTNz/WPnkD8Ht8Z8AqxpOq+Ud781/v/MLktJpbj6wKK3pBL\n",
       "uO8tN/4lQDEtVsEBI7pycvkVnEHQsv2Pvllaeu2VSAeXnkG2LDqKcYl+yIOggTYiwv21AcB+Xl2k\n",
       "ee8BkmMW+XaT8wtyS+BuEBvgDG9ZWG651S+j555uEGcIXFwV8yumpxggA2Ix6y/p945nfKYojvZ+\n",
       "I91ExILwKmkr3SRbn8Y7bc0ROK5CTQjCxn8y7JHS7fWSBmlW0fsgHTR5CBdstIeoNCHsQBHMOvTD\n",
       "15tu5gc1BVLNiTQMelqTR+A9j65SoBAYWJIuw6SNqENFhpZGjSYADMCp2l5Ugaaf+HE3AWrIZTip\n",
       "3zgeNYUIfU47j6B02hePIoWpBo7ElHjk3gqQZGcu0qHT3iD23Rfh8O9I1aWU+KmlS5OTle+btNpQ\n",
       "AMRLbNU54OZxhvFzhI7gJasPF6u2Wo82IiN11YHbvYxTw8Jc1l8LxvM4w31Bfv6qeaWHLQRa62vo\n",
       "sHcvxF42cbziZUnSUPrwk9Hw8jJgSkRoq3Lk4Kq7n9ELbtnod24Qt2In03QF1iuK0icfrAKFa5p3\n",
       "DfTPHFfe8+4VQxkNxGo0iQ+DOL1I8xhEoB8DkxUztJCER5q5ix3c4PTpiweX3nUjsWMPaTu0Q0Ti\n",
       "m21tPcT407GHEUm8yNRIGu6nPimoT8QWtNB6o6DqD4Yaf4hEhEs85OyuoI4GsZ10Dimver4l8xPJ\n",
       "gsSqPVIhXY8UaN5UJkgHZYsf4rf2VOaHWZEdgxEbq8k8CwbGwYvUe8z5lWXl7NvvsnVLpbdGjDFE\n",
       "AsKaYHuzWlSIDxfMQo7WZW3GGmjnflPeK9LZ4c6633MzKN05lUGFyrN/M400aJ1CQP0rE/4+WURx\n",
       "8wOGV4cTWJDL7OH6qTsWKtmlDck1Ompn6aNfUzZc6dKHPL7ERQQtomOUS3oRSOzbj874zMKcDX3H\n",
       "xGZI3yIGQUrF6FL5LmOmgL2zOE0saFP0QM1yVguSV+8UI7ACne68oWS3EzDGjpr7kRuyinyvBrOn\n",
       "NVo0RGUgnJaMAdcwQI8aD3mW+G6prowuBU/CmyFut/praKL+1bfFmZSD6fyYTn+x3QoiyWAuZ1Vg\n",
       "EhpVd5hAQNEBgJY/ru5IHeM9GbswsHhRhwrkYy+an8Mx7Z8gBF0hjSk3DgvR7dyQ/5c0O1iTl/bZ\n",
       "TwGe8WRgrYAAAALmQZ4+RRUsK/8AAEODKfhg1nv4zyMv/NWcAY+e1CcHNJ/rhrWfSnro4EA+lNBm\n",
       "3q6lq24tgnNSDG81wieCG74SllRimojMxmVKrhVw3Y0IMzjPFnq7QK+icTNgsdc3fLPbA6TOWMe+\n",
       "AAl0sZo8QgQ1ulE4/CA39eYbhHmwLuoikedhFiS+X4Qe2gKijierv1OM3NQiTuOjNDkyc6cigXGm\n",
       "nEQaR9BmT6Gk1qyrWMd7C5sQgKgx8MLNW/OStR2PW/Y+U5rl9mkQG/aC8GItKpTSl+Xfg4PoKasS\n",
       "n2oi+PoOhUWMtIN4NA4BE8EAIENmtCBzk7+Thab2uj5MeMemgEEN5b1RDZBmGc9eA8UqIK8F3a38\n",
       "BxDcO8pdLsoWRyG2dYU9T6zCg1ufoQxg3100xKyTqJgwySLR96mmMQwTk5URpaNN582FozAnS+w6\n",
       "+6rbkPUW/KdpdJXGc4HxaUEeK4GpmpkepTyzozajqrVKaaGwKRHX0l8KmVPc2Pgr3q+Tl/43xFhY\n",
       "Ms5OMKU/wUOXRng1aPf6buFxBMAKySuHyK2t7np31J8sDq4D1GIOCQdt3KGpYNxfPfx1+hShhTSo\n",
       "o9obhI2O5EdmQy1HRRMwWhkVi+nWX66eGQgRF9GPrH5gAt1RF0rCtHMZ2rPv0msDCdWPZDm/4/91\n",
       "sC6goRCmxAuugwySIxxxKyfNItXgd4gSShJMGgCSdRqEc6b6f1qRu7NGz31GqEjcy0DCHMaDMOK0\n",
       "24wpvc63hthNSmsLxgxiZVymN6/VyfvP73bMhomwgjChuOeES6NQxvWOZv8kyFGhwKcBGFM9q+jf\n",
       "IkVPfwmpvxcUET59maG86SbtjoYoEfJkuYnZGZka4tJ7MEipwDXRZFDdaoz5tDPJnKyOkIB85Ihv\n",
       "A9ZBYyA3/h9lsO4bdz7sSzjoBVSTIuTcer8E7O7zYs5B4ZzNQeQYPXYT72OWK26EVOIt7yDDX3tn\n",
       "D4iEfiQTlHC/fxXDKgAAAsEBnl9qQr8AAEN1z1rFslAgA4ulmelqtHgD8H6g0ZOfA5dx2incGQUr\n",
       "lnkEY8enNMy5hx+llhGE/il/iSw2y3COq3pIPddjz8rTw+QFDzK9T47k33pSs5L9xUCN9x9SOil9\n",
       "3N2XIZcf8EjHx/gmY12Mzf7ex+SYRutJ3ZvSwzNoSfZSP2cTYcESaLOZYc4ZCGP66QnasyHAQ5in\n",
       "GCboAEimq/MGurUXAay8OchjdxsybZ2YpkEvszY2MNmhGAIxqpV9lDbSfCphWBlVUhklFlkKAYCV\n",
       "pZVLAM8ai435S4B8Nft+uao5n6NtMflXzWnjA0G/DvbwIQovM+fVc8/t4/TIpMXJPdpKcprAVq1X\n",
       "GRMZlh9See/bYA2zYmdwBmFl5l5lJyyQMnadCSZ0tY0xThoGQJkOcpwXrEYqp/KYY6Q2lhfQpnaf\n",
       "fj/4PW+Dagv/YqmQ1mfVnZzOKHz4YlPBSO5hvUIn+oChKiesWX5OyzMbRUxJgxROPtm/GgZ4JyFG\n",
       "+VYqS4s7Cz921in5L3EDtv/x3C2DA7wO0RE67tK28u4ia+iMS7NhPQKpskAxnXku9jxTUJnePvws\n",
       "RRgVfbNoFt1swtedWLVU/o2FIGqaafVYBQr61NW+BANtoHkGp3bjMHZPgMC7gocmlMgJe3HR+jBq\n",
       "VeVT8B0QQRe2uygb1me1b9Z7SqBRtUySwjdb99tyRvmCTUes/XKr1xH2QQO+aX09yoj/UqOshOy5\n",
       "iZj0snaxOa/Xy1cGEAd4qWsjOg3ySURcMLeqeCBCKd/gWKBPZ+aKvV+WfELV1i6Wy3M/pNy1+zV3\n",
       "XbIafQ+K4ZaNo2+R9FT3Lw4eQPtFAESWrbSElzUe0zwofwfSsotPOKbP03VvRL0WV9ThbVmz47xr\n",
       "csT0FsGk290JH79T/9M2k0C2MEjp7t3AoEcgW0ZF7hJ0hSQw+gkAAAU1QZpCSahBbJlMFEwz//6e\n",
       "EAAC2b7/YY2iYAOH7VJvfweoX0WgtkAXsoDpkOLfEZHG3gFFPWC5eU5BZvvC9pBkfkCRsaKsEo80\n",
       "lY955JBcefEPZ3PvhZGDc4jrBBXfXBjELYilAeR8S9fdnOMOX0EnHAc5JPtoLQ+rxep+bGwwFNww\n",
       "R3avCUpMfWALQeVLla92hoamjONHE3O96dYYwYZMzCVWgCu9aW2L6mdj8zGLtiNOQeEJVHt8kkwi\n",
       "VZJsVNzTE2lK5o8+qUU2LpWmWmv8/0i4JRF73WfSmbvHIylfbvh4zPzYaIyyGmHMcWC5qm3V4LLP\n",
       "NfGhjcLYf4YIhuYRGVyoqBODYadYPbmLJg5LMenQWQ5cgPxW7A9ymA3qXCtTCbgN9cLPTDnIod7A\n",
       "l+3yYD1Ts3TkcGz3od8JzVfzJYdcxuFdLEKrGtBaR2KNTecceEQe7Gn/2xGgEmKiwZ9kh4ym6Wvj\n",
       "Km9iqpxUmngyP9GrmzRiX3DxFOgs6gKR/IHhT8fZKiiBXXYjAE8JheeOaXmYKUo1oWKXO74YnqK9\n",
       "ZF3b5S1lvYlqU/rK5Jb7IjcKqCE6v26KMmdvHe8UamvGSuVnJL3gY6GxU1VLgOFgYBWEzVpRQcUx\n",
       "xoHZXG+5LMlSbcbfP3d/H15tcllsZy0T0k4T0VDq6J7ZHBA90Tu53mxsT2lOVNoBW3Wq4GsdCmiW\n",
       "lh3rpNm9o3uC9SOldIC26WBo6rpz8rYcMeZ99M46BvweQ8Lru/tKzawSuEPutucl+ee0bbVgDJzz\n",
       "KToahwTh8IVrMVBZ7Keqaq6eP+CkCAsLx4qZZE4eibv5PLj3pOu0FbYN7EH9/oprL73znKjaFlAL\n",
       "XnLr14aLEVgKyKKXKPeKXi4w8Nae5G81e0btXTAInIT7VS04PbCtStvcNMU9N6BM09QthJ3ABSJZ\n",
       "XRjudXZK8qS69i4nw9WDYuyPppwXp1D50fpHuMkLHPkNcgbupXu51Eb0kSMj6BEI3S3AsHzlCwrn\n",
       "andS6TgykgxTN1wgGMs0MLTUd6lcxwy4NIrxWTXMC3EivdQFswyn0vUIUEPgA28DHNoqo9QKFc+O\n",
       "0oXfpZtCs6TZRC14Js9prQVS/yjVre85E1v9I9Iiy2AZGNlkXFv+NMFeM+jlR3qk8mI5sbjbo3h/\n",
       "jJOpBE1MKGJ/UPcw8ofoC1WAS2qombn+pry/f7sy6T4lzV80ZikxU1SkW+ok2c/tmwRXJledfW5a\n",
       "H/fGG2mIjRjesf5xdc7ciO+yTxbcMG1MsyTBiIjP2ihoNnqEJVoNON5H6UcDbvlGkg7R7bTLODS0\n",
       "epAe/2Cxz3Vf4QMvDYMzGhHSzR9H0YnyMWZMLp+Hcu+Tt3NfzW6UJe2hKQGVaRr2rGF+5qrKBq9J\n",
       "96eGnjrcdODt0gl2QgTLaImJzfHNLhb2aeSvJhter2JCcYeA/W7cGkXNsPcny03ZouAjgrwcnWw9\n",
       "vbLOQlQjLxf8Bau73185D1vSS+KovwOTKY+nblcwz+bLvmT8svhD5XKfgbp1BqbbA1uWgRHte1oL\n",
       "SEw8nJfL9QnwfkknL5LIgkQjHCAEqvxGS+I84JJIj4ig4xED2mSd3xwp4J7LcvfH1uHF7LY97SDU\n",
       "KopuFlPBabBmT6ZfvrhoJxl2Z+0DwamX+j9+Wb/eNosfoYDhpgJM7bKxhO8ayQGDeoX/4ZLunqBl\n",
       "BFHELDqqCdLFAAiT9j+KZU2tgAomU86wxpyrjjliyKGnKJ8qiH/KDATPQHqJRByNd27pzW5rXS0p\n",
       "yGvicAx1VQAAAkIBnmFqQr8AAJlKvjRAbXwAXozp4eU5TJ6xnwOdJViWxGFNZ3eEqxP6aNn3eyS8\n",
       "1QefGmaygVli0ucqZGsTlzk1ezoes+WZTnHzLJo/bCI5wrd28jSHdmlgnxUHUfOLqzzfSF4QSZ4s\n",
       "iZTY9j57wWQ+GVc8TkGN6VDcZldL8+47OXtw5sazrYyH8OKDbA7UNHL0ugEf0FhwpM/squlZu7cA\n",
       "Oz5cDHDav7ynP9WLsJ1K/Q3YXfLTmmWSbWqHB33nGRtzZ3c1mpELmqKI2a5IbEMpDsAwaEckvrwP\n",
       "tKu951HpwNjhkHbDHx8HpmDxp/FtzGGdS5rU8iXX6WRTo2PvZVKaRlG6Z2kbkwVOxH/X7eEInhlI\n",
       "iGbP6TMidKzccCxWXxZIGPb8pXPdXCNhVMasN1RxWxWnYZwA1ZoRxdGXNlEW4XKLequYsktwniBt\n",
       "AKJaoub2ZOdoT7CV/JzoA3uTuhkjO7B0Gxhptslf5OceVxX19rbc6EvwihbxiAF7jMCEtbEgWASY\n",
       "PLBeciYuTB4SaGqiTu7FGkIGJ8HsK/319qZnJluSYiXlpP1S6upUPIq9baqs5UK9B1kvZVLoWEtD\n",
       "MdB6/PUdU5iFQziMYU5oip9Uay+gnJZlngDwnykezOdlxMyyWOy8ADL1Iky1+oiSjTHeoERNyimp\n",
       "2jDLEDS86ekMCSKW5GjfZelZMTX6iQ4ab8LepduZ6aS8vsNQeThNswxODD8Gt6DjIDISnED/ZJZD\n",
       "rNGp7mhllN3i055/5107zwFdlQAAAfFBmmRJ4QpSZTBSwv/+jLAAAu32iuFLmxumpA/7loMBroAb\n",
       "sHYN1DrigU6okAO1lKwMbCzjTMgsyJNOb9gU7NpmlHcTYBx/iLaehv+LJWFceXXqnRAzgmNd2D2P\n",
       "emsz3FLKzYKHEdC4IhGeQ5Eo9iv8nBeNILemDrTGBp/Bj58JJTcbB7QbcjmmAwO8E8HFH19gt1k/\n",
       "Gw72lN1R/KtK14DxB+/F/oW0IH7CNoP8SpQnwq/nzFlB5HbDVL6KLE4LHQXq+yYrxWGRPuBw8bFq\n",
       "XZQSyTP5aBJh+1cwS0847QPK5ykVsvBUvlkg5USqamCHon37KvEICZqHPJul7WbpJS8JysuYBVe5\n",
       "4CmfMX70jxsY7vxcnhcHqMfoCyk7LInr8CPXYwhdq4LzkMSLSngvNZ6YnFplY1IrnSKQYKKuFonp\n",
       "zD3aWmCxzPttOfNZPbUQyQkffFSinK7gvyiK15dA3bUZWsrpnvFFjp/QpUENqZ3TbsJZmtZDsHeu\n",
       "m8gmVKxyfiVvJ5FEZMCDZJbNFOgx/enE0hJLRuCe8EdEcWiZl0zpo9xYAR0Ju4IMwfeV1DS26m6s\n",
       "OX0poyS3E124xMmMjZH7zPjK5zMo+FOJtueFoxbxXZDJE4T1TAZzKf/pNgIrga3bi8Hf8ot2Etph\n",
       "mCnov1cDegAAAkEBnoNqQr8AAJrIjmq0WhpJCOR3AAdddOawgUrK/5Xy2TWC/soFdG8FjqBk0eYk\n",
       "nDjbbwYpERA9OIF5Ikiz3Ba8Ri5bkRvjHTkGXDJrZZNy5oWAcDri/RBctBDhv6LufvrLDzgL9iPO\n",
       "L+u12m8SA5glchIO4NXQoHwvi/rVHXL/w+zLeN7PCdiVA32t4Iu4oe/sDEKA78sLl/YCu4Ph8zfS\n",
       "BKpHV4mCkY11d/u5speJoaq8Yy5Wwn9W+pvEjEmI9voTCyOQCBBpZkgQ/RXBG67yzzmKrFeEfEwk\n",
       "DvoBaY2ycri3/bke7wxBgp1DuQaTF/QYLY9GtJoSknOHUx54B/JzSLLvHGAAh7uhZ99Cww2rmqsQ\n",
       "u2ZNdaxjseYbYugGhkufxpbJWNehYqbvuwl+c4yi5y3CTFw+knxqlYuLKPVdoAl0jUbo3+P1jq0A\n",
       "3TXjRWYztGPo6Awcs9inS9YiGorXj+TZrcPM8HA0DsUywE6MkODmaemxQHcnfhyRfmg2MV7uQBty\n",
       "1m2yNiABGBuZKxvphegIAr2I9eTsG8sq5+uNVEf0UoBEpxy1LTED6FVyl1G6X17QdJGnReB9NTnQ\n",
       "nIjlmln8zlsorVXuol0L5Sca1yOVlUvrxrEjR+SSX4OraDzR8vjVrZ/uSQanGZcdhTyRUSHU2Hpg\n",
       "pyjzi0+0byW7gBb4sraXwo09W4D1+0Iuk9o5JTpw8owosXvdYtBJOydHGZ4GMwK5grzBbAv0Keta\n",
       "EIlcMCnikLUNFgglSXhvQFlBAAAC3EGah0nhDomUwIb//qeEAAC6+8KC7a/5gAp5f/8P28ofjD1T\n",
       "M5ryV+wdZO/sHmxdoPH+a1QHh4+fS2T/9GhrCYqwGhewmnC5xmgTz5Qe/nR5062ySCACegxUtFAK\n",
       "Yg5IiyVBD0iDVw3JafzYsujYx2VwYS7zar6WdVSdmTH/yFPDcWuiwSn6QhPbHpZ/iIIfqhpQW6E1\n",
       "3dUxyXvJXtqdwEFpElDgdhlgefS0cDLnb4EkrBhqtn1obLDqWBhKr0goKGxw5gnNnK5Iu/3TeoV1\n",
       "lM5tSSfIXWFND8f0ARfwdtqV9dlVaebc3e32ygX5BAWxR1mUEBUHUQ9g9J0nf2Q6Geu9/3mniDNO\n",
       "ohDnllGI7xthHZgXLlXoe5/2fooqyH3AirMYgwXHO4ovboM00Myd+g6/nYfj55pe/f5rjZIUPixy\n",
       "1sEb82FUghbXz0FxS+iW5A7LPByFKKQ8vzLLQc7hPYR2V/gb7pOvD/nExgnonta2jngS8WnKP1uj\n",
       "fhbQSiFHNiXgFOATJJ9bg03+rm2/LZAc9ECvk409Di/1tLVKTgZtqemdDa+Dz2fauV/Rv9zuf0T1\n",
       "W8LoG/1SRMk1qme03FUIiavVfBC7gSJ2u0F3JhrEj1F/0pu5AViSfDfw+0yie4bA1W9yk6C60vhM\n",
       "M7afvtoKSgnF+yBiNno/RpiRfAj0CZsy25kkrmUchXZQJxmSE0i2FkMBpqnurgMZRqIS+0A/EiCO\n",
       "C0d2pPFj/VomkVB8kmkPzijwW7tat5atBs9x4cD+9AbJy+adCFIJv4DTmL+SFWmsnMpgFQ9ZJSfV\n",
       "OrexrbX6rO1IfJgE/AZm2WOqXUbTy++tYi6xg1P6O9Rln/MZh6lh+Cge3OKNKY+QefL0UQxttjbN\n",
       "wCFkq0NzIlWKu2/01iInAiATZjRYOj2RQjKbi6b6HEbVkmNC080tbU2cvFhBu+SiRYoUuc5mFqxx\n",
       "rS3dIN4tfmKenH+NoQAAAfFBnqVFFTwr/wAAlsj/TW8AQ+UubyBEJDvit1lgihE9TFILs8Ib6ruX\n",
       "DKpAbuzsilbsWkJIxJsiBezUg9erSC6e/HVDszFnkxwoeJfJ4Zcd4ooAVk65S/EZYTdjhQoBQvpP\n",
       "Sef8vmQUMqZiS5VINI+RxxuyiwGc2lvmWRsL4JD1C3kmPnEvXmY/s1O5ijABMrBf5NTkayWgSlIF\n",
       "McRjKiyn+QlAYyAvVNHf3wM3a3Q1TFTE3k5YoeT4Ho/18YcssUcjECneT79Oci+EMtnw7T2/Oi3L\n",
       "ouc25D/+lX+ywSciq/sJO8FdQSNRcaBnvidj8C56GlGbMNU7NY8IKaSTqqcnj5eLWAmxgasMZIW6\n",
       "54JJ5qNs9u3gya0oqtuveqR0rPdgzAwlnnDSEFhiIazWugy5Q9nhbtrHkFT1v3nhCOKzEBCacOr5\n",
       "lLHiri3KN+PhD6QFUUitUYQkDW2EVFy2bTtsbndb6rWcrRsaL1hs8ZIiZF00eHntfThFTUECOsHa\n",
       "8Iq7TXxxOwx7IYW30ylyjfQUIOgkutXYRkPYXeuQI26NnDZpN/JcvrFSG40ivCwj2BDJ1iC1fmpP\n",
       "jt/jPFIJtTO3URCNqcweaM2w/1kxuH+bqCZ5MonwG/XJVTxaoeOtyCHoFyNNTwAKFzt+/gMj2tDD\n",
       "jwAAAuUBnsZqQr8AAD+Mkq/d9+Cdp4h4ADsXeniJS0XXg541uzsNCGrBmXnHwcJ/jowZoiMrV85e\n",
       "u/2hgnk2fvZ5By3ed28ziEGJDbZi3zwY9yYzGix97bqPjKxZnWcPmPZWslC3SZRF8/elXo9qoe0Q\n",
       "VK+0l8lV/Edo6WMVPlyg/22E3IP5i2miBFLaVyMCUEIWHJY1CTrlct3Pd/YeKtXC1fNipNQbuGSP\n",
       "gBOksgvgscAOBmFiOh3CXCaM8Gumd1v9TfLub0SMe2XZNuRHR1sFvpyzAvErxRiehkLOOH27ZxDK\n",
       "uzk6dvUg3/i5rvelGYMLmgHgClEkMOva+uKI5JgAQzKOC3Ijb1WMff76nJWzzPjk5yUs1ot+w3Bv\n",
       "Gb/006E3gN3iinBFneVjIS0FFWH9h5y0Pvl/0EZIthN+tdp9YG1GMQzIS64pPFfaxJAC1XRFEx0f\n",
       "s5CRhw0ck3F5TfSwlbvrLpIDudFRKmF5mM6uhd//AtaVw8tczdFvAg1FOFgncYygNJ+cAQXfwPAv\n",
       "Uun4cbjbFTKv/qS+dRX3ljhmgsVqkUtW27KzyDgtJhyuQRhKehKd4qwJkjJwTlG8uraqlCIGRVZQ\n",
       "w7vWniIkxs+iPjyOKHSNwjB3J58sRCcjpUO32NRKQu+cqV140p4aKujAM2GBqd1w6usSRZ4Wl9Pf\n",
       "LJWFrOAbbcTqCBxl/RFQEc9OsB1mYqveapNShB1BYZ0J6XRW8a9MjEflW95WMhlliic5PeJIUaJv\n",
       "VOBaQ9RULmZXWyP7MzrtayiXUZGxQHz56A4qRLltB6tvArnTvOmkyJlAyvnxcYvwzL2pIUhjhOsN\n",
       "oymceSjLqjQWstqFrgSt2SY/uN8LcoBbP5El6sUH0yLTTPPHLdC366bY3Djl0c/MVUBTo3NSu3E1\n",
       "Aqw4gn2VjpYQjrtxdC/tFE5yAoqy289yA0F/GG/Q8XJ+OeMWA8lHUYhDVGUsbUCkJMLibEMaqAsr\n",
       "7j/8DekAAANkQZrKSahBaJlMCGf//p4QAAE2+LDX7SfL0nSoURmAE7ZxZouojkQOJ/o4HKqlgwtP\n",
       "yJ1YN0lVsAppNOaxGllaRdnotFLI+usG37bLGD6+0uAhFGrThKGrlxdfv9OUloxyBG7yyxib/G2I\n",
       "z9NiDXUyGeaNPHPffvtnFYsUqRJHRGqNYVC74834LVsyHh2P/0uX+JfCTGxGlT2h41KcLyd6V1Us\n",
       "u6l2P+B6B7oVtlG+jJjoZTtQgcf9j5aPIx3cHa89JeRCWFVrdDUVU1xVamcYSPq5LP/vs/Z9tgd8\n",
       "hnVberbiR8In1T6LGPFkJm9od8VfzAOHYDsnnQX9bmIkKs3w0Oa2J+8WQ7lCwgQAECciWwyt/oD+\n",
       "zwnVflL+ifM5+SUkjQYFgtX4kzZSuwCU5GlXfHLsI5MKw9VXb1HWi5IwHO3Oxuavu20K0Q/AJS88\n",
       "CWDmAhIloAdDYd1JjpbJreKnNtOdJkoSqGzc6Prs33u5B5pbKVKEEoPcItHA2M1NI8ehB1zalq6i\n",
       "6+TJPicfThOiRfuEUO5eA6HitOvcgnMxjHC3IvKzp8uL6yDU5n0fL6v9Kfra1nlWr/I5eH+iTTyu\n",
       "TsS+nNCoDpo8XHwV0WXiZwkEmuHC+7R/9NEBm9qYonehRDR9M4Yq2QFVYBoTZoIO5CPKR54x2Zxf\n",
       "mg5Pk9zoNE3Jkx+pK/lTOMf95U8TH2lJO7Ns2ITbqWMaJEGKDgCBvv5RXQZdYXfRkLkmlvLRxTfD\n",
       "oXHLHsIhszqWBcMJfeC8ki01nT2F1riLHyhQpAnmQRBstzN2e5I+Liv+gKPnharyK/S/etoe+kpL\n",
       "BToiYSAADZYy5aoTHE9bI7s8G8HIuDGSaDMYrHhJGpvfmLyDoLohatDuszos1Z03HKhf+tFjBe5P\n",
       "cdGjzX7tflE4K46MfeWI0E6uYMcySzROcYIhsyC/mUICAdHTvVCNHryfH497UU8v6mC5T4n7Pm1B\n",
       "eeUl3XY2S7JHjIltBkfb/5bMAQ6Vt5Vri8Yg9CT6XjRwfMx7xjT2dtQFN6XTbtXtlQhTR1844dsm\n",
       "rmUE0fAZD2irfb88NlPxVPj8ewbVfg0xeZ02joTZV/XtUn05X6De/PvgHdx5reWT5HrB3zwVoyMV\n",
       "J3Cd9SaRnA1QvA6CZR1obKjrAqIVUAAAAvVBnuhFESwr/wAAQUcnIMYr29Z8Ha9nZU5Evri/ZKo0\n",
       "V5Pm3HAPUIj0qH/U1xdnBd/EAHD2jsOs7iN26iE2h/PYSj+osOvXWXtcZyMXLaUyTZmmGKjOIukn\n",
       "oaQEw/k7tOFG8muxIkhM+wXQ9l1JidvrHst774M7si8itKZyRx2zXNrePORflw/4JdkOffSIGDCA\n",
       "qpK4jvjpHZ1eoDmZ8wXpYUn7M2quAI1TTfozRjMqoQ/17xPcXJVAcBbmu0s71pAAef3ecRleXqOf\n",
       "GI8GTCrb5KqWSCiCWGmxCeGM8LlybWIj8r7AuAnrdA97emeb3UBK4H+tcYqq0oXFBmyAZ+19FHvT\n",
       "shojmJ+ih14w61Rsw8MKiZ9+OH7bOJtc+gM+WRrXdNsfby+gZcgyT/ur6eTK56a2/Q2JHrxjO1gi\n",
       "t8TT2GE2ZjR95No+JDqCd2WixBhLWlG/5LKsrbRmxkyDvUViY6wOLYZKrvLLqKoaflbaC2UhzNaE\n",
       "kYoMffdoEfpFfwADJw2sjbAYu/zMmuOJvCDDW7GcFwfOdZLDm9PGVq4VU8CyLm/bUHd3RmZqEkU1\n",
       "eUUC6cNiiw4nMX0k8NaifRkLovR4ndmGZweTFFFHcvhu2ocLhEaefYVlA4K17OS/MzqgsJHTMH+G\n",
       "a5w17n9jsqgMlmI/yNdye93NzYsOwUCfUdnjIJV6u8nYciXTWy8mArRnkHbUXwdJNg7n0NqFw+9F\n",
       "nRnIkWkvcnZQcDX+yiyqB/hJdRVF5WqVN8nzUKt9wKk1oP5m8SM5qz3A1jZNtEzxRnYd6oEDJVXd\n",
       "Jw4xNoYxvHCLKvxbqKEibIMg8T63wxdF1aPWfYCktAmZRpy17bfAXRAjVFW7rxnwU8Nk25Dk1FHV\n",
       "RKiArzg6xq27cy0H7d4FA/Ehdg0bCgcQTI1vWIXKtr1QCWPM/CpScbJ6N5U15RYKjl6yU4UtweZW\n",
       "mZ7KwIyCpLi2b3Q6+aCDXp1d33BcTkiL2Mkg6C17cfx/Tlry7lHYQ1kHAAADIAGfCWpCvwAAQWQn\n",
       "ncdH7juzYdembhUUSuDzegAQQ4cLOX0B8eWFzPPUk8xoGe+HeqyYUeZEaztPiRfIBH3FrshWLnLo\n",
       "ZR6j5INZ2xFkFxXZtdRL7BvIq/IEaHx7SOUtQ2AjSXKaXHSReO7gPwywTM7FMuTGvDnzThqoBCxF\n",
       "z6UXltNsKXtF0NC3R1pae2uTPEP+Bn6kSwbMqd6PToSYTc2AKlw1T4/cU3U0jfC0lMt/LOSlns2F\n",
       "jnbwetEaMg4GyuSivpBF89H922o4nQDuaOyVAxPtG9OUeZc0JaLWzAKYzG02+MeuJFHVMhNqm4AX\n",
       "uF6tOO59JP0BZQxkqAKbc7OmN5W1IIz8ogAFAopwioX3psbVC0h1zmQDEoEK82GT1F0JIwxmJryy\n",
       "QJAAXi3Y1c8sCF5wAqg4ZEVXNFZxItduO9tAjXr6dKuU27pnAe12J7uQ2kzvnCUwzeSsjViC7djm\n",
       "BrIvyjW1ewAZGj4DjLxE1vOn61p5bHs1Z4esQ2eBPWNBUe3WNRT5kAMbDShLmEwAtkRD35SHoqI1\n",
       "aLrWUowC8dUa9gJ4grmm9g9HX23I4cpT9sJev/8wmICxHZ+LZitPCOOf0Hth3v/w0DVszA41JOBj\n",
       "SzENxIDfBbFYvylh2MQvzOH7UuLuQee/GZ2oRt38pPdHp7qhIXEL7Gv8m8+0GljPgIOwGNiaGwHv\n",
       "zlY4Jb8WitSe7olNxqb2+92N7MIEgm05i0nDfXZSFUqmD7sdoxtTj43FmFZDONFiD03V6+klyvkR\n",
       "SHryDtgNRw0+iDUJsNFsCbvukUOlO55Tis96Ial3j5Etxkj0jaQkfGqOXXJamt+b/hmZaK7CBoox\n",
       "Nh7B2RdNyULafZOAlQfAQuwkFUyIVx6ONLmyss95qxhvbEI2hd7BxRQPY2iQzqNUz9mG+g8lZTIF\n",
       "QDpXaAb19TDQmxqHEJ975mzEnlAT9yPRssIYVgqeXdq1s5ef4zNwWk8QL95mUiZwrCFApCgXQrfK\n",
       "TY59wgQloleMs0c3TZxVNLs4b9Zd5t4LpP3skmiu8i6wy3ACjm3MgWSYZnz1ch1RAAAD4UGbDEmo\n",
       "QWyZTBRML//+jLAAAUvfH7D0RkAAKWv/+Gn56pxeX2j+Bv7gPqbpZ/rkpL1MvDGG2oCDfXY1GEYW\n",
       "87J4lvI/ZeV9IYWRcTue4XEO0QegC8BrSbs6wdwrA6coOfE+JG7EEgTD9G+EW8vMFOrp4a7Qa0ay\n",
       "ZjBz4OlXr/wzafeYb1cwiL1lbkTiGMKgVO1RLXiypMfWOhKIPxjsljtmMteySeazwCFJD749muQl\n",
       "349di6mqhjb/2rz9kfZA2drMRIqrAVVOyF2tRSG3pPZCfZeWnoB1t2oQJZuP7LY8xmifl65Zqr9t\n",
       "gb8AA53iPi6WHCdbGeN+84smV/yn/m4nVCjXtiPxuvB7XYOn78HIWHenqtG8uLaziXjbmZDiwp3T\n",
       "Ku1UfUaicrziS+J3RU/ITEIhmlPxCwGrbjJOJrdtlHbmZKVfAL39RdQ7iauFOjnRBbTVRWu3TpqJ\n",
       "NDiitL30pKJgE3UvXng/f+YxUJUPv/qTwz3g3Jj/7cNrVFT3GlJgV0Twc3t3w5W0aY0JUiKqXUEb\n",
       "opdVKgFclUrfhe+qni+0cD4v+tSRntQpyeUdPJgthE9EzQE62gIrbWNPjO+KXuM8OZcoZcbA+V2Y\n",
       "hAzZwwy44bIJazyoyY80bb0+UR9e3BGyzi2QOJULiIiqwvM+m8gYKD/AtfVqgs94L1PGmppqzFI2\n",
       "ZMXCocsnBbkitbCpr1jTLXQkxcmdK+Pr0WYSRAlMRTnFagdraznA5QLuQYsFfk5j6EvS5l1pGfg1\n",
       "R+131h/EdrNsasVLx8jqFPrknpGjH9I3ndKVzfpHD/wb2wwLxpAabOtNU1nUIaR2K9udxj2llBA7\n",
       "xQlapfXQAsZRuYr2w1AQExLOaNl1lY3YhB4Fnj1gPR+4vZ+zLUpiVOxsOb/o3StX8Y7wlA5cyK4k\n",
       "imuZetwAhMTsw95bvWfbNiK0sePbzWcItllvo3MwxP/A/CQLmMB3W7kZwT8G57h9deObxyDbuAW9\n",
       "016uimK+fgxS/IzfFNRA5Yzpvo4d+jBY8zecsGLGwiET3qJrZJxfiPWI6DimwqzV3kcD8/xr+Hb+\n",
       "gOBjVFKpkPlvcZeSnIm02WMSKmsGZUH7CtU7b3ir+0A7I0J0o3Xh+QGUXkNNw4LezS00EkhPcDgp\n",
       "U9/2PnBjJwLItZL9Q8PHr/G2CimsksZOwejhJhOCf8BmYM6JuVpZNyviH8EEoVf0v6gUQT+XBVAw\n",
       "hjDjwaP3wv/11oEyAkLfZHIZ+UMKoGFT8baBrR70aHspwFT+dK/mu/42cbhCVv3GWkw8fQ3zr5OB\n",
       "FcDW6nyCGYTjChLEfZ/tpgIF8QAAAgwBnytqQr8AAEN2K+81svwO/t+IAakYwCHcyBOZbEogF40n\n",
       "qYonYa4zlMG6awtzuHMbyzVVB/tYxDMINft753HOgU/XV7O0CYyz8JyPDE6Lz4OsMdZAU5wnhr+w\n",
       "Z+5cBoZqKNJ1ZkQWSJDOhKHQZQNuiXWM0HlNv04J3FmrtBiov+XGZaw3Bn5DU9tPWPP8eczH/Zxy\n",
       "9EQkBUO4L2RO9vIrJvosMUushDYnH48LAxrybI3fu0XZx2F8ZAy2mcMQILUxxyOap3BeXAhDq4pU\n",
       "SanvqPd7U5tCsVRgFAm7yAzZ4YBvQEfJW37YqamfttatU0Sqy9XGJzs/LuG9pSQirQallPse7eXk\n",
       "U8IdmdA9UC7l8oivoZ9Nbug+D0K+63Kdk1QcEDio9DTyBb+dXA/uJQuqVYsyBQ5v82oVEttzVJVn\n",
       "6R8CDeUbjU98aYrx7byQwfFIosshYC1KpFa6MQGIjQuxqike7PVXvzvBORRBUm2wI0NrAWSHHlIO\n",
       "nbIzKVEEP4WDUcsktu9yb7zF/Sp9qjNFBC45uo5TvhU/0lnaXGzchJqPvEpbZNBNXgYUMO+Ih/FL\n",
       "OCLv8CpBwuOL8Wdwglz4spgRhd67ArmDKwIsEPBMT8JZpwL87FR2Ym0ssGNSJGyOnd67tFZP3kta\n",
       "cx2Q9rgGxhLs3ZRrIJJhqdyniqodkB10YSdoAHAab4nMbgAAA4NBmy9J4QpSZTAhf/6MsAABSftF\n",
       "3ib/O5rbbbAntIAVivQrt/ahnFXK8kuiOg/bcmT7B6hBETIv4It3qB48PT9VDjFu6dBbGLUY9cQ4\n",
       "BTNOh4SUDnHvQMoDfrgi5FEcn8wR67LDwDkpgf98S5/P7T+eENYkquyNnu2xB2YO3Kvhx2Ee/6A3\n",
       "mnpv7J0lwc7zEcFyueBkCt0OM8cYFPVwhmQng1duVl8Bg7EuQholc7QE6+XZuZy6eJ0uhCtj+Cuq\n",
       "NKhUXQyZvosm84rFyF1GiL0m3fS+Y6NUfiWNtG6ZfyNoYfosOYUpbUiompsrvcZiKdzxqeGMO/ru\n",
       "j+kiQYgtXuIVd0r/9uLLvGro0Dirp6NfWm3BFjYqOBE1wB0RQoa1w0eg+ynT14vgl0ADcVa2qbHj\n",
       "Pm3A8LaHGpmNkl8sb5zsVdBwwPX9sr4bLCUWoaIr19+w1gnzr2TS87tmyq3wnN/wFj56av+aBvso\n",
       "R1RxlW4A90n4RoJIhw3ItZX3H11hEjzC5Pr7fC6SmxeABEF3s6KKr7Iem4mEGnFprAmd/gVd84hP\n",
       "QOmEVq6onAF1IdevWqkFaY/mMjWhoR5N/jurZ3r4m2Mcw4F9pwdtjEt0ReT8tRhWSmcr/f0uT22w\n",
       "3skUnqcGKEuPC7geI7508gWXzlwN7Fm+gyR3++t7BKM4noJH39mQvE97j/w0RtoLxaZrJE0W4Neu\n",
       "y5cW44q69/RFlWoo8pJ7/IaERUulLgEeCmEnZjtESS1P/Ex+6nvKnk+2va+V/JdOS/Ch4HVyuHcy\n",
       "tkZX/50KJrgXo+DZv2sZ58xVnAVY8c6dOs1r+lZalvPz/5D681QGYtANSCj0aHLigEK9pUz3isyl\n",
       "zFl5zGkri1fXY3D/4RqN9X/r1Iyr/K7LJayaBclDCf4XWGx/x3iQl6hxiwGqubDIHSxgZiqTaLKv\n",
       "+k+VH5JnWDB084+747EA7lYZFEa0J6eS0ZFdw0Z/6YxLuIB9v2brrXoo1SDYPNjtCHlCTuYx2ETN\n",
       "TZLwRl1PRf5GTX1txjIsm5h7TlDN3ER2Utf1pUZb63zS2HMuyB29/zGOf9jNXoPPSX6FSwpg5BYu\n",
       "XYZDXMS+jjrX2ElJFcEBM1pHK0K1OOg51yo/YyuTxZP3RXPX5ZlEq0jxOVrInINwxCY4ydCfda3k\n",
       "09O3Q7hma3eS05YohtZZAM0iKEmG8VSJwQAAAaBBn01FNEwr/wAAQ2TXYR6RS2osxRr2gWDT2Pht\n",
       "2jEeh6+oh+Z3D84Hm2AGuYM0Uyfd0lnD+I/bYF/uli00saEHrSUN2vR7QQLkiZBN8bpnbS3kgeBX\n",
       "I9VVaXmAH7mV0KOWoRH4ZgqhhnwamgL3oOIEoZ7m7a/kr2nMCpQ26eMWgiTMeUPFdCrXuWKf5Kbx\n",
       "5OrLq13YP7cEmz9cYcRuUzJs8G8sJ0KH1HFLro+OLFsMtRA9+gY7uzbbPyBfDIJNrnZCv3Hhm/wx\n",
       "W5il0Wi/ZcvoIA130QfaXbCdTC8QrBZXW+nwZhXZFMmloQXfeIs+J9lu/H1SO1LIeGVqMhk98NMy\n",
       "XwQXnG//wMXCNOx0QCzfR9EHr5jz3+sOx/4Bc5b6Z9yCrmRRGj5N/14PlsGgOQFkxlIaxmlfPaLA\n",
       "tklXXS/Tlki97DvOseSEcitywQbnUbA/pWjPVrg7Rba4NieNiewX0D1mo3x45ROUEOa+/PKjIeR5\n",
       "A2JRLSQ92qyV5u/ndyTLfr8yHYuwNweNj1r2Fe7F7yZgD4Q9p7CpDPHHdJSbgQAAAwMBn25qQr8A\n",
       "AJlKvjRAbXwAXozp4eU5TJ6xnwOdJViWxGFNZ3eEqxO/aoNZKxKOIP/5GQYnJ0Ud4bPvNiNh1Zi8\n",
       "MQzLeV1sQQk3jevemT41jnkU0dQEww3A83YBJ4oK17nVAeUpJ8s1PDXnu98X5xm2ntApysXteA+w\n",
       "ajdPbJhW5l7YrjClNg4mK4gGlpSExEmUl51OQ2IHOU19gJjgVWpeiEWUMQv7h3jfhG7Ptug7B/Qj\n",
       "IlWF80u5UPnhWUlOVLlVwqpYTvqPsJyLdavAJQEkNYSZCingW4QTiZ++5a+c5ZU4qCkxzme+HDw2\n",
       "DTqukMlu51yvrsupmCtimyV7KZ1p/GQ7o8oBYN6rkjY2auvsC41thaWEhzx5XxCtfgu3MqdDmPjN\n",
       "IWtYmtKiDu87SMCrupW9OBwNlxL5ndqZ+KHZ2mk6vPoDKeHUDeF84eGJBtb8tjsfQoy5H6Cs3N0E\n",
       "8vNDEz7voJO16r052Ndd3hWhz3wULF0flTrHxei3dyQkHJxlexnJDMA7EODhUoWL63KYComgYYxs\n",
       "y/tjIE7QP46LRHER3OmmEw1zbcQ5kBNYiHm+FnQUFOnXjdvSae6YbNGdSCj0ly/WXetAH+NwTq32\n",
       "YLhhKe7Cdg/UdVcA2dY/PcIItIL24+EW/ewi9/NJIY1vcJ70aRyGi9AnuEnjSkbGoEii2GtQdcnj\n",
       "n3iLQin7rlO6kMpwEEpbJCRtvo35HUgEEE2m053bhKei8TzGj0fUlstLe8UoWUM3aEEU8RQPu0nG\n",
       "QSDxw2hCE/FKe4YVKteqmQD8T84/l6M36oD2gsqTEXl4buEuY19UEuuU4AEGcwqDiKSmRWLrETDf\n",
       "IVWYMZyjvS27iuEUUkK1EUpdzFMIWCxIp0hy4yoBKTz2/mrP6PkbF7han2ZIo9FKR7xQGaXcbykB\n",
       "OiSURz+j3nnDIlxrjyTqVsfH1TFryYBAKDBDQvp8QymAOzQtiPI4T6gWLpZR5JSmaVLQ3LaMhYHe\n",
       "q3yvKY/0YWGW+QA3rkp6nRsI0BrA7oEAAAQxQZtzSahBaJlMCGf//p4QAAENR9tJenzrVB+vowTf\n",
       "JmntFrMq5g5c+kIAOxmLfSyQW+Wkf7eGktmOPyKLPWJYJODssuQje8fXn32bd2aei/R0bhzad5EC\n",
       "VLrJQ2SCBUyWYEOzQj578wbWu8vTg92jBHvmIO9l9e+mBgVjk2W0r7KUb9Va0y+r+9Qz8M6unGZC\n",
       "Dfl1uWC+I159fsqt8g04Iglm5mgBf4/CA/pG2NndK2t+aNqtairkI92V0Tvt6c4LxVg6fCyZel/F\n",
       "T2f291wglnoxrxeG58Tq06XEYAtoK8Rgf7MqyLzXLVr3ntZpGGO9rDJhGtWKwD8gfe7RACukQMkv\n",
       "t/d3o1x4ZgcvOAaq+b3Z91cLmRqR8119kpwo7HifrpGiX/wewPcZoDdoP1j/okVjb/LoPDc0Rj1a\n",
       "EVl0MqqwUuHMhPLg2/DZYGDBfPNWGbilS5p6z40UVUnRVG04Wx5qDqv3BSMRNIRQ1gMmQRhcmhzL\n",
       "O0E7wTH2zbjjrHrJ/s6Ti4iisgkxwirbecsBvXX0lnbhYUK4n6Ys2+v+4cOVqzyCNyj4fAL5lhQC\n",
       "nu85OPayLvIKWJVGpfTR7t17fzwcL1Bzgl8kDGt9TBGl14AAZybxETm8O79ywAVtD17PFPkzSCua\n",
       "twBtQDGdqBPJ1rM/Uibdx3+cHpjfoMpFlzrV1z1gPFKrXm45ZQjZvsIH5MrapsydpIHmyw8SpoZy\n",
       "M2EYGSTBSe5cM+C1S9J3G+S1f4/BpG/I65wBQInRIV7G+F5UN18XmEDje0374cKagmKkgFuQ8Df6\n",
       "lNNuQCNuehv7//3APdAdogm0dEj0Y7SyyXKlPBbbtfWs1iDURg9KcAhoEH0lwR6pdzPhFB87bT+H\n",
       "DPQcghBXsK0LpTHIpiZfAeJk4/jjNkBvVSkPcLIOTmF8xsJKkdDZcWYv4EelAiLjphdgwztEphok\n",
       "Vtti2D/fLRWe2osbS+ngOhOH+kWG0Z9cYgYk158xd/7IoeezevCsC0Yx+cUNLjPHfJGldrj8oCO8\n",
       "Ban//wirDj2tU7P4axM8sPElJC03QAe2YD0fEAFJDU9gJKafLHRn/Ct7kEOwTH1yD+BHJeR9/TQp\n",
       "ji+RTqlc9i86+H3r4j3A9i27QHW+Q64rPSJYcSQRZ2SXFo4MIf6GtkAS//lwK6O4iTeXv51h3/m4\n",
       "nHi8b0H0Kmqcl/sf+Oo8S82zDuoAtA+BQMNNz+jL7yuUxec/LgAA20kcHOi7b38dEE8OSTYZ6oly\n",
       "UAPaPBIbqkIfUnJFSAZkSa/q6mB64vOAsbugBc/7GvpD7W12tiL4607DVWptW9xCXIh7E+8vuPg7\n",
       "EyfzgudaI23nQ57EIT4HxNxPpmaCAX8bWDeSTzIxxmdXbi/L1SaYIjucupUFzQCz+Tc7AQpOQvcF\n",
       "0/srb5J5Uwht/U7JbHmEaYYAAAJKQZ+RRREsL/8AAHFIwUlsXXrbiITOAAZ5ortZGSpryfzy8rdw\n",
       "JU32NgHm9M54LNRYSinhBA2X5hkv/XIa/FKW9No6Sd5UQOdQu2BHCAUxeyP1ZhYfEiDKnG7e9D+J\n",
       "UcOWdyfu+Tw91KTHhW36yaQ0s4EIdtu2fFXV6PkEhrdThRE4V5smBy5NaJtcqpnffep4qz5v0J2m\n",
       "aMfeGJEvlAygJh+Q+TpSSNlFWV3jfSmtGm4ARdjZ5bJ8qHYrvvuNWvVDbO+S71LyzZIdsC3IAJRk\n",
       "vN1w8VTEsY6psfJCIH6a3oKaF7nlipjZbHxQq5uW+Uq8rPMHA0llOIpWKMxH8yLJMfnUg9m/fird\n",
       "xxgoo5ONSq/HnQzjdzKXEdG50O54ntqS1mH8QDyWv6xOlRnqUSV44g24jD6PKvyUSpr+9DRhbsd3\n",
       "cyTnFMpAOWyJ267v3hqHHtjFo7QRwFSfGEJrnjk27X+PO/Lp4Fr8q5mgiAv5EFzzFW8P71YRvujO\n",
       "GJRL8Qo9KJkbaO3tjVkq91/g1VlqCVyjIXcK922AhEPh1iJYfg/Tp78LiQQSK7WnRHbfCifIUKbD\n",
       "lLWyVycQk49/kyPdwTXnJlV0EMnR2qtOrXKWit2gmg3eW8p8eMkZMQcQKZBRSbamgHXDAnoDQF3F\n",
       "MF+d2XksBcs7XSBHc6sdbvvfmscUFryg6NQydsSrvLK+NuBjzFnNnKF8totR+bXghEL1I/2MugN1\n",
       "vfNAOnnWUEiD2zfL8w9FWx14YBFfHzum5On3G8tKOvs9GuBtwAAAA6UBn7B0Qr8AAJr38KhYAOHo\n",
       "qd9aqoH3d3c9oHwf344YfiB/olBpEStVu6cf+DQixYYYglORPNzOsZs8mSNYdMCgOEqcccwmfDx8\n",
       "/KFdxVGdoxKVDZAPhZ+CQHcvPwj7WgfLSxD7fS6wM1gdtF72RwAKWVYc2pwPh9lYl0joAmjX7/b2\n",
       "dFWeCVgbF2Vo49MNGBdh7IWq2puvwD5r8GrprREfcCJzdqKQzW5gq0i+qvqW4g5HOyRG/3J8NbxB\n",
       "0GtTrSKGYiG/Rbwbs4Z4UnNm0XUoqojKmb2fihbrpO7cTxtITTSXOTSXi0j80QNxndtaPNLAxY7G\n",
       "3hK050yRtj7cRO/7TpYvxqvtTTPnhDUETbxb/uTnkZDhNAJDydczkb3yn8JLUV0v+YmLIFD3980g\n",
       "bhVG1s1ChcnHmsZXeMugHU3GWzXuDzRNR3kf0AXO2Fs9vHXiO3dm1/IOMDB9ldr6jpkSTs0Yf5nw\n",
       "JctdlR8R29gStYFR2EUofIeRUHmF795MOmADMXPT/0+2FbMeYz5ZZQ87f8j9ojO2J/hOWZc6ct2k\n",
       "8TjTddCL5UbfZWLBC0uusiwuT4ubDG1vrCz9Vj3HZ3ZsA1Yiufs5439DGelLGQtexExZvkxFJ0T5\n",
       "WYAALsaT4OyBUmzXlpaAAN1WYF5dmN6avPt8hHy6g9L/fruLbYqHO0WwzV5M57r4Mcmb//BN+ta0\n",
       "qCx8EwYEd4oMvxCCh/D8/qUZR/gjt3fe+9ttz06X2B64CXUEcglSN1D41l9tSKdkAuwDhXnrrQfA\n",
       "QaSKLPcI0GUgXy2PxwRjfBWJsttSfTswnZBOBi6QF7ZCJP3kXwWOO/Nai1T1BLlpD/be0THmztEa\n",
       "RxAF7wsOeF4nnRW8zNs55rljFBQDPYzjVRqk2s2ENX4KmuvahCt43j8f2fI29qTrsBMysBxd7fP7\n",
       "vYlcKLrFawj05/Sccx/+xKUqZoxCwJLzyGyXpOSPWLVpjIVK/vocDp3H2Y0V+uPTHtrc65O/BHnm\n",
       "/Jyd6ybPocE1slIRSD259ytdc9y9vhJPl91lR1pDFY4y9F/Jd3OR7weS2b4DLFTB1ZjG1RSv5A6L\n",
       "z+Rc2XpEy8tVDX/ctDJxmdVtvu214BUiI2jy/eBiTP9RZvXsFY35UZEKtcsO/X7uNKPF98/fRYly\n",
       "7hAKtKL5FzaIXF6oVESgVbZtjS2PpJ7yNnP8Sp7sZb2UdwhLrBiq7qpsmHGeNU27V49XSeAnSx4J\n",
       "u1uXh3UAAAKVAZ+yakK/AACayE9IrDcDYWKABOHn/ZQeNv+2DjMkum+6OPVbCJsCVT90d98YrEeG\n",
       "RzueTM4EPaLQAfUdPlaY6E/fAjS74nzrbk8bxL3ze9xbjo/GbhlAldBRIJuQBkAxgkOKcuN4mrJ9\n",
       "HmsnI59EKAO1Mr5iKHXlbNYcQFT5QXNLTJ0zCSt7s70TQWUMz4+ZKIXioOpJ7rnI+VIdGir3COMP\n",
       "fLfTEabEgNcaaSImUeEfBojR6xr+BsI4M0+iZnoLdv+y3k+GPp9S0NRGNbpVbKVuqwCV2xS4em0V\n",
       "7KMDW/eiU/NCu4OAbUNuE7hd6DOoLyEbgT/W3UhoeuV2wJkQG4eZ/E4nEHsojUsAc4HG0LCdiwBQ\n",
       "GbSvBQFsizVOvCNccIooXgmQQe0n0IE+TuJ477ZeT5PlLZjwW/mJsbQU4Dcd5N/X2RFd043uonhV\n",
       "OGiFCP3Nth1wCjw7opSwSE57aDX7gxSUhx6DZMagrfMrCzqqmE51JJuqJ6FKKBtpu67HDoxymNDc\n",
       "W/vH64nJB5XXgdINSfngotV4lCriLIuYzpFctjR+iKLQj36DmCLAz8etvetVk5hOn+2mmNHne4P4\n",
       "JXglWeNYFy1HcDl/VlADOj8wmCxjsMSABLur1QyQJd4GW3isSe54rQ2NP4zhilpwgQOfP7oCTSdB\n",
       "nrkXZoe8ESwmNRuGEsVtejRS1y1Oa5reJEX6AHqMqFrBzimWcB+4GzN/kdeyFpoWBX1qJNfWahBT\n",
       "qbmy+0mamVHKyL1jXlE9qF7CQzsIa4O5IQXydmZb5NobOf6QSPboyqJpt1bd5i1YZqYvRbEoI2Og\n",
       "X9wYGFFkKb7jeA/ieGE8i8n55Rh3niHnk2ZayHFFpUiayS78PD3dd84G1AAAA0hBm7dJqEFsmUwI\n",
       "X//+jLAAAQAG33PgBJUOX7m4YkNmzB/03m/V3wX+nF8ZOHlI2SbDD5yf/yRA3zlKPc8U7xPv599L\n",
       "8FnGYWP52yGRc5I/0tTJekovtztA8irZN5PnGE6xyPXrwRJ15megWtfk2sxclmlKlNn8slTzxWmq\n",
       "wIgJdz9xF1qo+daPPC5EPAYHbuuFXZTbSJRe/Y/yA6S3JD5iHc5ZZirlxYXHb69ODtQGv870feXI\n",
       "UkJZyaSRheXkYd0lHr2hZx9wpBRj0B3a+uf2MUee4tIxsFtoPqhQVWGFm5tY89NebjyW+jQnQYge\n",
       "qIl/9h/hb39if9AGvR9n7oLdY9ApoU1HyKKSqTUmBn7OH+vg51SOQgVO5dbuEptNrBrzhfMgXmRT\n",
       "H7vwckO1zrwwEwBqyhYQN2WH/VnDpME+2VX/nk9Dr0PMTLlxl7+ISLA7jxdILeRlI2e3QS9pxsqf\n",
       "hWuKWUGhL88Ccl3x9zt1AllHchibEcT3IRl8O6+hIxkcZBgWmRl5Hu8YXg1MAobpUkhBIMzWp3/l\n",
       "8unGon80Ix54BSioMqCrCa7GcOhFWeiv1fAoDkJG24DtWA99zRL3sm5PigCumV1DmYM7li7yPXSc\n",
       "ek+JKBXeLEOJ1Nk+IJ33uN3Te7EGboTVzJ68PxJvREF7ozwp8Ja+9zNFHABCZaz/QZRA/tnu2BqM\n",
       "D7yLg/+mxmeA1CnrGoLO6d3jgNZHZMNizoCuBZde5ogUimBkAEFrgaKaFndpJe0wYUoYQDhxX8Vj\n",
       "TChQfCCK4pQUQYJzJfX8NMayCdxDLOSWl+hzoQ5Iom+KGUgYr0iwH1FUg21InrRN2Ta5tFYYR6IE\n",
       "vUVQAwldj8BeawbvzruVf1EbbjVmbnvm3G8G6kByyZC3sqLhQQpOsRcYfRGEn7OpmmCyOAP2l6zl\n",
       "HYZ2bJW6/H/0Q1UyzLCh8tJr1uBtFVZ3Rs7PEamPSAe29U/V4FZQVTvznlaYphkpCGyKOVZSSeS0\n",
       "HapO/zWlHDJsxqimlzOwPQBGNI7c3x7Uf6O5JC2VAxE6uDMsUwORU1JCsPmBHSc7kDNPtCVM1NNC\n",
       "c6BsCd1Ww8MC26UPMTFeXoOkEbieI0SC+4MkpHa+RQQAAALKQZ/VRRUsL/8AAG6iq/wAIRvlAMPc\n",
       "9lMnZOPkL95MEvs/DH8ICkeGMv8V3R05wtzrFlKRpvVbz3WZT/csuz4yig7gcqo8oA1nZPMtrfeP\n",
       "Hq4cCAseOM8xnt7owvTy8UsUfcEecYi4BDT3+pj+i22Veufd5Pa5Pm1sFXTGLg599ECTmZF4U5LZ\n",
       "o3d6zfd6J+opXcZb4A1kc6QlWgu13Ju9P6DwwRHgRhFshB2X+Tdsgv0derjpfOdQ1GAs8C6CnesY\n",
       "Zr01kFAGU/VbfSeg90yPT8CDn6SdtBycSR2NgsMGOFYEgXEQNg2Br01Z6uO6zIP4Y+V5mol6g2T/\n",
       "+gpjg6Tul/wzkNWAS7JlSKS5nNdqaWgXIk1vFqy8XAkTp9c0ua4W+QbzcrDMWJzhHBFLDQR0Pqu/\n",
       "ENO7ddHbGL/D6b+UJmfThypkQpKAC/wp8V+LsKzJ9w3uYvenmeMBI2OxKZu0kKN7crfxxh5jj7Og\n",
       "vySP4kat5akdtTzPOW2pME6AK7C49vVGsjcOiiB3NO52LQqF7dGAhYuKDiJ8ynKdeEQkqhhM9he0\n",
       "5YW9NjVHedSk/qQZ5LRJAFeHl2L2dihN7BZ1z/qvEqrttkSyJH+hr0LT1TCYERq/4A7wwGO8PhgE\n",
       "s8q2Gmtsyka8MEN1EWDGQf63MXVKXGvpI8RB+t3Y3KuhbevfWXl+EKhCXj5BOD8Y8mmmRlj/HzZw\n",
       "K9IYBCpPCQ+TFO9qaNH6i5DmAhfxCJO7fkHBkTiqC4LnpL5xtoBz4bWPPY+ZJk9mfcsKzwNeTeSv\n",
       "3UcaRxNfvZy+eYfJnxcP5KIzOfnfb5eqXET34dP5h7mshkH2fD9BHpz0lzBiBiZNOO159ivgHQdR\n",
       "bANKMX0wvRKPmJNr7D0HRRX2kljyXoA9j6pd/Rjis2PGc49nJRz3zfCxx+zfhl/XFxCCXOShgY89\n",
       "LWBZLFlS+6iHAAAC3AGf9HRCvwAAlviaDq8AAdKP/+PQyAPjDVI1dzKa/sMFDlTHjImKgLKryt+2\n",
       "qwulsn+gr8hD+WV7TLBtfOI8R9gQky9Ct4QH6uIPINryONbY/kViP3SeE4gFgH/sRBGNl0dmYJks\n",
       "+Zv+sc7ZrgKf51v7lcKmpcl+tfnVgymhkpnjUfnwtO0pN8PuJ7S1FGaS5zl+S14TOJXRc0sjN38m\n",
       "UBuUBoDhGibgnWY99m8Sp/dL81KF1y8a4Hkd/mXG1fAzIBXApqLtkkkTCaWaDu5/hODU8jmTUpZk\n",
       "nutAIijgNa1XOKPh7sprfjCxTstAbgHveuSHcdEbe7CHwJu0gCvCVzZF1OHMgiIIZAukc3S+MI5y\n",
       "FctSUNrxD+5chu0SB9KhSnBwnv2iZ5YFEgd2eoo2fZ1Ln13qKzv9C3Jy71B+UrZql7Vyiw4WL38R\n",
       "gCCjeVBElTdxfOoAWE1dIUVVb8h434Ux2gXR9k0ABc5jhjDbIJ4zrn2mH3rgfDwo4+xRG3n3dkSq\n",
       "r+Nemb2donLyQMOunvXv7yqJNvDhwvj8gQfd9SWzq84PIPd8vsHtCJ9mDZ1iCW4iR1unYWOiBpP+\n",
       "8oh6sLuph3o6PhA8gjq55OFbkjtzctPT6Jjo4SJlYUV0njcGeUzqSRrc8G6vNoVsj+m/SXtAwbPZ\n",
       "FQDtl4JVykEKYg+m6tq+cGRzqMdeao2iJTzgRh2qQyFm/bA//K+v3XL4lv4Gj8E5Yjb64qVnZdio\n",
       "TMj503hBeDFfHVmIeep3fmXjH+KBx9X8V3M1Sr+SR+6E/jByYN0ak0mFbPVOnSq+OLUIyw6dyuIH\n",
       "tzfBGnOcZWlqFnXdrc4AaQQkat8Mz87Bae3RgLQ0IxKcJIbfUM1zxMPww47LDk9xUDgmsJ/NAcfI\n",
       "OJr3juSmTXvxj6UAjY+Sjg5zGyj1NQ0dmzHqFLn+72bv+RyclJCzEmr22ZFdQGbkG1iVSc/tm9KH\n",
       "iuzi4AAAAjIBn/ZqQr8AAJrmgiyc6DsAI2E+jwwBsijnDrCblRdF+5sbu6sj8xlO6h1X29RVb+nz\n",
       "950v6q3GZkNLWKs8OxkF7BrP0rgO8stvKTocS6CfNBAWW1XzFjpxal8IoTUyYIrQWw6O/QanUSXU\n",
       "8RL5TEutcYpZsEbeYdMP2mDsns3xDpJykp0anT1cDZtbV1w//w5OL9+A/Q4LKSGTkhs34V9scey9\n",
       "ttsn1HNLfrjm605knMJkXEEousSN6i2iJFPRtMW0faM6nRwpBFR6lNJxMfO81Q6nQ8+tg2BDOQ2a\n",
       "/4u2gMEAW3+vVI9KrN114fOTlFLntjD39Eu/bQtI/vU9WmlEkXqQJZasNmPNVRWwOZ3g93KGkbyq\n",
       "hvvDTVvN/h652VVkR1RVcld1DdlvGE+WBdVCTk6xjF7Fi0AKgC5I5mfXs7vMw3+uUL38Ir2EP9dG\n",
       "D40pemFCh3it3G42eGP+2pIMfjY5X61XEnjh2InAk1UEaXrrMrId78wUuNYbxwBtZDe86tEY2Fyn\n",
       "DcxcNcg7VQbC28oTsONmNQW0+/y/LgEG4BdX3Q5yhBCRHKg9XXcqlB0Epni0o4ovSWWQ4gvqYA9E\n",
       "K44xDODMbLzhMmWgNrm6ETq5a/jVcOPBnkJ3+HC8v+8AshKWKNq/tNSNxDfRlSIMxbEcXhIixwJz\n",
       "0KVB4e1zyWdfbfaVdwEYoZQftrDKM+9lDgUb+4lHot/Lh2qW7PFRCdJ5wFbnARZXekFgm9/TACyh\n",
       "AAAC+0Gb+kmoQWyZTAhv//6nhAAAugKFnPqLytKBQJm0GxIwIHmN9p6aU2I3PFAajXXAbg30ZUqK\n",
       "5u9OVa0P3phliIbq+xAwR0HjuUnUyVDz/H8DKvG0lzXaEoJPF1nWB3ZXGCqoNLqj/xKhPlghZE5l\n",
       "x4UaSUxeZkwKmKXbBv1VzfK5Q2ETJ1T+afXx2CJO9eE3iFxp58N5yV+HCiXtQgLvGEWA63xFLG7A\n",
       "C71Lo3+Jkd7gI0ZuxhKbKw6/AH9xioYWrqVT6ddpP49WcgxvNZd2ANAAGWUAERB0BkthcokjRKFZ\n",
       "6TfX0bQZjlFuWB4ZMNbJh+OlKari4IFXVx7lJegFn1YzWkN1AkgpKDsiaXDQE7gbJRFW+rMITwbC\n",
       "Os/JOXckiEWQb4e3YgQLCecDseXEzpcrqnjyOAED7aFtBmNlzDjlyXc7/ku4PbbktKormt3TpmmY\n",
       "RxJVClBW6D15SYbRMibNSqnCQ7jNKrnrYpeyRPwEXz9cVn1FiX7UwtLvuPQahX/ViX2Nmu3WQNaj\n",
       "G49fjCJ93HeBHhqon/tFazSJRJnTg+aXDZkKr6wEJf39WIbkUW3L5vb7fDas5Br0KcnpUbNGEmdb\n",
       "y+qnaf4u8Jy0WB3iIdTprPlu9tdTkKWFDOKNxHNmteNQ0Chx+jOqx+Wkp+dfrV4Gtj4fCDwk/XEe\n",
       "AvOq64/iT6UMRDtowcdbpUP9Wd9gOefnJPr+yAE4IbAFonKpB7XxPiSqD6PQePXzNg2UkoQlQI7A\n",
       "daeelcHMkE7xsnJGIzp2GvbqGQX6jBm9zBlp4pfPw1m9+UD7JQ7eddXZTpV9E/6PG/mbd5gCNQWj\n",
       "WQMReXny0DDcu1xCdmpEnslYLcYtoBzhP051fwtcCTjmODTGknem9gifegLKMqQ9qYrt3HyOy4/b\n",
       "37PkM49eI4mk4M87NebNtMCEsFf1V31J2kAVET/Xo6Wrj6mgZ8q1CVFKTP6eYzaN2G+t30H57/h2\n",
       "NnvAZ8mJoiIBYbO05jEue4FRl83PEbdFadEAAAJyQZ4YRRUsK/8AAJlKvjRAbXwAfeJT7Qj4xcn4\n",
       "Bop5tCRoul4rXvY84zN9+I3kfRoE1hC0sZkiqueeR/kpAZzScxwVdxSEcQFlYhAYrAiwh3cG1z4k\n",
       "ZNYWsDmgfcJHBR7S+nXiQnxDh14mQaOcV+j/vVe4IYCcbVBeg/Gu2Z7qpU6sBDY7uH9rp/2SI9HD\n",
       "RaQkZoz4PSgDaCZuCSW3AATziyxO/IZjUxWUjnUtZQicDyrdl9c2+zhfLo+SOt0y7Nz/4jODMBS2\n",
       "7IkU7en6dU/OpDyjESjDVSacY1INeKvRrbVvnA94Ac/yS4uLTbCfbumDvFqPxb9Wv0oMMqLR0s3M\n",
       "fbExhaxfcifCM2ufTWChaDtO0tAU2hGy/ysNNCQu1j9yaa4REP8Qw44B5ZrmTrOfhVWFnNsEm9Rv\n",
       "sYI4ykycNHy5HyjpCakg7azrQ3NGRWdjYsbHDY7yFgi/haKmQ5hgncFz/K0xH1Qq/Cz04KlxowEY\n",
       "1FpR5FlLBcq/gyRGzSaVasKf7YjOeFb4QH0hwjEYhmz6JhlDm1uSib3U8gOCycVNlebaEiC4qSeD\n",
       "DiP2/F3srRLWrncgwkgUvkWDDgk7NhuxCMdgocdakQg5wPGaBQNBbN7lqQytUEDZDX4DpTikgiu2\n",
       "yRLaREqYfpiIxT4rYS4bTcYe+SF8TFI9YlLdkltPq1onY3xEj+jm0En0PolFwQINYH08NsucMXFn\n",
       "ihr9XqTxqiQe26IwBn0PXwgseJXBt7KZmClh6W1p8FTN9Fa6xbth0T+8eV6XUwmDB3VMhjaNevq+\n",
       "v3/L0WjrxB5rF8SrkSN1cSSFOcU1/P5K/U0A/IAAAAL4AZ45akK/AACaWrvKDAmXv0v2C+D8yI0A\n",
       "IU8xVAnE1v6fP0/bBUAvBJKLTV9U+l7ozdw6vF46PX5ZbeUnQ4l0E+aCAstqvmLHTi1ITLLGS6Wb\n",
       "mwRUv/3PpkLt+18z9Nnjt9v5hgX94IvBqdnWScaT7Y2wJLX1LnqplnI7Yp1vKN0ln1dfCZfE5HOW\n",
       "OhWcf2MoatvxBf7w27womP9clPGw7+LVBg7cP42jkskKgPgwxIYJdFrTlQNe1EW6QMA71k8YzRDQ\n",
       "rgocEFtQKYLMqKqgqTM3T1365u9VDCH2ZYvunPY5aY2isZ/5sYpRKs5WsSwGXb5VTk0TwZOYY3SV\n",
       "2MbsOfMPKHbKMyBGikzLB5rKllw8uH4IpkDECE0FmMxS2Em6zvYfA1g/2eRG1LW02owIR8v2n/FX\n",
       "gqxwZZ56tNSj46iRJEJqBfs9RBT/z3wV05x5DG6hr1E/CRDWO4nJ50Wm3h6uDPu9uNjcU4Kyd/5a\n",
       "ZnhCikNedly3mDNis7bD+LcLdClQxThJeuGxM++qxEWGBdWU2L3CuzITe7LyqtI2jrOnYe/KMWl/\n",
       "AsAVBHM27MHmNI3BScegaRLzKTv53qrf8gqZ0WVo3QsGv56Cc8UmRQCJ7D0G4uIxO013ISwdbM8X\n",
       "QZscZU666HfdN3ksLfAREhegvl4nJw4Y/rMKEP/sKLpOq9f2T+Ua6MfX/Z8SbgYv9vROemDFKjdc\n",
       "cyv8ZC4oveMMYoez1kN2+BhvjKs8PguIN7tZMhxJOXe2J7tDCHeVOI0kvgrTUt3jOIBVLx+NQrpE\n",
       "rGa9CSLrixFeqjeKMydTgcNxKk3GA86dcDYpIyTwqafsL+q1WSx38LRZT2HSLXABO9a2vc8JgPUD\n",
       "SdVBe/wy390EzyOTNjJixQL1ho6U4qFp+dUR9nN2VDCS3QuTBZapqXeylBMcEDEqBapGrxEw1jQ3\n",
       "NHryCmZd3IxdOaiQN7tAupCjNbDMpf0DELTylAqbTXbvjCcbkMj3MJ3C1IWP7haaPjRAkwAABNxB\n",
       "mj5JqEFsmUwIX//+jLAAAt/MuYyZ5zxADZL//x9Zkw/Av22zD3AmF28umXqF8ZbD83dOfZ1U0RNX\n",
       "HXFuj90AJkcfJpRQMMM8VS8eo+ST3hFLvHGx/3QlsJ6bzIrltNxoAItpXX2eteNrmWD4ERz6XUxo\n",
       "q9+AIsq93GOnXsyFtOgwK0PbrqhNV+hGfr1zEHgIm4KJybVKZMS3e0wd8bHCsY+OxhbNqgf1O7cW\n",
       "RhMM7WKVtzp8zRnU/D/LQEip3ALqb3ObJyjYzJOnbw/fHYgr/NicCUu9CtkjaI/eMKBiPzOxq5aY\n",
       "yqwUiTJVd/aMrxDGPYLG4CoYcvGh2wa19Iy9xLkbfjuJT45J/zN0Vfz+LuiNyuZj1qdb2hcwzxr3\n",
       "G724wgrf9UqEHLKAzfJ5bdcOBnMHcRWFDW21dlM3SW7KHfD5oUxquUKvzNaKLWQSTgdKNHDg8pg0\n",
       "6yMtI/QdN8UUgIafPhzmG6M2SqKGwTG1Wp5CmOoLj13h0m/vhiBAdFvKQsVUdK+SamFQCt2Tvm59\n",
       "by2mB+FcBjsbd1EeIdatof6VXHzZwo4I4u1td4ZjXIf3C64ufs4vugNY9lS8Lak/+/UtYntBy2XE\n",
       "Hbr6RnHgINpE6fsOTJ0qqNY2019NERDJYBmL3Y7u4z/LMgwD7cs2mQKWVMCj8umoFtcSC4bfWGHQ\n",
       "NzQQ+AX+6SYAjuf6Dq3JHtyCQ1Fu3jmCVExDyHrjz3bKD9w0T+M2QD3S1UkEAHQhSs8E2Cl25eJx\n",
       "ClGvHjAvYZdxMW3VjGYftvKz0Q3iF53EjFfSouHzRlux3y3QJNPOdKc9gLO/fFI505Gt0iIXnRv0\n",
       "pcmOEHCiY+Uweo8k/m61XT2e6YFlqaxW1Nr2S/WWGdQgH1rpGsWqvVlVoWc6mYqGYkTpHfjjCwkS\n",
       "U/FqZKFAAnG2tfP3cNi71DwlUHnOGegmNmiX8oWlQasKkxKNQvFVmWw7hm2D7xe+rBs3Ki4+rclG\n",
       "qkIwj1LTUNoqPUtLK6Yvb7Mf9iWG3GB6dwBSxVKW7uAu6ZO+1/SQ3WYoxx96fCoQ1pwYa+/gcYm3\n",
       "K4jVfu7qqE4ljDVWCAVw3eWHuoW1mXuLuLveWRLfq58XUDrb9kIUKO1yPTNOI2XwZ1Rq7u1s+OR6\n",
       "aHAocjPPW5VjWRJiUV1qBXml07XDIW6p1LXI01pGMtIMGGqMO3AnOhObO+ioQcTPho/IclpAZ2YY\n",
       "N+Nwo0uwcOSamLZpxsbCJdwvmIYf9PulqB19dQvbqiSWB66XfJTbao0ok+dIWjHIswz64mOEQB6B\n",
       "qj41lZVL2fo4RQHI69dfMLfwW+8vQlsqZxlPUnqK49DmQsZw4rBf2relLuU5rSo6h49itF/QFQzL\n",
       "l54Grde5R25Ty35HHk5DgFW3C+3QheohLo1htULcGQmPtKiVmqfEX9hdqWg5RAnSnpSZlLCGEAbv\n",
       "0IUraZt5jvbESd8CiO/zAxxCosWgmqVSgSUsPxr3wR0cYmb5HTHlg4NBu+q5no1m6vtnDr7T0vrW\n",
       "Ddn7yaKoDvN2XBYAR1qYQ8uSWrYPpHv+xfmt6zAC1Tpnks9qzR0qyTKANki/XwwHuX/qd2xhjvyZ\n",
       "epuiyDpFjq1SIpFVYvvCydpvzFUIZfuFx6CzVAspsVqvT3SsFkWOoVg4061w8AAAAuVBnlxFFSwv\n",
       "/wAAbpTmgmsLC2vmYO3TwAg8wD8hYZPVMPwelwWy+Sx/QPP0yf0dFTiFQDy5Gn/mgPMEO+LjGuXS\n",
       "gTFO/9SJNmT6ILkBos2RpwJVs7jgd+F1XksTGbSCeG7BFhuZcrv0TdQHnNVtH6qnyixFsR7YubKq\n",
       "0gW//8I0NLoFuKtTbFBWNqQUpJGcOCHgl69p3yBV/6FT+vn8MmpCmIZPscXNTtFlhhZVflAG9BHC\n",
       "/rAZ9ob545QQT/uoXSgv0z03yC0YT84koZFB+bSwNpgV2XkwatMxgno0GR/8Tz+C2Rglm+OV5+8f\n",
       "v0kP9FRQni58xJkRHvfTow2CjUsnYuDYwXZD34im7ryUrwlqX3XGzrFALBf/Uq+UrLNRwSwATwzv\n",
       "/MyiLhyP2qxLVMFnWRHwoCD7OBACBC03SVYw3dter7RnjqPcj7yU7zQqd6t5+jsbh6YH9Qe8y625\n",
       "Qb7cuDYiiMRBgIC7Vul+vedK8gYiJq2oggpawLWzNgM7t0niXvpktE9b+zkhXgP3tOYbzqWOxmcK\n",
       "CjsL9L7v+IfHoEizArbDEgLX1fZWdVLa7hIf5tdHn/ObXSdPu7ZGUZoc213KtVE5p9bC9mkdftqm\n",
       "VRPh4S7U4hCmXhsGZNFP4NfnXG/Toa+bKaMqSB6lWNXNskptz3+lFOeycxUaXg3WBG3uIDpiBG1y\n",
       "SlXB2iblE6MNa4U4W9b/zxO2xzJHGB+16TC5VEzIcBMsIaJpC6z7bqpirNULJDM1p36ylmr+qalD\n",
       "S1JD9DVsKsKSDxQcwGNq+NWZ3fx2+WTYOXd6lyFB+zyd/mEkNDy4hpJC/F4dO5hdp9gybNSgiCOk\n",
       "DU3Q/apxAftMUnSEb20NqKV0rfG+FDKe9VJM7x3VfFvo0EnhQO8fLv/fkaEiHyNQdFGKmSIhKwdz\n",
       "FvwAAx5V+lugP5ZS/n7OOzrl9AQXNj4S09jed5DPzLtDG/XhUUS2T49TVyRHgcoDAScAAALsAZ57\n",
       "dEK/AACW2egI1+BsE5gA/AK/kyCFv+2DjMkum+6OPVbClsByP90d98YrEeGRzueTM6Ndq7Ql2WT5\n",
       "WmOhP3wI0u+J8625PG8S984/cNdEKilaQ90sLSfXbHnCsU9fOuadcN43cu21w0sxgehVhlFsMVnV\n",
       "LO2/TD2vT39fjrKlYfR83LC7oBkI82L6QuWX7xa2Jxnlv0G9HkFjrxvCaXYYqXXaIDhouj1ofNMy\n",
       "Dn/jDrpO5ZhZjm7D/ShfqIXmzt/voI2+/brPtpTgr5NFyBeiUYrILbgsETUjeHNikAy9znzbP/kZ\n",
       "JQbH2nbrW7JunPjozUuVeAufcUGuCTZ2o//6j2u9kbwA2kfocaYwjG7qdo7y2ZfGhZ/t/iINzUf2\n",
       "BV1N4adjalKX60BK78kXbIMYZZvtoVcXgKFxFzKIVyOrTXXfUMiZFjP0LUyryAGiS/ebDC9hXxmN\n",
       "vYCtFRjHc2aAYtczmw6/jAHjeX0EXhJ4K1ZUPOosE/PulNsWJI14yO7/rWAd6Swq1obi3SnphYxc\n",
       "B3nJWbfjI/9/2P7KTZOgKD78MmFFqtXT0WdYTjf7QtUeZPSXukOBdux4slKeiXgx/ZzkrITCjUNL\n",
       "y05VUrezNpyqBVolg39/QoWplA14dZ5lOR3Gcwajqmk6jAxULN4emV0AWQJPf5vADPHXPu7jema2\n",
       "IrrRarmjwPBNujo8G6y/Zs8L/QRPBYHyrrYl0nNUYSf9TtLNY46PwHfss6TsqULTshpRNu5uUFVy\n",
       "+ddFZgb2Fu8vfG9RBUhjZvzAKlOzq08rcruRYImNpe+h9knn5nU7ujSwe8nUFhbMOIFW2n5oAIUc\n",
       "55gk3rLwRgtsT34C0UESMesERhOJWuiP2isdxtbLJPJwThOLJXRLH4jdSHTwiJB3pqCYhj4I+EKI\n",
       "uM/6qccdHetTzbivF2WRk/MBiKMGISOsI/8h22Q5RbJhh+bCDD+ySG/uczZX0XhIHH5bodS2zqwl\n",
       "yeABvQAAAo0Bnn1qQr8AAJbr/50QFGqp2bTFZnu0feTJHZHja3pieWSTLQ9Csr/+sYAQjQlZjcEe\n",
       "OrM1ut21iv7tHXw2n4MT4OYsGCg4nLHNZ/OLTvvoCswxI/ApXWh2jA5VTFdQPrcGSceA/b0utysL\n",
       "ciphTXK+mq6+fa1CngELrOhVKL5z6oFt84iIpC1OauNwEb7yQvjAERNLSNDEINAwdbdDprOoiMcc\n",
       "61fyLlilRzzH1yto4lVrf5woFnqWsLW4bTnxrB94UTQADfkVwZo2G5s5BorPEVWtgPNbusCbPC4R\n",
       "coJkS8Zx/qD/bMvw5Hu6xrcj+uQ6sYEHxlOgWZzWygmlBPAcg0UST3VbjpiVUuf3yQ25vFiHSyab\n",
       "Ap/Fp9YH/CsQFBzucyCn9WXXU7mnY/wS6xZZr6D/UyqgClHBmobDCtsnYar313506qc8pz24tJfz\n",
       "t63Epe2nH8vH9Mm48supnmYc8Aq7sXgSTbNrB7TIPViX6HZgIU2/1enfA3CP1ZJHY8cX6vtlOov4\n",
       "qcczIKTjzo7ESenkP/043hWWH5sOXzo4CF6j3e+n0fJGw09KBS6Z6SaWMZSDJ/QRgNZjG1mr2M12\n",
       "whPGCq8tXud9N1JucNONx82i8EkVpuMzasGuKsuITJiz6zB7iXwsyz2Ct763ClXsd//B2oze7Yxn\n",
       "sDeo/v8KaTqN77NaQ/1UoMoiY6rFOgSQR1u0TQHIWymtkpoEmL/NkTNrkkrKjo3tYSaaMu3eaXFz\n",
       "a2EWAATAPPp1JwgaU86Q8yVvVD3JHiNlnP7yqOECTBlPM0M/7fPPfMGQy6nprWUePYY0AIew7QoN\n",
       "bgr3AWU/wpZJ4O7NIurBUNPk0dJEhvb5yfwa4YEooFYDKgAAAyxBmmJJqEFsmUwIX//+jLAAATn4\n",
       "nJzxmEPeAATYBfMUacnsiJq005UOIdDu0DcXa+Rfvo7abxiB1b+LNj44zvktpHPNrQ8No0TVuQvf\n",
       "lvVHT4q1caEYec0KTY/gNL97IAjbg4LhZ/jD/hTGbFV4G+7fmhZBnUkjeh5bg5k7rJG2UNXrfIS9\n",
       "2kdXk0XVqJFJXWO//wEdh7Om8KDBr3zBZtP6wmoing+FWW5zXvSgMzt7+U0ypkMDHGLipLlmTDPc\n",
       "/O1BAzn5oJNM8bn+101OK2ZlpZfCb4llpEzxLBhoqq9t20KtTwB14f3J9W78P3Kpx+FP7Guajxvw\n",
       "2nVwW0cT52ADXJLrh2C5UaBR2/WPtrO9TWNIEuxORd52vaGBA9ufueLobOUOG2GUNdesG4FU83P/\n",
       "V1KFNsQ830un1P6jUallx2ew1qXDTOmHgjZNhdW+EZ0H689jlGRgfZXLXPItvH/J3FRUEG837Hvt\n",
       "z4YqVxTH/wtGBR9W1ryN6vNnfzKZmDV8c/D1RGUXfpbPL6IGqAV3ZcAp9YXKmQAGoNt5Ksi0YJks\n",
       "5O6t+UWkG+JkQ3Nz/g0yGKtuvAMW0K8RdaRrONOh1YJeRqaNttm8Ki4auXmImRK5y3UiajbkU7+o\n",
       "AOpTC94TsCAV/XcPpbSdgWoeQXd3crtGrcb2TkqxogssUPEe8sT9vypKgl7PoVufrCYDr6eoaE0x\n",
       "mAlAwUggi/fPg7pssgVSIxHEX8ZlD2XWlvmLWot8lgaQPwUDyc18iYu+KpmQ3vS6UXwfrlrzNN7Y\n",
       "v6pWQ/DVELqEp7qUUi/9qSsmknT5r1VvkJdIikRBVIj3ycUPEjxlDz2XgZUT23J7m5JIT5tQaKXW\n",
       "tsNkGYtxKYVLYkPfKAzok9nczbhPCiLjktydgjUjd6pMfrjeBeeQKThCa/3wwIsTRDx/WeFJCJ9d\n",
       "VlhHFp3symyjBz/RJ9Pq65yQvlX1krpmtae1K6w10SmDWpRNcbeo6m5PzSKYZDGePRyLqP4AQGz2\n",
       "YJQhrRK31Ua+Wl8UzS2ThSt3GghTO3qSfjHKPh0Y79xYqxax2XJT85/9iFpCuR9LBLBEwAAAAjtB\n",
       "noBFFSwr/wAAQXM+KBQMwAIYsuUG0Ea9e4An4CsHw4YA7FKImyNgLw5wth3kJsoyBBvcK8GaiNXR\n",
       "X005WTbnIkz5IJxQ38u4b+2clGXs1ahZooifn0I5KNtfCVu95Ug7HTyRfYn2Kxe3Ii4To/kZRSyq\n",
       "XMVzTqPrsIsoQh+BMkRk/RWUbSpSYVEz9cz7eqG8wJzp3a70xxNRUt5QRwCuYrD9zrcan7/OcBOB\n",
       "Ug28XeEhRYia9/achaUGggtqRq9bRUKfInEosPnQPoljZcb/gmSOmibV2HUooVn6qWVAI3Qu35Fv\n",
       "jLjQPIU+7YgWPVA36Vr5yaZrHisDANvA0yPwAJ84VBc+HKUrnlajdAWwYpOSp70yjHfE4suoZlj8\n",
       "VdPj9rI4qzDbS8gADmEQnvRWN2bl4d/WqAPe+KuM/wLMXKDa4gBDWssMhxDP4SwguT6VcPeSJOBy\n",
       "/hyK4OBnjCDAQbGQEvD+Ffo/hEbEn8StLnruJOksWx9G+mtNh/NOLExJJStQdwfWrZ+tmqqPOuLA\n",
       "yFrC/SlHpaSrFp3925rMLmLffAz4PbcSeEbnFZF2jX/P/OpylLaQGTDDHcmJDwLPcNe/lySNpMo8\n",
       "LJJ6As68oUZfg5jRBtrCxT0Ckw//71lz0Z71B3/Q1vkGbhwKOqXzZ5GdzERXC27cBb5L6OEnrHMU\n",
       "gcDhbZab090O5/4NKxxQl3q/RwdnZiwiCh9HjyCMZPoCEQXSgPwdCYAY+sPrn+ld3a5ZCuXCZ0fB\n",
       "AAADTQGev3RCvwAAQ3ctgqXYtFagUmaOgAdCf/4a/j05PJ/PXNGp5A/HPbll4416lpf9lRAaPTGU\n",
       "nxPQsnDJmhoSL3Ld41gY2sJb0lLy8wjZ0GbYAbwNvYauGNHCIYpwoNtzJufPlo2UVHCLoA6Q4gXi\n",
       "LPoW12mEJdv4jzpR3xDTmcvIaZCi6NWMmUaflRMlvfedBUnuGFYmYI+naPQl3Spruc+2MuWboBZw\n",
       "sY4s2TBIE61cwxplmDviC/VYNni27u+kwlAiw4G4+/geD6B3sY8RNPiD2yFWU96i31XDEt8y16su\n",
       "uoqMhcm+YZikM4dgf/YNvChM297Xww3ymqOqJ4oU5f0NOex8bAlQ689ZTesmnk9Kxl3zJnB8nu6V\n",
       "9701jukySFi6K1vLhhdZ8PxBhoxctwlu0My1ndC5oDU8/nVKBh2dfcjbh3IGQSz6E8dU1+jmSFmT\n",
       "gpV7xSyP1h1kM/CONh8jMyyPOjyabB7csmn/kx12bnCYkMbocf3RqjtRqU7HFIuEQDXBcL+AWBex\n",
       "lZoy98W65OQPhFggx35QATcf6VkTRioQ4UEFtMIqkAQYJhNf8RllOZ/LZiiO6QTjNoU5aikbRCN0\n",
       "hMelJmBmqWWXBtYiq5yLWq9WG1519Vxsgr1Z1QqwPNRjuTb+BHycjEDiJ9Dv18zW5aK5pb88GeHY\n",
       "V+sy10az63NyRaVO84Fqq68Fu6oDbx4POVmCJwWISI/SUSXOjGJSR7k0YTClGDl6ObdqNu12IhFj\n",
       "2xJCTDL8jaTQzHgAilTava21qMy8Ucp6/zMyK58uDNqiMtnOaTznPLMoJBeXaUS294iaBMNqO/TM\n",
       "QaNjchcZwBWsMmQwZJWuqL7vWzAAcYnCREeSAg6yQ00bbDhB867pD6oeQ0VTaMoB95u9ksnsTTk1\n",
       "QABk/lryOWgAa6DN2DGUs8HzK6GtMN+/LfyrtSBSEaie8r1kYekxLbrBAUV8n1XlbOrHV+wQjPPs\n",
       "wuzdf9SZFgl4VcRkOHhJ/CY2FtYCpmG+EWBdbyHf4KLfV+S7uZQb0XvGUPlWNkw3c8HNasuazqRo\n",
       "oswNWFQG4i2P8+7DAqUHNNbC2v6wHtzp1ZDbJYHf6kRu0E12I4X0vSYuYYg6g+j07oNmAAACiwGe\n",
       "oWpCvwAAmtrMcdCADgf03iJj8v/4POSe4uge6UrYUheWCxUcgo4iXNe3raKP0zZZmIc6gSE+BJSa\n",
       "DkaYbVN+4ehZYVs504WRJdnhXY1Gol4n8QMTzz4Z/iCECcf7q/CSqZC58Q6rbPmE74zn3ot3gDWG\n",
       "+KxOhRc1uKad+AKeCNDb5S5ERu9F+xy5KQCZtSqxOu3Jy7r8Nac8PQ2Yfw43LELaSq9Szcg4I/Rq\n",
       "nypO0iKGrN+T/uiDMhQ68n8+pYV4XNTAwF9js7oAokCu0hki12ZYlRW0i/LJ10Am+7jcfgdTXUxu\n",
       "OxTMok7jWPxhAZQtywPu2OtB8EbeD30iU/ph7i4VvKg9cRkf09bKHmpAT3Nnxd4Sh8R4/ewG6N+Q\n",
       "Lo8atd2DDjftc0SP/QS7Ol/bL+q8xHvkXYbRnDeu6ftUf0xza/wBs4tmH8r0UHQw++KuyuWLxn/O\n",
       "0QcngH2XAvoVKw3O4Nd40EtHptqLmYODH2zkp3IWU+8r9sScylpFsZWDVMFNwhCgyfvqysMeemFF\n",
       "Oqbf7XqBOc39ffkBTyjHksN6h1H5QuAfUBMZLfqMiNkRUXg59rwTgVQ5bIPnBBbY1tyVxfYGQwtM\n",
       "HOf8E4kF/WNfGQrJpxBnqzAImO8yKMoxeg9UGhuO03kd4YbGWGk/mIG/fUN1G+ZsFDO2cAE+HodS\n",
       "XpMg0RM79cCtydKSEoEf21Xr95NZr81DbmV2oE3D8Ul+IYzvfVprOI3boU9An5DLWBH+5ROBitSM\n",
       "OT0Lfa9xGPm+4ciGDoE+1QN2nppYveVxSOELr4/rERzYl6P2WOATL2FOVlN5OMtqLYDcuxnE+mgx\n",
       "sn3KeSfuupbi8ezCAHjVxbTQVCuhDwAAAs5BmqZJqEFsmUwIX//+jLAAAUvfHwUdoAAjQV/+zIIv\n",
       "MoKiY6J69mGSbP/22HjSGi5XyA9x/rY3/vwRTfJoeIq38XGO4c/3ftsI9F/t2aAlnYrJRAq1kQ2E\n",
       "vsdD8v2VfaiNQrkowDEYdk590ed2JQDdNPOzLPh0dtpFPuAmXUiGgiihXKBcXYojy+PDYFT1ztss\n",
       "s7Tkf8X378vncWjW6y3Nf6MGNLc+gOhtn2llV1uER6FNURTUkQEaQkTyMvxRYWVPwCLPX93zv5e7\n",
       "0+/RXUey3NQn42uVWK2WC8dOWwfyVaqWIpwpHTbu1LcdSjP4Qo1pnS55z4rmaS/mZaoGb4467R3x\n",
       "08cBk6hWfMcR7vYolHmA3vPwFymKYtVX6L86NANlx+b9Fs2aaPczzLvoXXcKEjrspOfPIOiBS3Vo\n",
       "cMUXoSxX9uXlowNbYWpdTX/tr5YdVH5Vas7PET9w6c+maABRTyEHmj6QcK0wwAokFhq8N5ukfJDt\n",
       "5B2zxrfhZE91AJ7hGWudoOH8rbpUSRmssZ+m7UQ/5g9qhoO3XSUozUmIXCjdoRRUJQpoV3QVShxn\n",
       "OB0yH6SUuEa2mYoKlJ8/10DzOwvaRJyxtaEqwmCnOqNDXuItWvlWSYw7KJEoAYjEiHIEBce75nN8\n",
       "qfYzkd0bniNWgxDWyDq/E9HFYfXHgTalUxM77NAaiCTf8nAHuJN7msg51xauXivrRu7CR2WgASl3\n",
       "m88oE9kMMp0gPsOAOev1gPLZDL7vREVIQgOH5fQEfJGmgyZN9gmsaGGYhEJXjCKjGLYa+p/6vG7w\n",
       "lv+OzGVL5oly1rUYN4oOGfAx2DoVOLQdHKXS/mmiX5y3upIr9cHR9ItfeG6H4BOvZJnbXiHOnH41\n",
       "vpD4j1JsmFKQMIe4fwk5vebr/E4QDunKVTL9wVuxDkKEMxve7bHo9x8ERD8y2AVRDad79hOSAR1T\n",
       "F/Q8AAAEI0GexEUVLC//AABwMi+Zg4MAACnqRfWGCt9u3N1w5m23MHhcrM9eLirFi+7eAbyAIOdK\n",
       "jhlineTp5V5t5a1WI8FzOux8QtUAKfG5tKmZL05Ra48h7Mqd0rVCa697DF/jeOxxuDXeNqCd9gQC\n",
       "4XfOP5Oin1wtzwHycm1yTzWMckKduTtaUycwI7l/4J3KdF9M0F2R+bykRSElsVYooHOIy8ZprC5t\n",
       "+bvgowGN3gf//HLgXkAP/N0jqwjslIRZVCJLqbxZgqkih2z6+4sSynsM00rt1aKP02gWosostcyR\n",
       "3qJUI8SQ48n1W2zY1tmco4YWdHE2c1pMX7/cu/VMbUZg9yR2mJSubvkRXsaRzGpqNfPu7t4i1/rY\n",
       "zWzH8ObU5nQFb8TjPbqwUXSjg7nVDmBejO6fWt6fjGFwn9n2TWENBbcpGhayPRgbOrQSNNBuiTsJ\n",
       "j95TsgjAYTUMG1Cbp2wTwXJ0feHSKID0zHHY0dsKBg2E1d/TfbYoXWG55px1syWczhsyByRaIIME\n",
       "HcuTY23pJLSnBBivuu/ioYbIBA6GGrpX1dt4eLBsb0qvyYhZEVAmNlUzCmX2AawTRthMo/tj9bYD\n",
       "whq0fcxeJ+gZ+ILB+UBe21G03OA/rFcvWP0YEwIAvzJfwbiVlsdzvX+pWRh6I+bcED2zEWdlZqDz\n",
       "XgJOAxjhSLyDvNKZtrxrpd9C4Moa8tP/Kbv/P/DZjgdG2IvT2q2dIAu1hdIU9Y0cue4Jx9ezbLlF\n",
       "AjtB+jyCf/EzGl1visrqg9iVbRoIM3UQbfK6VLePxL2r4QkcdPAPhP0hNvwtgO18hV3u0sVuHg49\n",
       "fw5X317pek0OocdeAklqGL1/Mp8dLipOmIqdMjQ2q5heQjsPUnMhOv66pKXYGZ6aBC2LqA3Alqh4\n",
       "y31WL5RoJhADZSYCf7boD0sjbFThlMBJH/MTvMnh18tDSMDevPvhe08ei2zCnCDTKl8R4zalYXrH\n",
       "NtfNyUtxLb6IzW5sUzVNNRpeFEofQm9VgcraPBDpoSTcdlCJJFaShUqifBFc3VYNm2M4wFiESeuw\n",
       "WJz5hh5GKaLLmrWqeA6A9cHv7cdpYy4oxN6LOa/T/WXMGir0mfjG2qL3eMzpZcgvhvjdDAawESb2\n",
       "tgpHcgmVVpF39zTWcAM62kisiGo875fakwriHzg9rZ3GKot2wWIcEC82SaiQTrpRmim+74YkM7k5\n",
       "L8DIWHaj6Ypwe64thiY/XY75IEwE/h4Y1F24cN4Bo4hqtLFxpXj2UAFW3F8gFWYrf5DQR5iqqpsA\n",
       "codtC9Dh3fBwlZbMY96UdGOXHyO+iV3753fDmq8ivLmh64Oi574w9bbmEKmnY1jcPLOKSEDhh+gg\n",
       "bDs5guyC2aOTOIfTZlTQq3rQGZJCDSVwhCLEdhpWMkIuN3fZf8fR8QAAAqoBnuN0Qr8AAJr4Mi+a\n",
       "rYe+VccYQoCqADkDsu1zu/ub12dupmMHVfUEGrPnKKbFDeLoYsr1hrCnSOxygnaDfka9bUBhplZE\n",
       "URRLsFt44HLdSpEbF5Q3I7PLK1ddfX/JcKaDhzWruyQsSdesmDbbZNYy86gliJ9iZyFmXKNALHcD\n",
       "Eoyt2Zg+xxC7bSCdJ6IU8TYkDC+LZi75UuxAq6RdumUdHzO4XJjCbg9dNhFqG7qGSXnp2w0z9Xo2\n",
       "t1qPHpeCdSiTmDjSo7HIDi7zXfycatJs76aZsAW2jBOzo3b8wI0j68Ezsn2k50x4uEoBcjmhifX7\n",
       "GVi/Rc9xc0SX9gV4i3eEP676DPS/MTDGXcZaTfz/4cy+B8ZGzvEJhhbLWIA2IQFYn0D2rkK6Xps+\n",
       "hpkebNh1JPDA9wLkXruMmqTttcI80DGRfxJY5pwE2Zyfzss3deKBW+4l0Q1SCSKZnzu2JeA5kFbV\n",
       "s7KTUGPDLSne130dL77KBeT3FloRNWApKmS1klhkrr44Vg3ZfhbS5pndBCbpnSVgRutelAO/GHPV\n",
       "0+SLSQjV35GyjYRjLvgwHxMH/gHMAxlYv58lO/yXEGEG6U/F6CV6LIqe2gPUrp/r76iQ8VMhNxBi\n",
       "pjVQcMfb27mmozeGbOqTHLpYTEZbOQxyTxzcZpL9o00qRggbPlKpMvfBEzjO0+8uYupYLhb8Dl8D\n",
       "CV4MdtyoWLaJyiVQvgg8uRWznvvBOSM4BsVU4ivLcvbyLzAMoBM+vDjan+lrNBhhKOngSnP6pG2m\n",
       "LJZvGjXC0M/ZeNmCgmkwR+vVjj4Il6YTIg7VcssYb1lk+IC9teOCxLH1DjS7WGlP2vP3BbhuO4uK\n",
       "UVK7PjY4m/YHff4Eei0L7gRg9OJYMbmGeglcACeaqtzm1/O5N1gxex8lAAABggGe5WpCvwAAmshP\n",
       "SYSC9ykxAQUVVXOpl/5vebxQhLwuq0An4FDInqYpDy0wPMzT+mhU4yBY9GCevJDgWE1HAtSAnNR5\n",
       "Fbhf8rP4ZXKs5HbWozybJY46aGPoecJtzkTTwu5K0O512OM3CqOjMNmcFYbTOoV0lmCaSBScJh+u\n",
       "k2FPuqPpj9wYkt9D4CBD1HHWjnNxvs53plPMloNV4fU8JAHkDECgaQWhaw7mRs2vxIxPjeYAcLre\n",
       "eb0ysv2CDFRrLrn9x6GjyIbEJcYLMDKEsAzRoXdJzFhqcs2jq9kPnktPg91h3IA6ejIzjbwpA2lS\n",
       "HyyyIyDKP2Zhvjocy/36Dc/5n809ukmxwA0BLEVBUAA5R04+X3j1Yhc1fjBUF6T5vfTE70oGAa65\n",
       "XEiCKOKg5qq5BCyCk0KElGyvIKxwvQ/4Jfr3aEG5wu/4dqqw6VB+iRDqhPPBHCo5ODqZ9jMwvVe1\n",
       "4EUqUcWCEUwLqpwXpGSvt9ibdj9rcASipQ4g5Pq9/ERtAAADiEGa6kmoQWyZTAhn//6eEAAC2b7/\n",
       "YaPMIABDvapQ/U8P/vJgYiX6tNA2oxZWnkYvb7+DFc4o03oJciNEeEaRULk1UzqyGPkcwpjk67Vs\n",
       "80HrX6pWP17FCreP57/xT0JA3gsqCDBLaJGHslGrsG8JAMV2zZOoC2la2/P2by8ZI/uQZ9qXs0xZ\n",
       "bkgzVfYO6L0dj6aMLJT7+JNwhCqbJ9hapPTOCuRC0IDm0eORAwmIkXcqKAOn2Iuu7jHiGCLPH2Kc\n",
       "CSHp/ziaWh6MqQhNNbIvJA2MOiKJruzTs0DQhM8qRcgWAgCAZnxVmWucHK2epEpJeaLdoxoEM4Xt\n",
       "4IQtqpHZEVWkjRe89JSDaflXlA25ZJ/nHFJNxp4pxJHYjFdPcu2BjBhrL6brQ7IoWRMtp/JAQ0DL\n",
       "8DXBdGyyYi0t0lUAsTS8KYzn46CaLJA23ojcXozWbbr8INeBNwlxvySc5F+/fKfwh9+GnmicqhYZ\n",
       "/a+VdwQA6enu2DU0HOecPAu4ePu9cf5uaiw5gE1zdu311eeuwVbKsRgAxHk/Z/N+sK1IqXnHBkIU\n",
       "DVXZkpDDB6kwCxeGmIh3+KM7Cu1mJvFt6RqrfcoZHF4vlcKVUMURteo34A/4F2a8CX2tdoq15zDr\n",
       "sb3crDjjehVqeG3ijD+vym3ZuXkNZYmPsVt9yEfZCmIvWXllDtG2az3cwNoHPbHDsshf49qhG8zu\n",
       "XD73XgWm7sYQGc0M+FrWrJ+8ecIOwAC3nY9ww8/Vi619o7f3R8d7XNIkEL/PGIivii/ubIlfTI17\n",
       "jDhLLi/+U/39J1P2ldWc2ZTbm2MSXkX+LKxhutS40hVmhJ9moJXUO+Vi527ITYGfb6uxuBzghvB+\n",
       "GsOKZiDOX89+bFSP6rSIlyuWXNAARaT++gIUplYPuMSWvg6pPialgD76NRC25OIlQGfh+L0LJgAZ\n",
       "dKs/TShgifDP2FwMC1cI0l0spf/XWIqv/onVZQba5fCzvzj9pHYxJV1we+/H74uiEPznRQ6mwa2F\n",
       "BQ1Y0utmEyLu5YBHqOaR/czPNRpqbEuqsWoXQYF1tCDLIovVza6yEboPn9delzp44BIpgYDwZHRd\n",
       "nD2WtlJ0DVMqKXPVyw0CU73lr3h/DrNrdJfJBY+EDbibP0D4JYxxqRWsChMUja5eMGdHMBGlzx7L\n",
       "5/hX81Vl5XYb2p+xruhqlOon2NbP7XV9TV22icEAAAMIQZ8IRRUsL/8AAG6UyHzmmV/rOFeABosz\n",
       "yAD1WeZOPJuvbIptTzhkZUmffHWv2K6wU5fLzdjS7nlBxo8PXjBrOZrHVKa8oiwX5at4HRen2geu\n",
       "Ex+M+m9/NhKyiUE2bIHcoOt5Z3t8ldQenaH6hluBXR1za4QaHccFP4fvKbLPYQ43DjgfV7R+AeAy\n",
       "zv6KAUPQANGPgO/B5He7K2Doi/c7PEqPWS/TmCSYUbvqvd+/INUPogppmdlUaK0lPsv8Sn8y0X89\n",
       "rlTin83BNyfyyVE8I9dP8+o6OM2AqmwSQBCEDT0S9F6G/7dD3nHLqOGC4y6w+txvZtVF/XDBC3J5\n",
       "0B2j00nAZNBnELVcO4X4BuLqIiuH4AjVahkqsU3Kk7nBd0mJwpik475f4WwWO9UaR0Cu+OgOEBjd\n",
       "B61Aug78NbSErf2fA/n6BxsFyBzMVbGyLMVXxQEGXRtl2yU3hVgaNbL6QyAmU31vOwMf+U1Yl2e2\n",
       "i9AqCTn8LoC+OXHgWDKDAYjtafPUVS+cTJ9ckOG4lHZsWslqXHBbcJYCfVz6P04bcNPisSxmyGm5\n",
       "zITGcDFwp/pWiir5oxskLFsryAfraNaK7LGCrNdbovKm3GB5xoPUd7zuqZMFHChJMVR7cT2PJeYC\n",
       "Lf2Vp8OIvvLaSKzQ/XMKznsas+ISY6HBJ94I+tSi95wlCGKx5yIXm5rvnsSCsEBqQN9FczcRrBAG\n",
       "wyRcB2DizQJPN4jsppx5HRJJsjL/jBLHATB5mKOQB7G/tDUJEJ/rfT5aHgVve2XAxwOjqr80MKA4\n",
       "ogmZ341JF2G0fZ49S+2OaWJfBsg33WvHBKjfpEimHP7iWMv16jAHDQTcgZtPiyT6gWz/lAr485iR\n",
       "Er+A4SUX4br5swZVKauDe7FM56ZdHFMQDncdWaFYvrhNSNhwffs7Fu2e90zEUx4YNQEHXcmp6/ws\n",
       "zaPl567XWrIk4LA9wEEoEkyb1CiQBYrfXdFTvUBwBXD6flae/zhrd6WET9NGx+oh3ZDDu8+unr0l\n",
       "oXMOFPgvhsumHzAAAANDAZ8ndEK/AACZSr40QG18AF6M6eHlOUyesZ8DnSVYlsRhTWd3hKsT+1TF\n",
       "ChRZGaKv5t4vjlYMGc8B6QE/RFleFzrzbu1qO8UM+sNVpgGdgzfPViLbNbmNnWhy5oiuRHuIXBHv\n",
       "VoD5kdOJTXLnmbYhgpcDFw6qnKfJoEi2NcdC2gdtb5jKSfFE7S+rfz558+jespswUZ01ULqa/Lq6\n",
       "eBfQcQMvFWpiP+Y3X6A1BCxEU+VAvBBRwr+58kc2E8V2oH0ZgctR6U0is09kO20vrroekim6XCo3\n",
       "7DoOqNW4glUyqvigj4dj9vJfl1pxb6aWik1qlFTgE2CCbf+Rtjkb7W2DjxBHp5B35Yl+JZv6SJso\n",
       "veJycRRYNiGe81g/kg3pygPxRk10xsxiT4KbB6LAkcWHn+ZmxcY1oz7lGBVzlap5xwzm4z22tfrg\n",
       "JuadP5eiOzhlqA0e9y8D7lLSj9T/OB2y2FUQ/k++dUuYw8H/yRw0bZaJVI53g3XepaJOMuJElDib\n",
       "S+TW4RfQ6x8B33/+P+eaS3p9gPsi0FFzH9h50c3dsbHPzn4iQgvx5TQrAw2I1c2k4DCYwU+nuUxO\n",
       "Eq7u8+DsTCqgY68kb1SNk0aG/bNZAS+IqILi566vkHXpxaxgefMYTsBejIiXSV6J70uOgTb52hc7\n",
       "Gva1nJs+Q6lXrc0wttWgIEX/Bs7EU1cj6K6IrirT3EaKJQMBjgnVmKWELCvko0VyXLWV1DWrdG7j\n",
       "+Fk85qkpyRiMV4+d/V6YM2lY7mKdeSb5X+OK3c/5/YL0WDQ6UNtu07gCz3WObFN4nWIF+oBrnYBC\n",
       "+DDzluj30uhMSuMkd7T+6ieABz2WRfcdjuHbJ4nI3Lz7wH1YVVF+uHPjkaoGU+Y5TD8cKQO81zIW\n",
       "p6Bg1B44J+meqEGUDlvYRM4uJY5cp+UUm4DaLgUYJ7FUrAFGlAaJy9KfRajE8qvDwIEWVoU84mEL\n",
       "srgDsuds4cCWS9IRfllPOjjK0ziRx38nUefSMQvi+FRXwbzIyFjDQwuyDupHdvzDbFhWbz1r20JO\n",
       "SjUpFn35E08N+AOSydxWzJcOdItPMsMQINjAdocEyvUslJgRiPLVDfy+00WnnnUZLPAIWAAAArcB\n",
       "nylqQr8AAJbruYJarHv7aYra5ZWgvCEAJKim+HcB9vNHbOfPIIOS9Tq+2LmB34VKMWluIrSzKdC0\n",
       "7GitD/IfIOcQYgObNYWL/KWDrh2ipExvmCaVaBe7+K6tAbsxgat54k+c773tZuRfPfGSau+5l2n2\n",
       "AwOgJGLb03uzQ3SuwIXzFMU9pCzQU6WUdsO7RIAAm4i5/QZjdmBiH1AtaeS3M39WsUnSJahrZmop\n",
       "2vI2Xp4g396bYnzjmPVWA837okYAUQ0TBF95i62yeYAj55mq/L2kFKB1jlixiueoXO6OqxoMua6W\n",
       "JJ3cljSa1dSv8cU7YS1ejhA+rLiMyKRNecbI7x3DvEs/8dBqw4/RA5LasNPKA3LTt7FJaovFhFx4\n",
       "hj3DrtKYWUP5CPEggF5UqrcQcDtX+Zu0DSlyDMPkXxk33k8s72+szMrGm+ZvkauTyHbFys6XouGn\n",
       "rBmaxPPcuMtDn2jv/ZKTw1sDEFdDBRno7icvbmmdwiVzRZrNUiiTwT7SOfqFAWxK3lQ5TlOjSRMa\n",
       "NQoMmyUNlOd+XqEMMqWTQRNjbJgGRUYkQGbx0ObBB+wRTfvHamu8r9sOsZ2HXDV7j5deXJkzu4IR\n",
       "J8IArG8PgiEl41Vjt1BjlWDube1gEfRxjHpWNMM7j8+SE2WHALlbAB2f4L1nWQGV7YFsJxCvQT1h\n",
       "qXwkltqMhe6PQVexrEeWees40HBegqSb5qODdIU9b/0+mzfUOw8FvQUITql2nE5j1/PH/q8MwENm\n",
       "V66ant3PF66WuejWVulBvZlU6jEd/hzijyozUVE61Rkaay3lef79UrW+ZkWFhyhYRWqyB8WOvQEs\n",
       "QOOBPVkXJSqKZT5ePrcGyewP5gf5Uc4mD+UvzTfin0yihIMH84tzqVj04uht8DRegiCydHIMXeCs\n",
       "PMyVTyjEBmAcEQAABCxBmy5JqEFsmUwIX//+jLAAAQlYojVSx7FGS1TxgYN/8hAluqKJykC80oyx\n",
       "t/w9UM13QALc9DZpUDNgU9wiMRJyU5GgLs1KRDShMlkI9yrGvkK8XdYvan7YVhGHBQ5WaC/OGfaz\n",
       "hBU3GMwudQORP8jYkN8zZ20UWWivHxs3692E7P1Vcd77tKG3DGHnMCEiSC3ERnTnpbvoOd2418hS\n",
       "mr8f7MTEyYFlQRDp4Zm83698XzHzLvxxTmV9jjewfX6NhpYHLUf0EgH9e6HOkp3lvfjfthukW8Pe\n",
       "x4gVsP/ZVq916xKBKzq0w5jE3Wbnnb5RJFb/y50ziPuv4cOnNFH50T1mKYt+B98MsSZn0r2VNtCL\n",
       "bxUvpRVOJGRYMlZvoeMaha/xLm8QC326kL73Zhvm+eFfg7bDZRQn96dqoN/5o1YEGcZT+P4rDlY/\n",
       "dND3v+Wbyuoexx8hS6xF2tnb/7Tvwc5gDXfTPio+Z5rWjM0xScQcNt3VGSQ6EcADQ7slG0vBg8yx\n",
       "rXssnvYaOCtW6B61N4VDkINm1S6A+hccPXkKIHdS8zs30c606KUI8T2SOYrlmGYQStZeFaisBLGK\n",
       "bJlvLqA9BOl4Hc8iB10WRQgUHQeS/zKRSHKJyFkYDzwvyk4TF+mmtkHJI7EQqvzTe/DhJhw6ZBMi\n",
       "e3FzdkxwXP5JIXPbq211dJ5Kb0FmVcpjkEvTSkkUH34M4EYMtcwRbbTnyez2R2t898WjvC21qH3h\n",
       "MuTjnxtKmT//+0ouXeLTapwyD2axpKZrix7nhTPwmc+gVFOwPQnYPYEbY2z5FAYbcQoPkQjhAY0J\n",
       "E++Dq4z1XJWV0aUS/av3HSoy1mgkrlnwbQJkowNSZvop9bLXjhg7NjgHTjj6T/8rlTCQw1PvAGDj\n",
       "uevqts7bqt6xccPEYh1Em3uz8ViMK7f3F5hBeeU8DgivoRNLXYYyDGbLtbgNZIc4WGZsLBfDwnB0\n",
       "u/b1KB79XGNd2+nIo7LddosXQOSwa+Eej8mg7CAYeop1VlAgMcCcpAfYbTTf+mAdhVED+LEXkLyh\n",
       "542z/jTFs7Cw3MXj21mvnlrMJMdebJUNDTFKkHmcYFlBECkxmJQmTYSMvOSUkLqmiCSP3WWUpq/A\n",
       "h4OtqvbMfYwBJXSrNSgx1ankToZFJe3rsp8UwcS6uyXPCShg+e9m5vzAxMivNYwibj64TPab7pac\n",
       "4h4VHITSl1QeXhgAO6ZVPBfUiX3fJXfXWwmX2nnqshfeM1piFgPbNu+XL/pJNrJpUPIk3c8zHC3r\n",
       "Xve6/f4BI1hCmlwCcCtEG8BafHRautmMw0Eg3PDLinuO7s1zjubD6ADQ4p2lTkRWpui4IrPj6my8\n",
       "WoJbG0NYpIRwxKqSDIN7SGieH7NPakUDgAajnLFMsCf7HpWmrag08ZX7JZwYVusTDv9e0dANhegA\n",
       "AAMCQZ9MRRUsL/8AAHExZlKXZNjza+1S50ZYu59A9WQAFR0Iip6ajpa1KMmkOIrSyuiC8IL7s9L+\n",
       "uD/H3jMhFsYM+J7kWbLqjZNaNdncRvaJvYnmBbn+xyFm2GKdPv4PJbcY2WInE1nSINpEftm06lWO\n",
       "Zx3yB8O6l0qCEA2FkTsSivJCbLQRp4V9vcyo19NyW170z1jhb0icSNk1wvuypoQPWwg+mK0xF2k+\n",
       "OUJDSyfdrC2TurZuIgVOTB0iIYdMmWevzAXusogvYVTgzkS1VP7T+RcCZ1Rza2bc0Hs6gkDR3mge\n",
       "T6bTFnp8F8ldbW0skQdzWBSIT7UvFwr6ihUWyLx5B8w2wkIOdEc93WCIdI913LQuM+3VvdMrGIZ9\n",
       "4MrMrphMMSvHgxRhE8tDyZfJLkLHV02T3p51X9z5NCxjhUDoUoA85WsLp8X2fD5RSRMqAV/4HcxJ\n",
       "aXx5l8Bn8E5lYcr6n60yfbpowPBe7ADMIGqgFR2v78gB/F15hm4edLatHbDIOAOBL+kzB5bPx4XV\n",
       "xwBGgMfkdGkHMQBWr+b7VVx2nCdOl6VjwI7QcOzaOQBAPZgapEQzS53CHYpnbvgp2GfofwG/AxUo\n",
       "9fbpAWaizHFJF8oXWakSnLsbGCHLJm3svN1p/0OowBz0UZhDaJjqIBIWT/7k5YB6Y0r+WFE/Ozdm\n",
       "iYY2/A9kowZHbaBvzOYHvtOCq6aHlYLeWaBPkrePM9hheaGz4tIJLnOhcnxlOuEdtJG6/uZnRIP0\n",
       "yg/jaQ3jNFt4O5O+tivVDtCCLKnFtb7lU5rMKQ1WkERrdflOotPcOxRp5+IzPGpu4H/lqxOpadX3\n",
       "qncvYQZebk7f/PzHIcSjrEeh5PvriJld12phuTnK0gz2SO8VWKiZVQrAS8DSgLU+l+cnQrvhsyqq\n",
       "qMs78t08ZaECsB+FlUtA7RaiBNow8kwXgdHgj6j881JbCwamTZk/WYBu26rB6fw+Kv6+x7LMg76f\n",
       "S3l+1bzrDCyXyWWCpMkIXdR+u2OtZQ5sfkqZ7Mdfg2YAAAMSAZ9rdEK/AACVKo0IK77cHkkY4ANS\n",
       "jHzMjEVkAfwonDI0By+SSjtbp1LJ6ps2seYjk3x6isXFTjV0dvndbs81YxLWBEBoFcZb8SDxc0+j\n",
       "+fbJ7ZrJmQETlkr8hkMvx2TWQ0LgQUkGOxHUr9r1n0BQ3tPswJF9otWjPYvy5LgMLQE9QNB8faUP\n",
       "RBm8av7uz1p6rnQcjh1oT+R+RbN3Pz+EbkBCff3Dd5GYtlesJtaLfdZ582hK3ZfNDer2T2BsU7cW\n",
       "YXABljnHtxaNAMyBeCy9rMVPkqNTFpGq6HrCTksjKwpFD6Qkn13oNN7StGQN9mh0/ak4fHvLH//D\n",
       "TeAjI7BdpAQMey5OD9pGy+reJsMTRxGWObwZE/JYHVYB6cORBuvoG2X6+syDVmxrAsNdqklJAdI0\n",
       "FHPu5+JLlgV6kRZ1+PUo4qQeD/YH3kyugD0a0bYgDn3rjE57NOyRL0Jh6z1mWfmot6tZMG5PPlhU\n",
       "3J6bZSkFy8KBF4llA7TOqGnb6MJmxGVQEi6fM/vV2a0HHMr9CDyQEh0qsXK7Hr2INgtEdb6XZCKA\n",
       "EkoMtwGRkktL+XAAfKU0JS7ogVdEH9NA8eo4NvSrLaARbHs3+zJ+kDFHq9758dy3apeaR+Wr5q1Z\n",
       "hDyxC5CW7MUUvLD6a37zmWnlDH1HiAoc3gDGFg+zINMuSxmqfV3oJHW841hvrZ9s5/4YobCphsW7\n",
       "rhrObG+quJ4IY/bvi5LPeogyv1aExxkrgYKK/BAOcNUNbWJlgUBKR1NEgcNo0staWSkeNgHUtN7B\n",
       "x02D0clxtiyj5bN5PXscXNFl3v2/VGW8gWdGOGxVb6OauuasA520BvzerY+P1DoFw39BOtkpMzxG\n",
       "f2ACPrG5obqfRGCs4CdtxU7LynYw0HecU5+/FBZn/2ou2AXERv8Nqr1iPjc+Mm/Cqo+ENKjLkGr6\n",
       "eEzAdcyajUmUv6svBYlzpw8tf+MdkKgbFBL/P59JP4MpIFuzEtPVPYmNtG6GJKyCfDc3KC4RiKx5\n",
       "cCoqjFKWztEfit+q9a0VUkUas61EwAk5AAACxgGfbWpCvwAAmtrMO/3jiwAK+puPDZK38omBFeB2\n",
       "bVsBXw5fZxsuZg/KQpSy4yDDftCTjXndgYpm8mteTdnUd1e2dZLxUEibQsi1TZPY9FSucJyv8t5G\n",
       "NCXItuo2m+gzRr+s3GsRy5UmU/3qHjvoNiJ//TNaO9tIYvPYArZAlVMpe3BQIeqCbT6/7TUyhSpJ\n",
       "iwwW22c+oFkDl+cXgHZPWnnaPc0fOHvIllaYHA21+xsuJgb3JDSsXynU1fn0toGXeYt7p4fInhqy\n",
       "wUpPxkBAeU8lLVJS/trjGHDwWfy7oU82sFw8VEmhg9xMJxWWP6JOdQRLCb8akFbGO3xCWQh1sIqt\n",
       "Zk8nGRHZGgGfV+/YcwCZxQc5e4iRbXN0j6cctdpNccDwvvwJgRi1p7myk0N6RHNnPcPAKFzWPSmA\n",
       "QolSsjtSfe1SDZChfJb5bhYP32z7zV4qC/V2YdZjPtFWCqqDvqWKMBxo6x8jYLY+IpYUx7RN4EB4\n",
       "JVsQ+nwD77wEflcpqVn7my6yNFJC1QodcL+B5lfnE1Fn4iMJlBlSkvdTowTkzDBMHRCojTvCOL9p\n",
       "nv7bvZOEixD+KQkrsPobUqPsnmAMLXmugJaWjVbAwVtf4lPVZA2n4T6eqY4RVEiz0MqpYR2PzVq8\n",
       "3c1dJ9Y1HUmtaXamhZGnZIqa4TEaE2rfIL6kOCMlnXuVEAFsXjN5jyEQa1g0H6LYlW8Tg1BuUQkf\n",
       "GSyu5BgMibn8bACKViu92NAGWCx6WUDDtmH2QDf3XpOT6iHEQfJxGX0nim/T6FidsicerOjq8xfd\n",
       "pyS2mxy3PUYo+kZcbi+JdqFHDaHckgK2+8pqKCGAggedk81/m8ztd0ZmAUVD7a1vn0V1E8F8p/P4\n",
       "0t/i067Czj0bONp7Eh/vOswxia+y2frKSAyTTf9TTgAxZEmQ7w7/DgJCfYxST05dJUq38rJhAAAD\n",
       "VkGbckmoQWyZTAhX//44QAAE/3b4Gv0eAHAgv+bmNbkAxPwxUfem/7gONNoRMv6iisNPplXBWfZe\n",
       "3QjIn/2iCodpunpx3q5z4O0QjTYWzNB9IZ0CPgWxMENQmhSEf5677tcfF0y+ShOPAXpWeV70bcrh\n",
       "swvjdS+E2bERv6/HFWImz9FMgZcQmmsk2ynzoY/Wzv353uhpDp9aDOFLL59mFu0W1AkzTQmb4fSu\n",
       "FNjpiavtWPcm9fghYx+9UjXvsS/P1n7B1THZOLZPcq8l5n0tEBsH4HjPauhP1wqH62INclwqVrMp\n",
       "B/0b+b1qhS5V5sAUhsR/RrXkwmoNMkT0fESXlrAnLsXgLoGMtefB/5ukZJwWY9yrHmcF4jbnSADj\n",
       "zCpGj+LN9/ar8ctuIhpRv3P8PpBWsiW2augxqmlR5EIs6slNfwE/BFIPevi1Na9z9pPZI71J8Hmd\n",
       "dn7a85cFlgwMCgNJA9wutpXngCsiFF+qrI3Z7MX3sID2XSA6HKDSBVDPUkHKgld+/XpZIH2IPfl4\n",
       "4cWCytnnMY7ppg+OE70C6osEUFSYYAAHWtgXqtG2ZpiEIEbCGHFBYkApEa2BeQ3xYtQ9rVmEFieK\n",
       "CPEIsplxIXpeKXvJeQe6tt/7ctk21aCf0uUcspPMe6s4MM6oqsNXgxYDGN7zm3Cu52UiIbxi93QK\n",
       "TK6wN2YHfruyseidmiJaWvIQjdoodVh5Wu/x6HBp0rkqChvD6rQJd3xAhOlACXwAiMo3tweyCk04\n",
       "6BVHyVso1iKjzMuceiivs7mQfdpqqDsSpcPiWnX/0PBdCZyhJQtdwrXd1lxxBxcjl/3MJsCwpsHb\n",
       "poePm6dG9fYNLifl8mLPBbG5a+6Jaho3e5AIJrjzWCgy7z2IoUMJDwFwh82FwCXl1M2PB+nlGDd9\n",
       "SigImTWIpahXVpYSUT8hVNfwOXribZbAg7QST2ET0KXWticUg16xNOwSpmOdyuA64xmxGcFRLjX7\n",
       "OI08BC+QAlwrsg19SA+YQ1nGL8IAR7UjvfF28uDU5AGwJqvnhhz5x83J+v2Rwp6UpGyNU3ovJtml\n",
       "JZdwrO8ZbHRn+PAbdiSp6sEtyMsTuoAJsL2jYnzkmzadfXgLVDz603b2v5xCm+6V4WOhMUO6iTCd\n",
       "AAACsUGfkEUVLCv/AACasi9oqyJzJWeZpCj5Dv9QAclSvk1aSw9JHbVyPI49V9sXMDvwnwvqAyy+\n",
       "krG7cSaGF53teczqDYqhF+/fJdirvHavz9vlTeFe153gC1hO3DsErMbrJ/g+Ka/0V9VY6pLU6Vut\n",
       "+xh0gzWnkcmIG6vRl21qmED5nYUbDw/Yp8aJtmEUquSuy38/7CQ2f0tAXD0PrZDkAt0MpcSWVjhR\n",
       "ypCyT7PpHVPq6nUNqn7xjPbuHg+umpsZB0jRpIPYEKzs1asfd0XS+PnCwUmRgusUc/BKX7tid7wZ\n",
       "NBLulFxtxBydNOSv5sb3s+NUr7PcjSe2GFzf5VP0kym3Edql698DPvSzoReT6f/w14rCykQQJx1d\n",
       "WRL7cwM0a3NpL4JljgZkCLpJiAsjtRJ7HRYQF2CvfYtqMIn8mHeVQ4lPMux2FZR4AjWCLPNt/MEG\n",
       "5HEkwbej1UoYD/RAP/WMvAoAcRsmPkiGtYZLnIE6N3tL4aRUNEVjaonNpR7SwYQVsI0efUWmLiLt\n",
       "m4R25f/O5auIMuunCD2/fbR9EGHlCI8eDYaL2lc0p+128sWkYm4LVIaXjpEXHLUHCWJOIYNUzYxt\n",
       "w+t6cTFnklKb3N2rEqzLkbB2MuFHxUaaKIO/YZZs/gLUlupfO2wkHIvpo30dAAtAHBZ8UmN8J/Qf\n",
       "VivB+BnXQzfVpZ2lDJEj2IK6OEqUGXFYrvLF4LbZX8GJU8ArbkMQiE05qMKQCBCwJTZudZNggDQL\n",
       "I1ab24leJueViiZ9O6x2LuvX8cGE7mIPdZpJQOk9kqZ+R3U43PJcqKivGjfC7hXEG/8lr2DM6wEE\n",
       "OhjFtlhaQj+4hGhcohRWUHzfyCMUifT0iy/0YcgGtaqok/wyGqDimgd3X2qPRmM1kfadocXQrpfe\n",
       "pW9Eoas43AS8AAACUAGfr3RCvwAAlrmxuNxGqwTv81Q/q6hNdFBqZueaUScI8jKwdqAC7qA9ejQB\n",
       "fcmT0/Cy+watXb5fcYfOK4sKlPAFyX5tOPbgS/bYJF1vcONdTmf2A+2BvxTGFCAAaamq2YADMJUm\n",
       "qWem5FUSkfISk9HLT91MFG2dyTIKeXufcibwfG0aMHtNJRWN7TpVL4mp+J/IlyubpJjkoR26FbHX\n",
       "9oXuZripd0pbiB83PzrFStj7bK3dREcI1KQWiQfvchjw5V0sTgZxQwyf5gpu4F7CT5OZJf/9+c5J\n",
       "sWcincB+RwqUsjGob1A7Z75YvbyaINCdVy4ggV4XQHtpSzIWaNZv30qkK58P2aRN1MTU/kYVF9ki\n",
       "LbzDMO6dqaiFdCvTAtkKNRXxcoHiEsC+T3WSEbqOfCsXzEQqoJFXEQYg7C8g2RVhdFj2w9KyvBhA\n",
       "2idshctu3p3Hud2vf8CIu+bsiGPAzfQ5KWKo49ACxdDyOnuReKilJwIeD5mUB4un3DTPO/rC1Jay\n",
       "vkPO6CiFxUdJseUIz20OXmWA2dZFyON3ed7n00E1oOTUqy+VApqjYQ+9VV8LBQ+ypxnLhapk7V+2\n",
       "VmIoAl/1zKA1SeBSSKUhMOBG74sBXVfFiU8r4zLOJEdVYGZdArC8WWZOZUZkszPWurmJpJl9ZIlt\n",
       "jzGMsQaIQSEgd0nUsaJZug2o/MsNqFbv0NPCZJ+1gADTWkioCIHeDnDbY+TzzH1MF62cVGFaYPD0\n",
       "Iu9Gf1xL6OxgblMTu/rK2j9RED0IgoJ3WZJIyX3UxsywaMAAAAOlAZ+xakK/AACW67mC4QeK8Hkn\n",
       "PMAGpRj5mRiKyAP4UThkaA5fJJR2ik6wk9U2bWPMRz2igMIONrPljtjgqDjfRKkel8iHbF2eKtxY\n",
       "u9m5Uw8bXbKCU4lnh887DotmNNcW3DcmEf30g6zy5yK4q3vicTEcc2g1nVB/2Z78cdys6LHVP9wy\n",
       "gtOlYCGfcoUgKoP7sLavBsE0V7I/bM6w5MkEZ3V8V1bXHVQcGSJsCR/M99z8mwqseG9S36m5Cnju\n",
       "o3LuHtlWHkm3vO4nSWZPOYCgOfmkgYSyH6mFbTHonmnbqEuBSRzezrfPpqyJLNuOJ099+5s0yQ95\n",
       "PAM2+5gmBb3MxVi5FNVL3WgNI785NopOJ0Kr5Ux6khD0NGA5Kgp3Tiday8xJ0pVWl3/1FPbvMUaM\n",
       "YoiOR7FJxOVgsuLMjfDr0pYVmyrpjA9VTctieeh1N6vkFBM3fkZHAyPNPVyADEarzm7CHjVQYOqe\n",
       "FHsPPzohqBcJb2SSEm07seCBPTE1P7viId4Epk9cYCVNxg/1K+LkaUrPsjm7PkPHJVIc3PC3HGoN\n",
       "HngMfwE7r15eoqzxI365GR41Crc3sQPq8rLpha0CWsHQiVpZE2UCfWe6u4BnJm9wg4TlKe0TmkWP\n",
       "iRMblRirOt7uW4xWqXL/bV5Ej2lGsuXV7wb4rfwkGv+3phSet+Yw7dNaKrXvdm8ky7+XLub1gIZs\n",
       "KMztMtP8w5LtXPfdV6jPsROkWn/+TC/sLVTmhy21hG/IwMReD4EmMAVNs+LvZ3bsN8ZHqLlxO+e6\n",
       "N1m5VWvfh1hBqT1KBJmNgRnvuj8imyf/ASkjvDZs7j7VM0hUYPVi5aLOK8v8Y2m1c90hb62nhJdK\n",
       "bsVsKoOJkP65sclVAtxBp85zL7wtryZSL2spjRj94/ajljYeqfTPzMQ+OC3kPIZf2duFQeZtaijV\n",
       "sOjmJiGpL/68HANYjL74KFbPo+9sV+IyviD0/eTFNZua+J6Ppu5v6GLRqsKgpxEb6ita6MNd4QBD\n",
       "Y8XRClqLER62Amw1+KmQ9U6to1Pzah+cCI+dosRiQjgQvuRRoIdqCQIQjuHZkeVa1aM/TJ8xV8ke\n",
       "lv8+qd8Zo/e7SBIW+TmTFQXH0BrIzis7YQY9GJPcIec2YmU0KSUtxYpNEjbh3wrdLXoGPn0vxwXf\n",
       "2vHSpzSmkxNYGBK0XF9AJ/N6ZLo6kFfZ7Fyz8dW8wF8G7Dcag5eAqEzOc3Xl6FrR14lkjOPkXFgY\n",
       "FMJvAAACpkGbtEmoQWyZTBRMK//+OEAACtcndqPUN582jyAAJVzSxh+FdFl5RVgn1CTS21/I8gY1\n",
       "XPTt8uUSEHj+YMmUkLwznpGrKDstXwg3o0jBP0mTkYhBLhn6Z1OHsy93xmAGozA7iIRf4UAewiLO\n",
       "z9i3Xm5GPDicaxmjzYIvk0a4yhKfRuCIqb3q5VvXWapN3BtQGaee8KUN6mAhVjb+6EB1qYaUpftS\n",
       "8QC4l4bfYMxcGFNX26sso7jpTC81pZtxFZepiD/j8m5SqL1d6gEqtRlP9DPJquWex4JG+8lIVVyc\n",
       "836sKwRMHMOkqfX3dEkRuMrNXiHYT7ocpLG8num8vEHPULGoaVLMJeKJJENYE4DTEFDO9XGhB3eo\n",
       "tXLhXcy/FIefh7R1SAbCDnsEu7NaJPwb2R3EBA2bysv60jJsRPLZtGT5pDrPKTXbRzSlUdXFLWns\n",
       "G40LQKVAGT51twBQ3hd7y/FuWaQ/cGmiBP1nNE9Pe7sTnlQZBI3EbGlraDbn95GqGtUdkrxv5TgY\n",
       "7IqWGnj6j7TNP5cqipPXPDuuwnxRBo6h3LKfwG9v5TcgN5Xh6xeZoMBjzMTp1vuvFfj5/kc5fCKh\n",
       "zrYwiPdfAHifIKce9o4iQQuBJlsY5nvehJws45lVp3oJ5c7CRJlRo57YTX+Pnul4LS6rxVyBjK5M\n",
       "E5FVftzCbatcbL1vRQ7ClVP+6l5hpN9vRrmVBYLnoHfXbfyXfsJKPZdZk0pxWnDFJ2+atBNYxIeK\n",
       "INllFiV4u2NIlGlRnzheO2ILjgW/UAhM4pmZdVV/FdxOpMok96wuy8pm/L7qy6wgN7eGUsmG37q5\n",
       "6g1qeFrVlohDPEy8UBf5M0SG3YXENbDMuLHgDG6Pyhi9wl3I5B7ORFDJO3eVabslLENecbyBpy0R\n",
       "nwAAArgBn9NqQr8AAJsGU+KFAhSdgDyszRhSgA+HOHy3hSehHcsjGiwffyzO9RQDXKNNURNn9D7a\n",
       "FBDOXIt+dGDVJyCSXYeujPIH/liaOjdiDqymamRYhjnESU2yG4f4Ojot/6nBJCUaDfv/p5xOuJ29\n",
       "cUR5cSUHe2a+awzz7FsAqf+7vGA2rlouZ0/2TJZAN7uqnux1/R8LodOPCxPUfhDkO4sf+IshdQ8g\n",
       "zHi+ibqAKBVi+pre7zqIHKtbCyIZf6eot+5Ze97/oeAm7uXd/P4bgZqic+Kl1XjomaSPZ2plAcFy\n",
       "5BFiSfb6+NYVRwRQZHU3ctePgAxgkzbVwghpk7zWJiV/oI0QkK7Jl/a4nLEtPBsuYbwq1hil+wuo\n",
       "RxwIG/70zVtNR/VFNZGrTok1kyMepcG10V0nGI9f+j7/P5JSZjxojZol3bxo85oYC2sS0XqcKJvM\n",
       "+JjEXtGLp6y/0mlGIR9KhKZEwCeNkZmmQsKcmyda9Qx2YL4sjthrt7DYhW334jM95OH/R1wrr+QN\n",
       "EO2lUX9BYszQlu6QEjBpnlDM1+UWr/moCGwiXUuHxiJfsCNAKXx7XctmvnQpj1oYNoDCuf7ciVbR\n",
       "e+wfR4kXfGnp5GjZinkhSNYeDZM16z7E7dENFLzXQL1DMq3iWvnDrK46GBhJlxMdp1gqDcnm+fDz\n",
       "RBWmekD4koyr9xDlTAVuyLNNqtcl00fxGGC4xOns6JQzKPmPn+AQLiyGrpgkhU3NRzgj/+j8ws42\n",
       "OZG/Q5j1VQubOCd0bUFctYXg7PfPMk+eKDKKC/mGozd2V7++SfNRyTrfkH+umtL1Phxb4aCVGOKB\n",
       "E/mGMSuIsdbDIElV7pnNeBKJnui3f5lZgRgFHLXy/lpuZ3Q44eApnCJ3dPcn/imVB+qt3OKG9liN\n",
       "IcyvXRLZ1tO29DgY6icSN6AAAANAQZvWSeEKUmUwUsM//p4QAAFI/I/495+dJDO2AAdQekU562qb\n",
       "ybEeYyF4jEDpWmhuX1Nv4MJEZ6K5oWNbBn2kkrfNAl6842qh4s96Ow7flkmj/XHtCl2OHIssZTgp\n",
       "w9Yout5h945I4X+Z2RHXam5p07CaftyQnQ8bGygDQiFY8/wR/fghvzMD/gaavqV/dGgqH74uqSdg\n",
       "bn7ipvw4V09gZHh9lz/qXNVYJ8LckFwjT+gxPPu4sysVWkCDqnZmu9A7PgJ0zFONZW+HPQ57rsES\n",
       "YwiBH0f3Rvg+Vn8Wdnvg7oFPXrdoDDI03vz4v/w/KWLB8/cFhw/G4V8s63oF1JVeGTyt4WkG0DGo\n",
       "lLjBFSy/uTj/jJrl2WFN8CaBF53e/i6UiasMsp+mjNyiOIvpQ+Doh+S+amKXiCUz4ahYVHoCgRxQ\n",
       "cV7t+Bm4bdNk3lWFbmUSQinfWaht12bDpQEhBY8CBo7GEPDbsSNlLgEpizn2H7Y4d/PnaU1WDfai\n",
       "WTsGQQfW0px9EMy9gfiE938fL5vvxYRjlCOXlQsnB0wPf/vsD6/W8fDFvaGw49/7Q2uc2K+eRiV5\n",
       "H0xZK3RZ5rwIfPCluWkkZNBbuSeNnW2S1EyL70lcxm2+WqcPW44fHXMBvA/1AmoLTc6cF8Bw0hMO\n",
       "oHMJWlUN7ecmNV/iIfHXg8I0rHDegJednravPqpxBae0ZwOVJfNMXGclPEf3RwlFx1bPKKrIqTfp\n",
       "YLHV6V+1EMl8gCxDGjVsqj9iWrk9lZj+SGzlI13PPC0L0sF2G+CgyMwcnvynQovDP5ksA9wTAYUE\n",
       "i42LXOLgCrMdmDp6CEbT6D9S76+3g1PO/5I6klexIyKPj9NapD+KHmboG+0kImC5TvocZmelc/hj\n",
       "Z4s1bSgbvEY8K5kTr1e8pc1vHkvnJ2d3eY9Vqwfzi4qkGzNHpFpkKjlMZJUzw4lzg09RG439DFge\n",
       "gU6DtMU90Mb1pmIGkDNmtM87pyPDHSK02gnCJ1qrVdNtTDMjZOuI/ebdj/9juF0+0tMdO3kxKZi7\n",
       "9WvhAW+qi6U/Fzh7OfYhyvcHJ5DfStI3DOVmc9d4Njvc18+dePWjK4CDZ1THTemDVLJWoXaz0wAA\n",
       "Ae4Bn/VqQr8AAJqyL2oJC4E0FkozH+aswYmA33sfDbgFCn0kR9UHxUXJt0C5+c2RS8bIAAHKawAh\n",
       "f8A/oauoNwxgl7HVN4y6ntUMsBvTpYoMrjezWfG6ViKv9dGwJqglowgERux6dBf/URNu55TjU/fE\n",
       "SlokjEeLGF7/jKLu1GZXmSPPVYubKBt+ih2KeteIGcJFRbE1U9e81BuLeXP3K1PQh/cg4q17SU4T\n",
       "pLDsfUBv1n8BuMBAq5Xxln+DgVQw03lIikiXcljCnVNaDqHOkTZX6VZ9oGDKNBNy7F8PWLItEaoi\n",
       "tGMdJuqQt3dG2RZWu6rRLehXWqV96ShUTT2rLueJXMpAU0bRmbkrridygYctKMgHJxVpI0PH66dr\n",
       "ouQ57twRXrqFBo5qX+OXgV6qFYjpLAeVdqImzNziopxeqxnegv/QUlYUBwA7Ixf78XHWVzimcJp4\n",
       "3wJhb6EdwQ8XlIvGMOywkwm/7a+xV2kS826fD08rEYRAOhvzwjFJ7qWrWOMOJV0ZT/CH8PhzLmlS\n",
       "B8+iEmWpI/fCk3rqXNYSIjYMSLDXwCPF7OCJjQErSzqiIMbJBVd25LvUUDiCv3EX1vpCvmRh9qYU\n",
       "tHxzum4e+cTzrcoSPc43DAALECpga+ORuo78CWNkTlt+WHjC9xu7aAAAAnZBm/hJ4Q6JlMFEwv/+\n",
       "jLAAAt/MuYzHraou5qtWdH88RAAuM99l2wpjVoWqQAPrV+yfxpMxkhrheFHLSec95Kr9VMXuczy9\n",
       "MeFvRxs+zvHjnHaZDNKk5+JkRE/9qreHOAwbCLKrcwDF1JPN2M7y1UCq8QfRk6jNayUwvyFNENPi\n",
       "e/oTPQyAjHr0ue+ZK/f/+iSV53q63Zcqpj1sYZ4Mcm4XnqmZmFGs2nDYqbTOsMFTsH6vN3cRMt/n\n",
       "VUdUP4/RHo1eiolR9bpnfLNgz2fl6uoTAe/m98+Q0IKHXu7TXi2OoUPq3yQ+GjL141j1SBbcp6Pr\n",
       "SRCfnnRHnNhpk5dZ3hn8Dt9IUd5W96YLUPISk5yohZjCrpI3aleF2MsfwYbp0JUYbafbDLnjRQMf\n",
       "SfUJ2VClFkXNi1Z5Xf9aFu5Ov/AQ4+Dvsac0hpA+2QnyNf/I5s8kwy4v+8ru5CZPNFaqD5PmR7mr\n",
       "z4c/pBNq0R1j6HvosJbLcQXwhFrXWoeZH4DR4n3qqfhP95q46HFAuQVslNdkI7YF1gyyL77PHgrw\n",
       "DtZdIMA4DXeWYaaPYnJavCS4qEYRm+XktwpXEUHP0griHs/JTJ6jfr5syAHNgrQspqm662CJ7r1Z\n",
       "JkPJZ7qTSSUc3y5KHVEKHXBnNwTXFW2iKjoV2LXU0RrihfT+IWAyrbW/ANhF/uAbyJCBmOVdKss1\n",
       "EvR9ueeN8/4RjtmyGVtaHirrXb/TJ3XqoT+5KkWlFJ6mT5+4ZeCaqGv7OTPa9BYcryk9rsEoVL5C\n",
       "V1sfWkVtdAoDTZTtuRnEngt5qCwVhlPTnGnAAD99FNYT5tfDmd7Xo4SdxM2ECykAAAGlAZ4XakK/\n",
       "AACa4cFHfSSCiP859SYjxgZQuD8pVmjCyDx6GeKjcDvk3pfXKxFZeRwviA8FVkOlwAc3Z/mKmieg\n",
       "waizmfLWf3hLaSo8lEPjZYUOGa2rX2Xo8jbzUfwF7gtQMHj37S3nGaawkXUb1RK0X8qsmRZGgrqJ\n",
       "gAfGeR7FjlP12JAYVyiFXQGLNldkYuUxQ1s1QSWD7j/ZNzt+2jQbg847UPEt3FCWQumvVcDpyLsV\n",
       "kjH43kaWjOB45zaM6Zl8XQYNjY0T7HmIwhH7OeF4sEEDkSWWwHiA2R+f4uZHcRqK31BTwNbVkZSp\n",
       "LQC/QEvhIL+FGSKnn8BxTr8jE8z4AVjx+YbA79YFmz5RVyIgAyTKq4Ps8kqFu29/Md1uQBBQFwDP\n",
       "2jhrB8DLftQ9XIjoFs11umaNL+h+iYp4jPGYKSOzl6aZZede4zSE7VupHlDFcCUAzuWEny6o9Zve\n",
       "BI2T5pTsUYsiI+GhvyeFGDPD4B+Kre0m7fUpf2u86grlKlPH8KCTkE+t9Iausd03PvKtSDuQCxj6\n",
       "jLCW8/HQ7yA5Fuf8Ubg9IQAAAflBmhxJ4Q8mUwIV//44QAAAo9vS43+R0wAs3FLH1Awqo0byD8Xd\n",
       "3cwQ7o3HFx71yH7XHef86gIzQ28LB5siACO3C9J6CPIazViUG2tsAuCB2XhBLriOsT9DCfazgpXo\n",
       "u1YeSZv2WDhJ0g8PKzFlDeT5EY4tvugPHP3VQ8hdT0h5XVM+Fq3rnAdCHh+zZaIq/2qic1gCcO28\n",
       "35LTjPAeeJu7t3hb0X4KdQ4Dm//bQYfVK/xh5sXLlSlagpg02kKx42H/Hcb0q2kFQkyF3Y+W0j2T\n",
       "a3n4gUVO8XfuJ68026rBNri+mOR0IH731fBl2g03FuaBdpG9AooE2yqQ5dm8Xk++m7d5OkqCN+77\n",
       "TvruDocNv/t5+5X09UnFXSlg7TcYXlyruNFZWtp3FFWMtf+TJuFjc1TP3wEw1tTFRZp2hVrdwC2+\n",
       "LvGjRzum5lJl72PGPr5F9YuPCgQwKnHieqwGsREvEcoQ835UFEnv055Vp/KlPolFDCuWhYV1I3Yp\n",
       "GU0w6QLlg8N7ShPNrwB4Gm8cuUvZIMH/x6R9/viOLJ0lCfraVODB5zBFhcJzL9nhkG1vQMQti4Vs\n",
       "UyRMBlzaAwRHl5OEg6cUb56VYRoyK43jdDujK5GMl+zfe61Io5QRm8QO07yXuHa238nnjGkjQAwy\n",
       "kIq/voZoBmYrhviAAAACD0GeOkURPC//AABxYA6t4O5LPvbd8AF0l562xk9bybn2mUraGP13Pz0t\n",
       "dc42Hfbbo44TsmPaTd001j0ZXtPRfyzGdBOYrVm99T1xiwo50vXNTqMYaTiRLvGuOnnc12ILieBQ\n",
       "nTQFRpPt8LyF9Fd7JRn9Zl5V6RpXN/SBF2cJdu5fJYJ47RSazIz32A+kuTPLS99hatbKkRIvtTe7\n",
       "NZbT5xZYdNV+xc6d8rD2YQwyM3+CZt0e1Ur0tev2ap//wDKOEtvyp3sPnZDY2IqXLWP5f9QR7MAF\n",
       "iI1GNVqxMe2hPPKkZlTQahgQxdI2jlfXOqKaVqPxjUqSCunFNCrbWoBuiTtu4I7RRkj1k+ar9xL+\n",
       "+puPRi3k13y9InwIhfvrKQiy+U79AbrEHqNfM6xr76p91ZDQqVaHO23wy+cFq7yyzzOoXEPdtU0m\n",
       "Ij7JrN1/4nDg33DflCegBvMOcfOTC9zE1ai9ZMfUtCVkKoL3Xqi9pMJQyGfcYyIgVIWdcoBKcMaY\n",
       "srmhy1GiVjVJlrMcFyVIR9vJ3WCk88NoWtiPDFVVTZNqLnioT7xb62vxSXkjKs9mFunnapZHbZ5r\n",
       "5GuPrGi4xJ7jOBEKy0QlYmCL5l6FOo8zW5wKCM1KGQaf8GSLRAzgw9Ct1NFEA7Q5bwYqlEvfwG9U\n",
       "JhzSi8V12BI8OjqL0+oNWWBeqBL3NyD0mPUeR3cRAAADHgGeWXRCvwAAlpRMb/J34qZ+lBfVCbk2\n",
       "FTy5yyHudInzxTe96cPBhMzsPZ8p3mdTgAvCmhmA2kO50+KcddHYqQr4do1mAbawbRqIH/dxeYmd\n",
       "27qpR3/gGaTJjEk6Mkjaytv2apsO1+OgCyqB18xjcCnFqQ32pMepJbTtvrgEqmn7fd9dOedhcKuL\n",
       "w2szNUJMbIeuQLc9KVHyJMuFFVuvD5bPgSWzPc6mP9qkiyQ7L1thWzQ84IztyAlftSDRL8vmtsou\n",
       "os3VVrzr68RORbyJGaPY4cRc/WGwvoIN1HMOdhOom005wlV6nyOfurTfrhNs3VShcrVbPytQ/vOt\n",
       "U+4BSd+zTS0WruHOyij6XsAPPC/zWP2dqGC1IC3pjnZKljngppwWPPtwY/nIs2f1hMW+C1ZPfU3P\n",
       "Xwn4F6raJrMlC9NdqrX4o9M/1oQwzXMZLRFDHi0pKYlVOhm5bCTtfdIw11Z47bZ78DAKQvm9AM9d\n",
       "wf5MLi5Pmg3tcUfHZqyvXNCNrgyshnj8NNEi4SqPy60RPo7bhTQlQVdoWJRhObO+j7XRMAQnXEyq\n",
       "P1+Xbhwy6Q93hh8bbLBg7huLUdgKP9z/PgcN/MrpnGACXTFSNEQed+AKds+ElWBFLdZo35lJvYC4\n",
       "lvfMUM4bylAKP5m4rrrHig6eL8n+9Y86fY9VeUT/091PpuCJAMgh0EZYczDyP2YTxXXZI1L//rx0\n",
       "B42MPspJEG3tsS4wsvzGSmObXgYdkIAcLzP8kCFKuBR2jZ5/NE7Gsm31wNhRKqa9pc6KD5UNA7Ln\n",
       "/0aGiDXS72m9bWcrR5JbtypykeAWNAtxiMLvRhJnv69+4j4LFM86R9AD5rgjnct7PTJweHmqGdsW\n",
       "U3bXIk9/ZjIymhMd+IFlY5880JrUFGqqQA/tCxQ0E1ODhgM8UJ5+MN1FL8AoTjvLeALWipKC0OXR\n",
       "NlU1khG0e7ZpR41Bun93rq0oC8OAsIvsCdQc2hucruYUdDbQyndZM0N4255IfR3uswHFlz7taVNi\n",
       "1PTenRPYRAa4EoRtx1gtKnJaBqVr2vTjb8AOgKAFR+DFgAAAAsIBnltqQr8AAEFktGnvxcJH/rAv\n",
       "+W0XAAdlZ+zv6xAxDJOpYt3wvvK439mcLVhfF/Bq+10oaXO1a2ey6nB3QrBOhqcSOXRw/xw5+6O3\n",
       "G2+Co1+9vyBDKYbrsV3MD9OEKtGRYtLOe3E4SILdcZL2JuEKxf89RAb8yqOoQggTG5JVBMocMJn0\n",
       "ZFhH++Rt1JA+Xu16fm/wwxWDvygit5+hJttSsAxwY2K6GR0pO1Is4YeObH2W4ACvsDSEILr+47Do\n",
       "k1pxjlGJpUT2Wcfwx1R6mFDPZx2FtWfQj3IExtTba/HCcVJjcouIqaTGxebvxgDdNE8gNl2mokt4\n",
       "FgHG79gSkCcKklN19QgnXP5X2Kj3c+36s/PH0jBYbN2okfYe+LkL89xkEM4CQTDOUIevnUxjIcem\n",
       "foDZMYVhpiTZ3CsXYLKjorG7zEtEwJ/QNf6aMG6Q4V4aW4REwx4ARYlgQiHJgYJ23lVdNA76xOt3\n",
       "rWFcYqzvrJIfSrFmHaWiI2CRDhTLYPLvM0GwMrPIrcH4kes20sZgKpHG8eIs5tDgGqKEgU3fHWmC\n",
       "XnxQRHjQUsOBI4xcxZT6JEEjSL5iJD5s01jMp4pX9CVIAnIw9+yaV/Tz6q+GVQF7eZ/xKXMhu27q\n",
       "IB+/5F4SyvpG71+3kBNkzxM5wpXWjw7zjbFdC/hBPN2B58YpVo7hQGWK5dJz+uNh8UZO9esn96T8\n",
       "aAw9ir4RmQI6xae0B9tQ5EqmooPtnkQYSscPR8atcnQRHifroh7DLAA6Jk2kWnGx2m9Z3OYpkxCQ\n",
       "X0d/qw5C2Bt9TDIr00Zri+pzHFEGLkb1nyhJjZT0aBqXvGeOOFVXLEI0yxnYGCtf6ifjkc395/2Y\n",
       "sbfxOAhI7ZYA74J4roBkymYcZ8ax3QR14oa6HZlx4TRGbWykfN+84yjydKLqKogCdX8s/a24hvNr\n",
       "tBJBAAAD7kGaXkmoQWiZTBTwv/6MsAABCfoQuF4QAqiShXb+1DlyBXAv9UXzCPuP3WGAteeQPp+3\n",
       "0CVGTVCZzon8NAnFSZ2f66KSEwvJ+ZtLSuOK7Dj/K1Lu+KJZbrBw5kD9VRLbVcnfrF5mudn8tCMp\n",
       "lJHpw9r/jzdyI4N2btod67O1JKO6DE5rw4SY0SfNOnxHbBZjGyt8elOZj415dikrJxWUNbkRzJkp\n",
       "9DI8SF3wiRztT0/6CAazhY51iHgroXHzyziDB1x+e7uWNnky1vxXXwlcCa7W1hHcjs/fjfCatzCx\n",
       "vHq3Gd4DriqjpSNYuxqUf9B1Gr91mrxpbo7edy2VK1rgGPMzyo9yoE9mUfmhp4P7LxhpAF33dh+O\n",
       "47bsaPDXZ6Zm+6cop3MOK8rABwOi/7V4jb8k1qmXq1ZR1TnZgQxhB1Op1FKozthz9YH7dkr7fT/z\n",
       "NYIZkt5XrPYEISnQW2/kmYNvzK8xT0UNEmykkXGvKYwkMketjD0URd0OuZtfDbkgsEIDg12WcxxQ\n",
       "f15Rm6pu/olLYG7+Ufdj0nUCsPZv4bUaOmuE7rM9Dtdgunov40RZ75sSN/cJDTq2GA4O8iWrzGlf\n",
       "SVXgdmC9auut4kvpY/o+z6eoPmI4WKqNPMh9swymMl5RRQa/ehKrBUwNfqw9Fm2f42UIw6AV/lRy\n",
       "yD1+q3BZkmSSHio+qviRwQBCzEl3GNjzZF5nYp64fbFd2yeKCMYKg1eFDB4w7+pqoDqp+pVLdsCq\n",
       "zJu2aFy/BEI2ha6xbZNFPOEkO3HNkRYbvET1AnXMJPQp6JAMMOw/w/36lfSGgGRnh7+q4BoHWkpU\n",
       "s7fwZxg3zRnXZ7dK/oIc3INVFbUd0lIFCzNuQCYDBFDW3QWr0UMX9hGZYYUo0TugFOlH5B7GIN8r\n",
       "S4tHUAXHZU9vHFVaiOEJJ2YIzZCtvfspSa1enU36DARrQmDVsYDzHFHzQqtAxhB2twAGuJC3rrei\n",
       "o/8KUzCCsq8OIXkR79lyn5Mp3PPCJGfoyghf2UhBM2TrdKjvQt/qQul8P10gmJG+GcyQIx/wIEiM\n",
       "SQHnrKmhyow3eagoGCAB+w030vAY+E1aOrEbvBOSzFllvZBhtQNZy6d0NGH0X+3Asm5QSBWB260G\n",
       "OeAhwS1Sy2iOXxgzmvhZ7W/QCICgoHKhscNTCRQZ68OU1sKiuel3pjW+zY5sKNukxmAdqLLjDqK1\n",
       "9IrSMVRbuuNFRGIIk/Lrz2yn5sz1eb6WhtK8e1ASdQzJuX8TuHJg1+HHYYQxzY+6xXpwhbGeoecf\n",
       "YHKWUH9lHWOk2NfTbtFuNvOs47f2iCFh53NXCAYrnPHyvjzfZEQ8XxH8jpkAAAOHAZ59akK/AACb\n",
       "BmX9wRVAwJCADbkf08vTxwj6UZDLlETAtvoymKm9mtdpbcYho5Dg/6d1CAx5AtQhzADkmOee0zqy\n",
       "alc/C2mjr/wONCzs7/VYhyq8e3riv23Tjob2BRYDOyBigDC0QPIMqB8szNDnErd0Dopqd+ytmpBS\n",
       "v50zckqnGmZg63uoyXTNHG7ml4yK5qYV1j6HJ1JZYvmR50xuvHknyerJBTS7BN76zcFUVlg0Sf3y\n",
       "WQRFU5/gIXKFnDDmL40xBo0eNMW+rgGyPU+l37e7XnWAJruK/GmSsvZVp3J3lQv0DtqizHqyATx3\n",
       "ceO71jvVNLCCfqJETykKBuHTwastC0URuWuwspFW0DO+8jQeRIcftWgeios0cTedHDk8MZ0Cqd6P\n",
       "2l992W+mu4tySHyAy90CflCrv5xGX6Pv6c8IIHbmFZiC9gJzZwiqpR6/iywU5/KLduqsLMEZcI/a\n",
       "+fHASCOG0KYmUXcTvQcJzPiNzqaLFeSjxptCDqi1y3sFRtyprmR1jZXclF0QDdM/o7nxNdPMTHE3\n",
       "wKj8sz28ylvydBh5+XcrLgaDTXznRKTTG1xRUs6jPAMSan0QQxKlQf6gDCX6pUF2i2sNCjTElN4S\n",
       "gHCS/EDJ732pxi2OTeIiFMVSIzap+uo8bZQj1mWSbC8GA896J+H7tSDhxlY2QVtpLzWwrtwstWhH\n",
       "rVzjcd0ulCvFnZu5A/Y+8NbHw5M/vFw3fv34fkhPcOv5fCWAFTej4vK0PHVE8gq/kVp1OsZJdKsJ\n",
       "6tmWv5ILcTOl45G5a0nN4dVAJFPzniYo/l8czm6n2y2yq/+PxCzDDv32WwV0qJky64ePrRoMwZBQ\n",
       "Jb16/lkaC8kGJtZfUhSrRbq8RozSkkUz8no2EkJN00Z1VcM5XmP5l12LkQJRuO/KVgvgXssMpFNd\n",
       "GQNfAG3HnJrEfH84Zoe1Zw9zmFXneSlksq6z0/ZYAPFg31OHcVXDgkLU9LC6MgyDunqqWJz5Ec2q\n",
       "RsJVfwqtgZTWBeo4Ld0LwB5T7R1pVSN9b1VArUciRDByKobmfMcbfezQ2Pm8jDaXq6/4a0gRbajS\n",
       "YXI8Qiw1rOOin73frYGXMbwSUXFM+NMQyazZYIkSomSSWflBfcFXezLNwzxuMXrKdfqOg14sQ7Fk\n",
       "PYfU9ZjlUaW/ZnVg4VklbV4t4hG2r0wxWgVwi1Px18G3IHOH2ZoIAAAD5UGaYUnhClJlMCGf/p4Q\n",
       "AAFI338FHHsAD8B//hxiPhcExEvL+cf91+OVyVcYvtmmWW1ff3qbh43nj8qZb6p2AX0guR3lcLLs\n",
       "ukg2M9n9GwYHsWsWxFPGQNkxpR1AXb5oQZxRGl9EKSRCLqPyyObWHbPZqcaicFpJLIwRKeFexJhP\n",
       "3JY4nxOPbrlzt3eN/tqoUubIdJmH9h5UqWhTKebdk3OG5uSvRWQSO0r7MXkrpbbSfL/DkQYguCH4\n",
       "GTaTrYsJPx5tKCTrAVZhkVX1tehmReCGzEPWv1SCbHIdgTLuEtGgQ7BICOe6FSYKorg8hBmeytOR\n",
       "3gYXm5D9F4X9+g+y274l9IeuXpFk+M4RzPMKRXQeDMDJjHDrEZKy6GosBhCNOaFzN2uVwQOFeMrb\n",
       "zcews6owzMh0apYtACIGXaFIC/Ysgl8OBUt84SXV2jZ2ZIhtyQGCR+rI8uO/2Y4wkWczPKlDwfvM\n",
       "KNVu48eOya91DfQUhzntqIbyL9/3kZ+MncAxcVFYDX72A2G0C8Sh0sWvMPYE6G9BHKdYR8Ega68T\n",
       "HXPEispJ3Tq0zSnnviv8L4+IJsesrEdVNyoVMFkVN3g5R8Fhnl7rEsOlamvsmF4WouH6+5xC2Gku\n",
       "aP8saHaRUm9+qoBFtw+Zck5Fdh3fPde/r/Aq6i+kfceGvn/hIm/o0sE/wVNnjrmxSs2DLu6j6TGT\n",
       "SCwc1x/Lonl8zxmiweuWwKuV4TLJye+8hAswJFOZbfueoFsnUAmibtgelpxqCD4f1xcY8JauKa80\n",
       "jtFBX5rUyCbLmRJmbOXHMQwN0LE2gEzFrpLZ/J0xV0zSmCHcofRQbWILYH+/siFzmLqq9AjA4oEt\n",
       "Vv63FumRv+hs51KmRog3b3Zp1JcjfxP++3YSjv4FcZ+Ral6PUaR7jAjcvsg9egce1T9Dj2bamV3j\n",
       "yjL9ix7Iq6j/jrZ/JLfjoLpIZFavzWdwPlp5csTLdWa683EKwVT3tOfCZK7DX2yR5ZS8ja8vnX9A\n",
       "I7zxQWAeBLXzY6EZa2RdBx5kCiQ92sHKA/cGlLPMbfonqqUDJ8TDeFDRKUWWOwkSheOwhOHFrrNX\n",
       "JaSPsPaKRM3PPKxIk/yWaCG3cHtrQ5WRw8EzT+QpZHJR0pg++EBGt6Ibq2+OPK9KUCVlHWP20Sdj\n",
       "5uVak3CKjcMQhCK6SxAUk4GIIIez9uDOqo0D2hOntKxeZN7HTNUeOO89FvH5QpKLTDGxWeCKFszQ\n",
       "TwwGqaq+bDU+1KnDitgzF8WyewYsjzCiHgeyHp4cFW9pvWPTbu0ozZZH+0pist7DOcKsVteRsBBO\n",
       "oJEbUsJbHYW5JOYQd0AAAAHLQZ6fRTRMK/8AAJr6x6YblGEysOtjwAIDLa54Mw9ScWBVNSK97NSn\n",
       "hzdPqjWiqThbytI/rXbSmTT02i3YRer0LN3rGpskJrVJiVzlYXN2fhw3Vg9VeE6VPruE2nt8T7Ij\n",
       "nKlwNcwdpgero5wGrYiUdba75+GGPoxPmZ2GXZ5UAhhtcxTy+YLkUKs1WYSDdHziISKKtNQEyRkQ\n",
       "bzWBEaoKwb4Ht11ZhZBrVZx6tusPcEyosemQD++0bsVLfy/YdUvywaqoCwegS9hPS1UNMYqYMkVH\n",
       "mvOcGRTBw/nEL5SbTDni8Is921qoJxMYL+/RgYgqq2chNgq6sA1/BkG/W9Xt+NXBDNwQzsgGKl2G\n",
       "HL14ZBKdBdGDmqjTZjlIYReKtjJnqN8cOUWMaDeDdOAUZBwKTf2VlPF+7APmbZMjEHuamk7hrM4q\n",
       "Cnn0jWvbAwpNekMdbYOACw8FkvdhNn+LohD/pN8hHqgOWmO9vzEDc+Vw+hiH7v9YWozvBnBn9UFp\n",
       "CY+D74Jk3lDhzXZbVVXWsHividqvc7rubhykW5uqwVYjL/LxL2X+DTUqDMkbaFTKSOZMXEbhiGFO\n",
       "ejlKgwQFRqf5dlZ1e8CKzGZZXDphAAACbQGeoGpCvwAAmuaCv2G/5ohUAKyyCHwwBtivdG3EG5ij\n",
       "IJ60AZ9I+39BMP+HLdF7FR8braAO6n4gfH6BzFrQq1rYOZQ8s7KHkh7Mmleab5FmrCntP6T8FabY\n",
       "mYyXkzuxPDQrq+zXBLnhzPWyZKZR6cGKS1LcIRWXa13z99xw0PpGjhHspUJmdHh5m0Lt9k9+5fLL\n",
       "FmNHYkP/tqHgjt/AL9f1dXlz9FZpYUHXEtiw7bjwVifbePKZidKGqUrkAV90HBWlwejdQ3LZ4qey\n",
       "Z27reU15yg5VMyGvAve4/mRtJrE9L+Uji/NWintDa1IAHRAp/lxDHXEPbNCcgG1TPTLu2m2+Ya6F\n",
       "2H9RcMqSoLY8sS3fkVi58I4NPwAq+KTAVTA/PyCSY41s6aK0tU/oAxtDNOdw8FIcxv/NLaYdfg0Y\n",
       "Bah/+uwSGCQFABDO/qIAAiO3s1xS7glg7euiqIlvSYZJPf1hGZGsLJeRGyiyu/ppJkjioU5zTNcN\n",
       "KzWk2fHY3DPoYBAm2S9BNv//4Ji3V5RuAsucTRpBrbL91ZUE6XFkezYl1+ryxfeV4kuVZ6jncPX5\n",
       "LRPmAqMbrqzWv7mMBs4OJJcbMiw9BdcyKurD2oHJpGva4/94SH/EzfZDu2/dqbNClDflhNGwvmIS\n",
       "5/k9P2z5N+0hi5SWoFpvOkfnPkgApoBBhdqf3Yw3rtcNu6gO4FfdM1PwfY8Y6+gC1PIPY35UoRzQ\n",
       "EVismHzvTetI6BPpqFiR08dJAJeOFjkXX/XMKQkmaTliAhZQGKLfyAN5qv3QcJRI9iZ9nvQ68Kci\n",
       "lpdU8E2+MW6ApwB/YBRiWEAE3AAAAthBmqNJqEFomUwU8K/+OEAABPgNcs2hFgm4+otuKWatvZy4\n",
       "tounPTi5OAA7N7HUVgJbf2wLC2eZG+ieyAOdmehX4oXAsE5a4D17+C0XqYZ1emQeFLDnNk4Wsv78\n",
       "NOB8qaPblsH8bBHvV+kFUUq6x3lE5KSyRVBkYg72oDYF0+mHy461rtmMiZ/EPjG2/JUCSCYvHq/x\n",
       "Sh6dXmpRZQi02fYmz7iNA4QETU68FOj0Exr/yKmdX76jRLt2Og+sVu9TdWLQTY5VQsaGzmwwNiA0\n",
       "7LDKXp8jkceRt42SJGQoVdN0ohKCYWnxttCCsoo8HHa0LtoqvmfD/L0cUlVKVhO7gv1UiJRGrYrE\n",
       "1uJo8HviLm9pc29g2+eWDaXndbWdOyHiqxRRlmufvwXxNvXLnrYSP13jCH7ioqXp0Et0duSO7Aq/\n",
       "zZh0N0bijfHNGMcxtDKFha1j7XxEVf6WIJ4Br2z18KpZAL3NB/A0r6YBTask/xL6CjgmYwION8dy\n",
       "cERKuGTMeC2HkQaecGrvy+SZY34wRMQdwb8lGW3ybtne4dKwwlo7fuH5ZJ6jJA6QDDgQxDc+HORM\n",
       "cMVEoNmmNV/+pI6OwU5STFMHAwXoVHKCrvvzKxpH6Mdym7jxIwW24NPV7bg95ZTomFbM3hMKHUFk\n",
       "QxUKPHGtA+FACm8izeD+QpCwEEUo4zpjog/nDaqZ/95mDgugwBjKjSjmOwFwowMLN4iCTOvWIjPV\n",
       "7DHwqt4ui7/gMQxFwFQUvgYYHpqGMP9wXki0iw34bY+jtxbzVQaJzyoEz2wzk7RoweZRzwDHnMcV\n",
       "JVA5dI/fX7fv5yinNm6ijJVRaNYqoKdmzCGL2BerAkR4qj+DWRT2ymYiT/qb8a07/lXHuPW4PTd8\n",
       "lbepPFIFN/mLAeoMMBxjc8IPQAQrR38VbgS5GQHwkLRK80VTUL8RzySQAhjTiCuzIOEK6XieNbHG\n",
       "ZtgxJaHO6WE03QAAAr8BnsJqQr8AAJsGZ94blFL3U3aAEbLonMvZE/gidDgErcGPuiZPd3rHAR4W\n",
       "mW2BdxRYFtlpGecMd1mECyefRYreKe/4jSuP8sHWtGX+BXHxSdv4gUu2pTw8pyq7BI9GwD/EI/qy\n",
       "OuvER3UNisDed5W36OmxeAmCdGut8iQqUabONPVxRFKIdJYj3CrXbpQSnvAUz8mcoGzIOWi3OrT+\n",
       "2+lD16rSmf6EtdPORIFlEPy3XAcXIvM98zvwFGNHzCtr5Fk4fdKE+Ymq2SY9T80qhTRw3DbfGtqf\n",
       "6rSQSWfi0LWUHfpPH/vR2f0XtetbnI5/FjyNlaMQypfIn4I5FQ7SYZrAlKoHoUdhPqmWhSohvIrl\n",
       "GBBHIkcGrPUX6UvoPJzWvbIXJnF6CC+mPfqXrSG1ZvhS2wi67yowywAz3DYDIKZwK3oU67b58OG9\n",
       "0k/LUaSmg8ICqYpqKMpTYgdj2Y22ZOzL+DqCZhX6kbi/TtgKTsj0cT56vrAfYFPk4ETze1hb2j5I\n",
       "xX5bFEjCxs3YFyT64h0m7n8VBPyUf7mKi3EPmv9Qiq5SxYgOl9Gh1Ym3ACv1fbp+APnJJjmjjIYa\n",
       "78BteB7Xq3ep54t2JIl6P+owp833tNBEZRVgoDPVz6q8rwZuVh7IQ5rJjT86OmgU2lQUPXTS1V5C\n",
       "euChDm+UxE8fXg3bKjVNrzFN+OnlWw4258Io6adUibdTKpeXx/RC6Whk4AgjuogEFmd3YzHnFkaW\n",
       "ADcGQcGJXOoRtZtDfcIUGoi3i7T9x8IS+dMpUKS6scTgnJnUTSTPhA9LvY2b5tDo4o1WhRR2J6xa\n",
       "D1QBU83gVYndFHl7tLaUcY4toCYR33/O0dktsGAtpU5uwSX8mM4XvFYuxWFoXtOaRhWEhmxkT4H9\n",
       "50BQc6nLF1UPIyXyM7zzt/EmSpVmwsLWkN54ZP8OtcNCAAAHpm1vb3YAAABsbXZoZAAAAAAAAAAA\n",
       "AAAAAAAAA+gAAA+gAAEAAAEAAAAAAAAAAAAAAAABAAAAAAAAAAAAAAAAAAAAAQAAAAAAAAAAAAAA\n",
       "AAAAQAAAAAAAAAAAAAAAAAAAAAAAAAAAAAAAAAAAAAAAAAIAAAbQdHJhawAAAFx0a2hkAAAAAwAA\n",
       "AAAAAAAAAAAAAQAAAAAAAA+gAAAAAAAAAAAAAAAAAAAAAAABAAAAAAAAAAAAAAAAAAAAAQAAAAAA\n",
       "AAAAAAAAAAAAQAAAAAKAAAAB4AAAAAAAJGVkdHMAAAAcZWxzdAAAAAAAAAABAAAPoAAABAAAAQAA\n",
       "AAAGSG1kaWEAAAAgbWRoZAAAAAAAAAAAAAAAAAAAMgAAAMgAVcQAAAAAAC1oZGxyAAAAAAAAAAB2\n",
       "aWRlAAAAAAAAAAAAAAAAVmlkZW9IYW5kbGVyAAAABfNtaW5mAAAAFHZtaGQAAAABAAAAAAAAAAAA\n",
       "AAAkZGluZgAAABxkcmVmAAAAAAAAAAEAAAAMdXJsIAAAAAEAAAWzc3RibAAAALNzdHNkAAAAAAAA\n",
       "AAEAAACjYXZjMQAAAAAAAAABAAAAAAAAAAAAAAAAAAAAAAKAAeAASAAAAEgAAAAAAAAAAQAAAAAA\n",
       "AAAAAAAAAAAAAAAAAAAAAAAAAAAAAAAAAAAAABj//wAAADFhdmNDAWQAHv/hABhnZAAerNlAoD2h\n",
       "AAADAAEAAAMAMg8WLZYBAAZo6+PLIsAAAAAcdXVpZGtoQPJfJE/FujmlG88DI/MAAAAAAAAAGHN0\n",
       "dHMAAAAAAAAAAQAAAGQAAAIAAAAAFHN0c3MAAAAAAAAAAQAAAAEAAAL4Y3R0cwAAAAAAAABdAAAA\n",
       "AQAABAAAAAABAAAKAAAAAAEAAAQAAAAAAQAAAAAAAAABAAACAAAAAAEAAAYAAAAAAQAAAgAAAAAB\n",
       "AAAGAAAAAAEAAAIAAAAAAQAACgAAAAABAAAEAAAAAAEAAAAAAAAAAQAAAgAAAAABAAAKAAAAAAEA\n",
       "AAQAAAAAAQAAAAAAAAABAAACAAAAAAEAAAgAAAAAAgAAAgAAAAABAAAGAAAAAAEAAAIAAAAAAQAA\n",
       "CgAAAAABAAAEAAAAAAEAAAAAAAAAAQAAAgAAAAABAAAKAAAAAAEAAAQAAAAAAQAAAAAAAAABAAAC\n",
       "AAAAAAEAAAgAAAAAAgAAAgAAAAABAAAGAAAAAAEAAAIAAAAAAQAABgAAAAABAAACAAAAAAEAAAgA\n",
       "AAAAAgAAAgAAAAABAAAIAAAAAAIAAAIAAAAAAQAABgAAAAABAAACAAAAAAEAAAgAAAAAAgAAAgAA\n",
       "AAABAAAKAAAAAAEAAAQAAAAAAQAAAAAAAAABAAACAAAAAAEAAAoAAAAAAQAABAAAAAABAAAAAAAA\n",
       "AAEAAAIAAAAAAQAACAAAAAACAAACAAAAAAEAAAoAAAAAAQAABAAAAAABAAAAAAAAAAEAAAIAAAAA\n",
       "AQAACgAAAAABAAAEAAAAAAEAAAAAAAAAAQAAAgAAAAABAAAKAAAAAAEAAAQAAAAAAQAAAAAAAAAB\n",
       "AAACAAAAAAEAAAoAAAAAAQAABAAAAAABAAAAAAAAAAEAAAIAAAAAAQAACgAAAAABAAAEAAAAAAEA\n",
       "AAAAAAAAAQAAAgAAAAABAAAKAAAAAAEAAAQAAAAAAQAAAAAAAAABAAACAAAAAAEAAAYAAAAAAQAA\n",
       "AgAAAAABAAAGAAAAAAEAAAIAAAAAAQAABgAAAAABAAACAAAAAAEAAAoAAAAAAQAABAAAAAABAAAA\n",
       "AAAAAAEAAAIAAAAAAQAABgAAAAABAAACAAAAAAEAAAgAAAAAAgAAAgAAAAABAAAGAAAAAAEAAAIA\n",
       "AAAAHHN0c2MAAAAAAAAAAQAAAAEAAABkAAAAAQAAAaRzdHN6AAAAAAAAAAAAAABkAAAKSgAABqIA\n",
       "AAPfAAACNAAAAgsAAAKjAAACnAAAAvwAAAHBAAAEoQAAAxAAAAI+AAABogAABHUAAAJdAAACtAAA\n",
       "AlIAAAMuAAACfwAAAn4AAAMhAAACpQAAA5kAAALpAAACXAAAAjcAAALPAAADJwAAAo8AAAM7AAAD\n",
       "vAAAAuoAAALFAAAFOQAAAkYAAAH1AAACRQAAAuAAAAH1AAAC6QAAA2gAAAL5AAADJAAAA+UAAAIQ\n",
       "AAADhwAAAaQAAAMHAAAENQAAAk4AAAOpAAACmQAAA0wAAALOAAAC4AAAAjYAAAL/AAACdgAAAvwA\n",
       "AATgAAAC6QAAAvAAAAKRAAADMAAAAj8AAANRAAACjwAAAtIAAAQnAAACrgAAAYYAAAOMAAADDAAA\n",
       "A0cAAAK7AAAEMAAAAwYAAAMWAAACygAAA1oAAAK1AAACVAAAA6kAAAKqAAACvAAAA0QAAAHyAAAC\n",
       "egAAAakAAAH9AAACEwAAAyIAAALGAAAD8gAAA4sAAAPpAAABzwAAAnEAAALcAAACwwAAABRzdGNv\n",
       "AAAAAAAAAAEAAAAsAAAAYnVkdGEAAABabWV0YQAAAAAAAAAhaGRscgAAAAAAAAAAbWRpcmFwcGwA\n",
       "AAAAAAAAAAAAAAAtaWxzdAAAACWpdG9vAAAAHWRhdGEAAAABAAAAAExhdmY1OC4yOS4xMDA=\n",
       "\">\n",
       "  Your browser does not support the video tag.\n",
       "</video>"
      ],
      "text/plain": [
       "<IPython.core.display.HTML object>"
      ]
     },
     "execution_count": 17,
     "metadata": {},
     "output_type": "execute_result"
    },
    {
     "data": {
      "image/png": "[encoded data removed]",
      "text/plain": [
       "<Figure size 640x480 with 1 Axes>"
      ]
     },
     "metadata": {},
     "output_type": "display_data"
    }
   ],
   "source": [
    "spike_data = spikegen.rate(data_it, num_steps=num_steps, gain=0.25)\n",
    "\n",
    "spike_data_sample2 = spike_data[:, 0, 0]\n",
    "fig, ax = plt.subplots()\n",
    "anim = splt.animator(spike_data_sample2, fig, ax)\n",
    "HTML(anim.to_html5_video())"
   ]
  },
  {
   "cell_type": "code",
   "execution_count": null,
   "metadata": {
    "id": "dicJdyG2obY5",
    "pycharm": {
     "name": "#%%\n"
    }
   },
   "outputs": [],
   "source": [
    "# Uncomment for optional save\n",
    "# anim.save(\"spike_mnist_test2.mp4\")"
   ]
  },
  {
   "cell_type": "markdown",
   "metadata": {
    "id": "JgPZBNIaobY5"
   },
   "source": [
    "Now average the spikes out over time and reconstruct the input images."
   ]
  },
  {
   "cell_type": "code",
   "execution_count": 18,
   "metadata": {
    "id": "e4ikMCQLobY6",
    "pycharm": {
     "name": "#%%\n"
    }
   },
   "outputs": [
    {
     "data": {
      "image/png": "[encoded data removed]",
      "text/plain": [
       "<Figure size 640x480 with 2 Axes>"
      ]
     },
     "metadata": {},
     "output_type": "display_data"
    }
   ],
   "source": [
    "plt.figure(facecolor=\"w\")\n",
    "plt.subplot(1,2,1)\n",
    "plt.imshow(spike_data_sample.mean(axis=0).reshape((28,-1)).cpu(), cmap='binary')\n",
    "plt.axis('off')\n",
    "plt.title('Gain = 1')\n",
    "\n",
    "plt.subplot(1,2,2)\n",
    "plt.imshow(spike_data_sample2.mean(axis=0).reshape((28,-1)).cpu(), cmap='binary')\n",
    "plt.axis('off')\n",
    "plt.title('Gain = 0.25')\n",
    "\n",
    "plt.show()"
   ]
  },
  {
   "cell_type": "markdown",
   "metadata": {
    "id": "6bbbI1o2obY7",
    "pycharm": {
     "name": "#%% md\n"
    }
   },
   "source": [
    "The case where `gain=0.25` is lighter than where `gain=1`, as spiking probability has been reduced by a factor of $\\times 4$."
   ]
  },
  {
   "cell_type": "markdown",
   "metadata": {
    "id": "WpfpKe3zobY8",
    "pycharm": {
     "name": "#%% md\n"
    }
   },
   "source": [
    "#### 2.2.2 Raster Plots\n",
    "Alternatively, we can generate a raster plot of an input sample. This requires reshaping the sample into a 2-D tensor, where 'time' is the first dimension. Pass this sample into the function `spikeplot.raster`. "
   ]
  },
  {
   "cell_type": "code",
   "execution_count": 19,
   "metadata": {
    "id": "KCpsLPySobY8",
    "pycharm": {
     "name": "#%%\n"
    }
   },
   "outputs": [
    {
     "data": {
      "image/png": "[encoded data removed]",
      "text/plain": [
       "<Figure size 1000x500 with 1 Axes>"
      ]
     },
     "metadata": {},
     "output_type": "display_data"
    }
   ],
   "source": [
    "# Reshape\n",
    "spike_data_sample2 = spike_data_sample2.reshape((num_steps, -1))\n",
    "\n",
    "# raster plot\n",
    "fig = plt.figure(facecolor=\"w\", figsize=(10, 5))\n",
    "ax = fig.add_subplot(111)\n",
    "splt.raster(spike_data_sample2, ax, s=1.5, c=\"black\")\n",
    "\n",
    "plt.title(\"Input Layer\")\n",
    "plt.xlabel(\"Time step\")\n",
    "plt.ylabel(\"Neuron Number\")\n",
    "plt.show()"
   ]
  },
  {
   "cell_type": "markdown",
   "metadata": {
    "id": "WvhIdrAZobY9",
    "pycharm": {
     "name": "#%% md\n"
    }
   },
   "source": [
    "The following code snippet shows how to index into one single neuron. \n",
    "Depending on the input data, you may need to try\n",
    "a few different neurons between 0 & 784 before finding one that\n",
    "spikes."
   ]
  },
  {
   "cell_type": "code",
   "execution_count": 20,
   "metadata": {
    "id": "R3kY3uoOobY9",
    "pycharm": {
     "name": "#%%\n"
    }
   },
   "outputs": [
    {
     "data": {
      "image/png": "[encoded data removed]",
      "text/plain": [
       "<Figure size 800x100 with 1 Axes>"
      ]
     },
     "metadata": {},
     "output_type": "display_data"
    }
   ],
   "source": [
    "idx = 210  # index into 210th neuron\n",
    "\n",
    "fig = plt.figure(facecolor=\"w\", figsize=(8, 1))\n",
    "ax = fig.add_subplot(111)\n",
    "\n",
    "splt.raster(spike_data_sample.reshape(num_steps, -1)[:, idx].unsqueeze(1), ax, s=100, c=\"black\", marker=\"|\")\n",
    "\n",
    "plt.title(\"Input Neuron\")\n",
    "plt.xlabel(\"Time step\")\n",
    "plt.yticks([])\n",
    "plt.show()"
   ]
  },
  {
   "cell_type": "markdown",
   "metadata": {
    "id": "1lxp91nlobY-",
    "pycharm": {
     "name": "#%% md\n"
    }
   },
   "source": [
    "#### 2.2.3 Summary of Rate Coding\n",
    "The idea of rate coding is actually quite controversial. Although we are fairly confident rate coding takes place at our sensory periphery, we are not convinced that the cortex globally encodes information as spike rates. A couple of compelling reasons why include:\n",
    "\n",
    "*   **Power Consumption:** Nature optimised for efficiency. Multiple spikes are needed to achieve any sort of task, and each spike consumes power. In fact, [Olshausen and Field's work in \"What is the other 85% of V1 doing?\"](http://www.rctn.org/bruno/papers/V1-chapter.pdf) demonstrates that rate-coding can only explain, at most, the activity of 15% of neurons in the primary visual cortex (V1). It is unlikely to be the only mechanism within the brain, which is both resource-constrained and highly efficient.\n",
    "\n",
    "\n",
    "*   **Reaction Response Times:** We know that the reaction time of a human is roughly around 250ms. If the average firing rate of a neuron in the human brain is on the order of 10Hz, then we can only process about 2 spikes within our reaction timescale.\n",
    "\n",
    "So why, then, might we use rate codes if they are not optimal for power efficiency or latency? Even if our brain doesn't process data as a rate, we are fairly sure that our biological sensors do. The power/latency disadvantages are partially offset by showing huge noise robustness: it's fine if some of the spikes fail to generate, because there will be plenty more where they came from.\n",
    "\n",
    "Additionally, you may have heard of the [Hebbian mantra of \"neurons that fire together, wire together\"](https://doi.org/10.2307/1418888). If there is plenty of spiking, this may suggest there is plenty of learning. In some cases where training SNNs proves to be challenging, encouraging more firing via a rate code is one possible solution.\n",
    "\n",
    "Rate coding is almost certainly working in conjunction with other encoding schemes in the brain. We will consider these other encoding mechanisms in the following sections. \n",
    "This covers the `spikegen.rate` function. Further information [can be found in the documentation here](https://snntorch.readthedocs.io/en/latest/snntorch.spikegen.html).\n",
    "\n"
   ]
  },
  {
   "cell_type": "markdown",
   "metadata": {
    "id": "enzqRvuNobY-",
    "pycharm": {
     "name": "#%% md\n"
    }
   },
   "source": [
    "### 2.3 Latency Coding of MNIST\n",
    "Temporal codes capture information about the precise firing time of neurons; a single spike carries much more meaning than in rate codes which rely on firing frequency. While this opens up more susceptibility to noise, it can also decrease the power consumed by the hardware running SNN algorithms by orders of magnitude. \n",
    "\n",
    "`spikegen.latency` is a function that allows each input to fire at most **once** during the full time sweep.\n",
    "Features closer to `1` will fire earlier and features closer to `0` will fire later. I.e., in our MNIST case, bright pixels will fire earlier and dark pixels will fire later. \n",
    "\n",
    "The following block derives how this works. If you've forgotten circuit theory and/or the math means nothing to you, then don't worry! All that matters is: **big** input means **fast** spike; **small** input means **late** spike.\n"
   ]
  },
  {
   "cell_type": "markdown",
   "metadata": {
    "id": "d5yZdcX4So-W"
   },
   "source": [
    "---\n",
    "**Optional: Derivation of Latency Code Mechanism**\n",
    "\n",
    "By default, spike timing is calculated by treating the input feature as the current injection $I_{in}$ into an RC circuit. This current moves charge onto the capacitor, which increases $V(t)$. We assume that there is a trigger voltage, $V_{thr}$, which once reached, generates a spike. The question then becomes: *for a given input current (and equivalently, input feature), how long does it take for a spike to be generated?*\n",
    "\n",
    "Starting with Kirchhoff's current law, $I_{in} = I_R + I_C$, the rest of the derivation leads us to a logarithmic relationship between time and the input. \n",
    "\n",
    "<center>\n",
    "<img src='https://github.com/jeshraghian/snntorch/blob/master/docs/_static/img/examples/tutorial1/1_2_4_latencyrc.png?raw=true' width=\"600\">\n",
    "</center>\n",
    "\n",
    "---"
   ]
  },
  {
   "cell_type": "markdown",
   "metadata": {
    "id": "DqJlK7AhjGHw"
   },
   "source": [
    "The following function uses the above result to convert a feature of intensity $X_{ij}\\in [0,1]$ into a latency coded response $L_{ij}$. "
   ]
  },
  {
   "cell_type": "code",
   "execution_count": 21,
   "metadata": {
    "id": "J06UgGHKTkea"
   },
   "outputs": [],
   "source": [
    "def convert_to_time(data, tau=5, threshold=0.01):\n",
    "  spike_time = tau * torch.log(data / (data - threshold))\n",
    "  return spike_time "
   ]
  },
  {
   "cell_type": "markdown",
   "metadata": {
    "id": "voBg5kujkGFQ"
   },
   "source": [
    "Now, use the above function to visualize the relationship between input feature intensity and its corresponding spike time.\n"
   ]
  },
  {
   "cell_type": "code",
   "execution_count": 22,
   "metadata": {
    "id": "52PwqfpKkK-I"
   },
   "outputs": [
    {
     "data": {
      "image/png": "[encoded data removed]",
      "text/plain": [
       "<Figure size 640x480 with 1 Axes>"
      ]
     },
     "metadata": {},
     "output_type": "display_data"
    }
   ],
   "source": [
    "raw_input = torch.arange(0, 5, 0.05) # tensor from 0 to 5\n",
    "spike_times = convert_to_time(raw_input)\n",
    "\n",
    "plt.plot(raw_input, spike_times)\n",
    "plt.xlabel('Input Value')\n",
    "plt.ylabel('Spike Time (s)')\n",
    "plt.show()"
   ]
  },
  {
   "cell_type": "markdown",
   "metadata": {
    "id": "P972FBhmluv3"
   },
   "source": [
    "The smaller the value, the later the spike occurs with exponential dependence.\n",
    "\n",
    "The vector `spike_times` contains the time at which spikes are triggered, rather than a sparse tensor that contains the spikes themselves (1's and 0's). \n",
    "When running an SNN simulation, we need the 1/0 representation to obtain all of the advantages of using spikes.\n",
    "This whole process can be automated using `spikegen.latency`, where we pass a minibatch from the MNIST dataset in `data_it`:"
   ]
  },
  {
   "cell_type": "code",
   "execution_count": 23,
   "metadata": {
    "id": "m835u23QobY-",
    "pycharm": {
     "name": "#%%\n"
    }
   },
   "outputs": [],
   "source": [
    "spike_data = spikegen.latency(data_it, num_steps=100, tau=5, threshold=0.01)"
   ]
  },
  {
   "cell_type": "markdown",
   "metadata": {
    "id": "AKDPjTvKobY_",
    "pycharm": {
     "name": "#%% md\n"
    }
   },
   "source": [
    "Some of the arguments include:\n",
    "\n",
    "* `tau`:  the RC time constant of the circuit. By default, the input features are treated as a constant current injected into an RC circuit. A higher ``tau`` will induce slower firing.\n",
    "* `threshold`: the membrane potential firing threshold. Input values below this threshold do not have a closed-form solution, as the input current is insufficient to drive the membrane up to the threshold. All values below the threshold are clipped and assigned to the final time step."
   ]
  },
  {
   "cell_type": "markdown",
   "metadata": {
    "id": "VGH7b49SobY_",
    "pycharm": {
     "name": "#%% md\n"
    }
   },
   "source": [
    "#### 2.3.1 Raster plot"
   ]
  },
  {
   "cell_type": "code",
   "execution_count": null,
   "metadata": {
    "id": "kypMtfF7obY_",
    "pycharm": {
     "name": "#%%\n"
    }
   },
   "outputs": [],
   "source": [
    "fig = plt.figure(facecolor=\"w\", figsize=(10, 5))\n",
    "ax = fig.add_subplot(111)\n",
    "splt.raster(spike_data[:, 0].view(num_steps, -1), ax, s=25, c=\"black\")\n",
    "\n",
    "plt.title(\"Input Layer\")\n",
    "plt.xlabel(\"Time step\")\n",
    "plt.ylabel(\"Neuron Number\")\n",
    "plt.show()\n",
    "\n",
    "# optional save\n",
    "# fig.savefig('destination_path.png', format='png', dpi=300)"
   ]
  },
  {
   "cell_type": "markdown",
   "metadata": {
    "id": "Hm1--DHYobZA",
    "pycharm": {
     "name": "#%% md\n"
    }
   },
   "source": [
    "To make sense of the raster plot, note that high intensity features fire first, whereas low intensity features fire last:\n",
    "\n",
    "<center>\n",
    "<img src='https://github.com/jeshraghian/snntorch/blob/master/docs/_static/img/examples/tutorial1/1_2_5_latencyraster.png?raw=true' width=\"800\">\n",
    "</center>\n",
    "\n",
    "The logarithmic code coupled with the lack of diverse input values (i.e., the lack of midtone/grayscale features) causes significant clustering in two areas of the plot.\n",
    "The bright pixels induce firing at the start of the run, and the dark pixels at the end.\n",
    "We can increase `tau` to slow down the spike times, or linearize the spike times by setting the optional argument `linear=True`."
   ]
  },
  {
   "cell_type": "code",
   "execution_count": null,
   "metadata": {
    "id": "ZX8azDNWobZA",
    "pycharm": {
     "name": "#%%\n"
    }
   },
   "outputs": [],
   "source": [
    "spike_data = spikegen.latency(data_it, num_steps=100, tau=5, threshold=0.01, linear=True)\n",
    "\n",
    "fig = plt.figure(facecolor=\"w\", figsize=(10, 5))\n",
    "ax = fig.add_subplot(111)\n",
    "splt.raster(spike_data[:, 0].view(num_steps, -1), ax, s=25, c=\"black\")\n",
    "plt.title(\"Input Layer\")\n",
    "plt.xlabel(\"Time step\")\n",
    "plt.ylabel(\"Neuron Number\")\n",
    "plt.show()"
   ]
  },
  {
   "cell_type": "markdown",
   "metadata": {
    "id": "pZuk6g3NobZB",
    "pycharm": {
     "name": "#%% md\n"
    }
   },
   "source": [
    "The spread of firing times is much more evenly distributed now. This is achieved by linearizing the logarithmic equation according to the rules shown below. Unlike the RC model, there is no physical basis for the model. It's just simpler.\n",
    "\n",
    "<center>\n",
    "<img src='https://github.com/jeshraghian/snntorch/blob/master/docs/_static/img/examples/tutorial1/1_2_6_latencylinear.png?raw=true' width=\"600\">\n",
    "</center>\n",
    "\n",
    "\n",
    "But note how all firing occurs within the first ~5 time steps, whereas the simulation range is 100 time steps. \n",
    "This indicates that we have a lot of redundant time steps doing nothing. This can be solved by either increasing `tau` to slow down the time constant, or setting the optional argument `normalize=True` to span the full range of `num_steps`."
   ]
  },
  {
   "cell_type": "code",
   "execution_count": null,
   "metadata": {
    "id": "RLgntdwSobZB",
    "pycharm": {
     "name": "#%%\n"
    }
   },
   "outputs": [],
   "source": [
    "spike_data = spikegen.latency(data_it, num_steps=100, tau=5, threshold=0.01,\n",
    "                              normalize=True, linear=True)\n",
    "\n",
    "fig = plt.figure(facecolor=\"w\", figsize=(10, 5))\n",
    "ax = fig.add_subplot(111)\n",
    "splt.raster(spike_data[:, 0].view(num_steps, -1), ax, s=25, c=\"black\")\n",
    "\n",
    "plt.title(\"Input Layer\")\n",
    "plt.xlabel(\"Time step\")\n",
    "plt.ylabel(\"Neuron Number\")\n",
    "plt.show()"
   ]
  },
  {
   "cell_type": "markdown",
   "metadata": {
    "id": "1EFIqaylobZC",
    "pycharm": {
     "name": "#%% md\n"
    }
   },
   "source": [
    "One major advantage of latency coding over rate coding is sparsity. If neurons are constrained to firing a maximum of once over the time course of interest, then this promotes low-power operation.\n",
    "\n",
    "In the scenario shown above, a majority of the spikes occur at the final time step, where the input features fall below the threshold. In a sense, the dark background of the MNIST sample holds no useful information. \n",
    "\n",
    "We can remove these redundant features by setting `clip=True`."
   ]
  },
  {
   "cell_type": "code",
   "execution_count": null,
   "metadata": {
    "id": "uowgb4FPobZC",
    "pycharm": {
     "name": "#%%\n"
    }
   },
   "outputs": [],
   "source": [
    "spike_data = spikegen.latency(data_it, num_steps=100, tau=5, threshold=0.01, \n",
    "                              clip=True, normalize=True, linear=True)\n",
    "\n",
    "fig = plt.figure(facecolor=\"w\", figsize=(10, 5))\n",
    "ax = fig.add_subplot(111)\n",
    "splt.raster(spike_data[:, 0].view(num_steps, -1), ax, s=25, c=\"black\")\n",
    "\n",
    "plt.title(\"Input Layer\")\n",
    "plt.xlabel(\"Time step\")\n",
    "plt.ylabel(\"Neuron Number\")\n",
    "plt.show()"
   ]
  },
  {
   "cell_type": "markdown",
   "metadata": {
    "id": "W7gN02QOobZC",
    "pycharm": {
     "name": "#%% md\n"
    }
   },
   "source": [
    "That looks much better!"
   ]
  },
  {
   "cell_type": "markdown",
   "metadata": {
    "id": "XG9erdfxobZD",
    "pycharm": {
     "name": "#%% md\n"
    }
   },
   "source": [
    "#### 2.3.2 Animation\n",
    "We will run the exact same code block as before to create an animation."
   ]
  },
  {
   "cell_type": "code",
   "execution_count": null,
   "metadata": {
    "id": "BjLC1Pl_obZD",
    "pycharm": {
     "name": "#%%\n"
    }
   },
   "outputs": [],
   "source": [
    "spike_data_sample = spike_data[:, 0, 0]\n",
    "print(spike_data_sample.size())"
   ]
  },
  {
   "cell_type": "code",
   "execution_count": null,
   "metadata": {
    "id": "uwVwMVpzobZD",
    "pycharm": {
     "name": "#%%\n"
    }
   },
   "outputs": [],
   "source": [
    "fig, ax = plt.subplots()\n",
    "anim = splt.animator(spike_data_sample, fig, ax)\n",
    "\n",
    "HTML(anim.to_html5_video())"
   ]
  },
  {
   "cell_type": "markdown",
   "metadata": {
    "id": "FONW5DIkobZE",
    "pycharm": {
     "name": "#%% md\n"
    }
   },
   "source": [
    "This animation is obviously much tougher to make out in video form, but a keen eye will be able to catch a glimpse of the initial frame where most of the spikes occur.\n",
    "Index into the corresponding target value to check its value."
   ]
  },
  {
   "cell_type": "code",
   "execution_count": null,
   "metadata": {
    "id": "VgNLaB90obZD",
    "pycharm": {
     "name": "#%%\n"
    }
   },
   "outputs": [],
   "source": [
    "# Save output: .gif, .mp4 etc.\n",
    "# anim.save(\"mnist_latency.gif\")"
   ]
  },
  {
   "cell_type": "code",
   "execution_count": null,
   "metadata": {
    "id": "wrqfPu43obZE",
    "pycharm": {
     "name": "#%%\n"
    }
   },
   "outputs": [],
   "source": [
    "print(targets_it[0])"
   ]
  },
  {
   "cell_type": "markdown",
   "metadata": {
    "id": "sl93G7LwnG67"
   },
   "source": [
    "That's it for the `spikegen.latency` function. Further information [can be found in the documentation here](https://snntorch.readthedocs.io/en/latest/snntorch.spikegen.html)."
   ]
  },
  {
   "cell_type": "markdown",
   "metadata": {
    "id": "Uxe0msNpmpcN"
   },
   "source": [
    "### 2.4 Delta Modulation\n",
    "There are theories that the retina is adaptive: it will only process information when there is something new to process. If there is no change in your field of view, then your photoreceptor cells are  less prone to firing. \n",
    "\n",
    "That is to say: **biology is event-driven**. Neurons thrive on change.\n",
    "\n",
    "As a nifty example, a few researchers have dedicated their lives to designing retina-inspired image sensors, for example, the [Dynamic Vision Sensor](https://ieeexplore.ieee.org/abstract/document/7128412/). Although [the attached link is from over a decade ago, the work in this video](https://www.youtube.com/watch?v=6eOM15U_t1M&ab_channel=TobiDelbruck) was ahead of its time.\n",
    "\n",
    "Delta modulation is based on event-driven spiking. The `snntorch.delta` function accepts a time-series tensor as input. It takes the difference between each subsequent feature across all time steps. By default, if the difference is both *positive* and *greater than the threshold $V_{thr}$*, a spike is generated:\n",
    "\n",
    "<center>\n",
    "<img src='https://github.com/jeshraghian/snntorch/blob/master/docs/_static/img/examples/tutorial1/1_2_7_delta.png?raw=true' width=\"600\">\n",
    "</center>\n",
    "\n",
    "To illustrate, let's first come up with a contrived example where we create our own input tensor."
   ]
  },
  {
   "cell_type": "code",
   "execution_count": null,
   "metadata": {
    "id": "0AOr1kN-r4n-"
   },
   "outputs": [],
   "source": [
    "# Create a tensor with some fake time-series data\n",
    "data = torch.Tensor([0, 1, 0, 2, 8, -20, 20, -5, 0, 1, 0])\n",
    "\n",
    "# Plot the tensor\n",
    "plt.plot(data)\n",
    "\n",
    "plt.title(\"Some fake time-series data\")\n",
    "plt.xlabel(\"Time step\")\n",
    "plt.ylabel(\"Voltage (mV)\")\n",
    "plt.show()"
   ]
  },
  {
   "cell_type": "markdown",
   "metadata": {
    "id": "Ih_UJ526tJPo"
   },
   "source": [
    "Pass the above tensor into the `spikegen.delta` function, with an arbitrarily selected `threshold=4`:"
   ]
  },
  {
   "cell_type": "code",
   "execution_count": null,
   "metadata": {
    "id": "WSNI1zGdtHac"
   },
   "outputs": [],
   "source": [
    "# Convert data\n",
    "spike_data = spikegen.delta(data, threshold=4)\n",
    "\n",
    "# Create fig, ax\n",
    "fig = plt.figure(facecolor=\"w\", figsize=(8, 1))\n",
    "ax = fig.add_subplot(111)\n",
    "\n",
    "# Raster plot of delta converted data\n",
    "splt.raster(spike_data, ax, c=\"black\")\n",
    "\n",
    "plt.title(\"Input Neuron\")\n",
    "plt.xlabel(\"Time step\")\n",
    "plt.yticks([])\n",
    "plt.xlim(0, len(data))\n",
    "plt.show()"
   ]
  },
  {
   "cell_type": "markdown",
   "metadata": {
    "id": "dlmCwN40uPLq"
   },
   "source": [
    "There are three time steps where the difference between $data[T]$ and $data[T+1]$ is greater than or equal to $V_{thr}=4$. This means there are three *on-spikes*. \n",
    "\n",
    "The large dip to $-20$ has not been captured above. If negative swings have importance in your data, you can enable the optional argument `off_spike=True`."
   ]
  },
  {
   "cell_type": "code",
   "execution_count": null,
   "metadata": {
    "id": "WMrUGhRnuN8e"
   },
   "outputs": [],
   "source": [
    "# Convert data\n",
    "spike_data = spikegen.delta(data, threshold=4, off_spike=True)\n",
    "\n",
    "# Create fig, ax\n",
    "fig = plt.figure(facecolor=\"w\", figsize=(8, 1))\n",
    "ax = fig.add_subplot(111)\n",
    "\n",
    "# Raster plot of delta converted data\n",
    "splt.raster(spike_data, ax, c=\"black\")\n",
    "\n",
    "plt.title(\"Input Neuron\")\n",
    "plt.xlabel(\"Time step\")\n",
    "plt.yticks([])\n",
    "plt.xlim(0, len(data))\n",
    "plt.show()"
   ]
  },
  {
   "cell_type": "markdown",
   "metadata": {
    "id": "S_5FajsDvnEw"
   },
   "source": [
    "We've generated additional spikes, but this isn't actually the full picture! \n",
    "\n",
    "Printing out the tensor will show the presence of \"off-spikes\" which take on a value of `-1`."
   ]
  },
  {
   "cell_type": "code",
   "execution_count": null,
   "metadata": {
    "id": "9deHKE2zxGA5"
   },
   "outputs": [],
   "source": [
    "print(spike_data)"
   ]
  },
  {
   "cell_type": "markdown",
   "metadata": {
    "id": "-Nz32V0fxm2d"
   },
   "source": [
    "While `spikegen.delta` has only been demonstrated on a fake sample of data, its true use is to compress time-series data by only generating spikes for sufficiently large changes/events. \n",
    "\n",
    "That wraps up the three main spike conversion functions! There are still additional features to each of the three conversion techniques that have not been detailed in this tutorial. In particular, we have only looked at encoding input data; we have not considered how we might encode targets, and when that is necessary. We recommend [referring to the documentation for a deeper dive](https://snntorch.readthedocs.io/en/latest/snntorch.spikegen.html)."
   ]
  },
  {
   "cell_type": "markdown",
   "metadata": {
    "id": "mxrGoLIjobZE",
    "pycharm": {
     "name": "#%% md\n"
    }
   },
   "source": [
    "## 3. Spike Generation (Optional)\n",
    "Now what if we don't actually have any data to start with? \n",
    "Say we just want a randomly generated spike train from scratch. Inside of\n",
    "`spikegen.rate` is a nested function, `rate_conv`, which actually performs the  spike conversion step.\n",
    "\n",
    "All we have to do is initialize a randomly generated `torchTensor` to pass in."
   ]
  },
  {
   "cell_type": "code",
   "execution_count": null,
   "metadata": {
    "id": "-Q_7uj0vobZE",
    "pycharm": {
     "name": "#%%\n"
    }
   },
   "outputs": [],
   "source": [
    "# Create a random spike train\n",
    "spike_prob = torch.rand((num_steps, 28, 28), dtype=dtype) * 0.5\n",
    "spike_rand = spikegen.rate_conv(spike_prob)"
   ]
  },
  {
   "cell_type": "markdown",
   "metadata": {
    "id": "KOy-NZ5YobZF",
    "pycharm": {
     "name": "#%% md\n"
    }
   },
   "source": [
    "### 3.1 Animation"
   ]
  },
  {
   "cell_type": "code",
   "execution_count": null,
   "metadata": {
    "id": "yCIwKN0WobZF",
    "pycharm": {
     "name": "#%%\n"
    }
   },
   "outputs": [],
   "source": [
    "fig, ax = plt.subplots()\n",
    "anim = splt.animator(spike_rand, fig, ax)\n",
    "\n",
    "HTML(anim.to_html5_video())"
   ]
  },
  {
   "cell_type": "code",
   "execution_count": null,
   "metadata": {
    "id": "kx-VKWxFobZF",
    "pycharm": {
     "name": "#%%\n"
    }
   },
   "outputs": [],
   "source": [
    "# Save output: .gif, .mp4 etc.\n",
    "# anim.save(\"random_spikes.gif\")"
   ]
  },
  {
   "cell_type": "markdown",
   "metadata": {
    "id": "C_IH912xobZF",
    "pycharm": {
     "name": "#%% md\n"
    }
   },
   "source": [
    "### 3.2 Raster"
   ]
  },
  {
   "cell_type": "code",
   "execution_count": null,
   "metadata": {
    "id": "F6QgcKCrobZF",
    "pycharm": {
     "name": "#%%\n"
    }
   },
   "outputs": [],
   "source": [
    "fig = plt.figure(facecolor=\"w\", figsize=(10, 5))\n",
    "ax = fig.add_subplot(111)\n",
    "splt.raster(spike_rand[:, 0].view(num_steps, -1), ax, s=25, c=\"black\")\n",
    "\n",
    "plt.title(\"Input Layer\")\n",
    "plt.xlabel(\"Time step\")\n",
    "plt.ylabel(\"Neuron Number\")\n",
    "plt.show()"
   ]
  },
  {
   "cell_type": "markdown",
   "metadata": {
    "id": "QwEXpWkRy8_N"
   },
   "source": [
    "# Conclusion"
   ]
  },
  {
   "cell_type": "markdown",
   "metadata": {
    "id": "N-SsITWKobZF",
    "pycharm": {
     "name": "#%% md\n"
    }
   },
   "source": [
    "That's it for spike conversion and generation. \n",
    "This approach generalizes beyond images, to single-dimensional and multi-dimensional tensors.\n",
    "\n",
    "For reference, the documentation for [`spikegen` can be found here](https://snntorch.readthedocs.io/en/latest/snntorch.spikegen.html) and for [`spikeplot`, here](https://snntorch.readthedocs.io/en/latest/snntorch.spikeplot.html)\n",
    "\n",
    "[In the next tutorial](https://snntorch.readthedocs.io/en/latest/tutorials/index.html), you will learn the basics of spiking neurons and how to use them.\n",
    "\n",
    "If you like this project, please consider starring ⭐ the repo on GitHub as it is the easiest and best way to support it."
   ]
  },
  {
   "cell_type": "markdown",
   "metadata": {},
   "source": [
    "# Additional Resources\n",
    "\n",
    "* [Check out the snnTorch GitHub project here.](https://github.com/jeshraghian/snntorch)"
   ]
  }
 ],
 "metadata": {
  "accelerator": "GPU",
  "colab": {
   "collapsed_sections": [
    "9QXsrr6Mp5e_",
    "1EWDw3bip8Ie",
    "vFM8UV9CreIX",
    "xXkTAJ9ws1Y6",
    "OgkWg605tE1y",
    "OBt0WDzyujnk",
    "xC96eesMqYo-",
    "mszPTrYOluym",
    "VTHK-wAWV57B"
   ],
   "name": "Copy of quantAwareTrain.ipynb",
   "provenance": []
  },
  "kernelspec": {
   "display_name": "sar",
   "language": "python",
   "name": "python3"
  },
  "language_info": {
   "codemirror_mode": {
    "name": "ipython",
    "version": 3
   },
   "file_extension": ".py",
   "mimetype": "text/x-python",
   "name": "python",
   "nbconvert_exporter": "python",
   "pygments_lexer": "ipython3",
   "version": "3.9.16"
  },
  "vscode": {
   "interpreter": {
    "hash": "27de8e0f662d9c88b623b964dec131d3e6528792c9f6ac8dca39b54b5546b1d9"
   }
  }
 },
 "nbformat": 4,
 "nbformat_minor": 2
}
