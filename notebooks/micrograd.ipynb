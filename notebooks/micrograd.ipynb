{
 "cells": [
  {
   "cell_type": "code",
   "execution_count": 1,
   "metadata": {},
   "outputs": [],
   "source": [
    "import math\n",
    "import numpy as np\n",
    "import matplotlib.pyplot as plt\n",
    "%matplotlib inline"
   ]
  },
  {
   "cell_type": "code",
   "execution_count": 2,
   "metadata": {},
   "outputs": [],
   "source": [
    "class Value:\n",
    "    def __init__(self, data, _children=(), _op='', label=''):\n",
    "        self.data = data\n",
    "        self.grad = 0\n",
    "        self._backward = lambda: None\n",
    "        self._prev = set(_children)\n",
    "        self._op = _op\n",
    "        self.label = label\n",
    "\n",
    "    def __repr__(self):\n",
    "        return f\"Value(data={self.data})\"\n",
    "\n",
    "    def __add__(self, other):\n",
    "        other = other if isinstance(other, Value) else Value(other)\n",
    "        out = Value(self.data + other.data, (self, other), '+')\n",
    "        def _backward():\n",
    "            self.grad += 1.0 * out.grad\n",
    "            other.grad += 1.0 * out.grad\n",
    "        out._backward = _backward\n",
    "        return out\n",
    "\n",
    "    def __mul__(self, other):\n",
    "        other = other if isinstance(other, Value) else Value(other)\n",
    "        out = Value(self.data * other.data, (self, other), '*')\n",
    "\n",
    "        def _backward():\n",
    "            self.grad += other.data * out.grad\n",
    "            other.grad += self.data * out.grad\n",
    "        out._backward = _backward\n",
    "\n",
    "        return out\n",
    "\n",
    "    def __rmul__(self, other):\n",
    "        return self * other\n",
    "\n",
    "    def __radd__(self, other):\n",
    "        return self + other\n",
    "\n",
    "    def __neg__(self):\n",
    "        return self * -1\n",
    "\n",
    "    def __truediv__(self, other):\n",
    "        return self * other**-1\n",
    "\n",
    "    def __pow__(self, other):\n",
    "        assert isinstance(other, (int, float)), \"only supporting int/float powers for now\"\n",
    "        out = Value(self.data**other, (self, ), f'**{other}')\n",
    "\n",
    "        def _backward():\n",
    "            self.grad += other * (self.data ** (other-1) ) * out.grad\n",
    "        out._backward = _backward\n",
    "\n",
    "        return out\n",
    "\n",
    "    def __sub__(self, other):\n",
    "        return self + (-other)\n",
    "\n",
    "    def tanh(self):\n",
    "        n = self.data\n",
    "        t = (math.exp(2*n) - 1) / (math.exp(2*n) + 1)\n",
    "        out = Value(t, (self, ), 'tanh')\n",
    "\n",
    "        def _backward():\n",
    "            self.grad += (1-t**2) * out.grad\n",
    "            \n",
    "        out._backward = _backward\n",
    "        return out\n",
    "\n",
    "    def exp(self):\n",
    "        x = self.data\n",
    "        out = Value(math.exp(x), (self, ), 'exp')\n",
    "\n",
    "        def _backward():\n",
    "            self.grad += out.data * out.grad\n",
    "        out._backward = _backward\n",
    "\n",
    "        return out\n",
    "\n",
    "    def backward(self):\n",
    "        topo = []\n",
    "        visited = set()\n",
    "        def build_topo(v):\n",
    "            if v not in visited:\n",
    "                visited.add(v)\n",
    "                for child in v._prev:\n",
    "                    build_topo(child)\n",
    "                topo.append(v)\n",
    "        build_topo(self)\n",
    "\n",
    "        self.grad = 1.0\n",
    "        for node in reversed(topo):\n",
    "            node._backward()"
   ]
  },
  {
   "cell_type": "code",
   "execution_count": 3,
   "metadata": {},
   "outputs": [
    {
     "data": {
      "text/plain": [
       "Value(data=0.6666666666666666)"
      ]
     },
     "execution_count": 3,
     "metadata": {},
     "output_type": "execute_result"
    }
   ],
   "source": [
    "a = Value(2.0)\n",
    "b = Value(4.0)\n",
    "a.exp()\n",
    "a / 3"
   ]
  },
  {
   "cell_type": "code",
   "execution_count": 4,
   "metadata": {},
   "outputs": [],
   "source": [
    "from graphviz import Digraph\n",
    "\n",
    "def trace(root):\n",
    "    # builds a set of all nodes and edges in a graph\n",
    "    nodes, edges = set(), set()\n",
    "    def build(v):\n",
    "        if v not in nodes:\n",
    "            nodes.add(v)\n",
    "            for child in v._prev:\n",
    "                edges.add((child, v))\n",
    "                build(child)\n",
    "    build(root)\n",
    "    return nodes, edges\n",
    "\n",
    "def draw_dot(root):\n",
    "    dot = Digraph(format='svg', graph_attr={'rankdir': 'LR'}) # LR = left to right\n",
    "\n",
    "    nodes, edges = trace(root)\n",
    "    for n in nodes:\n",
    "        uid = str(id(n))\n",
    "        # for any value in the graph, create a rectangular ('record') node for it\n",
    "        dot.node(name=uid, label = \"{ %s | data % .4f | grad %.4f}\" % (n.label, n.data, n.grad, ), shape='record')\n",
    "        if n._op:\n",
    "            # if this value is a result of some operation, create an op node for it\n",
    "            dot.node(name=uid + n._op, label=n._op)\n",
    "            # and connect this node to it\n",
    "            dot.edge(uid + n._op, uid)\n",
    "    \n",
    "    for n1, n2 in edges:\n",
    "        # connect n1 to the op node of n2\n",
    "        dot.edge(str(id(n1)), str(id(n2)) + n2._op)\n",
    "\n",
    "    return dot"
   ]
  },
  {
   "cell_type": "code",
   "execution_count": 5,
   "metadata": {},
   "outputs": [],
   "source": [
    "x1 = Value(2.0, label='x1')\n",
    "x2 = Value(0.0, label='x2')\n",
    "w1 = Value(-3.0, label='w1')\n",
    "w2 = Value(1.0, label='w2')\n",
    "b = Value(6.88123415, label='b')\n",
    "x1w1 = x1*w1; x1w1.label = 'x1*w1'\n",
    "x2w2 = x2*w2; x2w2.label = 'x2*w2'\n",
    "x1w1x2w2 = x1w1 + x2w2; x1w1x2w2.label = 'x1*w1 + x2*w2'\n",
    "n = x1w1x2w2 + b; n.label = 'n'\n",
    "o = n.tanh(); o.label = 'o'"
   ]
  },
  {
   "cell_type": "code",
   "execution_count": 6,
   "metadata": {},
   "outputs": [
    {
     "data": {
      "image/svg+xml": "<?xml version=\"1.0\" encoding=\"UTF-8\" standalone=\"no\"?>\n<!DOCTYPE svg PUBLIC \"-//W3C//DTD SVG 1.1//EN\"\n \"http://www.w3.org/Graphics/SVG/1.1/DTD/svg11.dtd\">\n<!-- Generated by graphviz version 2.44.1 (20200629.0800)\n -->\n<!-- Pages: 1 -->\n<svg width=\"1586pt\" height=\"210pt\"\n viewBox=\"0.00 0.00 1586.00 210.00\" xmlns=\"http://www.w3.org/2000/svg\" xmlns:xlink=\"http://www.w3.org/1999/xlink\">\n<g id=\"graph0\" class=\"graph\" transform=\"scale(1 1) rotate(0) translate(4 206)\">\n<polygon fill=\"white\" stroke=\"transparent\" points=\"-4,4 -4,-206 1582,-206 1582,4 -4,4\"/>\n<!-- 3123041908816 -->\n<g id=\"node1\" class=\"node\">\n<title>3123041908816</title>\n<polygon fill=\"none\" stroke=\"black\" points=\"676,-82.5 676,-118.5 951,-118.5 951,-82.5 676,-82.5\"/>\n<text text-anchor=\"middle\" x=\"729\" y=\"-96.8\" font-family=\"Times New Roman,serif\" font-size=\"14.00\">x1*w1 + x2*w2</text>\n<polyline fill=\"none\" stroke=\"black\" points=\"782,-82.5 782,-118.5 \"/>\n<text text-anchor=\"middle\" x=\"825\" y=\"-96.8\" font-family=\"Times New Roman,serif\" font-size=\"14.00\">data &#45;6.0000</text>\n<polyline fill=\"none\" stroke=\"black\" points=\"868,-82.5 868,-118.5 \"/>\n<text text-anchor=\"middle\" x=\"909.5\" y=\"-96.8\" font-family=\"Times New Roman,serif\" font-size=\"14.00\">grad 0.5001</text>\n</g>\n<!-- 3123041909872+ -->\n<g id=\"node4\" class=\"node\">\n<title>3123041909872+</title>\n<ellipse fill=\"none\" stroke=\"black\" cx=\"1014\" cy=\"-127.5\" rx=\"27\" ry=\"18\"/>\n<text text-anchor=\"middle\" x=\"1014\" y=\"-123.8\" font-family=\"Times New Roman,serif\" font-size=\"14.00\">+</text>\n</g>\n<!-- 3123041908816&#45;&gt;3123041909872+ -->\n<g id=\"edge12\" class=\"edge\">\n<title>3123041908816&#45;&gt;3123041909872+</title>\n<path fill=\"none\" stroke=\"black\" d=\"M946.9,-118.51C957.84,-120 968.17,-121.4 977.27,-122.64\"/>\n<polygon fill=\"black\" stroke=\"black\" points=\"976.98,-126.13 987.36,-124.01 977.92,-119.2 976.98,-126.13\"/>\n</g>\n<!-- 3123041908816+ -->\n<g id=\"node2\" class=\"node\">\n<title>3123041908816+</title>\n<ellipse fill=\"none\" stroke=\"black\" cx=\"613\" cy=\"-100.5\" rx=\"27\" ry=\"18\"/>\n<text text-anchor=\"middle\" x=\"613\" y=\"-96.8\" font-family=\"Times New Roman,serif\" font-size=\"14.00\">+</text>\n</g>\n<!-- 3123041908816+&#45;&gt;3123041908816 -->\n<g id=\"edge1\" class=\"edge\">\n<title>3123041908816+&#45;&gt;3123041908816</title>\n<path fill=\"none\" stroke=\"black\" d=\"M640.36,-100.5C647.8,-100.5 656.45,-100.5 665.84,-100.5\"/>\n<polygon fill=\"black\" stroke=\"black\" points=\"665.88,-104 675.88,-100.5 665.88,-97 665.88,-104\"/>\n</g>\n<!-- 3123041909872 -->\n<g id=\"node3\" class=\"node\">\n<title>3123041909872</title>\n<polygon fill=\"none\" stroke=\"black\" points=\"1077,-109.5 1077,-145.5 1264,-145.5 1264,-109.5 1077,-109.5\"/>\n<text text-anchor=\"middle\" x=\"1088.5\" y=\"-123.8\" font-family=\"Times New Roman,serif\" font-size=\"14.00\">n</text>\n<polyline fill=\"none\" stroke=\"black\" points=\"1100,-109.5 1100,-145.5 \"/>\n<text text-anchor=\"middle\" x=\"1140.5\" y=\"-123.8\" font-family=\"Times New Roman,serif\" font-size=\"14.00\">data 0.8812</text>\n<polyline fill=\"none\" stroke=\"black\" points=\"1181,-109.5 1181,-145.5 \"/>\n<text text-anchor=\"middle\" x=\"1222.5\" y=\"-123.8\" font-family=\"Times New Roman,serif\" font-size=\"14.00\">grad 0.5001</text>\n</g>\n<!-- 3123041907520tanh -->\n<g id=\"node8\" class=\"node\">\n<title>3123041907520tanh</title>\n<ellipse fill=\"none\" stroke=\"black\" cx=\"1327\" cy=\"-127.5\" rx=\"27\" ry=\"18\"/>\n<text text-anchor=\"middle\" x=\"1327\" y=\"-123.8\" font-family=\"Times New Roman,serif\" font-size=\"14.00\">tanh</text>\n</g>\n<!-- 3123041909872&#45;&gt;3123041907520tanh -->\n<g id=\"edge9\" class=\"edge\">\n<title>3123041909872&#45;&gt;3123041907520tanh</title>\n<path fill=\"none\" stroke=\"black\" d=\"M1264.05,-127.5C1273.06,-127.5 1281.79,-127.5 1289.7,-127.5\"/>\n<polygon fill=\"black\" stroke=\"black\" points=\"1289.95,-131 1299.95,-127.5 1289.95,-124 1289.95,-131\"/>\n</g>\n<!-- 3123041909872+&#45;&gt;3123041909872 -->\n<g id=\"edge2\" class=\"edge\">\n<title>3123041909872+&#45;&gt;3123041909872</title>\n<path fill=\"none\" stroke=\"black\" d=\"M1041.21,-127.5C1048.73,-127.5 1057.43,-127.5 1066.67,-127.5\"/>\n<polygon fill=\"black\" stroke=\"black\" points=\"1066.89,-131 1076.89,-127.5 1066.89,-124 1066.89,-131\"/>\n</g>\n<!-- 3123041908000 -->\n<g id=\"node5\" class=\"node\">\n<title>3123041908000</title>\n<polygon fill=\"none\" stroke=\"black\" points=\"2.5,-55.5 2.5,-91.5 199.5,-91.5 199.5,-55.5 2.5,-55.5\"/>\n<text text-anchor=\"middle\" x=\"19\" y=\"-69.8\" font-family=\"Times New Roman,serif\" font-size=\"14.00\">w2</text>\n<polyline fill=\"none\" stroke=\"black\" points=\"35.5,-55.5 35.5,-91.5 \"/>\n<text text-anchor=\"middle\" x=\"76\" y=\"-69.8\" font-family=\"Times New Roman,serif\" font-size=\"14.00\">data 1.0000</text>\n<polyline fill=\"none\" stroke=\"black\" points=\"116.5,-55.5 116.5,-91.5 \"/>\n<text text-anchor=\"middle\" x=\"158\" y=\"-69.8\" font-family=\"Times New Roman,serif\" font-size=\"14.00\">grad 0.0000</text>\n</g>\n<!-- 3123041909632* -->\n<g id=\"node13\" class=\"node\">\n<title>3123041909632*</title>\n<ellipse fill=\"none\" stroke=\"black\" cx=\"265\" cy=\"-73.5\" rx=\"27\" ry=\"18\"/>\n<text text-anchor=\"middle\" x=\"265\" y=\"-69.8\" font-family=\"Times New Roman,serif\" font-size=\"14.00\">*</text>\n</g>\n<!-- 3123041908000&#45;&gt;3123041909632* -->\n<g id=\"edge11\" class=\"edge\">\n<title>3123041908000&#45;&gt;3123041909632*</title>\n<path fill=\"none\" stroke=\"black\" d=\"M199.51,-73.5C209.51,-73.5 219.17,-73.5 227.82,-73.5\"/>\n<polygon fill=\"black\" stroke=\"black\" points=\"227.84,-77 237.84,-73.5 227.84,-70 227.84,-77\"/>\n</g>\n<!-- 3123041908096 -->\n<g id=\"node6\" class=\"node\">\n<title>3123041908096</title>\n<polygon fill=\"none\" stroke=\"black\" points=\"4,-0.5 4,-36.5 198,-36.5 198,-0.5 4,-0.5\"/>\n<text text-anchor=\"middle\" x=\"19\" y=\"-14.8\" font-family=\"Times New Roman,serif\" font-size=\"14.00\">x2</text>\n<polyline fill=\"none\" stroke=\"black\" points=\"34,-0.5 34,-36.5 \"/>\n<text text-anchor=\"middle\" x=\"74.5\" y=\"-14.8\" font-family=\"Times New Roman,serif\" font-size=\"14.00\">data 0.0000</text>\n<polyline fill=\"none\" stroke=\"black\" points=\"115,-0.5 115,-36.5 \"/>\n<text text-anchor=\"middle\" x=\"156.5\" y=\"-14.8\" font-family=\"Times New Roman,serif\" font-size=\"14.00\">grad 0.5001</text>\n</g>\n<!-- 3123041908096&#45;&gt;3123041909632* -->\n<g id=\"edge6\" class=\"edge\">\n<title>3123041908096&#45;&gt;3123041909632*</title>\n<path fill=\"none\" stroke=\"black\" d=\"M171.25,-36.55C181.63,-39.64 192.15,-42.99 202,-46.5 212.29,-50.16 223.28,-54.72 233.11,-59.05\"/>\n<polygon fill=\"black\" stroke=\"black\" points=\"231.93,-62.36 242.49,-63.26 234.8,-55.97 231.93,-62.36\"/>\n</g>\n<!-- 3123041907520 -->\n<g id=\"node7\" class=\"node\">\n<title>3123041907520</title>\n<polygon fill=\"none\" stroke=\"black\" points=\"1390,-109.5 1390,-145.5 1578,-145.5 1578,-109.5 1390,-109.5\"/>\n<text text-anchor=\"middle\" x=\"1402\" y=\"-123.8\" font-family=\"Times New Roman,serif\" font-size=\"14.00\">o</text>\n<polyline fill=\"none\" stroke=\"black\" points=\"1414,-109.5 1414,-145.5 \"/>\n<text text-anchor=\"middle\" x=\"1454.5\" y=\"-123.8\" font-family=\"Times New Roman,serif\" font-size=\"14.00\">data 0.7070</text>\n<polyline fill=\"none\" stroke=\"black\" points=\"1495,-109.5 1495,-145.5 \"/>\n<text text-anchor=\"middle\" x=\"1536.5\" y=\"-123.8\" font-family=\"Times New Roman,serif\" font-size=\"14.00\">grad 1.0000</text>\n</g>\n<!-- 3123041907520tanh&#45;&gt;3123041907520 -->\n<g id=\"edge3\" class=\"edge\">\n<title>3123041907520tanh&#45;&gt;3123041907520</title>\n<path fill=\"none\" stroke=\"black\" d=\"M1354.29,-127.5C1361.78,-127.5 1370.42,-127.5 1379.6,-127.5\"/>\n<polygon fill=\"black\" stroke=\"black\" points=\"1379.76,-131 1389.76,-127.5 1379.76,-124 1379.76,-131\"/>\n</g>\n<!-- 3123041910064 -->\n<g id=\"node9\" class=\"node\">\n<title>3123041910064</title>\n<polygon fill=\"none\" stroke=\"black\" points=\"328,-110.5 328,-146.5 550,-146.5 550,-110.5 328,-110.5\"/>\n<text text-anchor=\"middle\" x=\"354.5\" y=\"-124.8\" font-family=\"Times New Roman,serif\" font-size=\"14.00\">x1*w1</text>\n<polyline fill=\"none\" stroke=\"black\" points=\"381,-110.5 381,-146.5 \"/>\n<text text-anchor=\"middle\" x=\"424\" y=\"-124.8\" font-family=\"Times New Roman,serif\" font-size=\"14.00\">data &#45;6.0000</text>\n<polyline fill=\"none\" stroke=\"black\" points=\"467,-110.5 467,-146.5 \"/>\n<text text-anchor=\"middle\" x=\"508.5\" y=\"-124.8\" font-family=\"Times New Roman,serif\" font-size=\"14.00\">grad 0.5001</text>\n</g>\n<!-- 3123041910064&#45;&gt;3123041908816+ -->\n<g id=\"edge7\" class=\"edge\">\n<title>3123041910064&#45;&gt;3123041908816+</title>\n<path fill=\"none\" stroke=\"black\" d=\"M550.39,-110.53C559.67,-109.02 568.54,-107.58 576.51,-106.28\"/>\n<polygon fill=\"black\" stroke=\"black\" points=\"577.12,-109.72 586.43,-104.66 575.99,-102.82 577.12,-109.72\"/>\n</g>\n<!-- 3123041910064* -->\n<g id=\"node10\" class=\"node\">\n<title>3123041910064*</title>\n<ellipse fill=\"none\" stroke=\"black\" cx=\"265\" cy=\"-128.5\" rx=\"27\" ry=\"18\"/>\n<text text-anchor=\"middle\" x=\"265\" y=\"-124.8\" font-family=\"Times New Roman,serif\" font-size=\"14.00\">*</text>\n</g>\n<!-- 3123041910064*&#45;&gt;3123041910064 -->\n<g id=\"edge4\" class=\"edge\">\n<title>3123041910064*&#45;&gt;3123041910064</title>\n<path fill=\"none\" stroke=\"black\" d=\"M292.12,-128.5C299.66,-128.5 308.41,-128.5 317.81,-128.5\"/>\n<polygon fill=\"black\" stroke=\"black\" points=\"317.82,-132 327.81,-128.5 317.81,-125 317.82,-132\"/>\n</g>\n<!-- 3123041909536 -->\n<g id=\"node11\" class=\"node\">\n<title>3123041909536</title>\n<polygon fill=\"none\" stroke=\"black\" points=\"0,-165.5 0,-201.5 202,-201.5 202,-165.5 0,-165.5\"/>\n<text text-anchor=\"middle\" x=\"16.5\" y=\"-179.8\" font-family=\"Times New Roman,serif\" font-size=\"14.00\">w1</text>\n<polyline fill=\"none\" stroke=\"black\" points=\"33,-165.5 33,-201.5 \"/>\n<text text-anchor=\"middle\" x=\"76\" y=\"-179.8\" font-family=\"Times New Roman,serif\" font-size=\"14.00\">data &#45;3.0000</text>\n<polyline fill=\"none\" stroke=\"black\" points=\"119,-165.5 119,-201.5 \"/>\n<text text-anchor=\"middle\" x=\"160.5\" y=\"-179.8\" font-family=\"Times New Roman,serif\" font-size=\"14.00\">grad 1.0002</text>\n</g>\n<!-- 3123041909536&#45;&gt;3123041910064* -->\n<g id=\"edge14\" class=\"edge\">\n<title>3123041909536&#45;&gt;3123041910064*</title>\n<path fill=\"none\" stroke=\"black\" d=\"M174.26,-165.48C183.66,-162.7 193.11,-159.68 202,-156.5 212.53,-152.73 223.76,-147.91 233.72,-143.34\"/>\n<polygon fill=\"black\" stroke=\"black\" points=\"235.26,-146.49 242.83,-139.08 232.29,-140.15 235.26,-146.49\"/>\n</g>\n<!-- 3123041909632 -->\n<g id=\"node12\" class=\"node\">\n<title>3123041909632</title>\n<polygon fill=\"none\" stroke=\"black\" points=\"330.5,-55.5 330.5,-91.5 547.5,-91.5 547.5,-55.5 330.5,-55.5\"/>\n<text text-anchor=\"middle\" x=\"357\" y=\"-69.8\" font-family=\"Times New Roman,serif\" font-size=\"14.00\">x2*w2</text>\n<polyline fill=\"none\" stroke=\"black\" points=\"383.5,-55.5 383.5,-91.5 \"/>\n<text text-anchor=\"middle\" x=\"424\" y=\"-69.8\" font-family=\"Times New Roman,serif\" font-size=\"14.00\">data 0.0000</text>\n<polyline fill=\"none\" stroke=\"black\" points=\"464.5,-55.5 464.5,-91.5 \"/>\n<text text-anchor=\"middle\" x=\"506\" y=\"-69.8\" font-family=\"Times New Roman,serif\" font-size=\"14.00\">grad 0.5001</text>\n</g>\n<!-- 3123041909632&#45;&gt;3123041908816+ -->\n<g id=\"edge8\" class=\"edge\">\n<title>3123041909632&#45;&gt;3123041908816+</title>\n<path fill=\"none\" stroke=\"black\" d=\"M547.95,-90.45C558.13,-92.04 567.86,-93.57 576.53,-94.93\"/>\n<polygon fill=\"black\" stroke=\"black\" points=\"576.12,-98.41 586.54,-96.5 577.2,-91.49 576.12,-98.41\"/>\n</g>\n<!-- 3123041909632*&#45;&gt;3123041909632 -->\n<g id=\"edge5\" class=\"edge\">\n<title>3123041909632*&#45;&gt;3123041909632</title>\n<path fill=\"none\" stroke=\"black\" d=\"M292.12,-73.5C300.31,-73.5 309.94,-73.5 320.28,-73.5\"/>\n<polygon fill=\"black\" stroke=\"black\" points=\"320.39,-77 330.39,-73.5 320.39,-70 320.39,-77\"/>\n</g>\n<!-- 3123041910736 -->\n<g id=\"node14\" class=\"node\">\n<title>3123041910736</title>\n<polygon fill=\"none\" stroke=\"black\" points=\"2,-110.5 2,-146.5 200,-146.5 200,-110.5 2,-110.5\"/>\n<text text-anchor=\"middle\" x=\"17\" y=\"-124.8\" font-family=\"Times New Roman,serif\" font-size=\"14.00\">x1</text>\n<polyline fill=\"none\" stroke=\"black\" points=\"32,-110.5 32,-146.5 \"/>\n<text text-anchor=\"middle\" x=\"72.5\" y=\"-124.8\" font-family=\"Times New Roman,serif\" font-size=\"14.00\">data 2.0000</text>\n<polyline fill=\"none\" stroke=\"black\" points=\"113,-110.5 113,-146.5 \"/>\n<text text-anchor=\"middle\" x=\"156.5\" y=\"-124.8\" font-family=\"Times New Roman,serif\" font-size=\"14.00\">grad &#45;1.5003</text>\n</g>\n<!-- 3123041910736&#45;&gt;3123041910064* -->\n<g id=\"edge13\" class=\"edge\">\n<title>3123041910736&#45;&gt;3123041910064*</title>\n<path fill=\"none\" stroke=\"black\" d=\"M200.44,-128.5C210.13,-128.5 219.47,-128.5 227.87,-128.5\"/>\n<polygon fill=\"black\" stroke=\"black\" points=\"227.96,-132 237.96,-128.5 227.96,-125 227.96,-132\"/>\n</g>\n<!-- 3123041909728 -->\n<g id=\"node15\" class=\"node\">\n<title>3123041909728</title>\n<polygon fill=\"none\" stroke=\"black\" points=\"719.5,-137.5 719.5,-173.5 907.5,-173.5 907.5,-137.5 719.5,-137.5\"/>\n<text text-anchor=\"middle\" x=\"731.5\" y=\"-151.8\" font-family=\"Times New Roman,serif\" font-size=\"14.00\">b</text>\n<polyline fill=\"none\" stroke=\"black\" points=\"743.5,-137.5 743.5,-173.5 \"/>\n<text text-anchor=\"middle\" x=\"784\" y=\"-151.8\" font-family=\"Times New Roman,serif\" font-size=\"14.00\">data 6.8812</text>\n<polyline fill=\"none\" stroke=\"black\" points=\"824.5,-137.5 824.5,-173.5 \"/>\n<text text-anchor=\"middle\" x=\"866\" y=\"-151.8\" font-family=\"Times New Roman,serif\" font-size=\"14.00\">grad 0.5001</text>\n</g>\n<!-- 3123041909728&#45;&gt;3123041909872+ -->\n<g id=\"edge10\" class=\"edge\">\n<title>3123041909728&#45;&gt;3123041909872+</title>\n<path fill=\"none\" stroke=\"black\" d=\"M907.65,-142.36C932.41,-138.87 957.68,-135.3 977.26,-132.54\"/>\n<polygon fill=\"black\" stroke=\"black\" points=\"977.82,-136 987.23,-131.13 976.84,-129.07 977.82,-136\"/>\n</g>\n</g>\n</svg>\n",
      "text/plain": [
       "<graphviz.graphs.Digraph at 0x2d723cec550>"
      ]
     },
     "execution_count": 6,
     "metadata": {},
     "output_type": "execute_result"
    }
   ],
   "source": [
    "o.backward()\n",
    "draw_dot(o)"
   ]
  },
  {
   "cell_type": "code",
   "execution_count": 7,
   "metadata": {},
   "outputs": [
    {
     "data": {
      "image/svg+xml": "<?xml version=\"1.0\" encoding=\"UTF-8\" standalone=\"no\"?>\n<!DOCTYPE svg PUBLIC \"-//W3C//DTD SVG 1.1//EN\"\n \"http://www.w3.org/Graphics/SVG/1.1/DTD/svg11.dtd\">\n<!-- Generated by graphviz version 2.44.1 (20200629.0800)\n -->\n<!-- Pages: 1 -->\n<svg width=\"2965pt\" height=\"236pt\"\n viewBox=\"0.00 0.00 2965.00 236.00\" xmlns=\"http://www.w3.org/2000/svg\" xmlns:xlink=\"http://www.w3.org/1999/xlink\">\n<g id=\"graph0\" class=\"graph\" transform=\"scale(1 1) rotate(0) translate(4 232)\">\n<polygon fill=\"white\" stroke=\"transparent\" points=\"-4,4 -4,-232 2961,-232 2961,4 -4,4\"/>\n<!-- 3123042363904 -->\n<g id=\"node1\" class=\"node\">\n<title>3123042363904</title>\n<polygon fill=\"none\" stroke=\"black\" points=\"330.5,-55.5 330.5,-91.5 547.5,-91.5 547.5,-55.5 330.5,-55.5\"/>\n<text text-anchor=\"middle\" x=\"357\" y=\"-69.8\" font-family=\"Times New Roman,serif\" font-size=\"14.00\">x2*w2</text>\n<polyline fill=\"none\" stroke=\"black\" points=\"383.5,-55.5 383.5,-91.5 \"/>\n<text text-anchor=\"middle\" x=\"424\" y=\"-69.8\" font-family=\"Times New Roman,serif\" font-size=\"14.00\">data 0.0000</text>\n<polyline fill=\"none\" stroke=\"black\" points=\"464.5,-55.5 464.5,-91.5 \"/>\n<text text-anchor=\"middle\" x=\"506\" y=\"-69.8\" font-family=\"Times New Roman,serif\" font-size=\"14.00\">grad 0.5001</text>\n</g>\n<!-- 3123041922304+ -->\n<g id=\"node18\" class=\"node\">\n<title>3123041922304+</title>\n<ellipse fill=\"none\" stroke=\"black\" cx=\"613\" cy=\"-100.5\" rx=\"27\" ry=\"18\"/>\n<text text-anchor=\"middle\" x=\"613\" y=\"-96.8\" font-family=\"Times New Roman,serif\" font-size=\"14.00\">+</text>\n</g>\n<!-- 3123042363904&#45;&gt;3123041922304+ -->\n<g id=\"edge13\" class=\"edge\">\n<title>3123042363904&#45;&gt;3123041922304+</title>\n<path fill=\"none\" stroke=\"black\" d=\"M547.95,-90.45C558.13,-92.04 567.86,-93.57 576.53,-94.93\"/>\n<polygon fill=\"black\" stroke=\"black\" points=\"576.12,-98.41 586.54,-96.5 577.2,-91.49 576.12,-98.41\"/>\n</g>\n<!-- 3123042363904* -->\n<g id=\"node2\" class=\"node\">\n<title>3123042363904*</title>\n<ellipse fill=\"none\" stroke=\"black\" cx=\"265\" cy=\"-73.5\" rx=\"27\" ry=\"18\"/>\n<text text-anchor=\"middle\" x=\"265\" y=\"-69.8\" font-family=\"Times New Roman,serif\" font-size=\"14.00\">*</text>\n</g>\n<!-- 3123042363904*&#45;&gt;3123042363904 -->\n<g id=\"edge1\" class=\"edge\">\n<title>3123042363904*&#45;&gt;3123042363904</title>\n<path fill=\"none\" stroke=\"black\" d=\"M292.12,-73.5C300.31,-73.5 309.94,-73.5 320.28,-73.5\"/>\n<polygon fill=\"black\" stroke=\"black\" points=\"320.39,-77 330.39,-73.5 320.39,-70 320.39,-77\"/>\n</g>\n<!-- 3123042364960 -->\n<g id=\"node3\" class=\"node\">\n<title>3123042364960</title>\n<polygon fill=\"none\" stroke=\"black\" points=\"2,-165.5 2,-201.5 200,-201.5 200,-165.5 2,-165.5\"/>\n<text text-anchor=\"middle\" x=\"17\" y=\"-179.8\" font-family=\"Times New Roman,serif\" font-size=\"14.00\">x1</text>\n<polyline fill=\"none\" stroke=\"black\" points=\"32,-165.5 32,-201.5 \"/>\n<text text-anchor=\"middle\" x=\"72.5\" y=\"-179.8\" font-family=\"Times New Roman,serif\" font-size=\"14.00\">data 2.0000</text>\n<polyline fill=\"none\" stroke=\"black\" points=\"113,-165.5 113,-201.5 \"/>\n<text text-anchor=\"middle\" x=\"156.5\" y=\"-179.8\" font-family=\"Times New Roman,serif\" font-size=\"14.00\">grad &#45;1.5003</text>\n</g>\n<!-- 3123042361408* -->\n<g id=\"node8\" class=\"node\">\n<title>3123042361408*</title>\n<ellipse fill=\"none\" stroke=\"black\" cx=\"265\" cy=\"-128.5\" rx=\"27\" ry=\"18\"/>\n<text text-anchor=\"middle\" x=\"265\" y=\"-124.8\" font-family=\"Times New Roman,serif\" font-size=\"14.00\">*</text>\n</g>\n<!-- 3123042364960&#45;&gt;3123042361408* -->\n<g id=\"edge18\" class=\"edge\">\n<title>3123042364960&#45;&gt;3123042361408*</title>\n<path fill=\"none\" stroke=\"black\" d=\"M174.26,-165.48C183.66,-162.7 193.11,-159.68 202,-156.5 212.53,-152.73 223.76,-147.91 233.72,-143.34\"/>\n<polygon fill=\"black\" stroke=\"black\" points=\"235.26,-146.49 242.83,-139.08 232.29,-140.15 235.26,-146.49\"/>\n</g>\n<!-- 3123041908288 -->\n<g id=\"node4\" class=\"node\">\n<title>3123041908288</title>\n<polygon fill=\"none\" stroke=\"black\" points=\"2459,-112.5 2459,-148.5 2643,-148.5 2643,-112.5 2459,-112.5\"/>\n<text text-anchor=\"middle\" x=\"2469\" y=\"-126.8\" font-family=\"Times New Roman,serif\" font-size=\"14.00\"> </text>\n<polyline fill=\"none\" stroke=\"black\" points=\"2479,-112.5 2479,-148.5 \"/>\n<text text-anchor=\"middle\" x=\"2519.5\" y=\"-126.8\" font-family=\"Times New Roman,serif\" font-size=\"14.00\">data 0.1465</text>\n<polyline fill=\"none\" stroke=\"black\" points=\"2560,-112.5 2560,-148.5 \"/>\n<text text-anchor=\"middle\" x=\"2601.5\" y=\"-126.8\" font-family=\"Times New Roman,serif\" font-size=\"14.00\">grad 4.8268</text>\n</g>\n<!-- 3123041907184* -->\n<g id=\"node28\" class=\"node\">\n<title>3123041907184*</title>\n<ellipse fill=\"none\" stroke=\"black\" cx=\"2706\" cy=\"-153.5\" rx=\"27\" ry=\"18\"/>\n<text text-anchor=\"middle\" x=\"2706\" y=\"-149.8\" font-family=\"Times New Roman,serif\" font-size=\"14.00\">*</text>\n</g>\n<!-- 3123041908288&#45;&gt;3123041907184* -->\n<g id=\"edge28\" class=\"edge\">\n<title>3123041908288&#45;&gt;3123041907184*</title>\n<path fill=\"none\" stroke=\"black\" d=\"M2643.21,-144.21C2652.47,-145.6 2661.42,-146.95 2669.51,-148.17\"/>\n<polygon fill=\"black\" stroke=\"black\" points=\"2669.19,-151.66 2679.6,-149.68 2670.23,-144.73 2669.19,-151.66\"/>\n</g>\n<!-- 3123041908288**&#45;1 -->\n<g id=\"node5\" class=\"node\">\n<title>3123041908288**&#45;1</title>\n<ellipse fill=\"none\" stroke=\"black\" cx=\"2331\" cy=\"-126.5\" rx=\"27\" ry=\"18\"/>\n<text text-anchor=\"middle\" x=\"2331\" y=\"-122.8\" font-family=\"Times New Roman,serif\" font-size=\"14.00\">**&#45;1</text>\n</g>\n<!-- 3123041908288**&#45;1&#45;&gt;3123041908288 -->\n<g id=\"edge2\" class=\"edge\">\n<title>3123041908288**&#45;1&#45;&gt;3123041908288</title>\n<path fill=\"none\" stroke=\"black\" d=\"M2358.3,-126.98C2380.98,-127.4 2415.25,-128.03 2448.57,-128.64\"/>\n<polygon fill=\"black\" stroke=\"black\" points=\"2448.8,-132.14 2458.87,-128.83 2448.93,-125.14 2448.8,-132.14\"/>\n</g>\n<!-- 3123042365008 -->\n<g id=\"node6\" class=\"node\">\n<title>3123042365008</title>\n<polygon fill=\"none\" stroke=\"black\" points=\"2.5,-55.5 2.5,-91.5 199.5,-91.5 199.5,-55.5 2.5,-55.5\"/>\n<text text-anchor=\"middle\" x=\"19\" y=\"-69.8\" font-family=\"Times New Roman,serif\" font-size=\"14.00\">w2</text>\n<polyline fill=\"none\" stroke=\"black\" points=\"35.5,-55.5 35.5,-91.5 \"/>\n<text text-anchor=\"middle\" x=\"76\" y=\"-69.8\" font-family=\"Times New Roman,serif\" font-size=\"14.00\">data 1.0000</text>\n<polyline fill=\"none\" stroke=\"black\" points=\"116.5,-55.5 116.5,-91.5 \"/>\n<text text-anchor=\"middle\" x=\"158\" y=\"-69.8\" font-family=\"Times New Roman,serif\" font-size=\"14.00\">grad 0.0000</text>\n</g>\n<!-- 3123042365008&#45;&gt;3123042363904* -->\n<g id=\"edge14\" class=\"edge\">\n<title>3123042365008&#45;&gt;3123042363904*</title>\n<path fill=\"none\" stroke=\"black\" d=\"M199.51,-73.5C209.51,-73.5 219.17,-73.5 227.82,-73.5\"/>\n<polygon fill=\"black\" stroke=\"black\" points=\"227.84,-77 237.84,-73.5 227.84,-70 227.84,-77\"/>\n</g>\n<!-- 3123042361408 -->\n<g id=\"node7\" class=\"node\">\n<title>3123042361408</title>\n<polygon fill=\"none\" stroke=\"black\" points=\"328,-110.5 328,-146.5 550,-146.5 550,-110.5 328,-110.5\"/>\n<text text-anchor=\"middle\" x=\"354.5\" y=\"-124.8\" font-family=\"Times New Roman,serif\" font-size=\"14.00\">x1*w1</text>\n<polyline fill=\"none\" stroke=\"black\" points=\"381,-110.5 381,-146.5 \"/>\n<text text-anchor=\"middle\" x=\"424\" y=\"-124.8\" font-family=\"Times New Roman,serif\" font-size=\"14.00\">data &#45;6.0000</text>\n<polyline fill=\"none\" stroke=\"black\" points=\"467,-110.5 467,-146.5 \"/>\n<text text-anchor=\"middle\" x=\"508.5\" y=\"-124.8\" font-family=\"Times New Roman,serif\" font-size=\"14.00\">grad 0.5001</text>\n</g>\n<!-- 3123042361408&#45;&gt;3123041922304+ -->\n<g id=\"edge15\" class=\"edge\">\n<title>3123042361408&#45;&gt;3123041922304+</title>\n<path fill=\"none\" stroke=\"black\" d=\"M550.39,-110.53C559.67,-109.02 568.54,-107.58 576.51,-106.28\"/>\n<polygon fill=\"black\" stroke=\"black\" points=\"577.12,-109.72 586.43,-104.66 575.99,-102.82 577.12,-109.72\"/>\n</g>\n<!-- 3123042361408*&#45;&gt;3123042361408 -->\n<g id=\"edge3\" class=\"edge\">\n<title>3123042361408*&#45;&gt;3123042361408</title>\n<path fill=\"none\" stroke=\"black\" d=\"M292.12,-128.5C299.66,-128.5 308.41,-128.5 317.81,-128.5\"/>\n<polygon fill=\"black\" stroke=\"black\" points=\"317.82,-132 327.81,-128.5 317.81,-125 317.82,-132\"/>\n</g>\n<!-- 3123041920576 -->\n<g id=\"node9\" class=\"node\">\n<title>3123041920576</title>\n<polygon fill=\"none\" stroke=\"black\" points=\"1078.5,-164.5 1078.5,-200.5 1262.5,-200.5 1262.5,-164.5 1078.5,-164.5\"/>\n<text text-anchor=\"middle\" x=\"1088.5\" y=\"-178.8\" font-family=\"Times New Roman,serif\" font-size=\"14.00\"> </text>\n<polyline fill=\"none\" stroke=\"black\" points=\"1098.5,-164.5 1098.5,-200.5 \"/>\n<text text-anchor=\"middle\" x=\"1139\" y=\"-178.8\" font-family=\"Times New Roman,serif\" font-size=\"14.00\">data 2.0000</text>\n<polyline fill=\"none\" stroke=\"black\" points=\"1179.5,-164.5 1179.5,-200.5 \"/>\n<text text-anchor=\"middle\" x=\"1221\" y=\"-178.8\" font-family=\"Times New Roman,serif\" font-size=\"14.00\">grad 0.2204</text>\n</g>\n<!-- 3123041919328* -->\n<g id=\"node20\" class=\"node\">\n<title>3123041919328*</title>\n<ellipse fill=\"none\" stroke=\"black\" cx=\"1327\" cy=\"-154.5\" rx=\"27\" ry=\"18\"/>\n<text text-anchor=\"middle\" x=\"1327\" y=\"-150.8\" font-family=\"Times New Roman,serif\" font-size=\"14.00\">*</text>\n</g>\n<!-- 3123041920576&#45;&gt;3123041919328* -->\n<g id=\"edge23\" class=\"edge\">\n<title>3123041920576&#45;&gt;3123041919328*</title>\n<path fill=\"none\" stroke=\"black\" d=\"M1262.71,-165.97C1272.65,-164.17 1282.27,-162.42 1290.89,-160.86\"/>\n<polygon fill=\"black\" stroke=\"black\" points=\"1291.63,-164.29 1300.85,-159.06 1290.38,-157.4 1291.63,-164.29\"/>\n</g>\n<!-- 3123042365056 -->\n<g id=\"node10\" class=\"node\">\n<title>3123042365056</title>\n<polygon fill=\"none\" stroke=\"black\" points=\"4,-0.5 4,-36.5 198,-36.5 198,-0.5 4,-0.5\"/>\n<text text-anchor=\"middle\" x=\"19\" y=\"-14.8\" font-family=\"Times New Roman,serif\" font-size=\"14.00\">x2</text>\n<polyline fill=\"none\" stroke=\"black\" points=\"34,-0.5 34,-36.5 \"/>\n<text text-anchor=\"middle\" x=\"74.5\" y=\"-14.8\" font-family=\"Times New Roman,serif\" font-size=\"14.00\">data 0.0000</text>\n<polyline fill=\"none\" stroke=\"black\" points=\"115,-0.5 115,-36.5 \"/>\n<text text-anchor=\"middle\" x=\"156.5\" y=\"-14.8\" font-family=\"Times New Roman,serif\" font-size=\"14.00\">grad 0.5001</text>\n</g>\n<!-- 3123042365056&#45;&gt;3123042363904* -->\n<g id=\"edge25\" class=\"edge\">\n<title>3123042365056&#45;&gt;3123042363904*</title>\n<path fill=\"none\" stroke=\"black\" d=\"M174.26,-36.52C183.66,-39.3 193.11,-42.32 202,-45.5 212.53,-49.27 223.76,-54.09 233.72,-58.66\"/>\n<polygon fill=\"black\" stroke=\"black\" points=\"232.29,-61.85 242.83,-62.92 235.26,-55.51 232.29,-61.85\"/>\n</g>\n<!-- 3123041909392 -->\n<g id=\"node11\" class=\"node\">\n<title>3123041909392</title>\n<polygon fill=\"none\" stroke=\"black\" points=\"2015,-108.5 2015,-144.5 2203,-144.5 2203,-108.5 2015,-108.5\"/>\n<text text-anchor=\"middle\" x=\"2025\" y=\"-122.8\" font-family=\"Times New Roman,serif\" font-size=\"14.00\"> </text>\n<polyline fill=\"none\" stroke=\"black\" points=\"2035,-108.5 2035,-144.5 \"/>\n<text text-anchor=\"middle\" x=\"2075.5\" y=\"-122.8\" font-family=\"Times New Roman,serif\" font-size=\"14.00\">data 6.8268</text>\n<polyline fill=\"none\" stroke=\"black\" points=\"2116,-108.5 2116,-144.5 \"/>\n<text text-anchor=\"middle\" x=\"2159.5\" y=\"-122.8\" font-family=\"Times New Roman,serif\" font-size=\"14.00\">grad &#45;0.1036</text>\n</g>\n<!-- 3123041909392&#45;&gt;3123041908288**&#45;1 -->\n<g id=\"edge21\" class=\"edge\">\n<title>3123041909392&#45;&gt;3123041908288**&#45;1</title>\n<path fill=\"none\" stroke=\"black\" d=\"M2203.3,-126.5C2235.13,-126.5 2268.87,-126.5 2293.52,-126.5\"/>\n<polygon fill=\"black\" stroke=\"black\" points=\"2293.83,-130 2303.83,-126.5 2293.83,-123 2293.83,-130\"/>\n</g>\n<!-- 3123041909392+ -->\n<g id=\"node12\" class=\"node\">\n<title>3123041909392+</title>\n<ellipse fill=\"none\" stroke=\"black\" cx=\"1952\" cy=\"-126.5\" rx=\"27\" ry=\"18\"/>\n<text text-anchor=\"middle\" x=\"1952\" y=\"-122.8\" font-family=\"Times New Roman,serif\" font-size=\"14.00\">+</text>\n</g>\n<!-- 3123041909392+&#45;&gt;3123041909392 -->\n<g id=\"edge4\" class=\"edge\">\n<title>3123041909392+&#45;&gt;3123041909392</title>\n<path fill=\"none\" stroke=\"black\" d=\"M1979.29,-126.5C1986.78,-126.5 1995.42,-126.5 2004.6,-126.5\"/>\n<polygon fill=\"black\" stroke=\"black\" points=\"2004.76,-130 2014.76,-126.5 2004.76,-123 2004.76,-130\"/>\n</g>\n<!-- 3123041920624 -->\n<g id=\"node13\" class=\"node\">\n<title>3123041920624</title>\n<polygon fill=\"none\" stroke=\"black\" points=\"1700,-191.5 1700,-227.5 1889,-227.5 1889,-191.5 1700,-191.5\"/>\n<text text-anchor=\"middle\" x=\"1710\" y=\"-205.8\" font-family=\"Times New Roman,serif\" font-size=\"14.00\"> </text>\n<polyline fill=\"none\" stroke=\"black\" points=\"1720,-191.5 1720,-227.5 \"/>\n<text text-anchor=\"middle\" x=\"1763\" y=\"-205.8\" font-family=\"Times New Roman,serif\" font-size=\"14.00\">data &#45;1.0000</text>\n<polyline fill=\"none\" stroke=\"black\" points=\"1806,-191.5 1806,-227.5 \"/>\n<text text-anchor=\"middle\" x=\"1847.5\" y=\"-205.8\" font-family=\"Times New Roman,serif\" font-size=\"14.00\">grad 0.1465</text>\n</g>\n<!-- 3123041920480+ -->\n<g id=\"node26\" class=\"node\">\n<title>3123041920480+</title>\n<ellipse fill=\"none\" stroke=\"black\" cx=\"1952\" cy=\"-181.5\" rx=\"27\" ry=\"18\"/>\n<text text-anchor=\"middle\" x=\"1952\" y=\"-177.8\" font-family=\"Times New Roman,serif\" font-size=\"14.00\">+</text>\n</g>\n<!-- 3123041920624&#45;&gt;3123041920480+ -->\n<g id=\"edge22\" class=\"edge\">\n<title>3123041920624&#45;&gt;3123041920480+</title>\n<path fill=\"none\" stroke=\"black\" d=\"M1889.1,-192.65C1898.4,-190.97 1907.38,-189.35 1915.49,-187.89\"/>\n<polygon fill=\"black\" stroke=\"black\" points=\"1916.37,-191.29 1925.59,-186.07 1915.13,-184.4 1916.37,-191.29\"/>\n</g>\n<!-- 3123042364096 -->\n<g id=\"node14\" class=\"node\">\n<title>3123042364096</title>\n<polygon fill=\"none\" stroke=\"black\" points=\"719.5,-137.5 719.5,-173.5 907.5,-173.5 907.5,-137.5 719.5,-137.5\"/>\n<text text-anchor=\"middle\" x=\"731.5\" y=\"-151.8\" font-family=\"Times New Roman,serif\" font-size=\"14.00\">b</text>\n<polyline fill=\"none\" stroke=\"black\" points=\"743.5,-137.5 743.5,-173.5 \"/>\n<text text-anchor=\"middle\" x=\"784\" y=\"-151.8\" font-family=\"Times New Roman,serif\" font-size=\"14.00\">data 6.8812</text>\n<polyline fill=\"none\" stroke=\"black\" points=\"824.5,-137.5 824.5,-173.5 \"/>\n<text text-anchor=\"middle\" x=\"866\" y=\"-151.8\" font-family=\"Times New Roman,serif\" font-size=\"14.00\">grad 0.5001</text>\n</g>\n<!-- 3123041922976+ -->\n<g id=\"node24\" class=\"node\">\n<title>3123041922976+</title>\n<ellipse fill=\"none\" stroke=\"black\" cx=\"1014\" cy=\"-127.5\" rx=\"27\" ry=\"18\"/>\n<text text-anchor=\"middle\" x=\"1014\" y=\"-123.8\" font-family=\"Times New Roman,serif\" font-size=\"14.00\">+</text>\n</g>\n<!-- 3123042364096&#45;&gt;3123041922976+ -->\n<g id=\"edge12\" class=\"edge\">\n<title>3123042364096&#45;&gt;3123041922976+</title>\n<path fill=\"none\" stroke=\"black\" d=\"M907.65,-142.36C932.41,-138.87 957.68,-135.3 977.26,-132.54\"/>\n<polygon fill=\"black\" stroke=\"black\" points=\"977.82,-136 987.23,-131.13 976.84,-129.07 977.82,-136\"/>\n</g>\n<!-- 3123041909440 -->\n<g id=\"node15\" class=\"node\">\n<title>3123041909440</title>\n<polygon fill=\"none\" stroke=\"black\" points=\"1700.5,-81.5 1700.5,-117.5 1888.5,-117.5 1888.5,-81.5 1700.5,-81.5\"/>\n<text text-anchor=\"middle\" x=\"1710.5\" y=\"-95.8\" font-family=\"Times New Roman,serif\" font-size=\"14.00\"> </text>\n<polyline fill=\"none\" stroke=\"black\" points=\"1720.5,-81.5 1720.5,-117.5 \"/>\n<text text-anchor=\"middle\" x=\"1761\" y=\"-95.8\" font-family=\"Times New Roman,serif\" font-size=\"14.00\">data 1.0000</text>\n<polyline fill=\"none\" stroke=\"black\" points=\"1801.5,-81.5 1801.5,-117.5 \"/>\n<text text-anchor=\"middle\" x=\"1845\" y=\"-95.8\" font-family=\"Times New Roman,serif\" font-size=\"14.00\">grad &#45;0.1036</text>\n</g>\n<!-- 3123041909440&#45;&gt;3123041909392+ -->\n<g id=\"edge16\" class=\"edge\">\n<title>3123041909440&#45;&gt;3123041909392+</title>\n<path fill=\"none\" stroke=\"black\" d=\"M1888.65,-115.67C1898.2,-117.33 1907.43,-118.93 1915.72,-120.37\"/>\n<polygon fill=\"black\" stroke=\"black\" points=\"1915.24,-123.84 1925.69,-122.11 1916.44,-116.95 1915.24,-123.84\"/>\n</g>\n<!-- 3123042364144 -->\n<g id=\"node16\" class=\"node\">\n<title>3123042364144</title>\n<polygon fill=\"none\" stroke=\"black\" points=\"0,-110.5 0,-146.5 202,-146.5 202,-110.5 0,-110.5\"/>\n<text text-anchor=\"middle\" x=\"16.5\" y=\"-124.8\" font-family=\"Times New Roman,serif\" font-size=\"14.00\">w1</text>\n<polyline fill=\"none\" stroke=\"black\" points=\"33,-110.5 33,-146.5 \"/>\n<text text-anchor=\"middle\" x=\"76\" y=\"-124.8\" font-family=\"Times New Roman,serif\" font-size=\"14.00\">data &#45;3.0000</text>\n<polyline fill=\"none\" stroke=\"black\" points=\"119,-110.5 119,-146.5 \"/>\n<text text-anchor=\"middle\" x=\"160.5\" y=\"-124.8\" font-family=\"Times New Roman,serif\" font-size=\"14.00\">grad 1.0002</text>\n</g>\n<!-- 3123042364144&#45;&gt;3123042361408* -->\n<g id=\"edge19\" class=\"edge\">\n<title>3123042364144&#45;&gt;3123042361408*</title>\n<path fill=\"none\" stroke=\"black\" d=\"M202.29,-128.5C211.28,-128.5 219.93,-128.5 227.77,-128.5\"/>\n<polygon fill=\"black\" stroke=\"black\" points=\"227.91,-132 237.91,-128.5 227.91,-125 227.91,-132\"/>\n</g>\n<!-- 3123041922304 -->\n<g id=\"node17\" class=\"node\">\n<title>3123041922304</title>\n<polygon fill=\"none\" stroke=\"black\" points=\"676,-82.5 676,-118.5 951,-118.5 951,-82.5 676,-82.5\"/>\n<text text-anchor=\"middle\" x=\"729\" y=\"-96.8\" font-family=\"Times New Roman,serif\" font-size=\"14.00\">x1*w1 + x2*w2</text>\n<polyline fill=\"none\" stroke=\"black\" points=\"782,-82.5 782,-118.5 \"/>\n<text text-anchor=\"middle\" x=\"825\" y=\"-96.8\" font-family=\"Times New Roman,serif\" font-size=\"14.00\">data &#45;6.0000</text>\n<polyline fill=\"none\" stroke=\"black\" points=\"868,-82.5 868,-118.5 \"/>\n<text text-anchor=\"middle\" x=\"909.5\" y=\"-96.8\" font-family=\"Times New Roman,serif\" font-size=\"14.00\">grad 0.5001</text>\n</g>\n<!-- 3123041922304&#45;&gt;3123041922976+ -->\n<g id=\"edge24\" class=\"edge\">\n<title>3123041922304&#45;&gt;3123041922976+</title>\n<path fill=\"none\" stroke=\"black\" d=\"M946.9,-118.51C957.84,-120 968.17,-121.4 977.27,-122.64\"/>\n<polygon fill=\"black\" stroke=\"black\" points=\"976.98,-126.13 987.36,-124.01 977.92,-119.2 976.98,-126.13\"/>\n</g>\n<!-- 3123041922304+&#45;&gt;3123041922304 -->\n<g id=\"edge5\" class=\"edge\">\n<title>3123041922304+&#45;&gt;3123041922304</title>\n<path fill=\"none\" stroke=\"black\" d=\"M640.36,-100.5C647.8,-100.5 656.45,-100.5 665.84,-100.5\"/>\n<polygon fill=\"black\" stroke=\"black\" points=\"665.88,-104 675.88,-100.5 665.88,-97 665.88,-104\"/>\n</g>\n<!-- 3123041919328 -->\n<g id=\"node19\" class=\"node\">\n<title>3123041919328</title>\n<polygon fill=\"none\" stroke=\"black\" points=\"1390,-136.5 1390,-172.5 1574,-172.5 1574,-136.5 1390,-136.5\"/>\n<text text-anchor=\"middle\" x=\"1400\" y=\"-150.8\" font-family=\"Times New Roman,serif\" font-size=\"14.00\"> </text>\n<polyline fill=\"none\" stroke=\"black\" points=\"1410,-136.5 1410,-172.5 \"/>\n<text text-anchor=\"middle\" x=\"1450.5\" y=\"-150.8\" font-family=\"Times New Roman,serif\" font-size=\"14.00\">data 1.7625</text>\n<polyline fill=\"none\" stroke=\"black\" points=\"1491,-136.5 1491,-172.5 \"/>\n<text text-anchor=\"middle\" x=\"1532.5\" y=\"-150.8\" font-family=\"Times New Roman,serif\" font-size=\"14.00\">grad 0.2500</text>\n</g>\n<!-- 3123041919904exp -->\n<g id=\"node22\" class=\"node\">\n<title>3123041919904exp</title>\n<ellipse fill=\"none\" stroke=\"black\" cx=\"1637\" cy=\"-154.5\" rx=\"27\" ry=\"18\"/>\n<text text-anchor=\"middle\" x=\"1637\" y=\"-150.8\" font-family=\"Times New Roman,serif\" font-size=\"14.00\">exp</text>\n</g>\n<!-- 3123041919328&#45;&gt;3123041919904exp -->\n<g id=\"edge26\" class=\"edge\">\n<title>3123041919328&#45;&gt;3123041919904exp</title>\n<path fill=\"none\" stroke=\"black\" d=\"M1574.21,-154.5C1583.19,-154.5 1591.88,-154.5 1599.77,-154.5\"/>\n<polygon fill=\"black\" stroke=\"black\" points=\"1599.99,-158 1609.99,-154.5 1599.99,-151 1599.99,-158\"/>\n</g>\n<!-- 3123041919328*&#45;&gt;3123041919328 -->\n<g id=\"edge6\" class=\"edge\">\n<title>3123041919328*&#45;&gt;3123041919328</title>\n<path fill=\"none\" stroke=\"black\" d=\"M1354.3,-154.5C1361.83,-154.5 1370.52,-154.5 1379.75,-154.5\"/>\n<polygon fill=\"black\" stroke=\"black\" points=\"1379.95,-158 1389.95,-154.5 1379.95,-151 1379.95,-158\"/>\n</g>\n<!-- 3123041919904 -->\n<g id=\"node21\" class=\"node\">\n<title>3123041919904</title>\n<polygon fill=\"none\" stroke=\"black\" points=\"1702.5,-136.5 1702.5,-172.5 1886.5,-172.5 1886.5,-136.5 1702.5,-136.5\"/>\n<text text-anchor=\"middle\" x=\"1712.5\" y=\"-150.8\" font-family=\"Times New Roman,serif\" font-size=\"14.00\"> </text>\n<polyline fill=\"none\" stroke=\"black\" points=\"1722.5,-136.5 1722.5,-172.5 \"/>\n<text text-anchor=\"middle\" x=\"1763\" y=\"-150.8\" font-family=\"Times New Roman,serif\" font-size=\"14.00\">data 5.8268</text>\n<polyline fill=\"none\" stroke=\"black\" points=\"1803.5,-136.5 1803.5,-172.5 \"/>\n<text text-anchor=\"middle\" x=\"1845\" y=\"-150.8\" font-family=\"Times New Roman,serif\" font-size=\"14.00\">grad 0.0429</text>\n</g>\n<!-- 3123041919904&#45;&gt;3123041909392+ -->\n<g id=\"edge11\" class=\"edge\">\n<title>3123041919904&#45;&gt;3123041909392+</title>\n<path fill=\"none\" stroke=\"black\" d=\"M1886.85,-138.05C1897.12,-136.2 1907.05,-134.41 1915.92,-132.82\"/>\n<polygon fill=\"black\" stroke=\"black\" points=\"1916.57,-136.26 1925.79,-131.04 1915.33,-129.37 1916.57,-136.26\"/>\n</g>\n<!-- 3123041919904&#45;&gt;3123041920480+ -->\n<g id=\"edge20\" class=\"edge\">\n<title>3123041919904&#45;&gt;3123041920480+</title>\n<path fill=\"none\" stroke=\"black\" d=\"M1886.85,-170.36C1897.12,-172.14 1907.05,-173.87 1915.92,-175.41\"/>\n<polygon fill=\"black\" stroke=\"black\" points=\"1915.34,-178.86 1925.79,-177.12 1916.54,-171.96 1915.34,-178.86\"/>\n</g>\n<!-- 3123041919904exp&#45;&gt;3123041919904 -->\n<g id=\"edge7\" class=\"edge\">\n<title>3123041919904exp&#45;&gt;3123041919904</title>\n<path fill=\"none\" stroke=\"black\" d=\"M1664.03,-154.5C1672.28,-154.5 1681.96,-154.5 1692.25,-154.5\"/>\n<polygon fill=\"black\" stroke=\"black\" points=\"1692.27,-158 1702.27,-154.5 1692.27,-151 1692.27,-158\"/>\n</g>\n<!-- 3123041922976 -->\n<g id=\"node23\" class=\"node\">\n<title>3123041922976</title>\n<polygon fill=\"none\" stroke=\"black\" points=\"1077,-109.5 1077,-145.5 1264,-145.5 1264,-109.5 1077,-109.5\"/>\n<text text-anchor=\"middle\" x=\"1088.5\" y=\"-123.8\" font-family=\"Times New Roman,serif\" font-size=\"14.00\">n</text>\n<polyline fill=\"none\" stroke=\"black\" points=\"1100,-109.5 1100,-145.5 \"/>\n<text text-anchor=\"middle\" x=\"1140.5\" y=\"-123.8\" font-family=\"Times New Roman,serif\" font-size=\"14.00\">data 0.8812</text>\n<polyline fill=\"none\" stroke=\"black\" points=\"1181,-109.5 1181,-145.5 \"/>\n<text text-anchor=\"middle\" x=\"1222.5\" y=\"-123.8\" font-family=\"Times New Roman,serif\" font-size=\"14.00\">grad 0.5001</text>\n</g>\n<!-- 3123041922976&#45;&gt;3123041919328* -->\n<g id=\"edge17\" class=\"edge\">\n<title>3123041922976&#45;&gt;3123041919328*</title>\n<path fill=\"none\" stroke=\"black\" d=\"M1264.05,-143.67C1273.34,-145.3 1282.33,-146.87 1290.44,-148.29\"/>\n<polygon fill=\"black\" stroke=\"black\" points=\"1290.1,-151.78 1300.55,-150.05 1291.3,-144.88 1290.1,-151.78\"/>\n</g>\n<!-- 3123041922976+&#45;&gt;3123041922976 -->\n<g id=\"edge8\" class=\"edge\">\n<title>3123041922976+&#45;&gt;3123041922976</title>\n<path fill=\"none\" stroke=\"black\" d=\"M1041.21,-127.5C1048.73,-127.5 1057.43,-127.5 1066.67,-127.5\"/>\n<polygon fill=\"black\" stroke=\"black\" points=\"1066.89,-131 1076.89,-127.5 1066.89,-124 1066.89,-131\"/>\n</g>\n<!-- 3123041920480 -->\n<g id=\"node25\" class=\"node\">\n<title>3123041920480</title>\n<polygon fill=\"none\" stroke=\"black\" points=\"2239,-163.5 2239,-199.5 2423,-199.5 2423,-163.5 2239,-163.5\"/>\n<text text-anchor=\"middle\" x=\"2249\" y=\"-177.8\" font-family=\"Times New Roman,serif\" font-size=\"14.00\"> </text>\n<polyline fill=\"none\" stroke=\"black\" points=\"2259,-163.5 2259,-199.5 \"/>\n<text text-anchor=\"middle\" x=\"2299.5\" y=\"-177.8\" font-family=\"Times New Roman,serif\" font-size=\"14.00\">data 4.8268</text>\n<polyline fill=\"none\" stroke=\"black\" points=\"2340,-163.5 2340,-199.5 \"/>\n<text text-anchor=\"middle\" x=\"2381.5\" y=\"-177.8\" font-family=\"Times New Roman,serif\" font-size=\"14.00\">grad 0.1465</text>\n</g>\n<!-- 3123041920480&#45;&gt;3123041907184* -->\n<g id=\"edge27\" class=\"edge\">\n<title>3123041920480&#45;&gt;3123041907184*</title>\n<path fill=\"none\" stroke=\"black\" d=\"M2423.19,-174.92C2485.18,-170.4 2569.05,-164.22 2643,-158.5 2651.42,-157.85 2660.48,-157.13 2669.01,-156.44\"/>\n<polygon fill=\"black\" stroke=\"black\" points=\"2669.38,-159.93 2679.06,-155.63 2668.81,-152.95 2669.38,-159.93\"/>\n</g>\n<!-- 3123041920480+&#45;&gt;3123041920480 -->\n<g id=\"edge9\" class=\"edge\">\n<title>3123041920480+&#45;&gt;3123041920480</title>\n<path fill=\"none\" stroke=\"black\" d=\"M1979.21,-181.5C2030,-181.5 2144.23,-181.5 2228.6,-181.5\"/>\n<polygon fill=\"black\" stroke=\"black\" points=\"2228.74,-185 2238.74,-181.5 2228.74,-178 2228.74,-185\"/>\n</g>\n<!-- 3123041907184 -->\n<g id=\"node27\" class=\"node\">\n<title>3123041907184</title>\n<polygon fill=\"none\" stroke=\"black\" points=\"2769,-135.5 2769,-171.5 2957,-171.5 2957,-135.5 2769,-135.5\"/>\n<text text-anchor=\"middle\" x=\"2781\" y=\"-149.8\" font-family=\"Times New Roman,serif\" font-size=\"14.00\">o</text>\n<polyline fill=\"none\" stroke=\"black\" points=\"2793,-135.5 2793,-171.5 \"/>\n<text text-anchor=\"middle\" x=\"2833.5\" y=\"-149.8\" font-family=\"Times New Roman,serif\" font-size=\"14.00\">data 0.7070</text>\n<polyline fill=\"none\" stroke=\"black\" points=\"2874,-135.5 2874,-171.5 \"/>\n<text text-anchor=\"middle\" x=\"2915.5\" y=\"-149.8\" font-family=\"Times New Roman,serif\" font-size=\"14.00\">grad 1.0000</text>\n</g>\n<!-- 3123041907184*&#45;&gt;3123041907184 -->\n<g id=\"edge10\" class=\"edge\">\n<title>3123041907184*&#45;&gt;3123041907184</title>\n<path fill=\"none\" stroke=\"black\" d=\"M2733.29,-153.5C2740.78,-153.5 2749.42,-153.5 2758.6,-153.5\"/>\n<polygon fill=\"black\" stroke=\"black\" points=\"2758.76,-157 2768.76,-153.5 2758.76,-150 2758.76,-157\"/>\n</g>\n</g>\n</svg>\n",
      "text/plain": [
       "<graphviz.graphs.Digraph at 0x2d723cde280>"
      ]
     },
     "execution_count": 7,
     "metadata": {},
     "output_type": "execute_result"
    }
   ],
   "source": [
    "x1 = Value(2.0, label='x1')\n",
    "x2 = Value(0.0, label='x2')\n",
    "w1 = Value(-3.0, label='w1')\n",
    "w2 = Value(1.0, label='w2')\n",
    "b = Value(6.88123415, label='b')\n",
    "x1w1 = x1*w1; x1w1.label = 'x1*w1'\n",
    "x2w2 = x2*w2; x2w2.label = 'x2*w2'\n",
    "x1w1x2w2 = x1w1 + x2w2; x1w1x2w2.label = 'x1*w1 + x2*w2'\n",
    "n = x1w1x2w2 + b; n.label = 'n'\n",
    "\n",
    "e = (2*n).exp()\n",
    "o = (e-1) / (e+1); o.label = 'o'\n",
    "\n",
    "o.backward()\n",
    "draw_dot(o)"
   ]
  },
  {
   "cell_type": "code",
   "execution_count": 8,
   "metadata": {},
   "outputs": [
    {
     "name": "stdout",
     "output_type": "stream",
     "text": [
      "0.7071050214706146\n",
      "---\n",
      "x1 -1.500007465833125\n",
      "w1 1.0000049772220834\n",
      "x2 0.5000024886110417\n",
      "w2 0.0\n"
     ]
    }
   ],
   "source": [
    "import torch\n",
    "\n",
    "x1 = torch.Tensor([2.0]).double()       ; x1.requires_grad = True\n",
    "w1 = torch.Tensor([-3.0]).double()       ; w1.requires_grad = True\n",
    "x2 = torch.Tensor([0.0]).double()       ; x2.requires_grad = True\n",
    "w2 = torch.Tensor([1.0]).double()       ; w2.requires_grad = True\n",
    "b = torch.Tensor([6.88137]).double()    ; b.requires_grad = True\n",
    "n = x1*w1 + x2*w2 + b\n",
    "o = torch.tanh(n)\n",
    "\n",
    "print(o.data.item())\n",
    "o.backward()\n",
    "\n",
    "print('---')\n",
    "print('x1', x1.grad.item())\n",
    "print('w1', w1.grad.item())\n",
    "print('x2', x2.grad.item())\n",
    "print('w2', w2.grad.item())"
   ]
  },
  {
   "cell_type": "code",
   "execution_count": 101,
   "metadata": {},
   "outputs": [],
   "source": [
    "import random\n",
    "\n",
    "class Neuron:\n",
    "    def __init__(self, nin):\n",
    "        self.w = [Value(random.uniform(-1, 1)) for _ in range(nin)]\n",
    "        self.b = Value(random.uniform(-1, 1))\n",
    "\n",
    "    def __call__(self, x):\n",
    "        act = sum(wi*xi for wi, xi in zip(self.w, x)) + self.b  \n",
    "        out = act.tanh()\n",
    "        return out\n",
    "\n",
    "    def parameters(self):\n",
    "        return self.w + [self.b]\n",
    "\n",
    "class Layer:\n",
    "\n",
    "    def __init__(self, nin, nout):\n",
    "        self.neurons = [Neuron(nin) for _ in range(nout)]\n",
    "\n",
    "    def __call__(self, x):\n",
    "        outs = [n(x) for n in self.neurons]\n",
    "        # return outs\n",
    "        return outs[0] if len(outs) == 1 else outs\n",
    "\n",
    "    def parameters(self):\n",
    "        return [p for neuron in self.neurons for p in neuron.parameters()]\n",
    "         \n",
    "class MLP:\n",
    "\n",
    "    def __init__(self, nin, nouts):\n",
    "        sz = [nin] + nouts\n",
    "        self.layers = [Layer(sz[i], sz[i+1]) for i in range(len(nouts))]\n",
    "\n",
    "    def __call__(self, x):\n",
    "        for layer in self.layers:\n",
    "            x = layer(x)\n",
    "        return x\n",
    "\n",
    "    def forward(self, xs):\n",
    "        return [n(x) for x in xs]\n",
    "        \n",
    "    def parameters(self):\n",
    "        return [p for layer in self.layers for p in layer.parameters()]\n",
    "\n",
    "    def backprop(self, xs, ys):\n",
    "        # Forward pass\n",
    "        ypred = self.forward(xs)\n",
    "        # Loss\n",
    "        loss = sum([(yout - ygt)**2 for ygt, yout in zip(ys, ypred)])\n",
    "        # Backward pass\n",
    "        loss.backward()\n",
    "        # Update\n",
    "        for p in n.parameters():\n",
    "            p.data -= 0.2 * p.grad\n",
    "            p.grad = 0.0\n",
    "            \n",
    "        return loss\n",
    "\n",
    "    def train(self, xs, ys):\n",
    "        for ix in range(25):\n",
    "            loss = self.backprop(xs, ys)\n",
    "            print(ix, loss.data)\n",
    "        "
   ]
  },
  {
   "cell_type": "code",
   "execution_count": 102,
   "metadata": {},
   "outputs": [
    {
     "data": {
      "text/plain": [
       "Value(data=-0.48827269950076907)"
      ]
     },
     "execution_count": 102,
     "metadata": {},
     "output_type": "execute_result"
    }
   ],
   "source": [
    "x = [2.0, 3.0, -1.0]\n",
    "n = MLP(3, [4, 4, 1])\n",
    "n(x)"
   ]
  },
  {
   "cell_type": "code",
   "execution_count": 103,
   "metadata": {},
   "outputs": [],
   "source": [
    "# draw_dot(n(x))\n",
    "xs = [\n",
    "    [2.0, 3.0, -1.0],\n",
    "    [3.0, -1.0, 0.5],\n",
    "    [0.5, 1.0, 1.0],\n",
    "    [1.0, 1.0, -1.0],\n",
    "]\n",
    "\n",
    "ys = [1.0, -1.0, -1.0, 1.0]"
   ]
  },
  {
   "cell_type": "code",
   "execution_count": 104,
   "metadata": {},
   "outputs": [
    {
     "name": "stdout",
     "output_type": "stream",
     "text": [
      "0 9.610132790690708\n",
      "1 6.594855367785428\n",
      "2 5.887000240771423\n",
      "3 7.466728584827238\n",
      "4 5.9269458650351865\n",
      "5 6.990529435084165\n",
      "6 3.281585850661109\n",
      "7 4.879519674359105\n",
      "8 3.7917741848679594\n",
      "9 1.0699361671415522\n",
      "10 0.02379215994746552\n",
      "11 0.010203161919743032\n",
      "12 0.008028521937897937\n",
      "13 0.006826152944863514\n",
      "14 0.006029933387304364\n",
      "15 0.005451005528447716\n",
      "16 0.0050047847509303335\n",
      "17 0.00464676336906499\n",
      "18 0.00435094004623629\n",
      "19 0.004100954787716373\n",
      "20 0.0038859240683901644\n",
      "21 0.0036982854706568173\n",
      "22 0.003532596953092256\n",
      "23 0.0033848277862283975\n",
      "24 0.0032519195116314007\n"
     ]
    },
    {
     "data": {
      "text/plain": [
       "[Value(data=0.9821953389815351),\n",
       " Value(data=-0.9754811369523274),\n",
       " Value(data=-0.9775009081496524),\n",
       " Value(data=0.9586827705520201)]"
      ]
     },
     "execution_count": 104,
     "metadata": {},
     "output_type": "execute_result"
    }
   ],
   "source": [
    "n.train(xs, ys)\n",
    "n.forward(xs)"
   ]
  }
 ],
 "metadata": {
  "kernelspec": {
   "display_name": "sar",
   "language": "python",
   "name": "python3"
  },
  "language_info": {
   "codemirror_mode": {
    "name": "ipython",
    "version": 3
   },
   "file_extension": ".py",
   "mimetype": "text/x-python",
   "name": "python",
   "nbconvert_exporter": "python",
   "pygments_lexer": "ipython3",
   "version": "3.9.16"
  },
  "orig_nbformat": 4,
  "vscode": {
   "interpreter": {
    "hash": "27de8e0f662d9c88b623b964dec131d3e6528792c9f6ac8dca39b54b5546b1d9"
   }
  }
 },
 "nbformat": 4,
 "nbformat_minor": 2
}
