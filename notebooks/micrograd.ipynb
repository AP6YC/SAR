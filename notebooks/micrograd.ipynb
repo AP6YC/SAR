{
 "cells": [
  {
   "cell_type": "code",
   "execution_count": 98,
   "metadata": {},
   "outputs": [],
   "source": [
    "import math\n",
    "import numpy as np\n",
    "import matplotlib.pyplot as plt\n",
    "%matplotlib inline"
   ]
  },
  {
   "cell_type": "code",
   "execution_count": 143,
   "metadata": {},
   "outputs": [],
   "source": [
    "class Value:\n",
    "    def __init__(self, data, _children=(), _op='', label=''):\n",
    "        self.data = data\n",
    "        self.grad = 0\n",
    "        self._backward = lambda: None\n",
    "        self._prev = set(_children)\n",
    "        self._op = _op\n",
    "        self.label = label\n",
    "\n",
    "    def __repr__(self):\n",
    "        return f\"Value(data={self.data})\"\n",
    "\n",
    "    def __add__(self, other):\n",
    "        other = other if isinstance(other, Value) else Value(other)\n",
    "        out = Value(self.data + other.data, (self, other), '+')\n",
    "        def _backward():\n",
    "            self.grad += 1.0 * out.grad\n",
    "            other.grad += 1.0 * out.grad\n",
    "        out._backward = _backward\n",
    "        return out\n",
    "\n",
    "    def __mul__(self, other):\n",
    "        other = other if isinstance(other, Value) else Value(other)\n",
    "        out = Value(self.data * other.data, (self, other), '*')\n",
    "\n",
    "        def _backward():\n",
    "            self.grad += other.data * out.grad\n",
    "            other.grad += self.data * out.grad\n",
    "        out._backward = _backward\n",
    "\n",
    "        return out\n",
    "\n",
    "    def __rmul__(self, other):\n",
    "        return self * other\n",
    "\n",
    "    def __neg__(self):\n",
    "        return self * -1\n",
    "\n",
    "    def __truediv__(self, other):\n",
    "        return self * other**-1\n",
    "\n",
    "    def __pow__(self, other):\n",
    "        assert isinstance(other, (int, float)), \"only supporting int/float powers for now\"\n",
    "        out = Value(self.data**other, (self, ), f'**{other}')\n",
    "\n",
    "        def _backward():\n",
    "            self.grad += other * (self.data ** (other-1) ) * out.grad\n",
    "        out._backward = _backward\n",
    "\n",
    "        return out\n",
    "\n",
    "    def __sub__(self, other):\n",
    "        return self + (-other)\n",
    "\n",
    "    def tanh(self):\n",
    "        n = self.data\n",
    "        t = (math.exp(2*n) - 1) / (math.exp(2*n) + 1)\n",
    "        out = Value(t, (self, ), 'tanh')\n",
    "\n",
    "        def _backward():\n",
    "            self.grad += (1-t**2) * out.grad\n",
    "            \n",
    "        out._backward = _backward\n",
    "        return out\n",
    "\n",
    "    def exp(self):\n",
    "        x = self.data\n",
    "        out = Value(math.exp(x), (self, ), 'exp')\n",
    "\n",
    "        def _backward():\n",
    "            self.grad += out.data * out.grad\n",
    "        out._backward = _backward\n",
    "\n",
    "        return out\n",
    "\n",
    "    def backward(self):\n",
    "        topo = []\n",
    "        visited = set()\n",
    "        def build_topo(v):\n",
    "            if v not in visited:\n",
    "                visited.add(v)\n",
    "                for child in v._prev:\n",
    "                    build_topo(child)\n",
    "                topo.append(v)\n",
    "        build_topo(self)\n",
    "\n",
    "        self.grad = 1.0\n",
    "        for node in reversed(topo):\n",
    "            node._backward()"
   ]
  },
  {
   "cell_type": "code",
   "execution_count": 144,
   "metadata": {},
   "outputs": [
    {
     "data": {
      "text/plain": [
       "Value(data=0.6666666666666666)"
      ]
     },
     "execution_count": 144,
     "metadata": {},
     "output_type": "execute_result"
    }
   ],
   "source": [
    "a = Value(2.0)\n",
    "b = Value(4.0)\n",
    "a.exp()\n",
    "a / 3"
   ]
  },
  {
   "cell_type": "code",
   "execution_count": 145,
   "metadata": {},
   "outputs": [],
   "source": [
    "from graphviz import Digraph\n",
    "\n",
    "def trace(root):\n",
    "    # builds a set of all nodes and edges in a graph\n",
    "    nodes, edges = set(), set()\n",
    "    def build(v):\n",
    "        if v not in nodes:\n",
    "            nodes.add(v)\n",
    "            for child in v._prev:\n",
    "                edges.add((child, v))\n",
    "                build(child)\n",
    "    build(root)\n",
    "    return nodes, edges\n",
    "\n",
    "def draw_dot(root):\n",
    "    dot = Digraph(format='svg', graph_attr={'rankdir': 'LR'}) # LR = left to right\n",
    "\n",
    "    nodes, edges = trace(root)\n",
    "    for n in nodes:\n",
    "        uid = str(id(n))\n",
    "        # for any value in the graph, create a rectangular ('record') node for it\n",
    "        dot.node(name=uid, label = \"{ %s | data % .4f | grad %.4f}\" % (n.label, n.data, n.grad, ), shape='record')\n",
    "        if n._op:\n",
    "            # if this value is a result of some operation, create an op node for it\n",
    "            dot.node(name=uid + n._op, label=n._op)\n",
    "            # and connect this node to it\n",
    "            dot.edge(uid + n._op, uid)\n",
    "    \n",
    "    for n1, n2 in edges:\n",
    "        # connect n1 to the op node of n2\n",
    "        dot.edge(str(id(n1)), str(id(n2)) + n2._op)\n",
    "\n",
    "    return dot"
   ]
  },
  {
   "cell_type": "code",
   "execution_count": 146,
   "metadata": {},
   "outputs": [],
   "source": [
    "x1 = Value(2.0, label='x1')\n",
    "x2 = Value(0.0, label='x2')\n",
    "w1 = Value(-3.0, label='w1')\n",
    "w2 = Value(1.0, label='w2')\n",
    "b = Value(6.88123415, label='b')\n",
    "x1w1 = x1*w1; x1w1.label = 'x1*w1'\n",
    "x2w2 = x2*w2; x2w2.label = 'x2*w2'\n",
    "x1w1x2w2 = x1w1 + x2w2; x1w1x2w2.label = 'x1*w1 + x2*w2'\n",
    "n = x1w1x2w2 + b; n.label = 'n'\n",
    "o = n.tanh(); o.label = 'o'"
   ]
  },
  {
   "cell_type": "code",
   "execution_count": 147,
   "metadata": {},
   "outputs": [
    {
     "data": {
      "image/svg+xml": "<?xml version=\"1.0\" encoding=\"UTF-8\" standalone=\"no\"?>\n<!DOCTYPE svg PUBLIC \"-//W3C//DTD SVG 1.1//EN\"\n \"http://www.w3.org/Graphics/SVG/1.1/DTD/svg11.dtd\">\n<!-- Generated by graphviz version 7.1.0 (20230121.1956)\n -->\n<!-- Pages: 1 -->\n<svg width=\"1586pt\" height=\"210pt\"\n viewBox=\"0.00 0.00 1586.00 210.00\" xmlns=\"http://www.w3.org/2000/svg\" xmlns:xlink=\"http://www.w3.org/1999/xlink\">\n<g id=\"graph0\" class=\"graph\" transform=\"scale(1 1) rotate(0) translate(4 206)\">\n<polygon fill=\"white\" stroke=\"none\" points=\"-4,4 -4,-206 1582,-206 1582,4 -4,4\"/>\n<!-- 1907495151120 -->\n<g id=\"node1\" class=\"node\">\n<title>1907495151120</title>\n<polygon fill=\"none\" stroke=\"black\" points=\"676,-82.5 676,-118.5 951,-118.5 951,-82.5 676,-82.5\"/>\n<text text-anchor=\"middle\" x=\"729\" y=\"-96.8\" font-family=\"Times New Roman,serif\" font-size=\"14.00\">x1*w1 + x2*w2</text>\n<polyline fill=\"none\" stroke=\"black\" points=\"782,-82.5 782,-118.5\"/>\n<text text-anchor=\"middle\" x=\"825\" y=\"-96.8\" font-family=\"Times New Roman,serif\" font-size=\"14.00\">data &#45;6.0000</text>\n<polyline fill=\"none\" stroke=\"black\" points=\"868,-82.5 868,-118.5\"/>\n<text text-anchor=\"middle\" x=\"909.5\" y=\"-96.8\" font-family=\"Times New Roman,serif\" font-size=\"14.00\">grad 0.5001</text>\n</g>\n<!-- 1907495150544+ -->\n<g id=\"node15\" class=\"node\">\n<title>1907495150544+</title>\n<ellipse fill=\"none\" stroke=\"black\" cx=\"1014\" cy=\"-127.5\" rx=\"27\" ry=\"18\"/>\n<text text-anchor=\"middle\" x=\"1014\" y=\"-123.8\" font-family=\"Times New Roman,serif\" font-size=\"14.00\">+</text>\n</g>\n<!-- 1907495151120&#45;&gt;1907495150544+ -->\n<g id=\"edge9\" class=\"edge\">\n<title>1907495151120&#45;&gt;1907495150544+</title>\n<path fill=\"none\" stroke=\"black\" d=\"M946.63,-118.47C957.13,-119.9 967.07,-121.25 975.91,-122.46\"/>\n<polygon fill=\"black\" stroke=\"black\" points=\"975.36,-125.91 985.74,-123.79 976.3,-118.98 975.36,-125.91\"/>\n</g>\n<!-- 1907495151120+ -->\n<g id=\"node2\" class=\"node\">\n<title>1907495151120+</title>\n<ellipse fill=\"none\" stroke=\"black\" cx=\"613\" cy=\"-100.5\" rx=\"27\" ry=\"18\"/>\n<text text-anchor=\"middle\" x=\"613\" y=\"-96.8\" font-family=\"Times New Roman,serif\" font-size=\"14.00\">+</text>\n</g>\n<!-- 1907495151120+&#45;&gt;1907495151120 -->\n<g id=\"edge1\" class=\"edge\">\n<title>1907495151120+&#45;&gt;1907495151120</title>\n<path fill=\"none\" stroke=\"black\" d=\"M640.36,-100.5C647.56,-100.5 655.89,-100.5 664.94,-100.5\"/>\n<polygon fill=\"black\" stroke=\"black\" points=\"664.78,-104 674.78,-100.5 664.78,-97 664.78,-104\"/>\n</g>\n<!-- 1907466179152 -->\n<g id=\"node3\" class=\"node\">\n<title>1907466179152</title>\n<polygon fill=\"none\" stroke=\"black\" points=\"0,-55.5 0,-91.5 202,-91.5 202,-55.5 0,-55.5\"/>\n<text text-anchor=\"middle\" x=\"16.5\" y=\"-69.8\" font-family=\"Times New Roman,serif\" font-size=\"14.00\">w1</text>\n<polyline fill=\"none\" stroke=\"black\" points=\"33,-55.5 33,-91.5\"/>\n<text text-anchor=\"middle\" x=\"76\" y=\"-69.8\" font-family=\"Times New Roman,serif\" font-size=\"14.00\">data &#45;3.0000</text>\n<polyline fill=\"none\" stroke=\"black\" points=\"119,-55.5 119,-91.5\"/>\n<text text-anchor=\"middle\" x=\"160.5\" y=\"-69.8\" font-family=\"Times New Roman,serif\" font-size=\"14.00\">grad 1.0002</text>\n</g>\n<!-- 1907494072768* -->\n<g id=\"node13\" class=\"node\">\n<title>1907494072768*</title>\n<ellipse fill=\"none\" stroke=\"black\" cx=\"265\" cy=\"-73.5\" rx=\"27\" ry=\"18\"/>\n<text text-anchor=\"middle\" x=\"265\" y=\"-69.8\" font-family=\"Times New Roman,serif\" font-size=\"14.00\">*</text>\n</g>\n<!-- 1907466179152&#45;&gt;1907494072768* -->\n<g id=\"edge14\" class=\"edge\">\n<title>1907466179152&#45;&gt;1907494072768*</title>\n<path fill=\"none\" stroke=\"black\" d=\"M201.83,-73.5C210.46,-73.5 218.79,-73.5 226.4,-73.5\"/>\n<polygon fill=\"black\" stroke=\"black\" points=\"226.18,-77 236.18,-73.5 226.18,-70 226.18,-77\"/>\n</g>\n<!-- 1907495152080 -->\n<g id=\"node4\" class=\"node\">\n<title>1907495152080</title>\n<polygon fill=\"none\" stroke=\"black\" points=\"330.5,-110.5 330.5,-146.5 547.5,-146.5 547.5,-110.5 330.5,-110.5\"/>\n<text text-anchor=\"middle\" x=\"357\" y=\"-124.8\" font-family=\"Times New Roman,serif\" font-size=\"14.00\">x2*w2</text>\n<polyline fill=\"none\" stroke=\"black\" points=\"383.5,-110.5 383.5,-146.5\"/>\n<text text-anchor=\"middle\" x=\"424\" y=\"-124.8\" font-family=\"Times New Roman,serif\" font-size=\"14.00\">data 0.0000</text>\n<polyline fill=\"none\" stroke=\"black\" points=\"464.5,-110.5 464.5,-146.5\"/>\n<text text-anchor=\"middle\" x=\"506\" y=\"-124.8\" font-family=\"Times New Roman,serif\" font-size=\"14.00\">grad 0.5001</text>\n</g>\n<!-- 1907495152080&#45;&gt;1907495151120+ -->\n<g id=\"edge7\" class=\"edge\">\n<title>1907495152080&#45;&gt;1907495151120+</title>\n<path fill=\"none\" stroke=\"black\" d=\"M547.46,-111.01C557.25,-109.41 566.64,-107.88 575.08,-106.51\"/>\n<polygon fill=\"black\" stroke=\"black\" points=\"575.52,-109.98 584.83,-104.92 574.4,-103.08 575.52,-109.98\"/>\n</g>\n<!-- 1907495152080* -->\n<g id=\"node5\" class=\"node\">\n<title>1907495152080*</title>\n<ellipse fill=\"none\" stroke=\"black\" cx=\"265\" cy=\"-128.5\" rx=\"27\" ry=\"18\"/>\n<text text-anchor=\"middle\" x=\"265\" y=\"-124.8\" font-family=\"Times New Roman,serif\" font-size=\"14.00\">*</text>\n</g>\n<!-- 1907495152080*&#45;&gt;1907495152080 -->\n<g id=\"edge2\" class=\"edge\">\n<title>1907495152080*&#45;&gt;1907495152080</title>\n<path fill=\"none\" stroke=\"black\" d=\"M292.5,-128.5C300.37,-128.5 309.55,-128.5 319.4,-128.5\"/>\n<polygon fill=\"black\" stroke=\"black\" points=\"319.25,-132 329.25,-128.5 319.25,-125 319.25,-132\"/>\n</g>\n<!-- 1907466182272 -->\n<g id=\"node6\" class=\"node\">\n<title>1907466182272</title>\n<polygon fill=\"none\" stroke=\"black\" points=\"4,-165.5 4,-201.5 198,-201.5 198,-165.5 4,-165.5\"/>\n<text text-anchor=\"middle\" x=\"19\" y=\"-179.8\" font-family=\"Times New Roman,serif\" font-size=\"14.00\">x2</text>\n<polyline fill=\"none\" stroke=\"black\" points=\"34,-165.5 34,-201.5\"/>\n<text text-anchor=\"middle\" x=\"74.5\" y=\"-179.8\" font-family=\"Times New Roman,serif\" font-size=\"14.00\">data 0.0000</text>\n<polyline fill=\"none\" stroke=\"black\" points=\"115,-165.5 115,-201.5\"/>\n<text text-anchor=\"middle\" x=\"156.5\" y=\"-179.8\" font-family=\"Times New Roman,serif\" font-size=\"14.00\">grad 0.5001</text>\n</g>\n<!-- 1907466182272&#45;&gt;1907495152080* -->\n<g id=\"edge13\" class=\"edge\">\n<title>1907466182272&#45;&gt;1907495152080*</title>\n<path fill=\"none\" stroke=\"black\" d=\"M173.99,-165.56C183.48,-162.75 193.03,-159.71 202,-156.5 212.1,-152.88 222.83,-148.31 232.49,-143.91\"/>\n<polygon fill=\"black\" stroke=\"black\" points=\"233.88,-147.12 241.46,-139.72 230.92,-140.78 233.88,-147.12\"/>\n</g>\n<!-- 1907466180352 -->\n<g id=\"node7\" class=\"node\">\n<title>1907466180352</title>\n<polygon fill=\"none\" stroke=\"black\" points=\"2,-0.5 2,-36.5 200,-36.5 200,-0.5 2,-0.5\"/>\n<text text-anchor=\"middle\" x=\"17\" y=\"-14.8\" font-family=\"Times New Roman,serif\" font-size=\"14.00\">x1</text>\n<polyline fill=\"none\" stroke=\"black\" points=\"32,-0.5 32,-36.5\"/>\n<text text-anchor=\"middle\" x=\"72.5\" y=\"-14.8\" font-family=\"Times New Roman,serif\" font-size=\"14.00\">data 2.0000</text>\n<polyline fill=\"none\" stroke=\"black\" points=\"113,-0.5 113,-36.5\"/>\n<text text-anchor=\"middle\" x=\"156.5\" y=\"-14.8\" font-family=\"Times New Roman,serif\" font-size=\"14.00\">grad &#45;1.5003</text>\n</g>\n<!-- 1907466180352&#45;&gt;1907494072768* -->\n<g id=\"edge12\" class=\"edge\">\n<title>1907466180352&#45;&gt;1907494072768*</title>\n<path fill=\"none\" stroke=\"black\" d=\"M170.98,-36.47C181.45,-39.58 192.06,-42.96 202,-46.5 211.97,-50.05 222.6,-54.44 232.19,-58.65\"/>\n<polygon fill=\"black\" stroke=\"black\" points=\"230.55,-61.75 241.11,-62.64 233.41,-55.36 230.55,-61.75\"/>\n</g>\n<!-- 1907495152992 -->\n<g id=\"node8\" class=\"node\">\n<title>1907495152992</title>\n<polygon fill=\"none\" stroke=\"black\" points=\"1390,-109.5 1390,-145.5 1578,-145.5 1578,-109.5 1390,-109.5\"/>\n<text text-anchor=\"middle\" x=\"1402\" y=\"-123.8\" font-family=\"Times New Roman,serif\" font-size=\"14.00\">o</text>\n<polyline fill=\"none\" stroke=\"black\" points=\"1414,-109.5 1414,-145.5\"/>\n<text text-anchor=\"middle\" x=\"1454.5\" y=\"-123.8\" font-family=\"Times New Roman,serif\" font-size=\"14.00\">data 0.7070</text>\n<polyline fill=\"none\" stroke=\"black\" points=\"1495,-109.5 1495,-145.5\"/>\n<text text-anchor=\"middle\" x=\"1536.5\" y=\"-123.8\" font-family=\"Times New Roman,serif\" font-size=\"14.00\">grad 1.0000</text>\n</g>\n<!-- 1907495152992tanh -->\n<g id=\"node9\" class=\"node\">\n<title>1907495152992tanh</title>\n<ellipse fill=\"none\" stroke=\"black\" cx=\"1327\" cy=\"-127.5\" rx=\"27\" ry=\"18\"/>\n<text text-anchor=\"middle\" x=\"1327\" y=\"-123.8\" font-family=\"Times New Roman,serif\" font-size=\"14.00\">tanh</text>\n</g>\n<!-- 1907495152992tanh&#45;&gt;1907495152992 -->\n<g id=\"edge3\" class=\"edge\">\n<title>1907495152992tanh&#45;&gt;1907495152992</title>\n<path fill=\"none\" stroke=\"black\" d=\"M1354.29,-127.5C1361.52,-127.5 1369.82,-127.5 1378.66,-127.5\"/>\n<polygon fill=\"black\" stroke=\"black\" points=\"1378.57,-131 1388.57,-127.5 1378.57,-124 1378.57,-131\"/>\n</g>\n<!-- 1907466180544 -->\n<g id=\"node10\" class=\"node\">\n<title>1907466180544</title>\n<polygon fill=\"none\" stroke=\"black\" points=\"2.5,-110.5 2.5,-146.5 199.5,-146.5 199.5,-110.5 2.5,-110.5\"/>\n<text text-anchor=\"middle\" x=\"19\" y=\"-124.8\" font-family=\"Times New Roman,serif\" font-size=\"14.00\">w2</text>\n<polyline fill=\"none\" stroke=\"black\" points=\"35.5,-110.5 35.5,-146.5\"/>\n<text text-anchor=\"middle\" x=\"76\" y=\"-124.8\" font-family=\"Times New Roman,serif\" font-size=\"14.00\">data 1.0000</text>\n<polyline fill=\"none\" stroke=\"black\" points=\"116.5,-110.5 116.5,-146.5\"/>\n<text text-anchor=\"middle\" x=\"158\" y=\"-124.8\" font-family=\"Times New Roman,serif\" font-size=\"14.00\">grad 0.0000</text>\n</g>\n<!-- 1907466180544&#45;&gt;1907495152080* -->\n<g id=\"edge10\" class=\"edge\">\n<title>1907466180544&#45;&gt;1907495152080*</title>\n<path fill=\"none\" stroke=\"black\" d=\"M199.04,-128.5C208.66,-128.5 217.96,-128.5 226.38,-128.5\"/>\n<polygon fill=\"black\" stroke=\"black\" points=\"226.12,-132 236.12,-128.5 226.12,-125 226.12,-132\"/>\n</g>\n<!-- 1907466181552 -->\n<g id=\"node11\" class=\"node\">\n<title>1907466181552</title>\n<polygon fill=\"none\" stroke=\"black\" points=\"719.5,-137.5 719.5,-173.5 907.5,-173.5 907.5,-137.5 719.5,-137.5\"/>\n<text text-anchor=\"middle\" x=\"731.5\" y=\"-151.8\" font-family=\"Times New Roman,serif\" font-size=\"14.00\">b</text>\n<polyline fill=\"none\" stroke=\"black\" points=\"743.5,-137.5 743.5,-173.5\"/>\n<text text-anchor=\"middle\" x=\"784\" y=\"-151.8\" font-family=\"Times New Roman,serif\" font-size=\"14.00\">data 6.8812</text>\n<polyline fill=\"none\" stroke=\"black\" points=\"824.5,-137.5 824.5,-173.5\"/>\n<text text-anchor=\"middle\" x=\"866\" y=\"-151.8\" font-family=\"Times New Roman,serif\" font-size=\"14.00\">grad 0.5001</text>\n</g>\n<!-- 1907466181552&#45;&gt;1907495150544+ -->\n<g id=\"edge11\" class=\"edge\">\n<title>1907466181552&#45;&gt;1907495150544+</title>\n<path fill=\"none\" stroke=\"black\" d=\"M907.36,-142.4C931.59,-138.98 956.33,-135.49 975.77,-132.75\"/>\n<polygon fill=\"black\" stroke=\"black\" points=\"976.23,-136.22 985.64,-131.36 975.25,-129.29 976.23,-136.22\"/>\n</g>\n<!-- 1907494072768 -->\n<g id=\"node12\" class=\"node\">\n<title>1907494072768</title>\n<polygon fill=\"none\" stroke=\"black\" points=\"328,-55.5 328,-91.5 550,-91.5 550,-55.5 328,-55.5\"/>\n<text text-anchor=\"middle\" x=\"354.5\" y=\"-69.8\" font-family=\"Times New Roman,serif\" font-size=\"14.00\">x1*w1</text>\n<polyline fill=\"none\" stroke=\"black\" points=\"381,-55.5 381,-91.5\"/>\n<text text-anchor=\"middle\" x=\"424\" y=\"-69.8\" font-family=\"Times New Roman,serif\" font-size=\"14.00\">data &#45;6.0000</text>\n<polyline fill=\"none\" stroke=\"black\" points=\"467,-55.5 467,-91.5\"/>\n<text text-anchor=\"middle\" x=\"508.5\" y=\"-69.8\" font-family=\"Times New Roman,serif\" font-size=\"14.00\">grad 0.5001</text>\n</g>\n<!-- 1907494072768&#45;&gt;1907495151120+ -->\n<g id=\"edge8\" class=\"edge\">\n<title>1907494072768&#45;&gt;1907495151120+</title>\n<path fill=\"none\" stroke=\"black\" d=\"M549.9,-90.75C558.72,-92.14 567.17,-93.46 574.84,-94.67\"/>\n<polygon fill=\"black\" stroke=\"black\" points=\"574.29,-98.12 584.71,-96.22 575.37,-91.21 574.29,-98.12\"/>\n</g>\n<!-- 1907494072768*&#45;&gt;1907494072768 -->\n<g id=\"edge4\" class=\"edge\">\n<title>1907494072768*&#45;&gt;1907494072768</title>\n<path fill=\"none\" stroke=\"black\" d=\"M292.5,-73.5C299.65,-73.5 307.89,-73.5 316.72,-73.5\"/>\n<polygon fill=\"black\" stroke=\"black\" points=\"316.69,-77 326.68,-73.5 316.68,-70 316.69,-77\"/>\n</g>\n<!-- 1907495150544 -->\n<g id=\"node14\" class=\"node\">\n<title>1907495150544</title>\n<polygon fill=\"none\" stroke=\"black\" points=\"1077,-109.5 1077,-145.5 1264,-145.5 1264,-109.5 1077,-109.5\"/>\n<text text-anchor=\"middle\" x=\"1088.5\" y=\"-123.8\" font-family=\"Times New Roman,serif\" font-size=\"14.00\">n</text>\n<polyline fill=\"none\" stroke=\"black\" points=\"1100,-109.5 1100,-145.5\"/>\n<text text-anchor=\"middle\" x=\"1140.5\" y=\"-123.8\" font-family=\"Times New Roman,serif\" font-size=\"14.00\">data 0.8812</text>\n<polyline fill=\"none\" stroke=\"black\" points=\"1181,-109.5 1181,-145.5\"/>\n<text text-anchor=\"middle\" x=\"1222.5\" y=\"-123.8\" font-family=\"Times New Roman,serif\" font-size=\"14.00\">grad 0.5001</text>\n</g>\n<!-- 1907495150544&#45;&gt;1907495152992tanh -->\n<g id=\"edge6\" class=\"edge\">\n<title>1907495150544&#45;&gt;1907495152992tanh</title>\n<path fill=\"none\" stroke=\"black\" d=\"M1263.6,-127.5C1272.26,-127.5 1280.65,-127.5 1288.33,-127.5\"/>\n<polygon fill=\"black\" stroke=\"black\" points=\"1288.23,-131 1298.23,-127.5 1288.23,-124 1288.23,-131\"/>\n</g>\n<!-- 1907495150544+&#45;&gt;1907495150544 -->\n<g id=\"edge5\" class=\"edge\">\n<title>1907495150544+&#45;&gt;1907495150544</title>\n<path fill=\"none\" stroke=\"black\" d=\"M1041.21,-127.5C1048.47,-127.5 1056.83,-127.5 1065.71,-127.5\"/>\n<polygon fill=\"black\" stroke=\"black\" points=\"1065.7,-131 1075.7,-127.5 1065.7,-124 1065.7,-131\"/>\n</g>\n</g>\n</svg>\n",
      "text/plain": [
       "<graphviz.graphs.Digraph at 0x1bc1f8eadf0>"
      ]
     },
     "execution_count": 147,
     "metadata": {},
     "output_type": "execute_result"
    }
   ],
   "source": [
    "o.backward()\n",
    "draw_dot(o)"
   ]
  },
  {
   "cell_type": "code",
   "execution_count": 149,
   "metadata": {},
   "outputs": [
    {
     "data": {
      "image/svg+xml": "<?xml version=\"1.0\" encoding=\"UTF-8\" standalone=\"no\"?>\n<!DOCTYPE svg PUBLIC \"-//W3C//DTD SVG 1.1//EN\"\n \"http://www.w3.org/Graphics/SVG/1.1/DTD/svg11.dtd\">\n<!-- Generated by graphviz version 7.1.0 (20230121.1956)\n -->\n<!-- Pages: 1 -->\n<svg width=\"2965pt\" height=\"236pt\"\n viewBox=\"0.00 0.00 2965.00 236.00\" xmlns=\"http://www.w3.org/2000/svg\" xmlns:xlink=\"http://www.w3.org/1999/xlink\">\n<g id=\"graph0\" class=\"graph\" transform=\"scale(1 1) rotate(0) translate(4 232)\">\n<polygon fill=\"white\" stroke=\"none\" points=\"-4,4 -4,-232 2961,-232 2961,4 -4,4\"/>\n<!-- 1907495737856 -->\n<g id=\"node1\" class=\"node\">\n<title>1907495737856</title>\n<polygon fill=\"none\" stroke=\"black\" points=\"2015,-163.5 2015,-199.5 2203,-199.5 2203,-163.5 2015,-163.5\"/>\n<text text-anchor=\"middle\" x=\"2025\" y=\"-177.8\" font-family=\"Times New Roman,serif\" font-size=\"14.00\"> </text>\n<polyline fill=\"none\" stroke=\"black\" points=\"2035,-163.5 2035,-199.5\"/>\n<text text-anchor=\"middle\" x=\"2075.5\" y=\"-177.8\" font-family=\"Times New Roman,serif\" font-size=\"14.00\">data 6.8268</text>\n<polyline fill=\"none\" stroke=\"black\" points=\"2116,-163.5 2116,-199.5\"/>\n<text text-anchor=\"middle\" x=\"2159.5\" y=\"-177.8\" font-family=\"Times New Roman,serif\" font-size=\"14.00\">grad &#45;0.1036</text>\n</g>\n<!-- 1907495735360**&#45;1 -->\n<g id=\"node8\" class=\"node\">\n<title>1907495735360**&#45;1</title>\n<ellipse fill=\"none\" stroke=\"black\" cx=\"2331\" cy=\"-181.5\" rx=\"27\" ry=\"18\"/>\n<text text-anchor=\"middle\" x=\"2331\" y=\"-177.8\" font-family=\"Times New Roman,serif\" font-size=\"14.00\">**&#45;1</text>\n</g>\n<!-- 1907495737856&#45;&gt;1907495735360**&#45;1 -->\n<g id=\"edge21\" class=\"edge\">\n<title>1907495737856&#45;&gt;1907495735360**&#45;1</title>\n<path fill=\"none\" stroke=\"black\" d=\"M2202.98,-181.5C2234.42,-181.5 2267.77,-181.5 2292.4,-181.5\"/>\n<polygon fill=\"black\" stroke=\"black\" points=\"2292.23,-185 2302.23,-181.5 2292.23,-178 2292.23,-185\"/>\n</g>\n<!-- 1907495737856+ -->\n<g id=\"node2\" class=\"node\">\n<title>1907495737856+</title>\n<ellipse fill=\"none\" stroke=\"black\" cx=\"1952\" cy=\"-181.5\" rx=\"27\" ry=\"18\"/>\n<text text-anchor=\"middle\" x=\"1952\" y=\"-177.8\" font-family=\"Times New Roman,serif\" font-size=\"14.00\">+</text>\n</g>\n<!-- 1907495737856+&#45;&gt;1907495737856 -->\n<g id=\"edge1\" class=\"edge\">\n<title>1907495737856+&#45;&gt;1907495737856</title>\n<path fill=\"none\" stroke=\"black\" d=\"M1979.29,-181.5C1986.52,-181.5 1994.82,-181.5 2003.66,-181.5\"/>\n<polygon fill=\"black\" stroke=\"black\" points=\"2003.57,-185 2013.57,-181.5 2003.57,-178 2003.57,-185\"/>\n</g>\n<!-- 1907495738384 -->\n<g id=\"node3\" class=\"node\">\n<title>1907495738384</title>\n<polygon fill=\"none\" stroke=\"black\" points=\"328,-110.5 328,-146.5 550,-146.5 550,-110.5 328,-110.5\"/>\n<text text-anchor=\"middle\" x=\"354.5\" y=\"-124.8\" font-family=\"Times New Roman,serif\" font-size=\"14.00\">x1*w1</text>\n<polyline fill=\"none\" stroke=\"black\" points=\"381,-110.5 381,-146.5\"/>\n<text text-anchor=\"middle\" x=\"424\" y=\"-124.8\" font-family=\"Times New Roman,serif\" font-size=\"14.00\">data &#45;6.0000</text>\n<polyline fill=\"none\" stroke=\"black\" points=\"467,-110.5 467,-146.5\"/>\n<text text-anchor=\"middle\" x=\"508.5\" y=\"-124.8\" font-family=\"Times New Roman,serif\" font-size=\"14.00\">grad 0.5001</text>\n</g>\n<!-- 1907495738336+ -->\n<g id=\"node28\" class=\"node\">\n<title>1907495738336+</title>\n<ellipse fill=\"none\" stroke=\"black\" cx=\"613\" cy=\"-100.5\" rx=\"27\" ry=\"18\"/>\n<text text-anchor=\"middle\" x=\"613\" y=\"-96.8\" font-family=\"Times New Roman,serif\" font-size=\"14.00\">+</text>\n</g>\n<!-- 1907495738384&#45;&gt;1907495738336+ -->\n<g id=\"edge22\" class=\"edge\">\n<title>1907495738384&#45;&gt;1907495738336+</title>\n<path fill=\"none\" stroke=\"black\" d=\"M549.9,-110.61C558.91,-109.14 567.54,-107.74 575.34,-106.47\"/>\n<polygon fill=\"black\" stroke=\"black\" points=\"575.7,-109.95 585.01,-104.89 574.58,-103.05 575.7,-109.95\"/>\n</g>\n<!-- 1907495738384* -->\n<g id=\"node4\" class=\"node\">\n<title>1907495738384*</title>\n<ellipse fill=\"none\" stroke=\"black\" cx=\"265\" cy=\"-128.5\" rx=\"27\" ry=\"18\"/>\n<text text-anchor=\"middle\" x=\"265\" y=\"-124.8\" font-family=\"Times New Roman,serif\" font-size=\"14.00\">*</text>\n</g>\n<!-- 1907495738384*&#45;&gt;1907495738384 -->\n<g id=\"edge2\" class=\"edge\">\n<title>1907495738384*&#45;&gt;1907495738384</title>\n<path fill=\"none\" stroke=\"black\" d=\"M292.5,-128.5C299.65,-128.5 307.89,-128.5 316.72,-128.5\"/>\n<polygon fill=\"black\" stroke=\"black\" points=\"316.69,-132 326.68,-128.5 316.68,-125 316.69,-132\"/>\n</g>\n<!-- 1907495735840 -->\n<g id=\"node5\" class=\"node\">\n<title>1907495735840</title>\n<polygon fill=\"none\" stroke=\"black\" points=\"2.5,-55.5 2.5,-91.5 199.5,-91.5 199.5,-55.5 2.5,-55.5\"/>\n<text text-anchor=\"middle\" x=\"19\" y=\"-69.8\" font-family=\"Times New Roman,serif\" font-size=\"14.00\">w2</text>\n<polyline fill=\"none\" stroke=\"black\" points=\"35.5,-55.5 35.5,-91.5\"/>\n<text text-anchor=\"middle\" x=\"76\" y=\"-69.8\" font-family=\"Times New Roman,serif\" font-size=\"14.00\">data 1.0000</text>\n<polyline fill=\"none\" stroke=\"black\" points=\"116.5,-55.5 116.5,-91.5\"/>\n<text text-anchor=\"middle\" x=\"158\" y=\"-69.8\" font-family=\"Times New Roman,serif\" font-size=\"14.00\">grad 0.0000</text>\n</g>\n<!-- 1907495738192* -->\n<g id=\"node21\" class=\"node\">\n<title>1907495738192*</title>\n<ellipse fill=\"none\" stroke=\"black\" cx=\"265\" cy=\"-73.5\" rx=\"27\" ry=\"18\"/>\n<text text-anchor=\"middle\" x=\"265\" y=\"-69.8\" font-family=\"Times New Roman,serif\" font-size=\"14.00\">*</text>\n</g>\n<!-- 1907495735840&#45;&gt;1907495738192* -->\n<g id=\"edge18\" class=\"edge\">\n<title>1907495735840&#45;&gt;1907495738192*</title>\n<path fill=\"none\" stroke=\"black\" d=\"M199.04,-73.5C208.66,-73.5 217.96,-73.5 226.38,-73.5\"/>\n<polygon fill=\"black\" stroke=\"black\" points=\"226.12,-77 236.12,-73.5 226.12,-70 226.12,-77\"/>\n</g>\n<!-- 1907495736848 -->\n<g id=\"node6\" class=\"node\">\n<title>1907495736848</title>\n<polygon fill=\"none\" stroke=\"black\" points=\"1078.5,-164.5 1078.5,-200.5 1262.5,-200.5 1262.5,-164.5 1078.5,-164.5\"/>\n<text text-anchor=\"middle\" x=\"1088.5\" y=\"-178.8\" font-family=\"Times New Roman,serif\" font-size=\"14.00\"> </text>\n<polyline fill=\"none\" stroke=\"black\" points=\"1098.5,-164.5 1098.5,-200.5\"/>\n<text text-anchor=\"middle\" x=\"1139\" y=\"-178.8\" font-family=\"Times New Roman,serif\" font-size=\"14.00\">data 2.0000</text>\n<polyline fill=\"none\" stroke=\"black\" points=\"1179.5,-164.5 1179.5,-200.5\"/>\n<text text-anchor=\"middle\" x=\"1221\" y=\"-178.8\" font-family=\"Times New Roman,serif\" font-size=\"14.00\">grad 0.2204</text>\n</g>\n<!-- 1907495735600* -->\n<g id=\"node19\" class=\"node\">\n<title>1907495735600*</title>\n<ellipse fill=\"none\" stroke=\"black\" cx=\"1327\" cy=\"-154.5\" rx=\"27\" ry=\"18\"/>\n<text text-anchor=\"middle\" x=\"1327\" y=\"-150.8\" font-family=\"Times New Roman,serif\" font-size=\"14.00\">*</text>\n</g>\n<!-- 1907495736848&#45;&gt;1907495735600* -->\n<g id=\"edge12\" class=\"edge\">\n<title>1907495736848&#45;&gt;1907495735600*</title>\n<path fill=\"none\" stroke=\"black\" d=\"M1262.27,-166.05C1271.82,-164.32 1281.09,-162.64 1289.47,-161.12\"/>\n<polygon fill=\"black\" stroke=\"black\" points=\"1289.94,-164.59 1299.16,-159.36 1288.69,-157.7 1289.94,-164.59\"/>\n</g>\n<!-- 1907495735360 -->\n<g id=\"node7\" class=\"node\">\n<title>1907495735360</title>\n<polygon fill=\"none\" stroke=\"black\" points=\"2459,-161.5 2459,-197.5 2643,-197.5 2643,-161.5 2459,-161.5\"/>\n<text text-anchor=\"middle\" x=\"2469\" y=\"-175.8\" font-family=\"Times New Roman,serif\" font-size=\"14.00\"> </text>\n<polyline fill=\"none\" stroke=\"black\" points=\"2479,-161.5 2479,-197.5\"/>\n<text text-anchor=\"middle\" x=\"2519.5\" y=\"-175.8\" font-family=\"Times New Roman,serif\" font-size=\"14.00\">data 0.1465</text>\n<polyline fill=\"none\" stroke=\"black\" points=\"2560,-161.5 2560,-197.5\"/>\n<text text-anchor=\"middle\" x=\"2601.5\" y=\"-175.8\" font-family=\"Times New Roman,serif\" font-size=\"14.00\">grad 4.8268</text>\n</g>\n<!-- 1907495737136* -->\n<g id=\"node16\" class=\"node\">\n<title>1907495737136*</title>\n<ellipse fill=\"none\" stroke=\"black\" cx=\"2706\" cy=\"-153.5\" rx=\"27\" ry=\"18\"/>\n<text text-anchor=\"middle\" x=\"2706\" y=\"-149.8\" font-family=\"Times New Roman,serif\" font-size=\"14.00\">*</text>\n</g>\n<!-- 1907495735360&#45;&gt;1907495737136* -->\n<g id=\"edge16\" class=\"edge\">\n<title>1907495735360&#45;&gt;1907495737136*</title>\n<path fill=\"none\" stroke=\"black\" d=\"M2642.77,-164.08C2651.66,-162.56 2660.28,-161.1 2668.13,-159.77\"/>\n<polygon fill=\"black\" stroke=\"black\" points=\"2668.63,-163.23 2677.9,-158.11 2667.45,-156.33 2668.63,-163.23\"/>\n</g>\n<!-- 1907495735360**&#45;1&#45;&gt;1907495735360 -->\n<g id=\"edge3\" class=\"edge\">\n<title>1907495735360**&#45;1&#45;&gt;1907495735360</title>\n<path fill=\"none\" stroke=\"black\" d=\"M2358.3,-181.26C2380.88,-181.05 2414.96,-180.74 2448.16,-180.43\"/>\n<polygon fill=\"black\" stroke=\"black\" points=\"2447.88,-183.94 2457.85,-180.35 2447.82,-176.94 2447.88,-183.94\"/>\n</g>\n<!-- 1907495738960 -->\n<g id=\"node9\" class=\"node\">\n<title>1907495738960</title>\n<polygon fill=\"none\" stroke=\"black\" points=\"0,-165.5 0,-201.5 202,-201.5 202,-165.5 0,-165.5\"/>\n<text text-anchor=\"middle\" x=\"16.5\" y=\"-179.8\" font-family=\"Times New Roman,serif\" font-size=\"14.00\">w1</text>\n<polyline fill=\"none\" stroke=\"black\" points=\"33,-165.5 33,-201.5\"/>\n<text text-anchor=\"middle\" x=\"76\" y=\"-179.8\" font-family=\"Times New Roman,serif\" font-size=\"14.00\">data &#45;3.0000</text>\n<polyline fill=\"none\" stroke=\"black\" points=\"119,-165.5 119,-201.5\"/>\n<text text-anchor=\"middle\" x=\"160.5\" y=\"-179.8\" font-family=\"Times New Roman,serif\" font-size=\"14.00\">grad 1.0002</text>\n</g>\n<!-- 1907495738960&#45;&gt;1907495738384* -->\n<g id=\"edge27\" class=\"edge\">\n<title>1907495738960&#45;&gt;1907495738384*</title>\n<path fill=\"none\" stroke=\"black\" d=\"M173.99,-165.56C183.48,-162.75 193.03,-159.71 202,-156.5 212.1,-152.88 222.83,-148.31 232.49,-143.91\"/>\n<polygon fill=\"black\" stroke=\"black\" points=\"233.88,-147.12 241.46,-139.72 230.92,-140.78 233.88,-147.12\"/>\n</g>\n<!-- 1907495735408 -->\n<g id=\"node10\" class=\"node\">\n<title>1907495735408</title>\n<polygon fill=\"none\" stroke=\"black\" points=\"1702.5,-136.5 1702.5,-172.5 1886.5,-172.5 1886.5,-136.5 1702.5,-136.5\"/>\n<text text-anchor=\"middle\" x=\"1712.5\" y=\"-150.8\" font-family=\"Times New Roman,serif\" font-size=\"14.00\"> </text>\n<polyline fill=\"none\" stroke=\"black\" points=\"1722.5,-136.5 1722.5,-172.5\"/>\n<text text-anchor=\"middle\" x=\"1763\" y=\"-150.8\" font-family=\"Times New Roman,serif\" font-size=\"14.00\">data 5.8268</text>\n<polyline fill=\"none\" stroke=\"black\" points=\"1803.5,-136.5 1803.5,-172.5\"/>\n<text text-anchor=\"middle\" x=\"1845\" y=\"-150.8\" font-family=\"Times New Roman,serif\" font-size=\"14.00\">grad 0.0429</text>\n</g>\n<!-- 1907495735408&#45;&gt;1907495737856+ -->\n<g id=\"edge11\" class=\"edge\">\n<title>1907495735408&#45;&gt;1907495737856+</title>\n<path fill=\"none\" stroke=\"black\" d=\"M1886.4,-170.28C1896.27,-172 1905.85,-173.66 1914.48,-175.16\"/>\n<polygon fill=\"black\" stroke=\"black\" points=\"1913.65,-178.57 1924.1,-176.83 1914.84,-171.67 1913.65,-178.57\"/>\n</g>\n<!-- 1907495739248+ -->\n<g id=\"node23\" class=\"node\">\n<title>1907495739248+</title>\n<ellipse fill=\"none\" stroke=\"black\" cx=\"1952\" cy=\"-126.5\" rx=\"27\" ry=\"18\"/>\n<text text-anchor=\"middle\" x=\"1952\" y=\"-122.8\" font-family=\"Times New Roman,serif\" font-size=\"14.00\">+</text>\n</g>\n<!-- 1907495735408&#45;&gt;1907495739248+ -->\n<g id=\"edge14\" class=\"edge\">\n<title>1907495735408&#45;&gt;1907495739248+</title>\n<path fill=\"none\" stroke=\"black\" d=\"M1886.4,-138.13C1896.27,-136.35 1905.85,-134.63 1914.48,-133.08\"/>\n<polygon fill=\"black\" stroke=\"black\" points=\"1914.88,-136.56 1924.1,-131.34 1913.64,-129.67 1914.88,-136.56\"/>\n</g>\n<!-- 1907495735408exp -->\n<g id=\"node11\" class=\"node\">\n<title>1907495735408exp</title>\n<ellipse fill=\"none\" stroke=\"black\" cx=\"1637\" cy=\"-154.5\" rx=\"27\" ry=\"18\"/>\n<text text-anchor=\"middle\" x=\"1637\" y=\"-150.8\" font-family=\"Times New Roman,serif\" font-size=\"14.00\">exp</text>\n</g>\n<!-- 1907495735408exp&#45;&gt;1907495735408 -->\n<g id=\"edge4\" class=\"edge\">\n<title>1907495735408exp&#45;&gt;1907495735408</title>\n<path fill=\"none\" stroke=\"black\" d=\"M1664.38,-154.5C1672.31,-154.5 1681.53,-154.5 1691.33,-154.5\"/>\n<polygon fill=\"black\" stroke=\"black\" points=\"1691.09,-158 1701.09,-154.5 1691.09,-151 1691.09,-158\"/>\n</g>\n<!-- 1907495738528 -->\n<g id=\"node12\" class=\"node\">\n<title>1907495738528</title>\n<polygon fill=\"none\" stroke=\"black\" points=\"719.5,-137.5 719.5,-173.5 907.5,-173.5 907.5,-137.5 719.5,-137.5\"/>\n<text text-anchor=\"middle\" x=\"731.5\" y=\"-151.8\" font-family=\"Times New Roman,serif\" font-size=\"14.00\">b</text>\n<polyline fill=\"none\" stroke=\"black\" points=\"743.5,-137.5 743.5,-173.5\"/>\n<text text-anchor=\"middle\" x=\"784\" y=\"-151.8\" font-family=\"Times New Roman,serif\" font-size=\"14.00\">data 6.8812</text>\n<polyline fill=\"none\" stroke=\"black\" points=\"824.5,-137.5 824.5,-173.5\"/>\n<text text-anchor=\"middle\" x=\"866\" y=\"-151.8\" font-family=\"Times New Roman,serif\" font-size=\"14.00\">grad 0.5001</text>\n</g>\n<!-- 1907495735552+ -->\n<g id=\"node14\" class=\"node\">\n<title>1907495735552+</title>\n<ellipse fill=\"none\" stroke=\"black\" cx=\"1014\" cy=\"-127.5\" rx=\"27\" ry=\"18\"/>\n<text text-anchor=\"middle\" x=\"1014\" y=\"-123.8\" font-family=\"Times New Roman,serif\" font-size=\"14.00\">+</text>\n</g>\n<!-- 1907495738528&#45;&gt;1907495735552+ -->\n<g id=\"edge24\" class=\"edge\">\n<title>1907495738528&#45;&gt;1907495735552+</title>\n<path fill=\"none\" stroke=\"black\" d=\"M907.36,-142.4C931.59,-138.98 956.33,-135.49 975.77,-132.75\"/>\n<polygon fill=\"black\" stroke=\"black\" points=\"976.23,-136.22 985.64,-131.36 975.25,-129.29 976.23,-136.22\"/>\n</g>\n<!-- 1907495735552 -->\n<g id=\"node13\" class=\"node\">\n<title>1907495735552</title>\n<polygon fill=\"none\" stroke=\"black\" points=\"1077,-109.5 1077,-145.5 1264,-145.5 1264,-109.5 1077,-109.5\"/>\n<text text-anchor=\"middle\" x=\"1088.5\" y=\"-123.8\" font-family=\"Times New Roman,serif\" font-size=\"14.00\">n</text>\n<polyline fill=\"none\" stroke=\"black\" points=\"1100,-109.5 1100,-145.5\"/>\n<text text-anchor=\"middle\" x=\"1140.5\" y=\"-123.8\" font-family=\"Times New Roman,serif\" font-size=\"14.00\">data 0.8812</text>\n<polyline fill=\"none\" stroke=\"black\" points=\"1181,-109.5 1181,-145.5\"/>\n<text text-anchor=\"middle\" x=\"1222.5\" y=\"-123.8\" font-family=\"Times New Roman,serif\" font-size=\"14.00\">grad 0.5001</text>\n</g>\n<!-- 1907495735552&#45;&gt;1907495735600* -->\n<g id=\"edge17\" class=\"edge\">\n<title>1907495735552&#45;&gt;1907495735600*</title>\n<path fill=\"none\" stroke=\"black\" d=\"M1263.6,-143.6C1272.53,-145.16 1281.18,-146.67 1289.06,-148.04\"/>\n<polygon fill=\"black\" stroke=\"black\" points=\"1288.4,-151.48 1298.86,-149.76 1289.61,-144.59 1288.4,-151.48\"/>\n</g>\n<!-- 1907495735552+&#45;&gt;1907495735552 -->\n<g id=\"edge5\" class=\"edge\">\n<title>1907495735552+&#45;&gt;1907495735552</title>\n<path fill=\"none\" stroke=\"black\" d=\"M1041.21,-127.5C1048.47,-127.5 1056.83,-127.5 1065.71,-127.5\"/>\n<polygon fill=\"black\" stroke=\"black\" points=\"1065.7,-131 1075.7,-127.5 1065.7,-124 1065.7,-131\"/>\n</g>\n<!-- 1907495737136 -->\n<g id=\"node15\" class=\"node\">\n<title>1907495737136</title>\n<polygon fill=\"none\" stroke=\"black\" points=\"2769,-135.5 2769,-171.5 2957,-171.5 2957,-135.5 2769,-135.5\"/>\n<text text-anchor=\"middle\" x=\"2781\" y=\"-149.8\" font-family=\"Times New Roman,serif\" font-size=\"14.00\">o</text>\n<polyline fill=\"none\" stroke=\"black\" points=\"2793,-135.5 2793,-171.5\"/>\n<text text-anchor=\"middle\" x=\"2833.5\" y=\"-149.8\" font-family=\"Times New Roman,serif\" font-size=\"14.00\">data 0.7070</text>\n<polyline fill=\"none\" stroke=\"black\" points=\"2874,-135.5 2874,-171.5\"/>\n<text text-anchor=\"middle\" x=\"2915.5\" y=\"-149.8\" font-family=\"Times New Roman,serif\" font-size=\"14.00\">grad 1.0000</text>\n</g>\n<!-- 1907495737136*&#45;&gt;1907495737136 -->\n<g id=\"edge6\" class=\"edge\">\n<title>1907495737136*&#45;&gt;1907495737136</title>\n<path fill=\"none\" stroke=\"black\" d=\"M2733.29,-153.5C2740.52,-153.5 2748.82,-153.5 2757.66,-153.5\"/>\n<polygon fill=\"black\" stroke=\"black\" points=\"2757.57,-157 2767.57,-153.5 2757.57,-150 2757.57,-157\"/>\n</g>\n<!-- 1907495739200 -->\n<g id=\"node17\" class=\"node\">\n<title>1907495739200</title>\n<polygon fill=\"none\" stroke=\"black\" points=\"1700.5,-191.5 1700.5,-227.5 1888.5,-227.5 1888.5,-191.5 1700.5,-191.5\"/>\n<text text-anchor=\"middle\" x=\"1710.5\" y=\"-205.8\" font-family=\"Times New Roman,serif\" font-size=\"14.00\"> </text>\n<polyline fill=\"none\" stroke=\"black\" points=\"1720.5,-191.5 1720.5,-227.5\"/>\n<text text-anchor=\"middle\" x=\"1761\" y=\"-205.8\" font-family=\"Times New Roman,serif\" font-size=\"14.00\">data 1.0000</text>\n<polyline fill=\"none\" stroke=\"black\" points=\"1801.5,-191.5 1801.5,-227.5\"/>\n<text text-anchor=\"middle\" x=\"1845\" y=\"-205.8\" font-family=\"Times New Roman,serif\" font-size=\"14.00\">grad &#45;0.1036</text>\n</g>\n<!-- 1907495739200&#45;&gt;1907495737856+ -->\n<g id=\"edge25\" class=\"edge\">\n<title>1907495739200&#45;&gt;1907495737856+</title>\n<path fill=\"none\" stroke=\"black\" d=\"M1888.2,-192.81C1897.38,-191.16 1906.27,-189.56 1914.33,-188.1\"/>\n<polygon fill=\"black\" stroke=\"black\" points=\"1914.77,-191.58 1923.99,-186.36 1913.53,-184.69 1914.77,-191.58\"/>\n</g>\n<!-- 1907495735600 -->\n<g id=\"node18\" class=\"node\">\n<title>1907495735600</title>\n<polygon fill=\"none\" stroke=\"black\" points=\"1390,-136.5 1390,-172.5 1574,-172.5 1574,-136.5 1390,-136.5\"/>\n<text text-anchor=\"middle\" x=\"1400\" y=\"-150.8\" font-family=\"Times New Roman,serif\" font-size=\"14.00\"> </text>\n<polyline fill=\"none\" stroke=\"black\" points=\"1410,-136.5 1410,-172.5\"/>\n<text text-anchor=\"middle\" x=\"1450.5\" y=\"-150.8\" font-family=\"Times New Roman,serif\" font-size=\"14.00\">data 1.7625</text>\n<polyline fill=\"none\" stroke=\"black\" points=\"1491,-136.5 1491,-172.5\"/>\n<text text-anchor=\"middle\" x=\"1532.5\" y=\"-150.8\" font-family=\"Times New Roman,serif\" font-size=\"14.00\">grad 0.2500</text>\n</g>\n<!-- 1907495735600&#45;&gt;1907495735408exp -->\n<g id=\"edge23\" class=\"edge\">\n<title>1907495735600&#45;&gt;1907495735408exp</title>\n<path fill=\"none\" stroke=\"black\" d=\"M1573.77,-154.5C1582.38,-154.5 1590.75,-154.5 1598.4,-154.5\"/>\n<polygon fill=\"black\" stroke=\"black\" points=\"1598.27,-158 1608.27,-154.5 1598.27,-151 1598.27,-158\"/>\n</g>\n<!-- 1907495735600*&#45;&gt;1907495735600 -->\n<g id=\"edge7\" class=\"edge\">\n<title>1907495735600*&#45;&gt;1907495735600</title>\n<path fill=\"none\" stroke=\"black\" d=\"M1354.3,-154.5C1361.57,-154.5 1369.92,-154.5 1378.8,-154.5\"/>\n<polygon fill=\"black\" stroke=\"black\" points=\"1378.76,-158 1388.76,-154.5 1378.76,-151 1378.76,-158\"/>\n</g>\n<!-- 1907495738192 -->\n<g id=\"node20\" class=\"node\">\n<title>1907495738192</title>\n<polygon fill=\"none\" stroke=\"black\" points=\"330.5,-55.5 330.5,-91.5 547.5,-91.5 547.5,-55.5 330.5,-55.5\"/>\n<text text-anchor=\"middle\" x=\"357\" y=\"-69.8\" font-family=\"Times New Roman,serif\" font-size=\"14.00\">x2*w2</text>\n<polyline fill=\"none\" stroke=\"black\" points=\"383.5,-55.5 383.5,-91.5\"/>\n<text text-anchor=\"middle\" x=\"424\" y=\"-69.8\" font-family=\"Times New Roman,serif\" font-size=\"14.00\">data 0.0000</text>\n<polyline fill=\"none\" stroke=\"black\" points=\"464.5,-55.5 464.5,-91.5\"/>\n<text text-anchor=\"middle\" x=\"506\" y=\"-69.8\" font-family=\"Times New Roman,serif\" font-size=\"14.00\">grad 0.5001</text>\n</g>\n<!-- 1907495738192&#45;&gt;1907495738336+ -->\n<g id=\"edge20\" class=\"edge\">\n<title>1907495738192&#45;&gt;1907495738336+</title>\n<path fill=\"none\" stroke=\"black\" d=\"M547.46,-90.37C557.25,-91.91 566.64,-93.38 575.08,-94.7\"/>\n<polygon fill=\"black\" stroke=\"black\" points=\"574.41,-98.14 584.83,-96.23 575.49,-91.23 574.41,-98.14\"/>\n</g>\n<!-- 1907495738192*&#45;&gt;1907495738192 -->\n<g id=\"edge8\" class=\"edge\">\n<title>1907495738192*&#45;&gt;1907495738192</title>\n<path fill=\"none\" stroke=\"black\" d=\"M292.5,-73.5C300.37,-73.5 309.55,-73.5 319.4,-73.5\"/>\n<polygon fill=\"black\" stroke=\"black\" points=\"319.25,-77 329.25,-73.5 319.25,-70 319.25,-77\"/>\n</g>\n<!-- 1907495739248 -->\n<g id=\"node22\" class=\"node\">\n<title>1907495739248</title>\n<polygon fill=\"none\" stroke=\"black\" points=\"2239,-108.5 2239,-144.5 2423,-144.5 2423,-108.5 2239,-108.5\"/>\n<text text-anchor=\"middle\" x=\"2249\" y=\"-122.8\" font-family=\"Times New Roman,serif\" font-size=\"14.00\"> </text>\n<polyline fill=\"none\" stroke=\"black\" points=\"2259,-108.5 2259,-144.5\"/>\n<text text-anchor=\"middle\" x=\"2299.5\" y=\"-122.8\" font-family=\"Times New Roman,serif\" font-size=\"14.00\">data 4.8268</text>\n<polyline fill=\"none\" stroke=\"black\" points=\"2340,-108.5 2340,-144.5\"/>\n<text text-anchor=\"middle\" x=\"2381.5\" y=\"-122.8\" font-family=\"Times New Roman,serif\" font-size=\"14.00\">grad 0.1465</text>\n</g>\n<!-- 1907495739248&#45;&gt;1907495737136* -->\n<g id=\"edge26\" class=\"edge\">\n<title>1907495739248&#45;&gt;1907495737136*</title>\n<path fill=\"none\" stroke=\"black\" d=\"M2422.77,-133.07C2501.28,-138.75 2610.86,-146.69 2667.61,-150.79\"/>\n<polygon fill=\"black\" stroke=\"black\" points=\"2667.15,-154.27 2677.38,-151.5 2667.66,-147.29 2667.15,-154.27\"/>\n</g>\n<!-- 1907495739248+&#45;&gt;1907495739248 -->\n<g id=\"edge9\" class=\"edge\">\n<title>1907495739248+&#45;&gt;1907495739248</title>\n<path fill=\"none\" stroke=\"black\" d=\"M1979.21,-126.5C2029.82,-126.5 2143.42,-126.5 2227.71,-126.5\"/>\n<polygon fill=\"black\" stroke=\"black\" points=\"2227.63,-130 2237.63,-126.5 2227.63,-123 2227.63,-130\"/>\n</g>\n<!-- 1907495735648 -->\n<g id=\"node24\" class=\"node\">\n<title>1907495735648</title>\n<polygon fill=\"none\" stroke=\"black\" points=\"1700,-81.5 1700,-117.5 1889,-117.5 1889,-81.5 1700,-81.5\"/>\n<text text-anchor=\"middle\" x=\"1710\" y=\"-95.8\" font-family=\"Times New Roman,serif\" font-size=\"14.00\"> </text>\n<polyline fill=\"none\" stroke=\"black\" points=\"1720,-81.5 1720,-117.5\"/>\n<text text-anchor=\"middle\" x=\"1763\" y=\"-95.8\" font-family=\"Times New Roman,serif\" font-size=\"14.00\">data &#45;1.0000</text>\n<polyline fill=\"none\" stroke=\"black\" points=\"1806,-81.5 1806,-117.5\"/>\n<text text-anchor=\"middle\" x=\"1847.5\" y=\"-95.8\" font-family=\"Times New Roman,serif\" font-size=\"14.00\">grad 0.1465</text>\n</g>\n<!-- 1907495735648&#45;&gt;1907495739248+ -->\n<g id=\"edge13\" class=\"edge\">\n<title>1907495735648&#45;&gt;1907495739248+</title>\n<path fill=\"none\" stroke=\"black\" d=\"M1888.65,-115.67C1897.58,-117.22 1906.23,-118.73 1914.11,-120.09\"/>\n<polygon fill=\"black\" stroke=\"black\" points=\"1913.45,-123.53 1923.9,-121.79 1914.64,-116.63 1913.45,-123.53\"/>\n</g>\n<!-- 1907495738816 -->\n<g id=\"node25\" class=\"node\">\n<title>1907495738816</title>\n<polygon fill=\"none\" stroke=\"black\" points=\"4,-0.5 4,-36.5 198,-36.5 198,-0.5 4,-0.5\"/>\n<text text-anchor=\"middle\" x=\"19\" y=\"-14.8\" font-family=\"Times New Roman,serif\" font-size=\"14.00\">x2</text>\n<polyline fill=\"none\" stroke=\"black\" points=\"34,-0.5 34,-36.5\"/>\n<text text-anchor=\"middle\" x=\"74.5\" y=\"-14.8\" font-family=\"Times New Roman,serif\" font-size=\"14.00\">data 0.0000</text>\n<polyline fill=\"none\" stroke=\"black\" points=\"115,-0.5 115,-36.5\"/>\n<text text-anchor=\"middle\" x=\"156.5\" y=\"-14.8\" font-family=\"Times New Roman,serif\" font-size=\"14.00\">grad 0.5001</text>\n</g>\n<!-- 1907495738816&#45;&gt;1907495738192* -->\n<g id=\"edge19\" class=\"edge\">\n<title>1907495738816&#45;&gt;1907495738192*</title>\n<path fill=\"none\" stroke=\"black\" d=\"M173.99,-36.44C183.48,-39.25 193.03,-42.29 202,-45.5 212.1,-49.12 222.83,-53.69 232.49,-58.09\"/>\n<polygon fill=\"black\" stroke=\"black\" points=\"230.92,-61.22 241.46,-62.28 233.88,-54.88 230.92,-61.22\"/>\n</g>\n<!-- 1907495735744 -->\n<g id=\"node26\" class=\"node\">\n<title>1907495735744</title>\n<polygon fill=\"none\" stroke=\"black\" points=\"2,-110.5 2,-146.5 200,-146.5 200,-110.5 2,-110.5\"/>\n<text text-anchor=\"middle\" x=\"17\" y=\"-124.8\" font-family=\"Times New Roman,serif\" font-size=\"14.00\">x1</text>\n<polyline fill=\"none\" stroke=\"black\" points=\"32,-110.5 32,-146.5\"/>\n<text text-anchor=\"middle\" x=\"72.5\" y=\"-124.8\" font-family=\"Times New Roman,serif\" font-size=\"14.00\">data 2.0000</text>\n<polyline fill=\"none\" stroke=\"black\" points=\"113,-110.5 113,-146.5\"/>\n<text text-anchor=\"middle\" x=\"156.5\" y=\"-124.8\" font-family=\"Times New Roman,serif\" font-size=\"14.00\">grad &#45;1.5003</text>\n</g>\n<!-- 1907495735744&#45;&gt;1907495738384* -->\n<g id=\"edge15\" class=\"edge\">\n<title>1907495735744&#45;&gt;1907495738384*</title>\n<path fill=\"none\" stroke=\"black\" d=\"M199.97,-128.5C209.29,-128.5 218.28,-128.5 226.45,-128.5\"/>\n<polygon fill=\"black\" stroke=\"black\" points=\"226.23,-132 236.23,-128.5 226.23,-125 226.23,-132\"/>\n</g>\n<!-- 1907495738336 -->\n<g id=\"node27\" class=\"node\">\n<title>1907495738336</title>\n<polygon fill=\"none\" stroke=\"black\" points=\"676,-82.5 676,-118.5 951,-118.5 951,-82.5 676,-82.5\"/>\n<text text-anchor=\"middle\" x=\"729\" y=\"-96.8\" font-family=\"Times New Roman,serif\" font-size=\"14.00\">x1*w1 + x2*w2</text>\n<polyline fill=\"none\" stroke=\"black\" points=\"782,-82.5 782,-118.5\"/>\n<text text-anchor=\"middle\" x=\"825\" y=\"-96.8\" font-family=\"Times New Roman,serif\" font-size=\"14.00\">data &#45;6.0000</text>\n<polyline fill=\"none\" stroke=\"black\" points=\"868,-82.5 868,-118.5\"/>\n<text text-anchor=\"middle\" x=\"909.5\" y=\"-96.8\" font-family=\"Times New Roman,serif\" font-size=\"14.00\">grad 0.5001</text>\n</g>\n<!-- 1907495738336&#45;&gt;1907495735552+ -->\n<g id=\"edge28\" class=\"edge\">\n<title>1907495738336&#45;&gt;1907495735552+</title>\n<path fill=\"none\" stroke=\"black\" d=\"M946.63,-118.47C957.13,-119.9 967.07,-121.25 975.91,-122.46\"/>\n<polygon fill=\"black\" stroke=\"black\" points=\"975.36,-125.91 985.74,-123.79 976.3,-118.98 975.36,-125.91\"/>\n</g>\n<!-- 1907495738336+&#45;&gt;1907495738336 -->\n<g id=\"edge10\" class=\"edge\">\n<title>1907495738336+&#45;&gt;1907495738336</title>\n<path fill=\"none\" stroke=\"black\" d=\"M640.36,-100.5C647.56,-100.5 655.89,-100.5 664.94,-100.5\"/>\n<polygon fill=\"black\" stroke=\"black\" points=\"664.78,-104 674.78,-100.5 664.78,-97 664.78,-104\"/>\n</g>\n</g>\n</svg>\n",
      "text/plain": [
       "<graphviz.graphs.Digraph at 0x1bc1f9b18e0>"
      ]
     },
     "execution_count": 149,
     "metadata": {},
     "output_type": "execute_result"
    }
   ],
   "source": [
    "x1 = Value(2.0, label='x1')\n",
    "x2 = Value(0.0, label='x2')\n",
    "w1 = Value(-3.0, label='w1')\n",
    "w2 = Value(1.0, label='w2')\n",
    "b = Value(6.88123415, label='b')\n",
    "x1w1 = x1*w1; x1w1.label = 'x1*w1'\n",
    "x2w2 = x2*w2; x2w2.label = 'x2*w2'\n",
    "x1w1x2w2 = x1w1 + x2w2; x1w1x2w2.label = 'x1*w1 + x2*w2'\n",
    "n = x1w1x2w2 + b; n.label = 'n'\n",
    "\n",
    "e = (2*n).exp()\n",
    "o = (e-1) / (e+1); o.label = 'o'\n",
    "\n",
    "o.backward()\n",
    "draw_dot(o)"
   ]
  },
  {
   "cell_type": "code",
   "execution_count": 159,
   "metadata": {},
   "outputs": [
    {
     "name": "stdout",
     "output_type": "stream",
     "text": [
      "0.7071050214706146\n",
      "---\n",
      "x1 -1.500007465833125\n",
      "w1 1.0000049772220834\n",
      "x2 0.5000024886110417\n",
      "w2 0.0\n"
     ]
    }
   ],
   "source": [
    "import torch\n",
    "\n",
    "x1 = torch.Tensor([2.0]).double()       ; x1.requires_grad = True\n",
    "w1 = torch.Tensor([-3.0]).double()       ; w1.requires_grad = True\n",
    "x2 = torch.Tensor([0.0]).double()       ; x2.requires_grad = True\n",
    "w2 = torch.Tensor([1.0]).double()       ; w2.requires_grad = True\n",
    "b = torch.Tensor([6.88137]).double()    ; b.requires_grad = True\n",
    "n = x1*w1 + x2*w2 + b\n",
    "o = torch.tanh(n)\n",
    "\n",
    "print(o.data.item())\n",
    "o.backward()\n",
    "\n",
    "print('---')\n",
    "print('x1', x1.grad.item())\n",
    "print('w1', w1.grad.item())\n",
    "print('x2', x2.grad.item())\n",
    "print('w2', w2.grad.item())"
   ]
  },
  {
   "cell_type": "code",
   "execution_count": null,
   "metadata": {},
   "outputs": [],
   "source": [
    "class Neuron:\n",
    "    def __init(self, nin):\n",
    "        self.w = [Value(random.uniform(-1, 1)) for _ in range(nin)]\n",
    "        self.b = Value(random.uniform(-1, 1))\n",
    "\n",
    "    def __call__(self, x):\n",
    "        return 0\n",
    "\n",
    "x"
   ]
  }
 ],
 "metadata": {
  "kernelspec": {
   "display_name": "sar",
   "language": "python",
   "name": "python3"
  },
  "language_info": {
   "codemirror_mode": {
    "name": "ipython",
    "version": 3
   },
   "file_extension": ".py",
   "mimetype": "text/x-python",
   "name": "python",
   "nbconvert_exporter": "python",
   "pygments_lexer": "ipython3",
   "version": "3.9.16"
  },
  "orig_nbformat": 4,
  "vscode": {
   "interpreter": {
    "hash": "8fd57e68d6fd50125dd5344fac10f327eaba2a8067f33f512e5b6e6f294862ac"
   }
  }
 },
 "nbformat": 4,
 "nbformat_minor": 2
}
